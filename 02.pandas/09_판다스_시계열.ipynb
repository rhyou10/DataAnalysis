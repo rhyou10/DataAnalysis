{
 "cells": [
  {
   "cell_type": "markdown",
   "source": [
    "# 시게열 자료 다루기\r\n",
    "> 시계열 자료는 인덱스가 날짜 혹은 시간인 데이터를 말한다"
   ],
   "metadata": {}
  },
  {
   "cell_type": "code",
   "execution_count": 1,
   "source": [
    "import numpy as np\r\n",
    "import pandas as pd"
   ],
   "outputs": [],
   "metadata": {}
  },
  {
   "cell_type": "markdown",
   "source": [
    "## DatetimeIndex 인덱스"
   ],
   "metadata": {}
  },
  {
   "cell_type": "code",
   "execution_count": 11,
   "source": [
    "date_str = ['2021-8,12', '2021-8-12', '20210812', '2021.8.12', '081221', '8/14/21']\r\n",
    "idx = pd.to_datetime(date_str)\r\n",
    "idx"
   ],
   "outputs": [
    {
     "output_type": "execute_result",
     "data": {
      "text/plain": [
       "DatetimeIndex(['2021-08-12', '2021-08-12', '2021-08-12', '2021-08-12',\n",
       "               '2021-08-12', '2021-08-14'],\n",
       "              dtype='datetime64[ns]', freq=None)"
      ]
     },
     "metadata": {},
     "execution_count": 11
    }
   ],
   "metadata": {}
  },
  {
   "cell_type": "code",
   "execution_count": 12,
   "source": [
    "np.random.seed(2021)\r\n",
    "s= pd.Series(np.random.randn(6), index=idx)\r\n",
    "s"
   ],
   "outputs": [
    {
     "output_type": "execute_result",
     "data": {
      "text/plain": [
       "2021-08-12    1.488609\n",
       "2021-08-12    0.676011\n",
       "2021-08-12   -0.418451\n",
       "2021-08-12   -0.806521\n",
       "2021-08-12    0.555876\n",
       "2021-08-14   -0.705504\n",
       "dtype: float64"
      ]
     },
     "metadata": {},
     "execution_count": 12
    }
   ],
   "metadata": {}
  },
  {
   "cell_type": "code",
   "execution_count": 13,
   "source": [
    "pd.date_range(\"2021-8-1\", \"2021-8-31\")"
   ],
   "outputs": [
    {
     "output_type": "execute_result",
     "data": {
      "text/plain": [
       "DatetimeIndex(['2021-08-01', '2021-08-02', '2021-08-03', '2021-08-04',\n",
       "               '2021-08-05', '2021-08-06', '2021-08-07', '2021-08-08',\n",
       "               '2021-08-09', '2021-08-10', '2021-08-11', '2021-08-12',\n",
       "               '2021-08-13', '2021-08-14', '2021-08-15', '2021-08-16',\n",
       "               '2021-08-17', '2021-08-18', '2021-08-19', '2021-08-20',\n",
       "               '2021-08-21', '2021-08-22', '2021-08-23', '2021-08-24',\n",
       "               '2021-08-25', '2021-08-26', '2021-08-27', '2021-08-28',\n",
       "               '2021-08-29', '2021-08-30', '2021-08-31'],\n",
       "              dtype='datetime64[ns]', freq='D')"
      ]
     },
     "metadata": {},
     "execution_count": 13
    }
   ],
   "metadata": {}
  },
  {
   "cell_type": "code",
   "execution_count": 14,
   "source": [
    "pd.date_range(\"2021-8-1\", periods=31)"
   ],
   "outputs": [
    {
     "output_type": "execute_result",
     "data": {
      "text/plain": [
       "DatetimeIndex(['2021-08-01', '2021-08-02', '2021-08-03', '2021-08-04',\n",
       "               '2021-08-05', '2021-08-06', '2021-08-07', '2021-08-08',\n",
       "               '2021-08-09', '2021-08-10', '2021-08-11', '2021-08-12',\n",
       "               '2021-08-13', '2021-08-14', '2021-08-15', '2021-08-16',\n",
       "               '2021-08-17', '2021-08-18', '2021-08-19', '2021-08-20',\n",
       "               '2021-08-21', '2021-08-22', '2021-08-23', '2021-08-24',\n",
       "               '2021-08-25', '2021-08-26', '2021-08-27', '2021-08-28',\n",
       "               '2021-08-29', '2021-08-30', '2021-08-31'],\n",
       "              dtype='datetime64[ns]', freq='D')"
      ]
     },
     "metadata": {},
     "execution_count": 14
    }
   ],
   "metadata": {}
  },
  {
   "cell_type": "code",
   "execution_count": 19,
   "source": [
    "#freq 인수는 특정 날짜만 생성하게 할수 있다\r\n",
    "#B: 주말이 아닌 평일\r\n",
    "pd.date_range('20211001', periods=22, freq='B')"
   ],
   "outputs": [
    {
     "output_type": "execute_result",
     "data": {
      "text/plain": [
       "DatetimeIndex(['2021-10-01', '2021-10-04', '2021-10-05', '2021-10-06',\n",
       "               '2021-10-07', '2021-10-08', '2021-10-11', '2021-10-12',\n",
       "               '2021-10-13', '2021-10-14', '2021-10-15', '2021-10-18',\n",
       "               '2021-10-19', '2021-10-20', '2021-10-21', '2021-10-22',\n",
       "               '2021-10-25', '2021-10-26', '2021-10-27', '2021-10-28',\n",
       "               '2021-10-29', '2021-11-01'],\n",
       "              dtype='datetime64[ns]', freq='B')"
      ]
     },
     "metadata": {},
     "execution_count": 19
    }
   ],
   "metadata": {}
  },
  {
   "cell_type": "code",
   "execution_count": 20,
   "source": [
    "# 일요일 : w\r\n",
    "pd.date_range('20210801', '20210831', freq='w')"
   ],
   "outputs": [
    {
     "output_type": "execute_result",
     "data": {
      "text/plain": [
       "DatetimeIndex(['2021-08-01', '2021-08-08', '2021-08-15', '2021-08-22',\n",
       "               '2021-08-29'],\n",
       "              dtype='datetime64[ns]', freq='W-SUN')"
      ]
     },
     "metadata": {},
     "execution_count": 20
    }
   ],
   "metadata": {}
  },
  {
   "cell_type": "markdown",
   "source": [
    "### resample 연산\r\n",
    "> 시간 간격을 재조정하는 리샘플링(resampling)이 가능하다"
   ],
   "metadata": {}
  },
  {
   "cell_type": "code",
   "execution_count": 28,
   "source": [
    "np.random.seed(2021)\r\n",
    "ts = pd.Series(np.random.randn(10), \r\n",
    "                index=pd.date_range(\"2021-1-1\", periods=10, freq=\"D\"))\r\n",
    "ts.tail(20)"
   ],
   "outputs": [
    {
     "output_type": "execute_result",
     "data": {
      "text/plain": [
       "2021-01-01    1.488609\n",
       "2021-01-02    0.676011\n",
       "2021-01-03   -0.418451\n",
       "2021-01-04   -0.806521\n",
       "2021-01-05    0.555876\n",
       "2021-01-06   -0.705504\n",
       "2021-01-07    1.130858\n",
       "2021-01-08    0.645002\n",
       "2021-01-09    0.106414\n",
       "2021-01-10    0.422155\n",
       "Freq: D, dtype: float64"
      ]
     },
     "metadata": {},
     "execution_count": 28
    }
   ],
   "metadata": {}
  },
  {
   "cell_type": "code",
   "execution_count": 30,
   "source": [
    "ts.resample('w').mean() #주말 값에 평균"
   ],
   "outputs": [
    {
     "output_type": "execute_result",
     "data": {
      "text/plain": [
       "2021-01-03    0.582056\n",
       "2021-01-10    0.192611\n",
       "Freq: W-SUN, dtype: float64"
      ]
     },
     "metadata": {},
     "execution_count": 30
    }
   ],
   "metadata": {}
  },
  {
   "cell_type": "code",
   "execution_count": 32,
   "source": [
    "ts.resample('w').sum() #주말 값에 합"
   ],
   "outputs": [
    {
     "output_type": "execute_result",
     "data": {
      "text/plain": [
       "2021-01-03    1.746169\n",
       "2021-01-10    1.348279\n",
       "Freq: W-SUN, dtype: float64"
      ]
     },
     "metadata": {},
     "execution_count": 32
    }
   ],
   "metadata": {}
  },
  {
   "cell_type": "code",
   "execution_count": 34,
   "source": [
    "ts.resample('M').first() "
   ],
   "outputs": [
    {
     "output_type": "execute_result",
     "data": {
      "text/plain": [
       "2021-01-31    1.488609\n",
       "Freq: M, dtype: float64"
      ]
     },
     "metadata": {},
     "execution_count": 34
    }
   ],
   "metadata": {}
  },
  {
   "cell_type": "code",
   "execution_count": null,
   "source": [],
   "outputs": [],
   "metadata": {}
  }
 ],
 "metadata": {
  "orig_nbformat": 4,
  "language_info": {
   "name": "python",
   "version": "3.8.10",
   "mimetype": "text/x-python",
   "codemirror_mode": {
    "name": "ipython",
    "version": 3
   },
   "pygments_lexer": "ipython3",
   "nbconvert_exporter": "python",
   "file_extension": ".py"
  },
  "kernelspec": {
   "name": "python3",
   "display_name": "Python 3.8.10 64-bit ('base': conda)"
  },
  "interpreter": {
   "hash": "345fc451c7e0336b9390ad1fad588039702f89ec6d37597eff879e480e25ffdb"
  }
 },
 "nbformat": 4,
 "nbformat_minor": 2
}
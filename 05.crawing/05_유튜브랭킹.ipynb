{
 "cells": [
  {
   "cell_type": "markdown",
   "source": [
    "# 유튜브 랭킹데이터 수집해서 시각화 하기"
   ],
   "metadata": {}
  },
  {
   "cell_type": "code",
   "execution_count": 1,
   "source": [
    "import requests\r\n",
    "import pandas as pd\r\n",
    "from selenium import webdriver\r\n",
    "from bs4 import BeautifulSoup\r\n",
    "import time"
   ],
   "outputs": [],
   "metadata": {}
  },
  {
   "cell_type": "code",
   "execution_count": 2,
   "source": [
    "'''\r\n",
    "!apt-get update > /dev/null\r\n",
    "!pip install selenium > /dev/null\r\n",
    "!apt install chromium-chromedriver > /dev/null\"\r\n",
    "코랩'''"
   ],
   "outputs": [
    {
     "output_type": "execute_result",
     "data": {
      "text/plain": [
       "'\\n!apt-get update > /dev/null\\n!pip install selenium > /dev/null\\n!apt install chromium-chromedriver > /dev/null\"\\n코랩'"
      ]
     },
     "metadata": {},
     "execution_count": 2
    }
   ],
   "metadata": {}
  },
  {
   "cell_type": "code",
   "execution_count": 3,
   "source": [
    "options = webdriver.ChromeOptions()   # 화면없이 실행\r\n",
    "options.add_argument('--headless')   # 화면없이 실행\r\n",
    "options.add_argument('--no-sandbox')\r\n",
    "options.add_argument(\"--single-process\")\r\n",
    "options.add_argument(\"--disable-dev-shm-usage\")\r\n",
    "driver = webdriver.Chrome('data/chromedriver', options=options)"
   ],
   "outputs": [],
   "metadata": {}
  },
  {
   "cell_type": "code",
   "execution_count": 4,
   "source": [
    "url = 'https://youtube-rank.com/board/bbs/board.php?bo_table=youtube&page=1'\r\n",
    "driver.get(url)\r\n",
    "#time.slee(2)"
   ],
   "outputs": [],
   "metadata": {}
  },
  {
   "cell_type": "code",
   "execution_count": 5,
   "source": [
    "trs = driver.find_elements_by_css_selector('.aos-init')\r\n",
    "len(trs)"
   ],
   "outputs": [
    {
     "output_type": "execute_result",
     "data": {
      "text/plain": [
       "100"
      ]
     },
     "metadata": {},
     "execution_count": 5
    }
   ],
   "metadata": {}
  },
  {
   "cell_type": "code",
   "execution_count": 6,
   "source": [
    "html = driver.page_source\r\n",
    "soup = BeautifulSoup(html, 'html.parser')"
   ],
   "outputs": [],
   "metadata": {}
  },
  {
   "cell_type": "code",
   "execution_count": 7,
   "source": [
    "channel_list = soup.select('.aos-init')\r\n",
    "len(channel_list)"
   ],
   "outputs": [
    {
     "output_type": "execute_result",
     "data": {
      "text/plain": [
       "100"
      ]
     },
     "metadata": {},
     "execution_count": 7
    }
   ],
   "metadata": {}
  },
  {
   "cell_type": "code",
   "execution_count": 8,
   "source": [
    "channel = channel_list[0]\r\n",
    "cat = channel.select_one('p.category').get_text().strip(' \\n[]')\r\n",
    "cat"
   ],
   "outputs": [
    {
     "output_type": "execute_result",
     "data": {
      "text/plain": [
       "'음악/댄스/가수'"
      ]
     },
     "metadata": {},
     "execution_count": 8
    }
   ],
   "metadata": {}
  },
  {
   "cell_type": "code",
   "execution_count": 9,
   "source": [
    "name = channel.select_one('.subject a').get_text().strip()\r\n",
    "name"
   ],
   "outputs": [
    {
     "output_type": "execute_result",
     "data": {
      "text/plain": [
       "'BLACKPINK'"
      ]
     },
     "metadata": {},
     "execution_count": 9
    }
   ],
   "metadata": {}
  },
  {
   "cell_type": "code",
   "execution_count": 10,
   "source": [
    "sub = channel.select_one('.subscriber_cnt').text\r\n",
    "view = channel.select_one('.view_cnt').get_text()\r\n",
    "video = channel.select_one('.video_cnt').get_text()[:-1] #개 삭제\r\n",
    "sub, view, video"
   ],
   "outputs": [
    {
     "output_type": "execute_result",
     "data": {
      "text/plain": [
       "('6440만', '191억7172만', '372')"
      ]
     },
     "metadata": {},
     "execution_count": 10
    }
   ],
   "metadata": {}
  },
  {
   "cell_type": "code",
   "execution_count": 11,
   "source": [
    "channels =[]\r\n",
    "# cat_list, name_list, sub_list, view_list, video_list =[], [], [], [], []\r\n",
    "for channel in channel_list:\r\n",
    "    cat = channel.select_one('p.category').get_text().strip(' \\n[]')\r\n",
    "    name = channel.select_one('.subject a').get_text().strip()\r\n",
    "    sub = channel.select_one('.subscriber_cnt').text\r\n",
    "    view = channel.select_one('.view_cnt').get_text()\r\n",
    "    video = channel.select_one('.video_cnt').get_text()[:-1] #개 삭제\r\n",
    "\r\n",
    "    channels.append([cat, name, sub, view, video])"
   ],
   "outputs": [],
   "metadata": {}
  },
  {
   "cell_type": "code",
   "execution_count": 12,
   "source": [
    "df = pd.DataFrame(channels, columns=['카테고리', '채널명', '구독자수', '조회수', '영상수'])\r\n",
    "df"
   ],
   "outputs": [
    {
     "output_type": "execute_result",
     "data": {
      "text/plain": [
       "         카테고리                          채널명   구독자수        조회수    영상수\n",
       "0    음악/댄스/가수                    BLACKPINK  6440만  191억7172만    372\n",
       "1    음악/댄스/가수                  HYBE LABELS  6080만  189억2906만    657\n",
       "2    음악/댄스/가수                    BANGTANTV  5690만  123억6407만  1,586\n",
       "3    음악/댄스/가수                       SMTOWN  2860만  220억1653만  3,731\n",
       "4      키즈/어린이  Boram Tube Vlog [보람튜브 브이로그]  2650만  110억5288만    223\n",
       "..        ...                          ...    ...        ...    ...\n",
       "95  음식/요리/레시피                 까니짱 [ G-NI ]   409만   10억4294만    487\n",
       "96     키즈/어린이        로미유 스토리[Romiyu Story]   408만   10억6769만    433\n",
       "97   음악/댄스/가수                    NCT DREAM   393만    3억8994만    233\n",
       "98     취미/라이프              JaeYeol ASMR 재열   385만   10억3214만    976\n",
       "99  BJ/인물/연예인                     허팝Heopop   382만   31억6332만  1,858\n",
       "\n",
       "[100 rows x 5 columns]"
      ],
      "text/html": [
       "<div>\n",
       "<style scoped>\n",
       "    .dataframe tbody tr th:only-of-type {\n",
       "        vertical-align: middle;\n",
       "    }\n",
       "\n",
       "    .dataframe tbody tr th {\n",
       "        vertical-align: top;\n",
       "    }\n",
       "\n",
       "    .dataframe thead th {\n",
       "        text-align: right;\n",
       "    }\n",
       "</style>\n",
       "<table border=\"1\" class=\"dataframe\">\n",
       "  <thead>\n",
       "    <tr style=\"text-align: right;\">\n",
       "      <th></th>\n",
       "      <th>카테고리</th>\n",
       "      <th>채널명</th>\n",
       "      <th>구독자수</th>\n",
       "      <th>조회수</th>\n",
       "      <th>영상수</th>\n",
       "    </tr>\n",
       "  </thead>\n",
       "  <tbody>\n",
       "    <tr>\n",
       "      <th>0</th>\n",
       "      <td>음악/댄스/가수</td>\n",
       "      <td>BLACKPINK</td>\n",
       "      <td>6440만</td>\n",
       "      <td>191억7172만</td>\n",
       "      <td>372</td>\n",
       "    </tr>\n",
       "    <tr>\n",
       "      <th>1</th>\n",
       "      <td>음악/댄스/가수</td>\n",
       "      <td>HYBE LABELS</td>\n",
       "      <td>6080만</td>\n",
       "      <td>189억2906만</td>\n",
       "      <td>657</td>\n",
       "    </tr>\n",
       "    <tr>\n",
       "      <th>2</th>\n",
       "      <td>음악/댄스/가수</td>\n",
       "      <td>BANGTANTV</td>\n",
       "      <td>5690만</td>\n",
       "      <td>123억6407만</td>\n",
       "      <td>1,586</td>\n",
       "    </tr>\n",
       "    <tr>\n",
       "      <th>3</th>\n",
       "      <td>음악/댄스/가수</td>\n",
       "      <td>SMTOWN</td>\n",
       "      <td>2860만</td>\n",
       "      <td>220억1653만</td>\n",
       "      <td>3,731</td>\n",
       "    </tr>\n",
       "    <tr>\n",
       "      <th>4</th>\n",
       "      <td>키즈/어린이</td>\n",
       "      <td>Boram Tube Vlog [보람튜브 브이로그]</td>\n",
       "      <td>2650만</td>\n",
       "      <td>110억5288만</td>\n",
       "      <td>223</td>\n",
       "    </tr>\n",
       "    <tr>\n",
       "      <th>...</th>\n",
       "      <td>...</td>\n",
       "      <td>...</td>\n",
       "      <td>...</td>\n",
       "      <td>...</td>\n",
       "      <td>...</td>\n",
       "    </tr>\n",
       "    <tr>\n",
       "      <th>95</th>\n",
       "      <td>음식/요리/레시피</td>\n",
       "      <td>까니짱 [ G-NI ]</td>\n",
       "      <td>409만</td>\n",
       "      <td>10억4294만</td>\n",
       "      <td>487</td>\n",
       "    </tr>\n",
       "    <tr>\n",
       "      <th>96</th>\n",
       "      <td>키즈/어린이</td>\n",
       "      <td>로미유 스토리[Romiyu Story]</td>\n",
       "      <td>408만</td>\n",
       "      <td>10억6769만</td>\n",
       "      <td>433</td>\n",
       "    </tr>\n",
       "    <tr>\n",
       "      <th>97</th>\n",
       "      <td>음악/댄스/가수</td>\n",
       "      <td>NCT DREAM</td>\n",
       "      <td>393만</td>\n",
       "      <td>3억8994만</td>\n",
       "      <td>233</td>\n",
       "    </tr>\n",
       "    <tr>\n",
       "      <th>98</th>\n",
       "      <td>취미/라이프</td>\n",
       "      <td>JaeYeol ASMR 재열</td>\n",
       "      <td>385만</td>\n",
       "      <td>10억3214만</td>\n",
       "      <td>976</td>\n",
       "    </tr>\n",
       "    <tr>\n",
       "      <th>99</th>\n",
       "      <td>BJ/인물/연예인</td>\n",
       "      <td>허팝Heopop</td>\n",
       "      <td>382만</td>\n",
       "      <td>31억6332만</td>\n",
       "      <td>1,858</td>\n",
       "    </tr>\n",
       "  </tbody>\n",
       "</table>\n",
       "<p>100 rows × 5 columns</p>\n",
       "</div>"
      ]
     },
     "metadata": {},
     "execution_count": 12
    }
   ],
   "metadata": {}
  },
  {
   "cell_type": "code",
   "execution_count": 13,
   "source": [
    "# 문자 숫자 int 형 바꾸자\r\n",
    "def convert_unit(s):\r\n",
    "    #s = ''.join(s.split('억'))\r\n",
    "    s = s.replace('억','').replace('개','').replace(',','')\r\n",
    "    s = s.replace('만','0000')\r\n",
    "\r\n",
    "    return f'{int(s):,d}'"
   ],
   "outputs": [],
   "metadata": {}
  },
  {
   "cell_type": "code",
   "execution_count": 14,
   "source": [
    "x = convert_unit('31억3892만')\r\n",
    "x"
   ],
   "outputs": [
    {
     "output_type": "execute_result",
     "data": {
      "text/plain": [
       "'3,138,920,000'"
      ]
     },
     "metadata": {},
     "execution_count": 14
    }
   ],
   "metadata": {}
  },
  {
   "cell_type": "markdown",
   "source": [
    "## 2번째 페이지"
   ],
   "metadata": {}
  },
  {
   "cell_type": "markdown",
   "source": [
    "   url = 'https://youtube-rank.com/board/bbs/board.php?bo_table=youtube&page=1'\r\n",
    "    driver.get(url)\r\n",
    "    time.sleep(2) # 로딩 기다리는 시간\r\n",
    "    html = driver.page_source\r\n",
    "    soup = BeautifulSoup(html, 'html.parser')\r\n",
    "    channel_list = soup.select('.aos-init')\r\n",
    "    "
   ],
   "metadata": {}
  },
  {
   "cell_type": "code",
   "execution_count": 15,
   "source": [
    "driver.find_element_by_xpath('//*[@id=\"list-skin\"]/nav/span/a[1]').click() #xpath\r\n",
    "time.sleep(2)"
   ],
   "outputs": [],
   "metadata": {}
  },
  {
   "cell_type": "code",
   "execution_count": 16,
   "source": [
    "html = driver.page_source\r\n",
    "soup = BeautifulSoup(html, 'html.parser')"
   ],
   "outputs": [],
   "metadata": {}
  },
  {
   "cell_type": "code",
   "execution_count": 17,
   "source": [
    "channel_list = soup.select('.aos-init')\r\n",
    "len(channel_list)"
   ],
   "outputs": [
    {
     "output_type": "execute_result",
     "data": {
      "text/plain": [
       "100"
      ]
     },
     "metadata": {},
     "execution_count": 17
    }
   ],
   "metadata": {}
  },
  {
   "cell_type": "code",
   "execution_count": 18,
   "source": [
    "channels2 =[]\r\n",
    "# cat_list, name_list, sub_list, view_list, video_list =[], [], [], [], []\r\n",
    "for channel in channel_list:\r\n",
    "    cat = channel.select_one('p.category').get_text().strip(' \\n[]')\r\n",
    "    name = channel.select_one('.subject a').get_text().strip()\r\n",
    "    sub = channel.select_one('.subscriber_cnt').text\r\n",
    "    view = channel.select_one('.view_cnt').get_text()\r\n",
    "    video = channel.select_one('.video_cnt').get_text()[:-1] #개 삭제\r\n",
    "\r\n",
    "    channels2.append([cat, name, sub, view, video])"
   ],
   "outputs": [],
   "metadata": {}
  },
  {
   "cell_type": "code",
   "execution_count": 19,
   "source": [
    "df2 = pd.DataFrame(channels2, columns=['카테고리', '채널명', '구독자수', '조회수', '영상수'])\r\n",
    "df2"
   ],
   "outputs": [
    {
     "output_type": "execute_result",
     "data": {
      "text/plain": [
       "         카테고리                          채널명   구독자수        조회수    영상수\n",
       "0    음악/댄스/가수                    BLACKPINK  6440만  191억7172만    372\n",
       "1    음악/댄스/가수                  HYBE LABELS  6080만  189억2906만    657\n",
       "2    음악/댄스/가수                    BANGTANTV  5690만  123억6407만  1,586\n",
       "3    음악/댄스/가수                       SMTOWN  2860만  220억1653만  3,731\n",
       "4      키즈/어린이  Boram Tube Vlog [보람튜브 브이로그]  2650만  110억5288만    223\n",
       "..        ...                          ...    ...        ...    ...\n",
       "95  음식/요리/레시피                 까니짱 [ G-NI ]   409만   10억4294만    487\n",
       "96     키즈/어린이        로미유 스토리[Romiyu Story]   408만   10억6769만    433\n",
       "97   음악/댄스/가수                    NCT DREAM   393만    3억8994만    233\n",
       "98     취미/라이프              JaeYeol ASMR 재열   385만   10억3214만    976\n",
       "99  BJ/인물/연예인                     허팝Heopop   382만   31억6332만  1,858\n",
       "\n",
       "[100 rows x 5 columns]"
      ],
      "text/html": [
       "<div>\n",
       "<style scoped>\n",
       "    .dataframe tbody tr th:only-of-type {\n",
       "        vertical-align: middle;\n",
       "    }\n",
       "\n",
       "    .dataframe tbody tr th {\n",
       "        vertical-align: top;\n",
       "    }\n",
       "\n",
       "    .dataframe thead th {\n",
       "        text-align: right;\n",
       "    }\n",
       "</style>\n",
       "<table border=\"1\" class=\"dataframe\">\n",
       "  <thead>\n",
       "    <tr style=\"text-align: right;\">\n",
       "      <th></th>\n",
       "      <th>카테고리</th>\n",
       "      <th>채널명</th>\n",
       "      <th>구독자수</th>\n",
       "      <th>조회수</th>\n",
       "      <th>영상수</th>\n",
       "    </tr>\n",
       "  </thead>\n",
       "  <tbody>\n",
       "    <tr>\n",
       "      <th>0</th>\n",
       "      <td>음악/댄스/가수</td>\n",
       "      <td>BLACKPINK</td>\n",
       "      <td>6440만</td>\n",
       "      <td>191억7172만</td>\n",
       "      <td>372</td>\n",
       "    </tr>\n",
       "    <tr>\n",
       "      <th>1</th>\n",
       "      <td>음악/댄스/가수</td>\n",
       "      <td>HYBE LABELS</td>\n",
       "      <td>6080만</td>\n",
       "      <td>189억2906만</td>\n",
       "      <td>657</td>\n",
       "    </tr>\n",
       "    <tr>\n",
       "      <th>2</th>\n",
       "      <td>음악/댄스/가수</td>\n",
       "      <td>BANGTANTV</td>\n",
       "      <td>5690만</td>\n",
       "      <td>123억6407만</td>\n",
       "      <td>1,586</td>\n",
       "    </tr>\n",
       "    <tr>\n",
       "      <th>3</th>\n",
       "      <td>음악/댄스/가수</td>\n",
       "      <td>SMTOWN</td>\n",
       "      <td>2860만</td>\n",
       "      <td>220억1653만</td>\n",
       "      <td>3,731</td>\n",
       "    </tr>\n",
       "    <tr>\n",
       "      <th>4</th>\n",
       "      <td>키즈/어린이</td>\n",
       "      <td>Boram Tube Vlog [보람튜브 브이로그]</td>\n",
       "      <td>2650만</td>\n",
       "      <td>110억5288만</td>\n",
       "      <td>223</td>\n",
       "    </tr>\n",
       "    <tr>\n",
       "      <th>...</th>\n",
       "      <td>...</td>\n",
       "      <td>...</td>\n",
       "      <td>...</td>\n",
       "      <td>...</td>\n",
       "      <td>...</td>\n",
       "    </tr>\n",
       "    <tr>\n",
       "      <th>95</th>\n",
       "      <td>음식/요리/레시피</td>\n",
       "      <td>까니짱 [ G-NI ]</td>\n",
       "      <td>409만</td>\n",
       "      <td>10억4294만</td>\n",
       "      <td>487</td>\n",
       "    </tr>\n",
       "    <tr>\n",
       "      <th>96</th>\n",
       "      <td>키즈/어린이</td>\n",
       "      <td>로미유 스토리[Romiyu Story]</td>\n",
       "      <td>408만</td>\n",
       "      <td>10억6769만</td>\n",
       "      <td>433</td>\n",
       "    </tr>\n",
       "    <tr>\n",
       "      <th>97</th>\n",
       "      <td>음악/댄스/가수</td>\n",
       "      <td>NCT DREAM</td>\n",
       "      <td>393만</td>\n",
       "      <td>3억8994만</td>\n",
       "      <td>233</td>\n",
       "    </tr>\n",
       "    <tr>\n",
       "      <th>98</th>\n",
       "      <td>취미/라이프</td>\n",
       "      <td>JaeYeol ASMR 재열</td>\n",
       "      <td>385만</td>\n",
       "      <td>10억3214만</td>\n",
       "      <td>976</td>\n",
       "    </tr>\n",
       "    <tr>\n",
       "      <th>99</th>\n",
       "      <td>BJ/인물/연예인</td>\n",
       "      <td>허팝Heopop</td>\n",
       "      <td>382만</td>\n",
       "      <td>31억6332만</td>\n",
       "      <td>1,858</td>\n",
       "    </tr>\n",
       "  </tbody>\n",
       "</table>\n",
       "<p>100 rows × 5 columns</p>\n",
       "</div>"
      ]
     },
     "metadata": {},
     "execution_count": 19
    }
   ],
   "metadata": {}
  },
  {
   "cell_type": "markdown",
   "source": [
    "## page 1에서 10까지 크롤링"
   ],
   "metadata": {}
  },
  {
   "cell_type": "code",
   "execution_count": 20,
   "source": [
    "channels3 =[]\r\n",
    "for page in range(1,11):\r\n",
    "    url = 'https://youtube-rank.com/board/bbs/board.php?bo_table=youtube&page='+str(page)\r\n",
    "    driver.get(url)\r\n",
    "    time.sleep(2) # 로딩 기다리는 시간\r\n",
    "    html = driver.page_source\r\n",
    "    soup = BeautifulSoup(html, 'html.parser')\r\n",
    "    channel_list = soup.select('.aos-init')\r\n",
    "    for channel in channel_list:\r\n",
    "        cat = channel.select_one('p.category').get_text().strip(' \\n[]')\r\n",
    "        name = channel.select_one('.subject a').get_text().strip()\r\n",
    "        sub = convert_unit(channel.select_one('.subscriber_cnt').text)\r\n",
    "        view = convert_unit(channel.select_one('.view_cnt').get_text())\r\n",
    "        video = convert_unit(channel.select_one('.video_cnt').get_text()[:-1]) #개 삭제\r\n",
    "\r\n",
    "        channels3.append([cat, name, sub, view, video])"
   ],
   "outputs": [],
   "metadata": {}
  },
  {
   "cell_type": "code",
   "execution_count": 21,
   "source": [
    "df3 = pd.DataFrame(channels3, columns=['카테고리', '채널명', '구독자수', '조회수', '영상수'])\r\n",
    "df3"
   ],
   "outputs": [
    {
     "output_type": "execute_result",
     "data": {
      "text/plain": [
       "          카테고리                          채널명        구독자수             조회수    영상수\n",
       "0     음악/댄스/가수                    BLACKPINK  64,400,000  19,171,720,000    372\n",
       "1     음악/댄스/가수                  HYBE LABELS  60,800,000  18,929,060,000    657\n",
       "2     음악/댄스/가수                    BANGTANTV  56,900,000  12,364,070,000  1,586\n",
       "3     음악/댄스/가수                       SMTOWN  28,600,000  22,016,530,000  3,731\n",
       "4       키즈/어린이  Boram Tube Vlog [보람튜브 브이로그]  26,500,000  11,052,880,000    223\n",
       "..         ...                          ...         ...             ...    ...\n",
       "995      패션/미용                      안다 ANDA     520,000      33,270,000    167\n",
       "996      TV/방송           상현아웃겨줘parksanghyun     520,000     178,720,000    402\n",
       "997   음악/댄스/가수                 Dragon Stone     520,000      32,370,000    148\n",
       "998  IT/기술/컴퓨터                         MR엠알     520,000      77,520,000    352\n",
       "999         게임                          임선비     510,000     236,960,000  1,142\n",
       "\n",
       "[1000 rows x 5 columns]"
      ],
      "text/html": [
       "<div>\n",
       "<style scoped>\n",
       "    .dataframe tbody tr th:only-of-type {\n",
       "        vertical-align: middle;\n",
       "    }\n",
       "\n",
       "    .dataframe tbody tr th {\n",
       "        vertical-align: top;\n",
       "    }\n",
       "\n",
       "    .dataframe thead th {\n",
       "        text-align: right;\n",
       "    }\n",
       "</style>\n",
       "<table border=\"1\" class=\"dataframe\">\n",
       "  <thead>\n",
       "    <tr style=\"text-align: right;\">\n",
       "      <th></th>\n",
       "      <th>카테고리</th>\n",
       "      <th>채널명</th>\n",
       "      <th>구독자수</th>\n",
       "      <th>조회수</th>\n",
       "      <th>영상수</th>\n",
       "    </tr>\n",
       "  </thead>\n",
       "  <tbody>\n",
       "    <tr>\n",
       "      <th>0</th>\n",
       "      <td>음악/댄스/가수</td>\n",
       "      <td>BLACKPINK</td>\n",
       "      <td>64,400,000</td>\n",
       "      <td>19,171,720,000</td>\n",
       "      <td>372</td>\n",
       "    </tr>\n",
       "    <tr>\n",
       "      <th>1</th>\n",
       "      <td>음악/댄스/가수</td>\n",
       "      <td>HYBE LABELS</td>\n",
       "      <td>60,800,000</td>\n",
       "      <td>18,929,060,000</td>\n",
       "      <td>657</td>\n",
       "    </tr>\n",
       "    <tr>\n",
       "      <th>2</th>\n",
       "      <td>음악/댄스/가수</td>\n",
       "      <td>BANGTANTV</td>\n",
       "      <td>56,900,000</td>\n",
       "      <td>12,364,070,000</td>\n",
       "      <td>1,586</td>\n",
       "    </tr>\n",
       "    <tr>\n",
       "      <th>3</th>\n",
       "      <td>음악/댄스/가수</td>\n",
       "      <td>SMTOWN</td>\n",
       "      <td>28,600,000</td>\n",
       "      <td>22,016,530,000</td>\n",
       "      <td>3,731</td>\n",
       "    </tr>\n",
       "    <tr>\n",
       "      <th>4</th>\n",
       "      <td>키즈/어린이</td>\n",
       "      <td>Boram Tube Vlog [보람튜브 브이로그]</td>\n",
       "      <td>26,500,000</td>\n",
       "      <td>11,052,880,000</td>\n",
       "      <td>223</td>\n",
       "    </tr>\n",
       "    <tr>\n",
       "      <th>...</th>\n",
       "      <td>...</td>\n",
       "      <td>...</td>\n",
       "      <td>...</td>\n",
       "      <td>...</td>\n",
       "      <td>...</td>\n",
       "    </tr>\n",
       "    <tr>\n",
       "      <th>995</th>\n",
       "      <td>패션/미용</td>\n",
       "      <td>안다 ANDA</td>\n",
       "      <td>520,000</td>\n",
       "      <td>33,270,000</td>\n",
       "      <td>167</td>\n",
       "    </tr>\n",
       "    <tr>\n",
       "      <th>996</th>\n",
       "      <td>TV/방송</td>\n",
       "      <td>상현아웃겨줘parksanghyun</td>\n",
       "      <td>520,000</td>\n",
       "      <td>178,720,000</td>\n",
       "      <td>402</td>\n",
       "    </tr>\n",
       "    <tr>\n",
       "      <th>997</th>\n",
       "      <td>음악/댄스/가수</td>\n",
       "      <td>Dragon Stone</td>\n",
       "      <td>520,000</td>\n",
       "      <td>32,370,000</td>\n",
       "      <td>148</td>\n",
       "    </tr>\n",
       "    <tr>\n",
       "      <th>998</th>\n",
       "      <td>IT/기술/컴퓨터</td>\n",
       "      <td>MR엠알</td>\n",
       "      <td>520,000</td>\n",
       "      <td>77,520,000</td>\n",
       "      <td>352</td>\n",
       "    </tr>\n",
       "    <tr>\n",
       "      <th>999</th>\n",
       "      <td>게임</td>\n",
       "      <td>임선비</td>\n",
       "      <td>510,000</td>\n",
       "      <td>236,960,000</td>\n",
       "      <td>1,142</td>\n",
       "    </tr>\n",
       "  </tbody>\n",
       "</table>\n",
       "<p>1000 rows × 5 columns</p>\n",
       "</div>"
      ]
     },
     "metadata": {},
     "execution_count": 21
    }
   ],
   "metadata": {}
  },
  {
   "cell_type": "code",
   "execution_count": 22,
   "source": [
    "df3.to_csv('data/유튜브순위.csv', index=False)"
   ],
   "outputs": [],
   "metadata": {}
  },
  {
   "cell_type": "code",
   "execution_count": 23,
   "source": [
    "driver.close()"
   ],
   "outputs": [],
   "metadata": {}
  }
 ],
 "metadata": {
  "orig_nbformat": 4,
  "language_info": {
   "name": "python",
   "version": "3.8.10",
   "mimetype": "text/x-python",
   "codemirror_mode": {
    "name": "ipython",
    "version": 3
   },
   "pygments_lexer": "ipython3",
   "nbconvert_exporter": "python",
   "file_extension": ".py"
  },
  "kernelspec": {
   "name": "python3",
   "display_name": "Python 3.8.10 64-bit ('base': conda)"
  },
  "interpreter": {
   "hash": "345fc451c7e0336b9390ad1fad588039702f89ec6d37597eff879e480e25ffdb"
  }
 },
 "nbformat": 4,
 "nbformat_minor": 2
}
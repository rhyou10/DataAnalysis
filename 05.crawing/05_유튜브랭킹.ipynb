{
 "cells": [
  {
   "cell_type": "markdown",
   "source": [
    "# 유튜브 랭킹데이터 수집해서 시각화 하기"
   ],
   "metadata": {}
  },
  {
   "cell_type": "code",
   "execution_count": 24,
   "source": [
    "import requests\r\n",
    "import pandas as pd\r\n",
    "from selenium import webdriver\r\n",
    "from bs4 import BeautifulSoup\r\n",
    "import time"
   ],
   "outputs": [],
   "metadata": {}
  },
  {
   "cell_type": "code",
   "execution_count": 25,
   "source": [
    "'''\r\n",
    "!apt-get update > /dev/null\r\n",
    "!pip install selenium > /dev/null\r\n",
    "!apt install chromium-chromedriver > /dev/null\"\r\n",
    "코랩'''"
   ],
   "outputs": [
    {
     "output_type": "execute_result",
     "data": {
      "text/plain": [
       "'\\n!apt-get update > /dev/null\\n!pip install selenium > /dev/null\\n!apt install chromium-chromedriver > /dev/null\"\\n코랩'"
      ]
     },
     "metadata": {},
     "execution_count": 25
    }
   ],
   "metadata": {}
  },
  {
   "cell_type": "code",
   "execution_count": 26,
   "source": [
    "options = webdriver.ChromeOptions()   # 화면없이 실행\r\n",
    "options.add_argument('--headless')   # 화면없이 실행\r\n",
    "options.add_argument('--no-sandbox')\r\n",
    "options.add_argument(\"--single-process\")\r\n",
    "options.add_argument(\"--disable-dev-shm-usage\")\r\n",
    "driver = webdriver.Chrome('data/chromedriver', options=options)"
   ],
   "outputs": [],
   "metadata": {}
  },
  {
   "cell_type": "code",
   "execution_count": 27,
   "source": [
    "url = 'https://youtube-rank.com/board/bbs/board.php?bo_table=youtube&page=1'\r\n",
    "driver.get(url)\r\n",
    "#time.slee(2)"
   ],
   "outputs": [],
   "metadata": {}
  },
  {
   "cell_type": "code",
   "execution_count": 28,
   "source": [
    "trs = driver.find_elements_by_css_selector('.aos-init')\r\n",
    "len(trs)"
   ],
   "outputs": [
    {
     "output_type": "execute_result",
     "data": {
      "text/plain": [
       "100"
      ]
     },
     "metadata": {},
     "execution_count": 28
    }
   ],
   "metadata": {}
  },
  {
   "cell_type": "code",
   "execution_count": 29,
   "source": [
    "html = driver.page_source\r\n",
    "soup = BeautifulSoup(html, 'html.parser')"
   ],
   "outputs": [],
   "metadata": {}
  },
  {
   "cell_type": "code",
   "execution_count": 30,
   "source": [
    "channel_list = soup.select('.aos-init')\r\n",
    "len(channel_list)"
   ],
   "outputs": [
    {
     "output_type": "execute_result",
     "data": {
      "text/plain": [
       "100"
      ]
     },
     "metadata": {},
     "execution_count": 30
    }
   ],
   "metadata": {}
  },
  {
   "cell_type": "code",
   "execution_count": 31,
   "source": [
    "channel = channel_list[0]\r\n",
    "cat = channel.select_one('p.category').get_text().strip(' \\n[]')\r\n",
    "cat"
   ],
   "outputs": [
    {
     "output_type": "execute_result",
     "data": {
      "text/plain": [
       "'음악/댄스/가수'"
      ]
     },
     "metadata": {},
     "execution_count": 31
    }
   ],
   "metadata": {}
  },
  {
   "cell_type": "code",
   "execution_count": 32,
   "source": [
    "name = channel.select_one('.subject a').get_text().strip()\r\n",
    "name"
   ],
   "outputs": [
    {
     "output_type": "execute_result",
     "data": {
      "text/plain": [
       "'BLACKPINK'"
      ]
     },
     "metadata": {},
     "execution_count": 32
    }
   ],
   "metadata": {}
  },
  {
   "cell_type": "code",
   "execution_count": 33,
   "source": [
    "sub = channel.select_one('.subscriber_cnt').text\r\n",
    "view = channel.select_one('.view_cnt').get_text()\r\n",
    "video = channel.select_one('.video_cnt').get_text()[:-1] #개 삭제\r\n",
    "sub, view, video"
   ],
   "outputs": [
    {
     "output_type": "execute_result",
     "data": {
      "text/plain": [
       "('6410만', '190억1809만', '371')"
      ]
     },
     "metadata": {},
     "execution_count": 33
    }
   ],
   "metadata": {}
  },
  {
   "cell_type": "code",
   "execution_count": 34,
   "source": [
    "channels =[]\r\n",
    "# cat_list, name_list, sub_list, view_list, video_list =[], [], [], [], []\r\n",
    "for channel in channel_list:\r\n",
    "    cat = channel.select_one('p.category').get_text().strip(' \\n[]')\r\n",
    "    name = channel.select_one('.subject a').get_text().strip()\r\n",
    "    sub = channel.select_one('.subscriber_cnt').text\r\n",
    "    view = channel.select_one('.view_cnt').get_text()\r\n",
    "    video = channel.select_one('.video_cnt').get_text()[:-1] #개 삭제\r\n",
    "\r\n",
    "    channels.append([cat, name, sub, view, video])"
   ],
   "outputs": [],
   "metadata": {}
  },
  {
   "cell_type": "code",
   "execution_count": 35,
   "source": [
    "df = pd.DataFrame(channels, columns=['카테고리', '채널명', '구독자수', '조회수', '영상수'])\r\n",
    "df"
   ],
   "outputs": [
    {
     "output_type": "execute_result",
     "data": {
      "text/plain": [
       "         카테고리                          채널명   구독자수        조회수    영상수\n",
       "0    음악/댄스/가수                    BLACKPINK  6410만  190억1809만    371\n",
       "1    음악/댄스/가수                  HYBE LABELS  6040만  187억3584만    654\n",
       "2    음악/댄스/가수                    BANGTANTV  5650만  122억1297만  1,579\n",
       "3    음악/댄스/가수                       SMTOWN  2850만  218억9538만  3,729\n",
       "4      키즈/어린이  Boram Tube Vlog [보람튜브 브이로그]  2650만  110억5288만    223\n",
       "..        ...                          ...    ...        ...    ...\n",
       "95  음식/요리/레시피                 까니짱 [ G-NI ]   408만   10억3471만    482\n",
       "96     키즈/어린이        로미유 스토리[Romiyu Story]   408만   10억6621만    433\n",
       "97   음악/댄스/가수                    NCT DREAM   387만    3억7615만    229\n",
       "98  BJ/인물/연예인                     허팝Heopop   381만   31억3892만  1,847\n",
       "99     취미/라이프              JaeYeol ASMR 재열   380만   10억1154만    970\n",
       "\n",
       "[100 rows x 5 columns]"
      ],
      "text/html": [
       "<div>\n",
       "<style scoped>\n",
       "    .dataframe tbody tr th:only-of-type {\n",
       "        vertical-align: middle;\n",
       "    }\n",
       "\n",
       "    .dataframe tbody tr th {\n",
       "        vertical-align: top;\n",
       "    }\n",
       "\n",
       "    .dataframe thead th {\n",
       "        text-align: right;\n",
       "    }\n",
       "</style>\n",
       "<table border=\"1\" class=\"dataframe\">\n",
       "  <thead>\n",
       "    <tr style=\"text-align: right;\">\n",
       "      <th></th>\n",
       "      <th>카테고리</th>\n",
       "      <th>채널명</th>\n",
       "      <th>구독자수</th>\n",
       "      <th>조회수</th>\n",
       "      <th>영상수</th>\n",
       "    </tr>\n",
       "  </thead>\n",
       "  <tbody>\n",
       "    <tr>\n",
       "      <th>0</th>\n",
       "      <td>음악/댄스/가수</td>\n",
       "      <td>BLACKPINK</td>\n",
       "      <td>6410만</td>\n",
       "      <td>190억1809만</td>\n",
       "      <td>371</td>\n",
       "    </tr>\n",
       "    <tr>\n",
       "      <th>1</th>\n",
       "      <td>음악/댄스/가수</td>\n",
       "      <td>HYBE LABELS</td>\n",
       "      <td>6040만</td>\n",
       "      <td>187억3584만</td>\n",
       "      <td>654</td>\n",
       "    </tr>\n",
       "    <tr>\n",
       "      <th>2</th>\n",
       "      <td>음악/댄스/가수</td>\n",
       "      <td>BANGTANTV</td>\n",
       "      <td>5650만</td>\n",
       "      <td>122억1297만</td>\n",
       "      <td>1,579</td>\n",
       "    </tr>\n",
       "    <tr>\n",
       "      <th>3</th>\n",
       "      <td>음악/댄스/가수</td>\n",
       "      <td>SMTOWN</td>\n",
       "      <td>2850만</td>\n",
       "      <td>218억9538만</td>\n",
       "      <td>3,729</td>\n",
       "    </tr>\n",
       "    <tr>\n",
       "      <th>4</th>\n",
       "      <td>키즈/어린이</td>\n",
       "      <td>Boram Tube Vlog [보람튜브 브이로그]</td>\n",
       "      <td>2650만</td>\n",
       "      <td>110억5288만</td>\n",
       "      <td>223</td>\n",
       "    </tr>\n",
       "    <tr>\n",
       "      <th>...</th>\n",
       "      <td>...</td>\n",
       "      <td>...</td>\n",
       "      <td>...</td>\n",
       "      <td>...</td>\n",
       "      <td>...</td>\n",
       "    </tr>\n",
       "    <tr>\n",
       "      <th>95</th>\n",
       "      <td>음식/요리/레시피</td>\n",
       "      <td>까니짱 [ G-NI ]</td>\n",
       "      <td>408만</td>\n",
       "      <td>10억3471만</td>\n",
       "      <td>482</td>\n",
       "    </tr>\n",
       "    <tr>\n",
       "      <th>96</th>\n",
       "      <td>키즈/어린이</td>\n",
       "      <td>로미유 스토리[Romiyu Story]</td>\n",
       "      <td>408만</td>\n",
       "      <td>10억6621만</td>\n",
       "      <td>433</td>\n",
       "    </tr>\n",
       "    <tr>\n",
       "      <th>97</th>\n",
       "      <td>음악/댄스/가수</td>\n",
       "      <td>NCT DREAM</td>\n",
       "      <td>387만</td>\n",
       "      <td>3억7615만</td>\n",
       "      <td>229</td>\n",
       "    </tr>\n",
       "    <tr>\n",
       "      <th>98</th>\n",
       "      <td>BJ/인물/연예인</td>\n",
       "      <td>허팝Heopop</td>\n",
       "      <td>381만</td>\n",
       "      <td>31억3892만</td>\n",
       "      <td>1,847</td>\n",
       "    </tr>\n",
       "    <tr>\n",
       "      <th>99</th>\n",
       "      <td>취미/라이프</td>\n",
       "      <td>JaeYeol ASMR 재열</td>\n",
       "      <td>380만</td>\n",
       "      <td>10억1154만</td>\n",
       "      <td>970</td>\n",
       "    </tr>\n",
       "  </tbody>\n",
       "</table>\n",
       "<p>100 rows × 5 columns</p>\n",
       "</div>"
      ]
     },
     "metadata": {},
     "execution_count": 35
    }
   ],
   "metadata": {}
  },
  {
   "cell_type": "code",
   "execution_count": 36,
   "source": [
    "# 문자 숫자 int 형 바꾸자\r\n",
    "def convert_unit(s):\r\n",
    "    #s = ''.join(s.split('억'))\r\n",
    "    s = s.replace('억','').replace('개','').replace(',','')\r\n",
    "    s = s.replace('만','0000')\r\n",
    "\r\n",
    "    return f'{int(s):,d}'"
   ],
   "outputs": [],
   "metadata": {}
  },
  {
   "cell_type": "code",
   "execution_count": 37,
   "source": [
    "x = convert_unit('31억3892만')\r\n",
    "x"
   ],
   "outputs": [
    {
     "output_type": "execute_result",
     "data": {
      "text/plain": [
       "'3,138,920,000'"
      ]
     },
     "metadata": {},
     "execution_count": 37
    }
   ],
   "metadata": {}
  },
  {
   "cell_type": "markdown",
   "source": [
    "## 2번째 페이지"
   ],
   "metadata": {}
  },
  {
   "cell_type": "markdown",
   "source": [
    "   url = 'https://youtube-rank.com/board/bbs/board.php?bo_table=youtube&page=1'\r\n",
    "    driver.get(url)\r\n",
    "    time.sleep(2) # 로딩 기다리는 시간\r\n",
    "    html = driver.page_source\r\n",
    "    soup = BeautifulSoup(html, 'html.parser')\r\n",
    "    channel_list = soup.select('.aos-init')\r\n",
    "    "
   ],
   "metadata": {}
  },
  {
   "cell_type": "code",
   "execution_count": 38,
   "source": [
    "driver.find_element_by_xpath('//*[@id=\"list-skin\"]/nav/span/a[1]').click() #xpath\r\n",
    "time.sleep(2)"
   ],
   "outputs": [],
   "metadata": {}
  },
  {
   "cell_type": "code",
   "execution_count": 39,
   "source": [
    "html = driver.page_source\r\n",
    "soup = BeautifulSoup(html, 'html.parser')"
   ],
   "outputs": [],
   "metadata": {}
  },
  {
   "cell_type": "code",
   "execution_count": 40,
   "source": [
    "channel_list = soup.select('.aos-init')\r\n",
    "len(channel_list)"
   ],
   "outputs": [
    {
     "output_type": "execute_result",
     "data": {
      "text/plain": [
       "100"
      ]
     },
     "metadata": {},
     "execution_count": 40
    }
   ],
   "metadata": {}
  },
  {
   "cell_type": "code",
   "execution_count": 41,
   "source": [
    "channels2 =[]\r\n",
    "# cat_list, name_list, sub_list, view_list, video_list =[], [], [], [], []\r\n",
    "for channel in channel_list:\r\n",
    "    cat = channel.select_one('p.category').get_text().strip(' \\n[]')\r\n",
    "    name = channel.select_one('.subject a').get_text().strip()\r\n",
    "    sub = channel.select_one('.subscriber_cnt').text\r\n",
    "    view = channel.select_one('.view_cnt').get_text()\r\n",
    "    video = channel.select_one('.video_cnt').get_text()[:-1] #개 삭제\r\n",
    "\r\n",
    "    channels2.append([cat, name, sub, view, video])"
   ],
   "outputs": [],
   "metadata": {}
  },
  {
   "cell_type": "code",
   "execution_count": 42,
   "source": [
    "df2 = pd.DataFrame(channels2, columns=['카테고리', '채널명', '구독자수', '조회수', '영상수'])\r\n",
    "df2"
   ],
   "outputs": [
    {
     "output_type": "execute_result",
     "data": {
      "text/plain": [
       "         카테고리                          채널명   구독자수        조회수    영상수\n",
       "0    음악/댄스/가수                    BLACKPINK  6410만  190억1809만    371\n",
       "1    음악/댄스/가수                  HYBE LABELS  6040만  187억3584만    654\n",
       "2    음악/댄스/가수                    BANGTANTV  5650만  122억1297만  1,579\n",
       "3    음악/댄스/가수                       SMTOWN  2850만  218억9538만  3,729\n",
       "4      키즈/어린이  Boram Tube Vlog [보람튜브 브이로그]  2650만  110억5288만    223\n",
       "..        ...                          ...    ...        ...    ...\n",
       "95  음식/요리/레시피                 까니짱 [ G-NI ]   408만   10억3471만    482\n",
       "96     키즈/어린이        로미유 스토리[Romiyu Story]   408만   10억6621만    433\n",
       "97   음악/댄스/가수                    NCT DREAM   387만    3억7615만    229\n",
       "98  BJ/인물/연예인                     허팝Heopop   381만   31억3892만  1,847\n",
       "99     취미/라이프              JaeYeol ASMR 재열   380만   10억1154만    970\n",
       "\n",
       "[100 rows x 5 columns]"
      ],
      "text/html": [
       "<div>\n",
       "<style scoped>\n",
       "    .dataframe tbody tr th:only-of-type {\n",
       "        vertical-align: middle;\n",
       "    }\n",
       "\n",
       "    .dataframe tbody tr th {\n",
       "        vertical-align: top;\n",
       "    }\n",
       "\n",
       "    .dataframe thead th {\n",
       "        text-align: right;\n",
       "    }\n",
       "</style>\n",
       "<table border=\"1\" class=\"dataframe\">\n",
       "  <thead>\n",
       "    <tr style=\"text-align: right;\">\n",
       "      <th></th>\n",
       "      <th>카테고리</th>\n",
       "      <th>채널명</th>\n",
       "      <th>구독자수</th>\n",
       "      <th>조회수</th>\n",
       "      <th>영상수</th>\n",
       "    </tr>\n",
       "  </thead>\n",
       "  <tbody>\n",
       "    <tr>\n",
       "      <th>0</th>\n",
       "      <td>음악/댄스/가수</td>\n",
       "      <td>BLACKPINK</td>\n",
       "      <td>6410만</td>\n",
       "      <td>190억1809만</td>\n",
       "      <td>371</td>\n",
       "    </tr>\n",
       "    <tr>\n",
       "      <th>1</th>\n",
       "      <td>음악/댄스/가수</td>\n",
       "      <td>HYBE LABELS</td>\n",
       "      <td>6040만</td>\n",
       "      <td>187억3584만</td>\n",
       "      <td>654</td>\n",
       "    </tr>\n",
       "    <tr>\n",
       "      <th>2</th>\n",
       "      <td>음악/댄스/가수</td>\n",
       "      <td>BANGTANTV</td>\n",
       "      <td>5650만</td>\n",
       "      <td>122억1297만</td>\n",
       "      <td>1,579</td>\n",
       "    </tr>\n",
       "    <tr>\n",
       "      <th>3</th>\n",
       "      <td>음악/댄스/가수</td>\n",
       "      <td>SMTOWN</td>\n",
       "      <td>2850만</td>\n",
       "      <td>218억9538만</td>\n",
       "      <td>3,729</td>\n",
       "    </tr>\n",
       "    <tr>\n",
       "      <th>4</th>\n",
       "      <td>키즈/어린이</td>\n",
       "      <td>Boram Tube Vlog [보람튜브 브이로그]</td>\n",
       "      <td>2650만</td>\n",
       "      <td>110억5288만</td>\n",
       "      <td>223</td>\n",
       "    </tr>\n",
       "    <tr>\n",
       "      <th>...</th>\n",
       "      <td>...</td>\n",
       "      <td>...</td>\n",
       "      <td>...</td>\n",
       "      <td>...</td>\n",
       "      <td>...</td>\n",
       "    </tr>\n",
       "    <tr>\n",
       "      <th>95</th>\n",
       "      <td>음식/요리/레시피</td>\n",
       "      <td>까니짱 [ G-NI ]</td>\n",
       "      <td>408만</td>\n",
       "      <td>10억3471만</td>\n",
       "      <td>482</td>\n",
       "    </tr>\n",
       "    <tr>\n",
       "      <th>96</th>\n",
       "      <td>키즈/어린이</td>\n",
       "      <td>로미유 스토리[Romiyu Story]</td>\n",
       "      <td>408만</td>\n",
       "      <td>10억6621만</td>\n",
       "      <td>433</td>\n",
       "    </tr>\n",
       "    <tr>\n",
       "      <th>97</th>\n",
       "      <td>음악/댄스/가수</td>\n",
       "      <td>NCT DREAM</td>\n",
       "      <td>387만</td>\n",
       "      <td>3억7615만</td>\n",
       "      <td>229</td>\n",
       "    </tr>\n",
       "    <tr>\n",
       "      <th>98</th>\n",
       "      <td>BJ/인물/연예인</td>\n",
       "      <td>허팝Heopop</td>\n",
       "      <td>381만</td>\n",
       "      <td>31억3892만</td>\n",
       "      <td>1,847</td>\n",
       "    </tr>\n",
       "    <tr>\n",
       "      <th>99</th>\n",
       "      <td>취미/라이프</td>\n",
       "      <td>JaeYeol ASMR 재열</td>\n",
       "      <td>380만</td>\n",
       "      <td>10억1154만</td>\n",
       "      <td>970</td>\n",
       "    </tr>\n",
       "  </tbody>\n",
       "</table>\n",
       "<p>100 rows × 5 columns</p>\n",
       "</div>"
      ]
     },
     "metadata": {},
     "execution_count": 42
    }
   ],
   "metadata": {}
  },
  {
   "cell_type": "markdown",
   "source": [
    "## page 1에서 10까지 크롤링"
   ],
   "metadata": {}
  },
  {
   "cell_type": "code",
   "execution_count": 43,
   "source": [
    "channels3 =[]\r\n",
    "for page in range(1,11):\r\n",
    "    url = 'https://youtube-rank.com/board/bbs/board.php?bo_table=youtube&page='+str(page)\r\n",
    "    driver.get(url)\r\n",
    "    time.sleep(2) # 로딩 기다리는 시간\r\n",
    "    html = driver.page_source\r\n",
    "    soup = BeautifulSoup(html, 'html.parser')\r\n",
    "    channel_list = soup.select('.aos-init')\r\n",
    "    for channel in channel_list:\r\n",
    "        cat = channel.select_one('p.category').get_text().strip(' \\n[]')\r\n",
    "        name = channel.select_one('.subject a').get_text().strip()\r\n",
    "        sub = convert_unit(channel.select_one('.subscriber_cnt').text)\r\n",
    "        view = convert_unit(channel.select_one('.view_cnt').get_text())\r\n",
    "        video = convert_unit(channel.select_one('.video_cnt').get_text()[:-1]) #개 삭제\r\n",
    "\r\n",
    "        channels3.append([cat, name, sub, view, video])"
   ],
   "outputs": [],
   "metadata": {}
  },
  {
   "cell_type": "code",
   "execution_count": 44,
   "source": [
    "df3 = pd.DataFrame(channels3, columns=['카테고리', '채널명', '구독자수', '조회수', '영상수'])\r\n",
    "df3"
   ],
   "outputs": [
    {
     "output_type": "execute_result",
     "data": {
      "text/plain": [
       "          카테고리                          채널명        구독자수             조회수  \\\n",
       "0     음악/댄스/가수                    BLACKPINK  64,100,000  19,018,090,000   \n",
       "1     음악/댄스/가수                  HYBE LABELS  60,400,000  18,735,840,000   \n",
       "2     음악/댄스/가수                    BANGTANTV  56,500,000  12,212,970,000   \n",
       "3     음악/댄스/가수                       SMTOWN  28,500,000  21,895,380,000   \n",
       "4       키즈/어린이  Boram Tube Vlog [보람튜브 브이로그]  26,500,000  11,052,880,000   \n",
       "..         ...                          ...         ...             ...   \n",
       "995         게임                          OGN     510,000     608,880,000   \n",
       "996        미분류                    밉지않은 관종언니     510,000      67,950,000   \n",
       "997         게임                           미소     510,000     210,780,000   \n",
       "998  음식/요리/레시피                        Muggo     510,000     183,720,000   \n",
       "999         게임                          임선비     510,000     234,290,000   \n",
       "\n",
       "        영상수  \n",
       "0       371  \n",
       "1       654  \n",
       "2     1,579  \n",
       "3     3,729  \n",
       "4       223  \n",
       "..      ...  \n",
       "995  27,433  \n",
       "996     170  \n",
       "997   3,084  \n",
       "998   1,388  \n",
       "999   1,134  \n",
       "\n",
       "[1000 rows x 5 columns]"
      ],
      "text/html": [
       "<div>\n",
       "<style scoped>\n",
       "    .dataframe tbody tr th:only-of-type {\n",
       "        vertical-align: middle;\n",
       "    }\n",
       "\n",
       "    .dataframe tbody tr th {\n",
       "        vertical-align: top;\n",
       "    }\n",
       "\n",
       "    .dataframe thead th {\n",
       "        text-align: right;\n",
       "    }\n",
       "</style>\n",
       "<table border=\"1\" class=\"dataframe\">\n",
       "  <thead>\n",
       "    <tr style=\"text-align: right;\">\n",
       "      <th></th>\n",
       "      <th>카테고리</th>\n",
       "      <th>채널명</th>\n",
       "      <th>구독자수</th>\n",
       "      <th>조회수</th>\n",
       "      <th>영상수</th>\n",
       "    </tr>\n",
       "  </thead>\n",
       "  <tbody>\n",
       "    <tr>\n",
       "      <th>0</th>\n",
       "      <td>음악/댄스/가수</td>\n",
       "      <td>BLACKPINK</td>\n",
       "      <td>64,100,000</td>\n",
       "      <td>19,018,090,000</td>\n",
       "      <td>371</td>\n",
       "    </tr>\n",
       "    <tr>\n",
       "      <th>1</th>\n",
       "      <td>음악/댄스/가수</td>\n",
       "      <td>HYBE LABELS</td>\n",
       "      <td>60,400,000</td>\n",
       "      <td>18,735,840,000</td>\n",
       "      <td>654</td>\n",
       "    </tr>\n",
       "    <tr>\n",
       "      <th>2</th>\n",
       "      <td>음악/댄스/가수</td>\n",
       "      <td>BANGTANTV</td>\n",
       "      <td>56,500,000</td>\n",
       "      <td>12,212,970,000</td>\n",
       "      <td>1,579</td>\n",
       "    </tr>\n",
       "    <tr>\n",
       "      <th>3</th>\n",
       "      <td>음악/댄스/가수</td>\n",
       "      <td>SMTOWN</td>\n",
       "      <td>28,500,000</td>\n",
       "      <td>21,895,380,000</td>\n",
       "      <td>3,729</td>\n",
       "    </tr>\n",
       "    <tr>\n",
       "      <th>4</th>\n",
       "      <td>키즈/어린이</td>\n",
       "      <td>Boram Tube Vlog [보람튜브 브이로그]</td>\n",
       "      <td>26,500,000</td>\n",
       "      <td>11,052,880,000</td>\n",
       "      <td>223</td>\n",
       "    </tr>\n",
       "    <tr>\n",
       "      <th>...</th>\n",
       "      <td>...</td>\n",
       "      <td>...</td>\n",
       "      <td>...</td>\n",
       "      <td>...</td>\n",
       "      <td>...</td>\n",
       "    </tr>\n",
       "    <tr>\n",
       "      <th>995</th>\n",
       "      <td>게임</td>\n",
       "      <td>OGN</td>\n",
       "      <td>510,000</td>\n",
       "      <td>608,880,000</td>\n",
       "      <td>27,433</td>\n",
       "    </tr>\n",
       "    <tr>\n",
       "      <th>996</th>\n",
       "      <td>미분류</td>\n",
       "      <td>밉지않은 관종언니</td>\n",
       "      <td>510,000</td>\n",
       "      <td>67,950,000</td>\n",
       "      <td>170</td>\n",
       "    </tr>\n",
       "    <tr>\n",
       "      <th>997</th>\n",
       "      <td>게임</td>\n",
       "      <td>미소</td>\n",
       "      <td>510,000</td>\n",
       "      <td>210,780,000</td>\n",
       "      <td>3,084</td>\n",
       "    </tr>\n",
       "    <tr>\n",
       "      <th>998</th>\n",
       "      <td>음식/요리/레시피</td>\n",
       "      <td>Muggo</td>\n",
       "      <td>510,000</td>\n",
       "      <td>183,720,000</td>\n",
       "      <td>1,388</td>\n",
       "    </tr>\n",
       "    <tr>\n",
       "      <th>999</th>\n",
       "      <td>게임</td>\n",
       "      <td>임선비</td>\n",
       "      <td>510,000</td>\n",
       "      <td>234,290,000</td>\n",
       "      <td>1,134</td>\n",
       "    </tr>\n",
       "  </tbody>\n",
       "</table>\n",
       "<p>1000 rows × 5 columns</p>\n",
       "</div>"
      ]
     },
     "metadata": {},
     "execution_count": 44
    }
   ],
   "metadata": {}
  },
  {
   "cell_type": "code",
   "execution_count": 45,
   "source": [
    "df3.to_csv('data/유튜브순위.csv', index=False)"
   ],
   "outputs": [],
   "metadata": {}
  },
  {
   "cell_type": "code",
   "execution_count": 46,
   "source": [
    "driver.close()"
   ],
   "outputs": [],
   "metadata": {}
  }
 ],
 "metadata": {
  "orig_nbformat": 4,
  "language_info": {
   "name": "python",
   "version": "3.8.10",
   "mimetype": "text/x-python",
   "codemirror_mode": {
    "name": "ipython",
    "version": 3
   },
   "pygments_lexer": "ipython3",
   "nbconvert_exporter": "python",
   "file_extension": ".py"
  },
  "kernelspec": {
   "name": "python3",
   "display_name": "Python 3.8.10 64-bit ('base': conda)"
  },
  "interpreter": {
   "hash": "345fc451c7e0336b9390ad1fad588039702f89ec6d37597eff879e480e25ffdb"
  }
 },
 "nbformat": 4,
 "nbformat_minor": 2
}
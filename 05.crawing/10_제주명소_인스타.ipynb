{
 "cells": [
  {
   "cell_type": "code",
   "execution_count": 41,
   "source": [
    "import requests\r\n",
    "import pandas as pd\r\n",
    "from selenium import webdriver\r\n",
    "from bs4 import BeautifulSoup\r\n",
    "from selenium.webdriver.common.keys import Keys\r\n",
    "import time\r\n",
    "import re"
   ],
   "outputs": [],
   "metadata": {}
  },
  {
   "cell_type": "code",
   "execution_count": 4,
   "source": [
    "driver = webdriver.Chrome('data/chromedriver')"
   ],
   "outputs": [],
   "metadata": {}
  },
  {
   "cell_type": "code",
   "execution_count": 5,
   "source": [
    "base_url ='https://kin.naver.com/search/list.naver?query='\r\n",
    "url = base_url + quote('여친선물')\r\n",
    "driver.get(url)\r\n",
    "time.sleep(2)"
   ],
   "outputs": [],
   "metadata": {}
  },
  {
   "cell_type": "code",
   "execution_count": 6,
   "source": [
    "with open('data/password.txt') as f:\r\n",
    "    password = f.read()"
   ],
   "outputs": [],
   "metadata": {}
  },
  {
   "cell_type": "code",
   "execution_count": 7,
   "source": [
    "len(password)"
   ],
   "outputs": [
    {
     "output_type": "execute_result",
     "data": {
      "text/plain": [
       "10"
      ]
     },
     "metadata": {},
     "execution_count": 7
    }
   ],
   "metadata": {}
  },
  {
   "cell_type": "markdown",
   "source": [
    "## 아이디 비밀번호 입력후 submit"
   ],
   "metadata": {}
  },
  {
   "cell_type": "code",
   "execution_count": 8,
   "source": [
    "email='rhyou10@nate.com'\r\n",
    "emailid = driver.find_element_by_css_selector('._2hvTZ.pexuQ.zyHYP')\r\n",
    "emailid.clear()\r\n",
    "emailid.send_keys(email)\r\n",
    "#loginForm > div > div:nth-child(1) > div > label > input"
   ],
   "outputs": [],
   "metadata": {}
  },
  {
   "cell_type": "code",
   "execution_count": 9,
   "source": [
    "pwd_input = driver.find_element_by_name('password')\r\n",
    "pwd_input.clear()\r\n",
    "pwd_input.send_keys(password)\r\n",
    "pwd_input.submit()# 엔터\r\n",
    "time.sleep(5)"
   ],
   "outputs": [],
   "metadata": {}
  },
  {
   "cell_type": "markdown",
   "source": [
    "## 팝업제거"
   ],
   "metadata": {}
  },
  {
   "cell_type": "code",
   "execution_count": 10,
   "source": [
    "try: #알림설정\r\n",
    "    driver.find_element_by_css_selector('.aOOlW.HoLwm').click()\r\n",
    "    time.sleep(1)\r\n",
    "except:\r\n",
    "    pass"
   ],
   "outputs": [],
   "metadata": {}
  },
  {
   "cell_type": "code",
   "execution_count": 21,
   "source": [
    "find = driver.find_element_by_css_selector('.XTCLo')\r\n",
    "find.clear()\r\n",
    "find.send_keys('제주도맛집')\r\n",
    "time.sleep(1)\r\n",
    "\r\n",
    "#document.querySelector(\"#react-root > section > nav > div._8MQSO.Cx7Bp > div > div > div.LWmhU._0aCwM > div.pbgfb.Di7vw > div\")"
   ],
   "outputs": [],
   "metadata": {}
  },
  {
   "cell_type": "code",
   "execution_count": 42,
   "source": [
    "from urllib.parse import quote\r\n",
    "keyword = '제주도맛집'\r\n",
    "search_url = 'https://www.instagram.com/explore/tags/'\r\n",
    "url = f'{search_url}{quote(keyword)}'\r\n",
    "url"
   ],
   "outputs": [
    {
     "output_type": "execute_result",
     "data": {
      "text/plain": [
       "'https://www.instagram.com/explore/tags/%EC%A0%9C%EC%A3%BC%EB%8F%84%EB%A7%9B%EC%A7%91'"
      ]
     },
     "metadata": {},
     "execution_count": 42
    }
   ],
   "metadata": {}
  },
  {
   "cell_type": "code",
   "execution_count": 12,
   "source": [
    "driver.get(url)\r\n",
    "time.sleep(5)"
   ],
   "outputs": [],
   "metadata": {}
  },
  {
   "cell_type": "markdown",
   "source": [
    "## 3. 첫번쨰 게시글 열기"
   ],
   "metadata": {}
  },
  {
   "cell_type": "code",
   "execution_count": 56,
   "source": [
    "driver.find_element_by_css_selector('._9AhH0').click() #클래스 앞에 붙은거 확인\r\n",
    "time.sleep(1)"
   ],
   "outputs": [],
   "metadata": {}
  },
  {
   "cell_type": "markdown",
   "source": [
    "## 4.게시글 정보 가져오기"
   ],
   "metadata": {}
  },
  {
   "cell_type": "code",
   "execution_count": 57,
   "source": [
    "html = driver.page_source\r\n",
    "soup = BeautifulSoup(html, 'html.parser')"
   ],
   "outputs": [],
   "metadata": {}
  },
  {
   "cell_type": "code",
   "execution_count": 43,
   "source": [
    "#1) 본문내용 가져오기\r\n",
    "import unicodedata \r\n",
    "#자료 있을떄 없을때\r\n",
    "try:\r\n",
    "    content = soup.select_one('.C4VMK > span').text\r\n",
    "    content = unicodedata.normalize('NFC', content) # 안넣어도 출력을 같지만 인코딩 확인할떄\r\n",
    "except:\r\n",
    "    content = ' '   #게시글이 비어있을떄 공란처리한다\r\n",
    "    \r\n",
    "content"
   ],
   "outputs": [
    {
     "output_type": "execute_result",
     "data": {
      "text/plain": [
       "'☀제주의 멋과 맛을 모두 즐기시고 싶다면➩✨제주여행의 후회없는 선택➀제주공항 근처 바닷가 바로 앞 풍경맛집➁해녀가 직접 채집하는제주보말, 제주돼지, 제주비트를 재료로 하는 건강맛집 [한라진칼국수]입니다.✅OPEN 9:00✅CLOSE 16:00✅매주 월요일 정기휴무✈제주시 테우해안로32☏TEL 064.711.8525#한라진칼국수 #제주맛집 #제주맛집추천 #제주도맛집 #제주도맛집추천 #제주공항맛집 #제주공항근처맛집 #보말칼국수 #보말칼국수맛집 #제주보말칼국수 #제주보말칼국수맛집 #돔베고기 #제주가족여행 #제주데이트 #제주점심 #제주도민맛집 #이호테우해변맛집 #애월맛집 #애월해안도로맛집 #제주오션뷰맛집 #함덕맛집 #성산일출봉맛집 #협재맛집 #곽지맛집 #한담맛집 #한림맛집 #제주도여행 #제주여행 #제주핫플 #제주아침식사'"
      ]
     },
     "metadata": {},
     "execution_count": 43
    }
   ],
   "metadata": {}
  },
  {
   "cell_type": "code",
   "execution_count": 51,
   "source": [
    "# 본문내용에서 해쉬태그 가져오기\r\n",
    "#해쉬태그 정규식 '#[^\\s#,\\\\]+'\r\n",
    "import re\r\n",
    "tags = re.findall(r'#[^\\s#,\\\\]+', content)\r\n",
    "tags"
   ],
   "outputs": [
    {
     "output_type": "execute_result",
     "data": {
      "text/plain": [
       "['#연돈',\n",
       " '#제주도연돈',\n",
       " '#테이블링',\n",
       " '#등심까스',\n",
       " '#수제볼카츠',\n",
       " '#아토짱_제주',\n",
       " '#제주도맛집',\n",
       " '#제주맛집',\n",
       " '#제주도가볼만한곳',\n",
       " '#서귀포맛집',\n",
       " '#색달동맛집',\n",
       " '#제주도핫플',\n",
       " '#제주서귀포맛집',\n",
       " '#제주도맛집추천',\n",
       " '#제주도돈까스',\n",
       " '#제주도핫플',\n",
       " '#제주도점심']"
      ]
     },
     "metadata": {},
     "execution_count": 51
    }
   ],
   "metadata": {}
  },
  {
   "cell_type": "code",
   "execution_count": 60,
   "source": [
    "# 날짜 가져오기 FH9sR Nzb55\r\n",
    "date = soup.select_one('.FH9sR.Nzb55')['datetime'][:10]\r\n",
    "date"
   ],
   "outputs": [
    {
     "output_type": "execute_result",
     "data": {
      "text/plain": [
       "'2021-08-18'"
      ]
     },
     "metadata": {},
     "execution_count": 60
    }
   ],
   "metadata": {}
  },
  {
   "cell_type": "code",
   "execution_count": 59,
   "source": [
    "# 좋아요수 가져오기 없는경우도 있다\r\n",
    "try:\r\n",
    "    like = int(soup.select_one('.zV_Nj > span').text.replace(',',''))\r\n",
    "except:\r\n",
    "    like = 0\r\n",
    "like"
   ],
   "outputs": [
    {
     "output_type": "execute_result",
     "data": {
      "text/plain": [
       "4430"
      ]
     },
     "metadata": {},
     "execution_count": 59
    }
   ],
   "metadata": {}
  },
  {
   "cell_type": "code",
   "execution_count": 84,
   "source": [
    "# 위치정보 가져오기body > div._2dDPU.CkGkG > div.zZYga > div > article > header > div.o-MQd.z8cbW > div.M30cS > div.JF9hh > a\r\n",
    "try:\r\n",
    "    place = soup.select_one('body > div._2dDPU.CkGkG > div.zZYga > div > article > header > div.o-MQd.z8cbW > div.M30cS > div.JF9hh > a').text\r\n",
    "    place = unicodedata.normalize('NFC', content)\r\n",
    "except:\r\n",
    "    place = ''\r\n",
    "place"
   ],
   "outputs": [
    {
     "output_type": "execute_result",
     "data": {
      "text/plain": [
       "''"
      ]
     },
     "metadata": {},
     "execution_count": 84
    }
   ],
   "metadata": {}
  },
  {
   "cell_type": "code",
   "execution_count": null,
   "source": [
    "#강사님꺼\r\n",
    "try:\r\n",
    "    place = soup.select('div.M30cS')[0].text\r\n",
    "    place = unicodedata.normalize('NFC', place)\r\n",
    "except:\r\n",
    "    place = ''\r\n",
    "place"
   ],
   "outputs": [],
   "metadata": {}
  },
  {
   "cell_type": "code",
   "execution_count": 99,
   "source": [
    "#다음게시물로 이동 진짜\r\n",
    "driver.find_element_by_css_selector('._65Bje').click()"
   ],
   "outputs": [],
   "metadata": {}
  },
  {
   "cell_type": "code",
   "execution_count": 110,
   "source": [
    "#5. 끄기\r\n",
    "#driver.find_element_by_css_selector('.coreSpriteRightChevron').click()\r\n",
    "driver.find_element_by_xpath('/html/body/div[6]/div[3]/button').click()"
   ],
   "outputs": [],
   "metadata": {}
  },
  {
   "cell_type": "code",
   "execution_count": 32,
   "source": [
    "# 6 게시물 끄기\r\n",
    "driver.find_element_by_css_selector('body > div._2dDPU.CkGkG > div.Igw0E.IwRSH.eGOV_._4EzTm.BI4qX.qJPeX.fm1AK.TxciK.yiMZG > button > div > svg').click()"
   ],
   "outputs": [],
   "metadata": {}
  },
  {
   "cell_type": "code",
   "execution_count": 33,
   "source": [
    "# 여러개 게시물 보기\r\n",
    "\r\n",
    "keyword = '제주도맛집'\r\n",
    "search_url = 'https://www.instagram.com/explore/tags/'\r\n",
    "url = f'{search_url}{quote(keyword)}'\r\n",
    "driver.get(url)\r\n",
    "time.sleep(5)\r\n",
    "driver.find_element_by_css_selector('._9AhH0').click() #첫게시글\r\n",
    "time.sleep(1)"
   ],
   "outputs": [],
   "metadata": {}
  },
  {
   "cell_type": "code",
   "execution_count": 39,
   "source": [
    "results = []\r\n",
    "for i in range(3):\r\n",
    "    html = driver.page_source\r\n",
    "    soup = BeautifulSoup(html, 'html.parser')\r\n",
    "    #게시글 내용\r\n",
    "    try:\r\n",
    "        content = soup.select_one('.C4VMK > span').text\r\n",
    "        content = unicodedata.normalize('NFC', content) # 안넣어도 출력을 같지만 인코딩 확인할떄\r\n",
    "    except:\r\n",
    "        content = ' '   #게시글이 비어있을떄 공란처리한다\r\n",
    "    #태그\r\n",
    "    tags = re.findall(r'#[^\\s#,\\\\]+', content)\r\n",
    "    #작석일자\r\n",
    "    try:\r\n",
    "        date = soup.select_one('.FH9sR.Nzb55')['datetime'][:10]\r\n",
    "    except:\r\n",
    "        date = '0'\r\n",
    "    #좋아요수\r\n",
    "    try:\r\n",
    "        like = int(soup.select_one('.zV_Nj > span').text.replace(',',''))\r\n",
    "    except:\r\n",
    "        like = 0\r\n",
    "    # 위치정보 가져오기body > div._2dDPU.CkGkG > div.zZYga > div > article > header > div.o-MQd.z8cbW > div.M30cS > div.JF9hh > a\r\n",
    "    try:\r\n",
    "        place = soup.select('div.M30cS')[0].text\r\n",
    "        place = unicodedata.normalize('NFC', place)\r\n",
    "    except:\r\n",
    "        place = ''\r\n",
    "    row = [content, tags, date, like, place]\r\n",
    "    results.append(row)\r\n",
    "    driver.find_element_by_css_selector('._65Bje').click()\r\n",
    "    time.sleep(1)"
   ],
   "outputs": [],
   "metadata": {}
  },
  {
   "cell_type": "markdown",
   "source": [
    "## 다른방시긍로\r\n"
   ],
   "metadata": {}
  },
  {
   "cell_type": "code",
   "execution_count": 44,
   "source": [
    "def get_content(driver):\r\n",
    "    html = driver.page_source\r\n",
    "    soup = BeautifulSoup(html, 'html.parser')\r\n",
    "    #게시글 내용\r\n",
    "    try:\r\n",
    "        content = soup.select_one('.C4VMK > span').text\r\n",
    "        content = unicodedata.normalize('NFC', content) # 안넣어도 출력을 같지만 인코딩 확인할떄\r\n",
    "    except:\r\n",
    "        content = ' '   #게시글이 비어있을떄 공란처리한다\r\n",
    "    #태그\r\n",
    "    tags = re.findall(r'#[^\\s#,\\\\]+', content)\r\n",
    "    #작석일자\r\n",
    "    try:\r\n",
    "        date = soup.select_one('.FH9sR.Nzb55')['datetime'][:10]\r\n",
    "    except:\r\n",
    "        date = '0'\r\n",
    "    #좋아요수\r\n",
    "    try:\r\n",
    "        like = int(soup.select_one('.zV_Nj > span').text.replace(',',''))\r\n",
    "    except:\r\n",
    "        like = 0\r\n",
    "    # 위치정보 가져오기body > div._2dDPU.CkGkG > div.zZYga > div > article > header > div.o-MQd.z8cbW > div.M30cS > div.JF9hh > a\r\n",
    "    try:\r\n",
    "        place = soup.select('div.M30cS')[0].text\r\n",
    "        place = unicodedata.normalize('NFC', place)\r\n",
    "    except:\r\n",
    "        place = ''\r\n",
    "\r\n",
    "    time.sleep(1)\r\n",
    "    row = [content, tags, date, like, place]\r\n",
    "    return row"
   ],
   "outputs": [],
   "metadata": {}
  },
  {
   "cell_type": "code",
   "execution_count": 49,
   "source": [
    "results=[]\r\n",
    "for _ in range(200):\r\n",
    "    try:\r\n",
    "        row=[]\r\n",
    "        row = get_content(driver)\r\n",
    "        results.append(row)\r\n",
    "        driver.find_element_by_css_selector('._65Bje').click()\r\n",
    "        time.sleep(1)\r\n",
    "    except:\r\n",
    "        driver.find_element_by_css_selector('._65Bje').click()\r\n",
    "        time.sleep(1)"
   ],
   "outputs": [],
   "metadata": {}
  },
  {
   "cell_type": "code",
   "execution_count": 51,
   "source": [
    "df = pd.DataFrame(results, columns=['내용', '태그', '일시', '좋아요', '장소'])\r\n",
    "df.head()"
   ],
   "outputs": [
    {
     "output_type": "execute_result",
     "data": {
      "text/plain": [
       "                                                  내용  \\\n",
       "0  <광고>#우도 들어가기전에 꼭 #산도롱맨도롱#갈비국수 꼭 드셔보세요.✔손소독제 항시...   \n",
       "1  그 유명한 #연돈 에 다녀왔습니다. 그런데ㅎ;;;⠀⠀⠀⠀⠀⠀⠀어마무시한 웨이팅으로 ...   \n",
       "2  .#연동 #모니카옛날통닭간판부터 맛집포스 작렬하는 찐맛집이젠 인생치킨이라고 말하기도...   \n",
       "3  .< 제주해물라면 맛집모음! > 일단저장@ 해물 아낌없이 주는 해물라면 맛집!바다뷰...   \n",
       "4  <광고>섭지코지에서 한끼 맛있게 드시고 싶다면...특히 점심메뉴로 강력추천드리고요 ...   \n",
       "\n",
       "                                                  태그          일시   좋아요  장소  \n",
       "0  [#우도, #산도롱맨도롱, #갈비국수, #제주맛집, #제주도맛집, #성산맛집, #성...  2021-08-18     0      \n",
       "1  [#연돈, #제주도연돈, #테이블링, #등심까스, #수제볼카츠, #아토짱_제주, #...  2021-08-18  4570  연돈  \n",
       "2  [#연동, #모니카옛날통닭간판부터, #제주맛집, #제주도맛집, #제주공항근처맛집, ...  2021-08-19  1105      \n",
       "3  [#제주맛집, #제주도맛집, #제주공항근처맛집, #제주시맛집, #애월맛집, #중문맛...  2021-08-18  1008      \n",
       "4  [#섭지코지한끼🍱오픈, #섭지코지맛집, #섭지코지, #섭지코지카페, #스누피가든, ...  2021-08-18     0      "
      ],
      "text/html": [
       "<div>\n",
       "<style scoped>\n",
       "    .dataframe tbody tr th:only-of-type {\n",
       "        vertical-align: middle;\n",
       "    }\n",
       "\n",
       "    .dataframe tbody tr th {\n",
       "        vertical-align: top;\n",
       "    }\n",
       "\n",
       "    .dataframe thead th {\n",
       "        text-align: right;\n",
       "    }\n",
       "</style>\n",
       "<table border=\"1\" class=\"dataframe\">\n",
       "  <thead>\n",
       "    <tr style=\"text-align: right;\">\n",
       "      <th></th>\n",
       "      <th>내용</th>\n",
       "      <th>태그</th>\n",
       "      <th>일시</th>\n",
       "      <th>좋아요</th>\n",
       "      <th>장소</th>\n",
       "    </tr>\n",
       "  </thead>\n",
       "  <tbody>\n",
       "    <tr>\n",
       "      <th>0</th>\n",
       "      <td>&lt;광고&gt;#우도 들어가기전에 꼭 #산도롱맨도롱#갈비국수 꼭 드셔보세요.✔손소독제 항시...</td>\n",
       "      <td>[#우도, #산도롱맨도롱, #갈비국수, #제주맛집, #제주도맛집, #성산맛집, #성...</td>\n",
       "      <td>2021-08-18</td>\n",
       "      <td>0</td>\n",
       "      <td></td>\n",
       "    </tr>\n",
       "    <tr>\n",
       "      <th>1</th>\n",
       "      <td>그 유명한 #연돈 에 다녀왔습니다. 그런데ㅎ;;;⠀⠀⠀⠀⠀⠀⠀어마무시한 웨이팅으로 ...</td>\n",
       "      <td>[#연돈, #제주도연돈, #테이블링, #등심까스, #수제볼카츠, #아토짱_제주, #...</td>\n",
       "      <td>2021-08-18</td>\n",
       "      <td>4570</td>\n",
       "      <td>연돈</td>\n",
       "    </tr>\n",
       "    <tr>\n",
       "      <th>2</th>\n",
       "      <td>.#연동 #모니카옛날통닭간판부터 맛집포스 작렬하는 찐맛집이젠 인생치킨이라고 말하기도...</td>\n",
       "      <td>[#연동, #모니카옛날통닭간판부터, #제주맛집, #제주도맛집, #제주공항근처맛집, ...</td>\n",
       "      <td>2021-08-19</td>\n",
       "      <td>1105</td>\n",
       "      <td></td>\n",
       "    </tr>\n",
       "    <tr>\n",
       "      <th>3</th>\n",
       "      <td>.&lt; 제주해물라면 맛집모음! &gt; 일단저장@ 해물 아낌없이 주는 해물라면 맛집!바다뷰...</td>\n",
       "      <td>[#제주맛집, #제주도맛집, #제주공항근처맛집, #제주시맛집, #애월맛집, #중문맛...</td>\n",
       "      <td>2021-08-18</td>\n",
       "      <td>1008</td>\n",
       "      <td></td>\n",
       "    </tr>\n",
       "    <tr>\n",
       "      <th>4</th>\n",
       "      <td>&lt;광고&gt;섭지코지에서 한끼 맛있게 드시고 싶다면...특히 점심메뉴로 강력추천드리고요 ...</td>\n",
       "      <td>[#섭지코지한끼🍱오픈, #섭지코지맛집, #섭지코지, #섭지코지카페, #스누피가든, ...</td>\n",
       "      <td>2021-08-18</td>\n",
       "      <td>0</td>\n",
       "      <td></td>\n",
       "    </tr>\n",
       "  </tbody>\n",
       "</table>\n",
       "</div>"
      ]
     },
     "metadata": {},
     "execution_count": 51
    }
   ],
   "metadata": {}
  },
  {
   "cell_type": "code",
   "execution_count": 52,
   "source": [
    "df.to_csv('data/제주맛집.csv', index=False)"
   ],
   "outputs": [],
   "metadata": {}
  },
  {
   "cell_type": "code",
   "execution_count": 61,
   "source": [
    "# 여러개 게시물 보기\r\n",
    "\r\n",
    "keyword = '제주여행'\r\n",
    "search_url = 'https://www.instagram.com/explore/tags/'\r\n",
    "url = f'{search_url}{quote(keyword)}'\r\n",
    "driver.get(url)\r\n",
    "time.sleep(5)\r\n",
    "driver.find_element_by_css_selector('._9AhH0').click() #첫게시글\r\n",
    "time.sleep(1)"
   ],
   "outputs": [],
   "metadata": {}
  },
  {
   "cell_type": "code",
   "execution_count": 64,
   "source": [
    "results=[]\r\n",
    "for _ in range(200):\r\n",
    "    try:\r\n",
    "        row=[]\r\n",
    "        row = get_content(driver)\r\n",
    "        results.append(row)\r\n",
    "        driver.find_element_by_css_selector('._65Bje').click()\r\n",
    "        time.sleep(1)\r\n",
    "    except:\r\n",
    "        driver.find_element_by_css_selector('._65Bje').click()\r\n",
    "        time.sleep(1)"
   ],
   "outputs": [],
   "metadata": {}
  },
  {
   "cell_type": "code",
   "execution_count": 66,
   "source": [
    "df2 = pd.DataFrame(results, columns=['내용', '태그', '일시', '좋아요', '장소'])\r\n",
    "df2"
   ],
   "outputs": [
    {
     "output_type": "execute_result",
     "data": {
      "text/plain": [
       "                                                    내용  \\\n",
       "0    ▪️배 안나온다고 체중이 늘지 않는다고쓸데없이 걱정했던 지난날을 반성하며 ㅋㅋ출산이...   \n",
       "1    💫.초록색 가득.카페 초록달과자점제주 제주시 애월읍 납읍로2길 35-4.#드디어나도...   \n",
       "2    굄 GOEM스마일 굄~~오늘도 오픈!!어서와~~•카페 겸 펍•소형 반려견 동반 가능...   \n",
       "3    #일상 으로 돌아온지 이틀째☺️다시 #제주도 보내주세,, 아니 회원님들 오래간만에 ...   \n",
       "4                #감귤국__감귤국 여행기✈️승준이가 좋아하는 사진📸오늘은 200일🎉   \n",
       "..                                                 ...   \n",
       "195  내 아지트 💕잠시 멍 타임 가진 후 나의 할 일에 집중📖오랫만에 청귤 파치사서 오랫...   \n",
       "196                              -이제 물놀이는 끝난것인가..#제주앓이   \n",
       "197  지금은 우도, 6년만에 오니 진짜 너무 좋다 그대로인 가게들도 있구🤍 비온다더니 날...   \n",
       "198                                   케이스주문은 프로필링크 클릭!   \n",
       "199                                   케이스주문은 프로필링크 클릭!   \n",
       "\n",
       "                                                    태그          일시  좋아요  \\\n",
       "0           [#제주여행, #태교여행, #법환바다안정기시절.., #임신10개월, #만삭]  2021-08-19  524   \n",
       "1                               [#드디어나도🙌, #이런곳에서살고싶다🏡]  2021-08-19  709   \n",
       "2                                                   []  2021-08-18  119   \n",
       "3                           [#일상, #제주도, #혜프로tv, #제주여행]  2021-08-18  770   \n",
       "4                                          [#감귤국__감귤국]  2021-08-18  133   \n",
       "..                                                 ...         ...  ...   \n",
       "195  [#일상, #일상그램, #제주살이, #제주도민일상, #커피, #아아, #coffee...  2021-08-19   14   \n",
       "196                                            [#제주앓이]  2021-08-19   64   \n",
       "197                                                 []  2021-08-19   13   \n",
       "198                                                 []  2021-08-19    0   \n",
       "199                                                 []  2021-08-19    0   \n",
       "\n",
       "                                장소  \n",
       "0                             법환바다  \n",
       "1                           초록달과자점  \n",
       "2                           굄 GOEM  \n",
       "3                           보목해녀의집  \n",
       "4                           도두해안도로  \n",
       "..                             ...  \n",
       "195                                 \n",
       "196             Busan, South Korea  \n",
       "197  우도 牛岛 Udo Island, South Korea  \n",
       "198                                 \n",
       "199                                 \n",
       "\n",
       "[200 rows x 5 columns]"
      ],
      "text/html": [
       "<div>\n",
       "<style scoped>\n",
       "    .dataframe tbody tr th:only-of-type {\n",
       "        vertical-align: middle;\n",
       "    }\n",
       "\n",
       "    .dataframe tbody tr th {\n",
       "        vertical-align: top;\n",
       "    }\n",
       "\n",
       "    .dataframe thead th {\n",
       "        text-align: right;\n",
       "    }\n",
       "</style>\n",
       "<table border=\"1\" class=\"dataframe\">\n",
       "  <thead>\n",
       "    <tr style=\"text-align: right;\">\n",
       "      <th></th>\n",
       "      <th>내용</th>\n",
       "      <th>태그</th>\n",
       "      <th>일시</th>\n",
       "      <th>좋아요</th>\n",
       "      <th>장소</th>\n",
       "    </tr>\n",
       "  </thead>\n",
       "  <tbody>\n",
       "    <tr>\n",
       "      <th>0</th>\n",
       "      <td>▪️배 안나온다고 체중이 늘지 않는다고쓸데없이 걱정했던 지난날을 반성하며 ㅋㅋ출산이...</td>\n",
       "      <td>[#제주여행, #태교여행, #법환바다안정기시절.., #임신10개월, #만삭]</td>\n",
       "      <td>2021-08-19</td>\n",
       "      <td>524</td>\n",
       "      <td>법환바다</td>\n",
       "    </tr>\n",
       "    <tr>\n",
       "      <th>1</th>\n",
       "      <td>💫.초록색 가득.카페 초록달과자점제주 제주시 애월읍 납읍로2길 35-4.#드디어나도...</td>\n",
       "      <td>[#드디어나도🙌, #이런곳에서살고싶다🏡]</td>\n",
       "      <td>2021-08-19</td>\n",
       "      <td>709</td>\n",
       "      <td>초록달과자점</td>\n",
       "    </tr>\n",
       "    <tr>\n",
       "      <th>2</th>\n",
       "      <td>굄 GOEM스마일 굄~~오늘도 오픈!!어서와~~•카페 겸 펍•소형 반려견 동반 가능...</td>\n",
       "      <td>[]</td>\n",
       "      <td>2021-08-18</td>\n",
       "      <td>119</td>\n",
       "      <td>굄 GOEM</td>\n",
       "    </tr>\n",
       "    <tr>\n",
       "      <th>3</th>\n",
       "      <td>#일상 으로 돌아온지 이틀째☺️다시 #제주도 보내주세,, 아니 회원님들 오래간만에 ...</td>\n",
       "      <td>[#일상, #제주도, #혜프로tv, #제주여행]</td>\n",
       "      <td>2021-08-18</td>\n",
       "      <td>770</td>\n",
       "      <td>보목해녀의집</td>\n",
       "    </tr>\n",
       "    <tr>\n",
       "      <th>4</th>\n",
       "      <td>#감귤국__감귤국 여행기✈️승준이가 좋아하는 사진📸오늘은 200일🎉</td>\n",
       "      <td>[#감귤국__감귤국]</td>\n",
       "      <td>2021-08-18</td>\n",
       "      <td>133</td>\n",
       "      <td>도두해안도로</td>\n",
       "    </tr>\n",
       "    <tr>\n",
       "      <th>...</th>\n",
       "      <td>...</td>\n",
       "      <td>...</td>\n",
       "      <td>...</td>\n",
       "      <td>...</td>\n",
       "      <td>...</td>\n",
       "    </tr>\n",
       "    <tr>\n",
       "      <th>195</th>\n",
       "      <td>내 아지트 💕잠시 멍 타임 가진 후 나의 할 일에 집중📖오랫만에 청귤 파치사서 오랫...</td>\n",
       "      <td>[#일상, #일상그램, #제주살이, #제주도민일상, #커피, #아아, #coffee...</td>\n",
       "      <td>2021-08-19</td>\n",
       "      <td>14</td>\n",
       "      <td></td>\n",
       "    </tr>\n",
       "    <tr>\n",
       "      <th>196</th>\n",
       "      <td>-이제 물놀이는 끝난것인가..#제주앓이</td>\n",
       "      <td>[#제주앓이]</td>\n",
       "      <td>2021-08-19</td>\n",
       "      <td>64</td>\n",
       "      <td>Busan, South Korea</td>\n",
       "    </tr>\n",
       "    <tr>\n",
       "      <th>197</th>\n",
       "      <td>지금은 우도, 6년만에 오니 진짜 너무 좋다 그대로인 가게들도 있구🤍 비온다더니 날...</td>\n",
       "      <td>[]</td>\n",
       "      <td>2021-08-19</td>\n",
       "      <td>13</td>\n",
       "      <td>우도 牛岛 Udo Island, South Korea</td>\n",
       "    </tr>\n",
       "    <tr>\n",
       "      <th>198</th>\n",
       "      <td>케이스주문은 프로필링크 클릭!</td>\n",
       "      <td>[]</td>\n",
       "      <td>2021-08-19</td>\n",
       "      <td>0</td>\n",
       "      <td></td>\n",
       "    </tr>\n",
       "    <tr>\n",
       "      <th>199</th>\n",
       "      <td>케이스주문은 프로필링크 클릭!</td>\n",
       "      <td>[]</td>\n",
       "      <td>2021-08-19</td>\n",
       "      <td>0</td>\n",
       "      <td></td>\n",
       "    </tr>\n",
       "  </tbody>\n",
       "</table>\n",
       "<p>200 rows × 5 columns</p>\n",
       "</div>"
      ]
     },
     "metadata": {},
     "execution_count": 66
    }
   ],
   "metadata": {}
  },
  {
   "cell_type": "code",
   "execution_count": 67,
   "source": [
    "df2.to_csv('data/제주여행.csv', index=False)"
   ],
   "outputs": [],
   "metadata": {}
  },
  {
   "cell_type": "code",
   "execution_count": 68,
   "source": [
    "driver.close()"
   ],
   "outputs": [],
   "metadata": {}
  },
  {
   "cell_type": "code",
   "execution_count": null,
   "source": [
    "'''\r\n",
    "for keyword in ['제주도맛집', '제주맛집', '제주도관광', '제주여행']:\r\n",
    "    url = f'{search_url}{quote(keyword)}'\r\n",
    "    driver.get(url)\r\n",
    "    time.sleep(5)\r\n",
    "    driver.find_element_by_css_selector('div._9AhH0').click()\r\n",
    "    time.sleep(2)\r\n",
    "\r\n",
    "    results = []\r\n",
    "    for _ in tqdm(range(200)):\r\n",
    "        try:\r\n",
    "            row = get_content(driver)\r\n",
    "            results.append(row)\r\n",
    "            driver.find_element_by_css_selector('a._65Bje.coreSpriteRightPaginationArrow').click()\r\n",
    "            time.sleep(2)\r\n",
    "        except:\r\n",
    "            time.sleep(3)\r\n",
    "            driver.find_element_by_css_selector('a._65Bje.coreSpriteRightPaginationArrow').click()\r\n",
    "            time.sleep(2)\r\n",
    "\r\n",
    "    df = pd.DataFrame(results, columns=['content','date','like','place','tags'])\r\n",
    "    df.to_csv(f'data/{keyword}.csv', index=False)\r\n",
    "\r\n",
    "    driver.find_element_by_xpath('/html/body/div[6]/div[3]/button').click()\r\n",
    "    time.sleep(2)\r\n",
    "    '''"
   ],
   "outputs": [],
   "metadata": {}
  },
  {
   "cell_type": "code",
   "execution_count": null,
   "source": [],
   "outputs": [],
   "metadata": {}
  }
 ],
 "metadata": {
  "orig_nbformat": 4,
  "language_info": {
   "name": "python",
   "version": "3.8.10",
   "mimetype": "text/x-python",
   "codemirror_mode": {
    "name": "ipython",
    "version": 3
   },
   "pygments_lexer": "ipython3",
   "nbconvert_exporter": "python",
   "file_extension": ".py"
  },
  "kernelspec": {
   "name": "python3",
   "display_name": "Python 3.8.10 64-bit ('base': conda)"
  },
  "interpreter": {
   "hash": "345fc451c7e0336b9390ad1fad588039702f89ec6d37597eff879e480e25ffdb"
  }
 },
 "nbformat": 4,
 "nbformat_minor": 2
}
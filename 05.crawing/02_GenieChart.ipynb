{
 "cells": [
  {
   "cell_type": "markdown",
   "source": [
    "# Genie Top 200 Chart"
   ],
   "metadata": {}
  },
  {
   "cell_type": "code",
   "execution_count": 18,
   "source": [
    "import requests\r\n",
    "import pandas as pd"
   ],
   "outputs": [],
   "metadata": {}
  },
  {
   "cell_type": "code",
   "execution_count": 19,
   "source": [
    "# Genie Top 200\r\n",
    "url = 'https://www.genie.co.kr/chart/top200'\r\n",
    "req = requests.get(url) #json 안붙는거는 json으로 가지고 오지 않기 때문\r\n",
    "html = req.text\r\n",
    "html #블럭되었다"
   ],
   "outputs": [
    {
     "output_type": "execute_result",
     "data": {
      "text/plain": [
       "'<br>\\r\\n<br>\\r\\n<center>\\r\\n<img src=\"http://www.geniemusic.co.kr/images/common/logo_r1.png\"><br>\\r\\n<h2> <meta http-equiv=\"Content-Type\" content=\"text/html;charset=UTF-8\"> ì\\xa0\\x91ì\\x86\\x8dì\\x9a\\x94ì²\\xadì\\x9d´ ë³´ì\\x95\\x88ì\\xa0\\x95ì±\\x85ì\\x97\\x90 ì\\x9d\\x98í\\x95´ ì°¨ë\\x8b¨ë\\x90\\x98ì\\x97\\x88ì\\x8aµë\\x8b\\x88ë\\x8b¤. ë\\x8b¹ì\\x82¬ ê³\\xa0ê°\\x9dì\\x84¼í\\x84°ë¡\\x9c ë¬¸ì\\x9d\\x98í\\x95´ì£¼ì\\x8b\\xadì\\x8b\\x9cì\\x98¤.<br><br>\\r\\nThe security policy of the connection request is blocked. Contact your customer service representative.<br><br>\\r\\nì§\\x80ë\\x8b\\x88ë®¤ì§\\x81 ê³\\xa0ê°\\x9dì\\x84¼í\\x84° 1577-5337<br><br>\\r\\n</h2>\\r\\n</center>\\r\\n<br>'"
      ]
     },
     "metadata": {},
     "execution_count": 19
    }
   ],
   "metadata": {}
  },
  {
   "cell_type": "code",
   "execution_count": 21,
   "source": [
    "#chrome user agent 검색 : header user-agent\r\n",
    "header = {'User-Agent' :    \r\n",
    "            'Mozilla/5.0 (X11; Linux x86_64) AppleWebKit/537.36 (KHTML, like Gecko) Chrome/51.0.2704.103 Safari/537.36'}\r\n",
    "req = requests.get(url, headers=header)\r\n",
    "html = req.text"
   ],
   "outputs": [],
   "metadata": {}
  },
  {
   "cell_type": "code",
   "execution_count": 24,
   "source": [
    "from bs4 import BeautifulSoup\r\n",
    "\r\n",
    "soup = BeautifulSoup(html,'html.parser')"
   ],
   "outputs": [],
   "metadata": {}
  },
  {
   "cell_type": "code",
   "execution_count": 27,
   "source": [
    "table = soup.select_one('table.list-wrap')\r\n",
    "trs = table.select('tr.list')\r\n",
    "len(trs)"
   ],
   "outputs": [
    {
     "output_type": "execute_result",
     "data": {
      "text/plain": [
       "50"
      ]
     },
     "metadata": {},
     "execution_count": 27
    }
   ],
   "metadata": {}
  },
  {
   "cell_type": "code",
   "execution_count": 30,
   "source": [
    "trs = soup.select('tr.list')\r\n",
    "len(trs)"
   ],
   "outputs": [
    {
     "output_type": "execute_result",
     "data": {
      "text/plain": [
       "50"
      ]
     },
     "metadata": {},
     "execution_count": 30
    }
   ],
   "metadata": {}
  },
  {
   "cell_type": "markdown",
   "source": [
    "## 3. 여러개의 데이중 하나를 선택해서 원하는 정보 추출\r\n",
    "- rank, title, album 찾기"
   ],
   "metadata": {}
  },
  {
   "cell_type": "code",
   "execution_count": 31,
   "source": [
    "tr = trs[0]\r\n",
    "#rank\r\n",
    "tr.select_one('.number').get_text() #지저분하게 나온다"
   ],
   "outputs": [
    {
     "output_type": "execute_result",
     "data": {
      "text/plain": [
       "'1\\n                                        \\n                                    \\n유지\\n\\n'"
      ]
     },
     "metadata": {},
     "execution_count": 31
    }
   ],
   "metadata": {}
  },
  {
   "cell_type": "code",
   "execution_count": 32,
   "source": [
    "tr.select_one('.number').get_text().split('\\n')[0]"
   ],
   "outputs": [
    {
     "output_type": "execute_result",
     "data": {
      "text/plain": [
       "'1'"
      ]
     },
     "metadata": {},
     "execution_count": 32
    }
   ],
   "metadata": {}
  },
  {
   "cell_type": "code",
   "execution_count": 34,
   "source": [
    "rank = int(tr.select_one('.number').get_text().split('\\n')[0])\r\n",
    "rank"
   ],
   "outputs": [
    {
     "output_type": "execute_result",
     "data": {
      "text/plain": [
       "1"
      ]
     },
     "metadata": {},
     "execution_count": 34
    }
   ],
   "metadata": {}
  },
  {
   "cell_type": "code",
   "execution_count": 35,
   "source": [
    "# title 찾기\r\n",
    "tr.select_one('.info').find('a').get_text()"
   ],
   "outputs": [
    {
     "output_type": "execute_result",
     "data": {
      "text/plain": [
       "'\\n                                        \\n                                            \\n                                        \\n                                        \\n                                        \\n                                        \\n                                            \\n                                                Queendom'"
      ]
     },
     "metadata": {},
     "execution_count": 35
    }
   ],
   "metadata": {}
  },
  {
   "cell_type": "code",
   "execution_count": 36,
   "source": [
    "title = tr.select_one('.info').find('a').get_text().strip()\r\n",
    "title"
   ],
   "outputs": [
    {
     "output_type": "execute_result",
     "data": {
      "text/plain": [
       "'Queendom'"
      ]
     },
     "metadata": {},
     "execution_count": 36
    }
   ],
   "metadata": {}
  },
  {
   "cell_type": "code",
   "execution_count": 38,
   "source": [
    "# 다른방식으로 타이틀가져오기\r\n",
    "title = tr.select_one('.info').select_one('.title').get_text().strip()\r\n",
    "title"
   ],
   "outputs": [
    {
     "output_type": "execute_result",
     "data": {
      "text/plain": [
       "'Queendom'"
      ]
     },
     "metadata": {},
     "execution_count": 38
    }
   ],
   "metadata": {}
  },
  {
   "cell_type": "code",
   "execution_count": 39,
   "source": [
    "artist = tr.select_one('.info').select_one('.artist').get_text().strip()\r\n",
    "artist"
   ],
   "outputs": [
    {
     "output_type": "execute_result",
     "data": {
      "text/plain": [
       "'Red Velvet (레드벨벳)'"
      ]
     },
     "metadata": {},
     "execution_count": 39
    }
   ],
   "metadata": {}
  },
  {
   "cell_type": "code",
   "execution_count": 42,
   "source": [
    "# album\r\n",
    "album = tr.select_one('.info').select_one('.albumtitle').get_text().strip()\r\n",
    "album"
   ],
   "outputs": [
    {
     "output_type": "execute_result",
     "data": {
      "text/plain": [
       "'Queendom - The 6th Mini Album'"
      ]
     },
     "metadata": {},
     "execution_count": 42
    }
   ],
   "metadata": {}
  },
  {
   "cell_type": "markdown",
   "source": [
    "## 한페이지에 있는 모든 데이터 반복문으록 가져오기"
   ],
   "metadata": {}
  },
  {
   "cell_type": "code",
   "execution_count": 43,
   "source": [
    "rank_list, title_list, artist_list, album_list =[], [], [], []\r\n",
    "\r\n",
    "for tr in trs:\r\n",
    "    rank = int(tr.select_one('.number').get_text().split('\\n')[0])\r\n",
    "    title = tr.select_one('.info').find('a').get_text().strip()\r\n",
    "    artist = tr.select_one('.info').select_one('.artist').get_text().strip()\r\n",
    "    album = tr.select_one('.info').select_one('.albumtitle').get_text().strip()\r\n",
    "    rank_list.append(rank)\r\n",
    "    title_list.append(title)\r\n",
    "    artist_list.append(artist)\r\n",
    "    album_list.append(album)\r\n",
    "    #이제 데이터 프레임화"
   ],
   "outputs": [],
   "metadata": {}
  },
  {
   "cell_type": "code",
   "execution_count": 44,
   "source": [
    "df = pd.DataFrame({\r\n",
    "    '순위' : rank_list,\r\n",
    "    '곡명' : title_list,\r\n",
    "    '가수' : artist_list,\r\n",
    "    '앨범' : album_list\r\n",
    "})\r\n",
    "df.tail()"
   ],
   "outputs": [
    {
     "output_type": "execute_result",
     "data": {
      "text/plain": [
       "    순위                                              곡명        가수  \\\n",
       "45  46  사이렌 Remix (Feat. UNEDUCATED KID & Paul Blanco)       호미들   \n",
       "46  47                                     어푸 (Ah puh)  아이유 (IU)   \n",
       "47  48                                      가을 우체국 앞에서       김대명   \n",
       "48  49                                    Life Goes On     방탄소년단   \n",
       "49  50                                         그대라는 사치       임영웅   \n",
       "\n",
       "                                      앨범  \n",
       "45                             사이렌 Remix  \n",
       "46                  IU 5th Album 'LILAC'  \n",
       "47  슬기로운 의사생활 시즌2 OST Part 2 (tvN 목요드라마)  \n",
       "48                                    BE  \n",
       "49                        사랑의 콜센타 PART62  "
      ],
      "text/html": [
       "<div>\n",
       "<style scoped>\n",
       "    .dataframe tbody tr th:only-of-type {\n",
       "        vertical-align: middle;\n",
       "    }\n",
       "\n",
       "    .dataframe tbody tr th {\n",
       "        vertical-align: top;\n",
       "    }\n",
       "\n",
       "    .dataframe thead th {\n",
       "        text-align: right;\n",
       "    }\n",
       "</style>\n",
       "<table border=\"1\" class=\"dataframe\">\n",
       "  <thead>\n",
       "    <tr style=\"text-align: right;\">\n",
       "      <th></th>\n",
       "      <th>순위</th>\n",
       "      <th>곡명</th>\n",
       "      <th>가수</th>\n",
       "      <th>앨범</th>\n",
       "    </tr>\n",
       "  </thead>\n",
       "  <tbody>\n",
       "    <tr>\n",
       "      <th>45</th>\n",
       "      <td>46</td>\n",
       "      <td>사이렌 Remix (Feat. UNEDUCATED KID &amp; Paul Blanco)</td>\n",
       "      <td>호미들</td>\n",
       "      <td>사이렌 Remix</td>\n",
       "    </tr>\n",
       "    <tr>\n",
       "      <th>46</th>\n",
       "      <td>47</td>\n",
       "      <td>어푸 (Ah puh)</td>\n",
       "      <td>아이유 (IU)</td>\n",
       "      <td>IU 5th Album 'LILAC'</td>\n",
       "    </tr>\n",
       "    <tr>\n",
       "      <th>47</th>\n",
       "      <td>48</td>\n",
       "      <td>가을 우체국 앞에서</td>\n",
       "      <td>김대명</td>\n",
       "      <td>슬기로운 의사생활 시즌2 OST Part 2 (tvN 목요드라마)</td>\n",
       "    </tr>\n",
       "    <tr>\n",
       "      <th>48</th>\n",
       "      <td>49</td>\n",
       "      <td>Life Goes On</td>\n",
       "      <td>방탄소년단</td>\n",
       "      <td>BE</td>\n",
       "    </tr>\n",
       "    <tr>\n",
       "      <th>49</th>\n",
       "      <td>50</td>\n",
       "      <td>그대라는 사치</td>\n",
       "      <td>임영웅</td>\n",
       "      <td>사랑의 콜센타 PART62</td>\n",
       "    </tr>\n",
       "  </tbody>\n",
       "</table>\n",
       "</div>"
      ]
     },
     "metadata": {},
     "execution_count": 44
    }
   ],
   "metadata": {}
  },
  {
   "cell_type": "code",
   "execution_count": 46,
   "source": [
    "lines = []\r\n",
    "for tr in trs:\r\n",
    "    rank = int(tr.select_one('.number').get_text().split('\\n')[0])\r\n",
    "    title = tr.select_one('.info').find('a').get_text().strip()\r\n",
    "    artist = tr.select_one('.info').select_one('.artist').get_text().strip()\r\n",
    "    album = tr.select_one('.info').select_one('.albumtitle').get_text().strip()\r\n",
    "    lines.append([rank, title, artist, album])"
   ],
   "outputs": [],
   "metadata": {}
  },
  {
   "cell_type": "code",
   "execution_count": 47,
   "source": [
    "df2 = pd.DataFrame(lines, columns=['순위', '곡명', '가수', '앨범'])\r\n",
    "df2.head()"
   ],
   "outputs": [
    {
     "output_type": "execute_result",
     "data": {
      "text/plain": [
       "   순위             곡명                 가수                             앨범\n",
       "0   1       Queendom  Red Velvet (레드벨벳)  Queendom - The 6th Mini Album\n",
       "1   2            신호등                이무진                            신호등\n",
       "2   3  낙하 (With 아이유)          AKMU (악뮤)                   NEXT EPISODE\n",
       "3   4         바라만 본다     MSG워너비 (M.O.M)                      MSG워너비 1집\n",
       "4   5        Weekend       태연 (TAEYEON)                        Weekend"
      ],
      "text/html": [
       "<div>\n",
       "<style scoped>\n",
       "    .dataframe tbody tr th:only-of-type {\n",
       "        vertical-align: middle;\n",
       "    }\n",
       "\n",
       "    .dataframe tbody tr th {\n",
       "        vertical-align: top;\n",
       "    }\n",
       "\n",
       "    .dataframe thead th {\n",
       "        text-align: right;\n",
       "    }\n",
       "</style>\n",
       "<table border=\"1\" class=\"dataframe\">\n",
       "  <thead>\n",
       "    <tr style=\"text-align: right;\">\n",
       "      <th></th>\n",
       "      <th>순위</th>\n",
       "      <th>곡명</th>\n",
       "      <th>가수</th>\n",
       "      <th>앨범</th>\n",
       "    </tr>\n",
       "  </thead>\n",
       "  <tbody>\n",
       "    <tr>\n",
       "      <th>0</th>\n",
       "      <td>1</td>\n",
       "      <td>Queendom</td>\n",
       "      <td>Red Velvet (레드벨벳)</td>\n",
       "      <td>Queendom - The 6th Mini Album</td>\n",
       "    </tr>\n",
       "    <tr>\n",
       "      <th>1</th>\n",
       "      <td>2</td>\n",
       "      <td>신호등</td>\n",
       "      <td>이무진</td>\n",
       "      <td>신호등</td>\n",
       "    </tr>\n",
       "    <tr>\n",
       "      <th>2</th>\n",
       "      <td>3</td>\n",
       "      <td>낙하 (With 아이유)</td>\n",
       "      <td>AKMU (악뮤)</td>\n",
       "      <td>NEXT EPISODE</td>\n",
       "    </tr>\n",
       "    <tr>\n",
       "      <th>3</th>\n",
       "      <td>4</td>\n",
       "      <td>바라만 본다</td>\n",
       "      <td>MSG워너비 (M.O.M)</td>\n",
       "      <td>MSG워너비 1집</td>\n",
       "    </tr>\n",
       "    <tr>\n",
       "      <th>4</th>\n",
       "      <td>5</td>\n",
       "      <td>Weekend</td>\n",
       "      <td>태연 (TAEYEON)</td>\n",
       "      <td>Weekend</td>\n",
       "    </tr>\n",
       "  </tbody>\n",
       "</table>\n",
       "</div>"
      ]
     },
     "metadata": {},
     "execution_count": 47
    }
   ],
   "metadata": {}
  },
  {
   "cell_type": "markdown",
   "source": [
    "## 5. 모든페이지에서 데이터 가져오기"
   ],
   "metadata": {}
  },
  {
   "cell_type": "code",
   "execution_count": 48,
   "source": [
    "rank_list, title_list, artist_list, album_list =[], [], [], []\r\n",
    "for page in range(1,5):\r\n",
    "    url = f'https://www.genie.co.kr/chart/top200?ditc=D&ymd=20210817&hh=14&rtm=Y&pg={page}'\r\n",
    "    req = requests.get(url, headers=header) #header는 위에 있다\r\n",
    "    html = req.text\r\n",
    "    soup = BeautifulSoup(html,'html.parser') #페이지 가져왔으면 읽어야지\r\n",
    "    trs = soup.select('tr.list') #그다음 찾고자하는 리스트 찾아야지\r\n",
    "    for tr in trs:\r\n",
    "        rank = int(tr.select_one('.number').get_text().split('\\n')[0])\r\n",
    "        title = tr.select_one('.info').find('a').get_text().strip()\r\n",
    "        artist = tr.select_one('.info').select_one('.artist').get_text().strip()\r\n",
    "        album = tr.select_one('.info').select_one('.albumtitle').get_text().strip()\r\n",
    "        rank_list.append(rank)\r\n",
    "        title_list.append(title)\r\n",
    "        artist_list.append(artist)\r\n",
    "        album_list.append(album)"
   ],
   "outputs": [],
   "metadata": {}
  },
  {
   "cell_type": "code",
   "execution_count": 56,
   "source": [
    "df = pd.DataFrame({\r\n",
    "    '순위' : rank_list,\r\n",
    "    '곡명' : title_list,\r\n",
    "    '가수' : artist_list,\r\n",
    "    '앨범' : album_list\r\n",
    "})\r\n",
    "df.head(5)"
   ],
   "outputs": [
    {
     "output_type": "execute_result",
     "data": {
      "text/plain": [
       "   순위             곡명                 가수                             앨범\n",
       "0   1       Queendom  Red Velvet (레드벨벳)  Queendom - The 6th Mini Album\n",
       "1   2            신호등                이무진                            신호등\n",
       "2   3  낙하 (With 아이유)          AKMU (악뮤)                   NEXT EPISODE\n",
       "3   4         바라만 본다     MSG워너비 (M.O.M)                      MSG워너비 1집\n",
       "4   5        Weekend       태연 (TAEYEON)                        Weekend"
      ],
      "text/html": [
       "<div>\n",
       "<style scoped>\n",
       "    .dataframe tbody tr th:only-of-type {\n",
       "        vertical-align: middle;\n",
       "    }\n",
       "\n",
       "    .dataframe tbody tr th {\n",
       "        vertical-align: top;\n",
       "    }\n",
       "\n",
       "    .dataframe thead th {\n",
       "        text-align: right;\n",
       "    }\n",
       "</style>\n",
       "<table border=\"1\" class=\"dataframe\">\n",
       "  <thead>\n",
       "    <tr style=\"text-align: right;\">\n",
       "      <th></th>\n",
       "      <th>순위</th>\n",
       "      <th>곡명</th>\n",
       "      <th>가수</th>\n",
       "      <th>앨범</th>\n",
       "    </tr>\n",
       "  </thead>\n",
       "  <tbody>\n",
       "    <tr>\n",
       "      <th>0</th>\n",
       "      <td>1</td>\n",
       "      <td>Queendom</td>\n",
       "      <td>Red Velvet (레드벨벳)</td>\n",
       "      <td>Queendom - The 6th Mini Album</td>\n",
       "    </tr>\n",
       "    <tr>\n",
       "      <th>1</th>\n",
       "      <td>2</td>\n",
       "      <td>신호등</td>\n",
       "      <td>이무진</td>\n",
       "      <td>신호등</td>\n",
       "    </tr>\n",
       "    <tr>\n",
       "      <th>2</th>\n",
       "      <td>3</td>\n",
       "      <td>낙하 (With 아이유)</td>\n",
       "      <td>AKMU (악뮤)</td>\n",
       "      <td>NEXT EPISODE</td>\n",
       "    </tr>\n",
       "    <tr>\n",
       "      <th>3</th>\n",
       "      <td>4</td>\n",
       "      <td>바라만 본다</td>\n",
       "      <td>MSG워너비 (M.O.M)</td>\n",
       "      <td>MSG워너비 1집</td>\n",
       "    </tr>\n",
       "    <tr>\n",
       "      <th>4</th>\n",
       "      <td>5</td>\n",
       "      <td>Weekend</td>\n",
       "      <td>태연 (TAEYEON)</td>\n",
       "      <td>Weekend</td>\n",
       "    </tr>\n",
       "  </tbody>\n",
       "</table>\n",
       "</div>"
      ]
     },
     "metadata": {},
     "execution_count": 56
    }
   ],
   "metadata": {}
  },
  {
   "cell_type": "code",
   "execution_count": 57,
   "source": [
    "df.to_csv('GenieTop200(210817.csv', index=False)"
   ],
   "outputs": [],
   "metadata": {}
  }
 ],
 "metadata": {
  "orig_nbformat": 4,
  "language_info": {
   "name": "python",
   "version": "3.8.10",
   "mimetype": "text/x-python",
   "codemirror_mode": {
    "name": "ipython",
    "version": 3
   },
   "pygments_lexer": "ipython3",
   "nbconvert_exporter": "python",
   "file_extension": ".py"
  },
  "kernelspec": {
   "name": "python3",
   "display_name": "Python 3.8.10 64-bit ('base': conda)"
  },
  "interpreter": {
   "hash": "345fc451c7e0336b9390ad1fad588039702f89ec6d37597eff879e480e25ffdb"
  }
 },
 "nbformat": 4,
 "nbformat_minor": 2
}
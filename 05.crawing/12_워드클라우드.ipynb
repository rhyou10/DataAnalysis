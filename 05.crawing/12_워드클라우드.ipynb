{
 "cells": [
  {
   "cell_type": "markdown",
   "source": [
    "# 해시태그 데이터로 워드 클라우드 만들기"
   ],
   "metadata": {}
  },
  {
   "cell_type": "code",
   "execution_count": 1,
   "source": [
    "import pandas as pd\r\n",
    "import matplotlib as mpl\r\n",
    "import matplotlib.pyplot as plt\r\n",
    "mpl.rcParams['axes.unicode_minus'] = False\r\n",
    "plt.rc('font', family='Malgun Gothic')"
   ],
   "outputs": [],
   "metadata": {}
  },
  {
   "cell_type": "code",
   "execution_count": 2,
   "source": [
    "raw_df = pd.read_csv('data/제주핫플레이스.csv')"
   ],
   "outputs": [],
   "metadata": {}
  },
  {
   "cell_type": "code",
   "execution_count": 3,
   "source": [
    "raw_df.tags[:3]"
   ],
   "outputs": [
    {
     "output_type": "execute_result",
     "data": {
      "text/plain": [
       "0    ['#제주핫플레이스', '#제주여행', '#제주여행', '#제주도여행', '#제주가...\n",
       "1    ['#제주핫플', '#제주여행', '#제주', '#제주도', '#제주도맛집', '#...\n",
       "2    ['#honestin', '#어니스틴', '#제주여행', '#제주', '#제주도',...\n",
       "Name: tags, dtype: object"
      ]
     },
     "metadata": {},
     "execution_count": 3
    }
   ],
   "metadata": {}
  },
  {
   "cell_type": "code",
   "execution_count": 4,
   "source": [
    "tags =raw_df.tags[0]\r\n",
    "tags"
   ],
   "outputs": [
    {
     "output_type": "execute_result",
     "data": {
      "text/plain": [
       "\"['#제주핫플레이스', '#제주여행', '#제주여행', '#제주도여행', '#제주가볼만한곳', '#제주도핫플', '#제주여행코스', '#제주공항', '#제주도맛집', '#제주맛집', '#제주스냅', '#제주풍경', '#제주사진', '#제주카페', '#제주도카페', '#산굼부리', '#제주도바다', '#귤체험', '#우도', '#제주관광', '#제주도여향지', '#제주여행중', '#삼육오빠', '#제주앓이']\""
      ]
     },
     "metadata": {},
     "execution_count": 4
    }
   ],
   "metadata": {}
  },
  {
   "cell_type": "code",
   "execution_count": 5,
   "source": [
    "#태그스 분리 리스트화\r\n",
    "tags[2:-2].split(\"', '\")[:5]"
   ],
   "outputs": [
    {
     "output_type": "execute_result",
     "data": {
      "text/plain": [
       "['#제주핫플레이스', '#제주여행', '#제주여행', '#제주도여행', '#제주가볼만한곳']"
      ]
     },
     "metadata": {},
     "execution_count": 5
    }
   ],
   "metadata": {}
  },
  {
   "cell_type": "code",
   "execution_count": 6,
   "source": [
    "a = ['#시작']\r\n",
    "a.extend(tags[2:-2].split(\"', '\")[:5])\r\n",
    "a"
   ],
   "outputs": [
    {
     "output_type": "execute_result",
     "data": {
      "text/plain": [
       "['#시작', '#제주핫플레이스', '#제주여행', '#제주여행', '#제주도여행', '#제주가볼만한곳']"
      ]
     },
     "metadata": {},
     "execution_count": 6
    }
   ],
   "metadata": {}
  },
  {
   "cell_type": "code",
   "execution_count": 7,
   "source": [
    "tags_total =[]\r\n",
    "for tags in raw_df.tags:\r\n",
    "    tags_total.extend(tags[2:-2].split(\"', '\"))"
   ],
   "outputs": [],
   "metadata": {}
  },
  {
   "cell_type": "markdown",
   "source": [
    "## 해시태그 출현 빈도"
   ],
   "metadata": {}
  },
  {
   "cell_type": "markdown",
   "source": [
    "## 참고 collections 모듈"
   ],
   "metadata": {}
  },
  {
   "cell_type": "code",
   "execution_count": 8,
   "source": [
    "from collections import Counter, OrderedDict"
   ],
   "outputs": [],
   "metadata": {}
  },
  {
   "cell_type": "code",
   "execution_count": 9,
   "source": [
    "s= 'a quick brown fox '\r\n",
    "Counter(s) #문자 숫자 세준다"
   ],
   "outputs": [
    {
     "output_type": "execute_result",
     "data": {
      "text/plain": [
       "Counter({'a': 1,\n",
       "         ' ': 4,\n",
       "         'q': 1,\n",
       "         'u': 1,\n",
       "         'i': 1,\n",
       "         'c': 1,\n",
       "         'k': 1,\n",
       "         'b': 1,\n",
       "         'r': 1,\n",
       "         'o': 2,\n",
       "         'w': 1,\n",
       "         'n': 1,\n",
       "         'f': 1,\n",
       "         'x': 1})"
      ]
     },
     "metadata": {},
     "execution_count": 9
    }
   ],
   "metadata": {}
  },
  {
   "cell_type": "code",
   "execution_count": 10,
   "source": [
    "sl = ['A', 'quick', 'brown', 'brown']\r\n",
    "Counter(sl) #단어의 개수 "
   ],
   "outputs": [
    {
     "output_type": "execute_result",
     "data": {
      "text/plain": [
       "Counter({'A': 1, 'quick': 1, 'brown': 2})"
      ]
     },
     "metadata": {},
     "execution_count": 10
    }
   ],
   "metadata": {}
  },
  {
   "cell_type": "code",
   "execution_count": 11,
   "source": [
    "d = dict() #정렬되어서 들어간다\r\n",
    "d['x'] = 1\r\n",
    "d['k'] = 2\r\n",
    "d['m'] = 3\r\n",
    "d #출력은 다르지만 그런경우 있다"
   ],
   "outputs": [
    {
     "output_type": "execute_result",
     "data": {
      "text/plain": [
       "{'x': 1, 'k': 2, 'm': 3}"
      ]
     },
     "metadata": {},
     "execution_count": 11
    }
   ],
   "metadata": {}
  },
  {
   "cell_type": "code",
   "execution_count": 12,
   "source": [
    "od = OrderedDict() #순서에 맞게 넣어준다\r\n",
    "od['x'] = 1\r\n",
    "od['k'] = 2\r\n",
    "od['m'] = 3\r\n",
    "od"
   ],
   "outputs": [
    {
     "output_type": "execute_result",
     "data": {
      "text/plain": [
       "OrderedDict([('x', 1), ('k', 2), ('m', 3)])"
      ]
     },
     "metadata": {},
     "execution_count": 12
    }
   ],
   "metadata": {}
  },
  {
   "cell_type": "markdown",
   "source": [
    "## 해시태그 빈도 집계"
   ],
   "metadata": {}
  },
  {
   "cell_type": "code",
   "execution_count": 13,
   "source": [
    "tag_counts = Counter(tags_total)"
   ],
   "outputs": [],
   "metadata": {}
  },
  {
   "cell_type": "code",
   "execution_count": 14,
   "source": [
    "# top 50\r\n",
    "tag_counts.most_common(50) #딕셔너리여서 이렇게 본다"
   ],
   "outputs": [
    {
     "output_type": "execute_result",
     "data": {
      "text/plain": [
       "[('#제주맛집', 3412),\n",
       " ('#제주도맛집', 3149),\n",
       " ('#제주여행', 3020),\n",
       " ('#제주관광', 2827),\n",
       " ('#제주도', 2053),\n",
       " ('#제주', 1538),\n",
       " ('#제주도여행', 1454),\n",
       " ('#서귀포맛집', 1330),\n",
       " ('#제주도가볼만한곳', 1014),\n",
       " ('#제주핫플레이스', 835),\n",
       " ('#서귀포', 825),\n",
       " ('#jeju', 749),\n",
       " ('#일상', 701),\n",
       " ('#제주흑돼지맛집', 685),\n",
       " ('#제주맛집추천', 675),\n",
       " ('#제주도흑돼지맛집', 669),\n",
       " ('#제주도흑돼지', 663),\n",
       " ('#성산일출봉', 650),\n",
       " ('#제주흑돼지', 648),\n",
       " ('#협재맛집', 602),\n",
       " ('#제주카페', 600),\n",
       " ('#제주도그램', 594),\n",
       " ('#서귀포흑돼지맛집', 593),\n",
       " ('', 587),\n",
       " ('#서귀포흑돼지', 577),\n",
       " ('#제주도민', 570),\n",
       " ('#섭지코지', 556),\n",
       " ('#성산일출봉맛집', 545),\n",
       " ('#섭지코지맛집', 511),\n",
       " ('#선팔', 503),\n",
       " ('#제주가볼만한곳', 497),\n",
       " ('#통갈치구이', 494),\n",
       " ('#제주통갈치구이', 485),\n",
       " ('#제주핫플', 483),\n",
       " ('#제주살이', 480),\n",
       " ('#제주서귀포맛집', 479),\n",
       " ('#제주도민맛집', 477),\n",
       " ('#여행스타그램', 472),\n",
       " ('#제주반영구', 440),\n",
       " ('#제주도관광', 440),\n",
       " ('#여행', 436),\n",
       " ('#제주눈썹문신', 434),\n",
       " ('#서귀포눈썹문신', 420),\n",
       " ('#제주시', 419),\n",
       " ('#제주스타그램', 408),\n",
       " ('#반영구', 405),\n",
       " ('#눈썹문신', 405),\n",
       " ('#중문맛집', 404),\n",
       " ('#제주일상', 398),\n",
       " ('#제주자연눈썹', 397)]"
      ]
     },
     "metadata": {},
     "execution_count": 14
    }
   ],
   "metadata": {}
  },
  {
   "cell_type": "code",
   "execution_count": 15,
   "source": [
    "# 데이터 정제하기\r\n",
    "stopwords = ['#jeju', '#일상', '', '#제주', '#제주도', '#선팔',\r\n",
    "                '#제주눈썹문신', '#서귀포눈썹문신', '#반영구',\r\n",
    "                '#눈썹문신', '#제주자연눈썹'] #불필요 데이터\r\n",
    "'''\r\n",
    "tag_total_refind =[] #정제된 데이터 담을곳\r\n",
    "for tag in tags_total:\r\n",
    "    if tag not in stopwords:\r\n",
    "        tag_total_refind.append(tag)\r\n",
    "        '''"
   ],
   "outputs": [
    {
     "output_type": "execute_result",
     "data": {
      "text/plain": [
       "'\\ntag_total_refind =[] #정제된 데이터 담을곳\\nfor tag in tags_total:\\n    if tag not in stopwords:\\n        tag_total_refind.append(tag)\\n        '"
      ]
     },
     "metadata": {},
     "execution_count": 15
    }
   ],
   "metadata": {}
  },
  {
   "cell_type": "code",
   "execution_count": 16,
   "source": [
    "tags_total = [tag for tag in tags_total if tag not in stopwords]\r\n",
    "tag_counts = Counter(tags_total)\r\n",
    "tag_counts.most_common(50) #정제할 것이 많다"
   ],
   "outputs": [
    {
     "output_type": "execute_result",
     "data": {
      "text/plain": [
       "[('#제주맛집', 3412),\n",
       " ('#제주도맛집', 3149),\n",
       " ('#제주여행', 3020),\n",
       " ('#제주관광', 2827),\n",
       " ('#제주도여행', 1454),\n",
       " ('#서귀포맛집', 1330),\n",
       " ('#제주도가볼만한곳', 1014),\n",
       " ('#제주핫플레이스', 835),\n",
       " ('#서귀포', 825),\n",
       " ('#제주흑돼지맛집', 685),\n",
       " ('#제주맛집추천', 675),\n",
       " ('#제주도흑돼지맛집', 669),\n",
       " ('#제주도흑돼지', 663),\n",
       " ('#성산일출봉', 650),\n",
       " ('#제주흑돼지', 648),\n",
       " ('#협재맛집', 602),\n",
       " ('#제주카페', 600),\n",
       " ('#제주도그램', 594),\n",
       " ('#서귀포흑돼지맛집', 593),\n",
       " ('#서귀포흑돼지', 577),\n",
       " ('#제주도민', 570),\n",
       " ('#섭지코지', 556),\n",
       " ('#성산일출봉맛집', 545),\n",
       " ('#섭지코지맛집', 511),\n",
       " ('#제주가볼만한곳', 497),\n",
       " ('#통갈치구이', 494),\n",
       " ('#제주통갈치구이', 485),\n",
       " ('#제주핫플', 483),\n",
       " ('#제주살이', 480),\n",
       " ('#제주서귀포맛집', 479),\n",
       " ('#제주도민맛집', 477),\n",
       " ('#여행스타그램', 472),\n",
       " ('#제주반영구', 440),\n",
       " ('#제주도관광', 440),\n",
       " ('#여행', 436),\n",
       " ('#제주시', 419),\n",
       " ('#제주스타그램', 408),\n",
       " ('#중문맛집', 404),\n",
       " ('#제주일상', 398),\n",
       " ('#제주속눈썹', 397),\n",
       " ('#서귀포남자눈썹문신', 395),\n",
       " ('#서귀포자연눈썹', 395),\n",
       " ('#제주남자눈썹문신', 395),\n",
       " ('#서귀포속눈썹', 395),\n",
       " ('#서귀포반영구', 395),\n",
       " ('#먹스타그램', 395),\n",
       " ('#맞팔', 388),\n",
       " ('#카멜리아힐', 379),\n",
       " ('#중문흑돼지맛집', 377),\n",
       " ('#소통', 374)]"
      ]
     },
     "metadata": {},
     "execution_count": 16
    }
   ],
   "metadata": {}
  },
  {
   "cell_type": "markdown",
   "source": [
    "## 워드 클라우드"
   ],
   "metadata": {}
  },
  {
   "cell_type": "code",
   "execution_count": 17,
   "source": [
    "from wordcloud import WordCloud"
   ],
   "outputs": [],
   "metadata": {}
  },
  {
   "cell_type": "code",
   "execution_count": 21,
   "source": [
    "wordcloud = WordCloud(background_color= 'white',\r\n",
    "                        max_words= 100,\r\n",
    "                        relative_scaling= 0.3,\r\n",
    "                        width=800, height=400,\r\n",
    "                        font_path= 'data/NanumGothic.ttf'\r\n",
    "                        ).generate_from_frequencies(tag_counts)\r\n",
    "\r\n",
    "plt.figure(figsize=(15,10))\r\n",
    "plt.imshow(wordcloud)\r\n",
    "plt.axis('off')\r\n",
    "plt.show()\r\n"
   ],
   "outputs": [
    {
     "output_type": "error",
     "ename": "OSError",
     "evalue": "cannot open resource",
     "traceback": [
      "\u001b[1;31m---------------------------------------------------------------------------\u001b[0m",
      "\u001b[1;31mOSError\u001b[0m                                   Traceback (most recent call last)",
      "\u001b[1;32m<ipython-input-21-5ba14a563189>\u001b[0m in \u001b[0;36m<module>\u001b[1;34m\u001b[0m\n\u001b[1;32m----> 1\u001b[1;33m wordcloud = WordCloud(background_color= 'white',\n\u001b[0m\u001b[0;32m      2\u001b[0m                         \u001b[0mmax_words\u001b[0m\u001b[1;33m=\u001b[0m \u001b[1;36m100\u001b[0m\u001b[1;33m,\u001b[0m\u001b[1;33m\u001b[0m\u001b[1;33m\u001b[0m\u001b[0m\n\u001b[0;32m      3\u001b[0m                         \u001b[0mrelative_scaling\u001b[0m\u001b[1;33m=\u001b[0m \u001b[1;36m0.3\u001b[0m\u001b[1;33m,\u001b[0m\u001b[1;33m\u001b[0m\u001b[1;33m\u001b[0m\u001b[0m\n\u001b[0;32m      4\u001b[0m                         \u001b[0mwidth\u001b[0m\u001b[1;33m=\u001b[0m\u001b[1;36m800\u001b[0m\u001b[1;33m,\u001b[0m \u001b[0mheight\u001b[0m\u001b[1;33m=\u001b[0m\u001b[1;36m400\u001b[0m\u001b[1;33m,\u001b[0m\u001b[1;33m\u001b[0m\u001b[1;33m\u001b[0m\u001b[0m\n\u001b[0;32m      5\u001b[0m                         \u001b[0mfont_path\u001b[0m\u001b[1;33m=\u001b[0m \u001b[1;34m'data/NanumGothic'\u001b[0m\u001b[1;33m\u001b[0m\u001b[1;33m\u001b[0m\u001b[0m\n",
      "\u001b[1;32m~\\anaconda3\\lib\\site-packages\\wordcloud\\wordcloud.py\u001b[0m in \u001b[0;36mgenerate_from_frequencies\u001b[1;34m(self, frequencies, max_font_size)\u001b[0m\n\u001b[0;32m    444\u001b[0m                 \u001b[0mfont_size\u001b[0m \u001b[1;33m=\u001b[0m \u001b[0mself\u001b[0m\u001b[1;33m.\u001b[0m\u001b[0mheight\u001b[0m\u001b[1;33m\u001b[0m\u001b[1;33m\u001b[0m\u001b[0m\n\u001b[0;32m    445\u001b[0m             \u001b[1;32melse\u001b[0m\u001b[1;33m:\u001b[0m\u001b[1;33m\u001b[0m\u001b[1;33m\u001b[0m\u001b[0m\n\u001b[1;32m--> 446\u001b[1;33m                 self.generate_from_frequencies(dict(frequencies[:2]),\n\u001b[0m\u001b[0;32m    447\u001b[0m                                                max_font_size=self.height)\n\u001b[0;32m    448\u001b[0m                 \u001b[1;31m# find font sizes\u001b[0m\u001b[1;33m\u001b[0m\u001b[1;33m\u001b[0m\u001b[1;33m\u001b[0m\u001b[0m\n",
      "\u001b[1;32m~\\anaconda3\\lib\\site-packages\\wordcloud\\wordcloud.py\u001b[0m in \u001b[0;36mgenerate_from_frequencies\u001b[1;34m(self, frequencies, max_font_size)\u001b[0m\n\u001b[0;32m    494\u001b[0m             \u001b[1;32mwhile\u001b[0m \u001b[1;32mTrue\u001b[0m\u001b[1;33m:\u001b[0m\u001b[1;33m\u001b[0m\u001b[1;33m\u001b[0m\u001b[0m\n\u001b[0;32m    495\u001b[0m                 \u001b[1;31m# try to find a position\u001b[0m\u001b[1;33m\u001b[0m\u001b[1;33m\u001b[0m\u001b[1;33m\u001b[0m\u001b[0m\n\u001b[1;32m--> 496\u001b[1;33m                 \u001b[0mfont\u001b[0m \u001b[1;33m=\u001b[0m \u001b[0mImageFont\u001b[0m\u001b[1;33m.\u001b[0m\u001b[0mtruetype\u001b[0m\u001b[1;33m(\u001b[0m\u001b[0mself\u001b[0m\u001b[1;33m.\u001b[0m\u001b[0mfont_path\u001b[0m\u001b[1;33m,\u001b[0m \u001b[0mfont_size\u001b[0m\u001b[1;33m)\u001b[0m\u001b[1;33m\u001b[0m\u001b[1;33m\u001b[0m\u001b[0m\n\u001b[0m\u001b[0;32m    497\u001b[0m                 \u001b[1;31m# transpose font optionally\u001b[0m\u001b[1;33m\u001b[0m\u001b[1;33m\u001b[0m\u001b[1;33m\u001b[0m\u001b[0m\n\u001b[0;32m    498\u001b[0m                 transposed_font = ImageFont.TransposedFont(\n",
      "\u001b[1;32m~\\anaconda3\\lib\\site-packages\\PIL\\ImageFont.py\u001b[0m in \u001b[0;36mtruetype\u001b[1;34m(font, size, index, encoding, layout_engine)\u001b[0m\n\u001b[0;32m    853\u001b[0m \u001b[1;33m\u001b[0m\u001b[0m\n\u001b[0;32m    854\u001b[0m     \u001b[1;32mtry\u001b[0m\u001b[1;33m:\u001b[0m\u001b[1;33m\u001b[0m\u001b[1;33m\u001b[0m\u001b[0m\n\u001b[1;32m--> 855\u001b[1;33m         \u001b[1;32mreturn\u001b[0m \u001b[0mfreetype\u001b[0m\u001b[1;33m(\u001b[0m\u001b[0mfont\u001b[0m\u001b[1;33m)\u001b[0m\u001b[1;33m\u001b[0m\u001b[1;33m\u001b[0m\u001b[0m\n\u001b[0m\u001b[0;32m    856\u001b[0m     \u001b[1;32mexcept\u001b[0m \u001b[0mOSError\u001b[0m\u001b[1;33m:\u001b[0m\u001b[1;33m\u001b[0m\u001b[1;33m\u001b[0m\u001b[0m\n\u001b[0;32m    857\u001b[0m         \u001b[1;32mif\u001b[0m \u001b[1;32mnot\u001b[0m \u001b[0misPath\u001b[0m\u001b[1;33m(\u001b[0m\u001b[0mfont\u001b[0m\u001b[1;33m)\u001b[0m\u001b[1;33m:\u001b[0m\u001b[1;33m\u001b[0m\u001b[1;33m\u001b[0m\u001b[0m\n",
      "\u001b[1;32m~\\anaconda3\\lib\\site-packages\\PIL\\ImageFont.py\u001b[0m in \u001b[0;36mfreetype\u001b[1;34m(font)\u001b[0m\n\u001b[0;32m    850\u001b[0m \u001b[1;33m\u001b[0m\u001b[0m\n\u001b[0;32m    851\u001b[0m     \u001b[1;32mdef\u001b[0m \u001b[0mfreetype\u001b[0m\u001b[1;33m(\u001b[0m\u001b[0mfont\u001b[0m\u001b[1;33m)\u001b[0m\u001b[1;33m:\u001b[0m\u001b[1;33m\u001b[0m\u001b[1;33m\u001b[0m\u001b[0m\n\u001b[1;32m--> 852\u001b[1;33m         \u001b[1;32mreturn\u001b[0m \u001b[0mFreeTypeFont\u001b[0m\u001b[1;33m(\u001b[0m\u001b[0mfont\u001b[0m\u001b[1;33m,\u001b[0m \u001b[0msize\u001b[0m\u001b[1;33m,\u001b[0m \u001b[0mindex\u001b[0m\u001b[1;33m,\u001b[0m \u001b[0mencoding\u001b[0m\u001b[1;33m,\u001b[0m \u001b[0mlayout_engine\u001b[0m\u001b[1;33m)\u001b[0m\u001b[1;33m\u001b[0m\u001b[1;33m\u001b[0m\u001b[0m\n\u001b[0m\u001b[0;32m    853\u001b[0m \u001b[1;33m\u001b[0m\u001b[0m\n\u001b[0;32m    854\u001b[0m     \u001b[1;32mtry\u001b[0m\u001b[1;33m:\u001b[0m\u001b[1;33m\u001b[0m\u001b[1;33m\u001b[0m\u001b[0m\n",
      "\u001b[1;32m~\\anaconda3\\lib\\site-packages\\PIL\\ImageFont.py\u001b[0m in \u001b[0;36m__init__\u001b[1;34m(self, font, size, index, encoding, layout_engine)\u001b[0m\n\u001b[0;32m    209\u001b[0m                         \u001b[0mload_from_bytes\u001b[0m\u001b[1;33m(\u001b[0m\u001b[0mf\u001b[0m\u001b[1;33m)\u001b[0m\u001b[1;33m\u001b[0m\u001b[1;33m\u001b[0m\u001b[0m\n\u001b[0;32m    210\u001b[0m                     \u001b[1;32mreturn\u001b[0m\u001b[1;33m\u001b[0m\u001b[1;33m\u001b[0m\u001b[0m\n\u001b[1;32m--> 211\u001b[1;33m             self.font = core.getfont(\n\u001b[0m\u001b[0;32m    212\u001b[0m                 \u001b[0mfont\u001b[0m\u001b[1;33m,\u001b[0m \u001b[0msize\u001b[0m\u001b[1;33m,\u001b[0m \u001b[0mindex\u001b[0m\u001b[1;33m,\u001b[0m \u001b[0mencoding\u001b[0m\u001b[1;33m,\u001b[0m \u001b[0mlayout_engine\u001b[0m\u001b[1;33m=\u001b[0m\u001b[0mlayout_engine\u001b[0m\u001b[1;33m\u001b[0m\u001b[1;33m\u001b[0m\u001b[0m\n\u001b[0;32m    213\u001b[0m             )\n",
      "\u001b[1;31mOSError\u001b[0m: cannot open resource"
     ]
    }
   ],
   "metadata": {}
  },
  {
   "cell_type": "code",
   "execution_count": null,
   "source": [],
   "outputs": [],
   "metadata": {}
  }
 ],
 "metadata": {
  "orig_nbformat": 4,
  "language_info": {
   "name": "python",
   "version": "3.8.10",
   "mimetype": "text/x-python",
   "codemirror_mode": {
    "name": "ipython",
    "version": 3
   },
   "pygments_lexer": "ipython3",
   "nbconvert_exporter": "python",
   "file_extension": ".py"
  },
  "kernelspec": {
   "name": "python3",
   "display_name": "Python 3.8.10 64-bit ('base': conda)"
  },
  "interpreter": {
   "hash": "345fc451c7e0336b9390ad1fad588039702f89ec6d37597eff879e480e25ffdb"
  }
 },
 "nbformat": 4,
 "nbformat_minor": 2
}
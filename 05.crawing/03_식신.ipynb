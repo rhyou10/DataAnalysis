{
 "cells": [
  {
   "cell_type": "markdown",
   "source": [
    "# 식신 - 양재역으로 검색\r\n",
    "- 형식, 주요메뉴 등\r\n",
    "- 한번더 들어가야된다 메뉴 안속으로"
   ],
   "metadata": {}
  },
  {
   "cell_type": "code",
   "execution_count": 41,
   "source": [
    "import requests\r\n",
    "import pandas as pd\r\n",
    "from urllib.parse import quote #한글데이터 주소에 쓰려면\r\n",
    "from bs4 import BeautifulSoup"
   ],
   "outputs": [],
   "metadata": {}
  },
  {
   "cell_type": "code",
   "execution_count": 42,
   "source": [
    "header = {'User-Agent' :    \r\n",
    "            'Mozilla/5.0 (X11; Linux x86_64) AppleWebKit/537.36 (KHTML, like Gecko) Chrome/51.0.2704.103 Safari/537.36'}"
   ],
   "outputs": [],
   "metadata": {}
  },
  {
   "cell_type": "markdown",
   "source": [
    "## 데이터 가져오기"
   ],
   "metadata": {}
  },
  {
   "cell_type": "code",
   "execution_count": 43,
   "source": [
    "base_url = 'https://www.siksinhot.com'\r\n",
    "url = f'{base_url}/search?keywords={quote(\"양재역\")}'\r\n",
    "req = requests.get(url)\r\n",
    "html = req.text\r\n",
    "#header가 필요없다 그냥 허락됨"
   ],
   "outputs": [],
   "metadata": {}
  },
  {
   "cell_type": "markdown",
   "source": [
    "- 찾으려고 하는 데이터 태그 찾기"
   ],
   "metadata": {}
  },
  {
   "cell_type": "code",
   "execution_count": 44,
   "source": [
    "soup = BeautifulSoup(html, 'html.parser')\r\n",
    "lis = soup.select_one('div.listTy1').find_all('li') #listTy1이 또있어서 숫자 많다\r\n",
    "len(lis)"
   ],
   "outputs": [
    {
     "output_type": "execute_result",
     "data": {
      "text/plain": [
       "60"
      ]
     },
     "metadata": {},
     "execution_count": 44
    }
   ],
   "metadata": {}
  },
  {
   "cell_type": "code",
   "execution_count": 45,
   "source": [
    "###schMove1 > div.listTy1 > ul > li:nth-child(1)\r\n",
    "ul = soup.select('div.listTy1 > ul > li') #클래스 앞에는 . 붙인다\r\n",
    "len(ul)"
   ],
   "outputs": [
    {
     "output_type": "execute_result",
     "data": {
      "text/plain": [
       "12"
      ]
     },
     "metadata": {},
     "execution_count": 45
    }
   ],
   "metadata": {}
  },
  {
   "cell_type": "code",
   "execution_count": 46,
   "source": [
    "li =ul[0]\r\n",
    "href = li.select_one('a')['href']\r\n",
    "href\r\n",
    "##schMove1 > div.listTy1 > ul > li:nth-child(2) > div > a"
   ],
   "outputs": [
    {
     "output_type": "execute_result",
     "data": {
      "text/plain": [
       "'/P/358859'"
      ]
     },
     "metadata": {},
     "execution_count": 46
    }
   ],
   "metadata": {}
  },
  {
   "cell_type": "code",
   "execution_count": 64,
   "source": [
    "name = soup.select_one('.box_tit strong').string\r\n",
    "name"
   ],
   "outputs": [
    {
     "output_type": "execute_result",
     "data": {
      "text/plain": [
       "'그릭슈바인 양재역점'"
      ]
     },
     "metadata": {},
     "execution_count": 64
    }
   ],
   "metadata": {}
  },
  {
   "cell_type": "code",
   "execution_count": 47,
   "source": [
    "soup.select('.store')[0].string"
   ],
   "outputs": [
    {
     "output_type": "execute_result",
     "data": {
      "text/plain": [
       "'그릭슈바인 양재역점'"
      ]
     },
     "metadata": {},
     "execution_count": 47
    }
   ],
   "metadata": {}
  },
  {
   "cell_type": "code",
   "execution_count": 48,
   "source": [
    "sub_url = base_url + href #메인페이 가서 해당페이지로 이동한다\r\n",
    "req = requests.get(sub_url)\r\n",
    "sub_soup = BeautifulSoup(req.text, 'html.parser')\r\n",
    "# 이름, 업종, 전화번호, 주소"
   ],
   "outputs": [],
   "metadata": {}
  },
  {
   "cell_type": "code",
   "execution_count": 49,
   "source": [
    "store = sub_soup.select_one('.title')\r\n",
    "store"
   ],
   "outputs": [
    {
     "output_type": "execute_result",
     "data": {
      "text/plain": [
       "<div class=\"title\" data-reactid=\"54\"><div class=\"store_name_score\" data-reactid=\"55\"><h3 data-reactid=\"56\"><!-- react-text: 57 -->그릭슈바인 양재역점<!-- /react-text --><strong data-reactid=\"58\">3.6</strong><div class=\"ico_both02\" data-reactid=\"59\"><span class=\"ico_grade02\" data-reactid=\"60\"><em data-reactid=\"61\">HOT</em></span></div></h3><p data-reactid=\"62\">독일식 맥주 펍</p><ul data-reactid=\"63\"><li data-reactid=\"64\"><span data-reactid=\"65\">12</span></li><li data-reactid=\"66\"><span data-reactid=\"67\">16</span></li><li data-reactid=\"68\"><span data-reactid=\"69\">13333</span></li><li data-reactid=\"70\"><span data-reactid=\"71\">25</span></li><li class=\"btn_dining_use\" data-reactid=\"72\"></li></ul></div></div>"
      ]
     },
     "metadata": {},
     "execution_count": 49
    }
   ],
   "metadata": {}
  },
  {
   "cell_type": "code",
   "execution_count": 50,
   "source": [
    "store = sub_soup.select_one('.title')\r\n",
    "info = store.find('h3').get_text()\r\n",
    "info"
   ],
   "outputs": [
    {
     "output_type": "execute_result",
     "data": {
      "text/plain": [
       "'그릭슈바인 양재역점3.6HOT'"
      ]
     },
     "metadata": {},
     "execution_count": 50
    }
   ],
   "metadata": {}
  },
  {
   "cell_type": "code",
   "execution_count": 51,
   "source": [
    "score = store.select_one('h3 > strong').string\r\n",
    "score"
   ],
   "outputs": [
    {
     "output_type": "execute_result",
     "data": {
      "text/plain": [
       "'3.6'"
      ]
     },
     "metadata": {},
     "execution_count": 51
    }
   ],
   "metadata": {}
  },
  {
   "cell_type": "code",
   "execution_count": 52,
   "source": [
    "info.find(score)"
   ],
   "outputs": [
    {
     "output_type": "execute_result",
     "data": {
      "text/plain": [
       "10"
      ]
     },
     "metadata": {},
     "execution_count": 52
    }
   ],
   "metadata": {}
  },
  {
   "cell_type": "code",
   "execution_count": 53,
   "source": [
    "name = info[:info.find(score)]\r\n",
    "name"
   ],
   "outputs": [
    {
     "output_type": "execute_result",
     "data": {
      "text/plain": [
       "'그릭슈바인 양재역점'"
      ]
     },
     "metadata": {},
     "execution_count": 53
    }
   ],
   "metadata": {}
  },
  {
   "cell_type": "code",
   "execution_count": 54,
   "source": [
    "##contents > div > div > div.content > div.sec_left > div > div:nth-child(1) > div:nth-child(1) > p\r\n",
    "menu = sub_soup.select('.store_info p')[1].get_text()\r\n",
    "menu"
   ],
   "outputs": [
    {
     "output_type": "execute_result",
     "data": {
      "text/plain": [
       "'나이트라이프 > 맥주/호프'"
      ]
     },
     "metadata": {},
     "execution_count": 54
    }
   ],
   "metadata": {}
  },
  {
   "cell_type": "code",
   "execution_count": 55,
   "source": [
    "tel =sub_soup.select_one('.p_tel > p').get_text()\r\n",
    "tel"
   ],
   "outputs": [
    {
     "output_type": "execute_result",
     "data": {
      "text/plain": [
       "'02-572-6100'"
      ]
     },
     "metadata": {},
     "execution_count": 55
    }
   ],
   "metadata": {}
  },
  {
   "cell_type": "code",
   "execution_count": 56,
   "source": [
    "addr =sub_soup.select_one('.txt_adr').string\r\n",
    "addr"
   ],
   "outputs": [
    {
     "output_type": "execute_result",
     "data": {
      "text/plain": [
       "'서울특별시 서초구 강남대로 224'"
      ]
     },
     "metadata": {},
     "execution_count": 56
    }
   ],
   "metadata": {}
  },
  {
   "cell_type": "code",
   "execution_count": 72,
   "source": [
    "name_list, score_list, menu_list, tel_list, addr_list =[], [], [], [], []\r\n",
    "for i, li in enumerate(ul):\r\n",
    "    href = li.select_one('a')['href']\r\n",
    "    sub_url = base_url + href #메인페이 가서 해당페이지로 이동한다\r\n",
    "    req = requests.get(sub_url)\r\n",
    "    sub_soup = BeautifulSoup(req.text, 'html.parser')\r\n",
    "    \r\n",
    "  #  store = sub_soup.select_one('.title')\r\n",
    "  #  info = store.find('h3').get_text() \r\n",
    "  #  score = str(store.select_one('h3 > strong').string) \r\n",
    "    \r\n",
    "  #  name = info[:info.find(score)]\r\n",
    "    menu = sub_soup.select('.store_info p')[1].get_text()\r\n",
    "    tel =sub_soup.select_one('.p_tel > p').get_text()\r\n",
    "    addr =sub_soup.select_one('.txt_adr').string\r\n",
    "    \r\n",
    "    score = li.select_one('em').string\r\n",
    "    name = soup.select('.store')[i].string\r\n",
    "\r\n",
    "    name_list.append(name)\r\n",
    "    score_list.append(score)\r\n",
    "    menu_list.append(menu)\r\n",
    "    tel_list.append(tel)\r\n",
    "    addr_list.append(addr)"
   ],
   "outputs": [],
   "metadata": {}
  },
  {
   "cell_type": "code",
   "execution_count": 73,
   "source": [
    "df = pd.DataFrame({\r\n",
    "    '이름' : name_list,\r\n",
    "    '점수' : score_list,\r\n",
    "    '메뉴' : menu_list,\r\n",
    "    '전화' : tel_list,\r\n",
    "    '주소' : addr_list\r\n",
    "})\r\n",
    "df"
   ],
   "outputs": [
    {
     "output_type": "execute_result",
     "data": {
      "text/plain": [
       "              이름   점수                    메뉴            전화  \\\n",
       "0     그릭슈바인 양재역점  3.6        나이트라이프 > 맥주/호프   02-572-6100   \n",
       "1    미스터브리즈 양재역점  3.4         세계음식 > 카페/커피숍   02-576-4333   \n",
       "2      동신참치 양재역점  3.0              한국음식 > 회   02-529-7130   \n",
       "3       새우닭 양재역점  평가중            세계음식 > 씨푸드   02-575-6088   \n",
       "4       양재역 옛날짜장  평가중           세계음식 > 중국음식  031-503-2550   \n",
       "5       영동족발 3호점  4.1          한국음식 > 족발/보쌈   02-575-0250   \n",
       "6            황재벌  3.9       한국음식 > 장어구이/꼼장어  02-3471-5454   \n",
       "7   김영모과자점 도곡타워점  4.1       세계음식 > 베이커리/제과점  02-3460-2005   \n",
       "8         소호정 본점  4.0  한국음식 > 라면/칼국수/국수/수제비   02-579-7282   \n",
       "9          산동칼국수  3.9  한국음식 > 라면/칼국수/국수/수제비  02-3473-7972   \n",
       "10        양재정육식당  4.1      한국음식 > 꽃등심/등심/육회   02-577-5804   \n",
       "11          스타쉐프  3.9         세계음식 > 퓨전레스토랑   02-529-8248   \n",
       "\n",
       "                               주소  \n",
       "0              서울특별시 서초구 강남대로 224  \n",
       "1                서울 서초구 강남대로34길 6  \n",
       "2                 서울 서초구 강남대로 213  \n",
       "3      서울특별시 서초구 남부순환로356길 52  1층  \n",
       "4               경기도 시흥시 공단1대로 13   \n",
       "5         서울특별시 서초구 남부순환로 2628-18  \n",
       "6   서울특별시 서초구 남부순환로347길 42-4 신화빌딩  \n",
       "7      서울특별시 강남구 언주로30길 10 현대비젼21  \n",
       "8                서울특별시 서초구 논현로 27  \n",
       "9            서울특별시 서초구 강남대로37길 63  \n",
       "10               서울 서초구 바우뫼로35길 3  \n",
       "11          서울특별시 강남구 논현로38길 38-6  "
      ],
      "text/html": [
       "<div>\n",
       "<style scoped>\n",
       "    .dataframe tbody tr th:only-of-type {\n",
       "        vertical-align: middle;\n",
       "    }\n",
       "\n",
       "    .dataframe tbody tr th {\n",
       "        vertical-align: top;\n",
       "    }\n",
       "\n",
       "    .dataframe thead th {\n",
       "        text-align: right;\n",
       "    }\n",
       "</style>\n",
       "<table border=\"1\" class=\"dataframe\">\n",
       "  <thead>\n",
       "    <tr style=\"text-align: right;\">\n",
       "      <th></th>\n",
       "      <th>이름</th>\n",
       "      <th>점수</th>\n",
       "      <th>메뉴</th>\n",
       "      <th>전화</th>\n",
       "      <th>주소</th>\n",
       "    </tr>\n",
       "  </thead>\n",
       "  <tbody>\n",
       "    <tr>\n",
       "      <th>0</th>\n",
       "      <td>그릭슈바인 양재역점</td>\n",
       "      <td>3.6</td>\n",
       "      <td>나이트라이프 &gt; 맥주/호프</td>\n",
       "      <td>02-572-6100</td>\n",
       "      <td>서울특별시 서초구 강남대로 224</td>\n",
       "    </tr>\n",
       "    <tr>\n",
       "      <th>1</th>\n",
       "      <td>미스터브리즈 양재역점</td>\n",
       "      <td>3.4</td>\n",
       "      <td>세계음식 &gt; 카페/커피숍</td>\n",
       "      <td>02-576-4333</td>\n",
       "      <td>서울 서초구 강남대로34길 6</td>\n",
       "    </tr>\n",
       "    <tr>\n",
       "      <th>2</th>\n",
       "      <td>동신참치 양재역점</td>\n",
       "      <td>3.0</td>\n",
       "      <td>한국음식 &gt; 회</td>\n",
       "      <td>02-529-7130</td>\n",
       "      <td>서울 서초구 강남대로 213</td>\n",
       "    </tr>\n",
       "    <tr>\n",
       "      <th>3</th>\n",
       "      <td>새우닭 양재역점</td>\n",
       "      <td>평가중</td>\n",
       "      <td>세계음식 &gt; 씨푸드</td>\n",
       "      <td>02-575-6088</td>\n",
       "      <td>서울특별시 서초구 남부순환로356길 52  1층</td>\n",
       "    </tr>\n",
       "    <tr>\n",
       "      <th>4</th>\n",
       "      <td>양재역 옛날짜장</td>\n",
       "      <td>평가중</td>\n",
       "      <td>세계음식 &gt; 중국음식</td>\n",
       "      <td>031-503-2550</td>\n",
       "      <td>경기도 시흥시 공단1대로 13</td>\n",
       "    </tr>\n",
       "    <tr>\n",
       "      <th>5</th>\n",
       "      <td>영동족발 3호점</td>\n",
       "      <td>4.1</td>\n",
       "      <td>한국음식 &gt; 족발/보쌈</td>\n",
       "      <td>02-575-0250</td>\n",
       "      <td>서울특별시 서초구 남부순환로 2628-18</td>\n",
       "    </tr>\n",
       "    <tr>\n",
       "      <th>6</th>\n",
       "      <td>황재벌</td>\n",
       "      <td>3.9</td>\n",
       "      <td>한국음식 &gt; 장어구이/꼼장어</td>\n",
       "      <td>02-3471-5454</td>\n",
       "      <td>서울특별시 서초구 남부순환로347길 42-4 신화빌딩</td>\n",
       "    </tr>\n",
       "    <tr>\n",
       "      <th>7</th>\n",
       "      <td>김영모과자점 도곡타워점</td>\n",
       "      <td>4.1</td>\n",
       "      <td>세계음식 &gt; 베이커리/제과점</td>\n",
       "      <td>02-3460-2005</td>\n",
       "      <td>서울특별시 강남구 언주로30길 10 현대비젼21</td>\n",
       "    </tr>\n",
       "    <tr>\n",
       "      <th>8</th>\n",
       "      <td>소호정 본점</td>\n",
       "      <td>4.0</td>\n",
       "      <td>한국음식 &gt; 라면/칼국수/국수/수제비</td>\n",
       "      <td>02-579-7282</td>\n",
       "      <td>서울특별시 서초구 논현로 27</td>\n",
       "    </tr>\n",
       "    <tr>\n",
       "      <th>9</th>\n",
       "      <td>산동칼국수</td>\n",
       "      <td>3.9</td>\n",
       "      <td>한국음식 &gt; 라면/칼국수/국수/수제비</td>\n",
       "      <td>02-3473-7972</td>\n",
       "      <td>서울특별시 서초구 강남대로37길 63</td>\n",
       "    </tr>\n",
       "    <tr>\n",
       "      <th>10</th>\n",
       "      <td>양재정육식당</td>\n",
       "      <td>4.1</td>\n",
       "      <td>한국음식 &gt; 꽃등심/등심/육회</td>\n",
       "      <td>02-577-5804</td>\n",
       "      <td>서울 서초구 바우뫼로35길 3</td>\n",
       "    </tr>\n",
       "    <tr>\n",
       "      <th>11</th>\n",
       "      <td>스타쉐프</td>\n",
       "      <td>3.9</td>\n",
       "      <td>세계음식 &gt; 퓨전레스토랑</td>\n",
       "      <td>02-529-8248</td>\n",
       "      <td>서울특별시 강남구 논현로38길 38-6</td>\n",
       "    </tr>\n",
       "  </tbody>\n",
       "</table>\n",
       "</div>"
      ]
     },
     "metadata": {},
     "execution_count": 73
    }
   ],
   "metadata": {}
  }
 ],
 "metadata": {
  "orig_nbformat": 4,
  "language_info": {
   "name": "python",
   "version": "3.8.10",
   "mimetype": "text/x-python",
   "codemirror_mode": {
    "name": "ipython",
    "version": 3
   },
   "pygments_lexer": "ipython3",
   "nbconvert_exporter": "python",
   "file_extension": ".py"
  },
  "kernelspec": {
   "name": "python3",
   "display_name": "Python 3.8.10 64-bit ('base': conda)"
  },
  "interpreter": {
   "hash": "345fc451c7e0336b9390ad1fad588039702f89ec6d37597eff879e480e25ffdb"
  }
 },
 "nbformat": 4,
 "nbformat_minor": 2
}
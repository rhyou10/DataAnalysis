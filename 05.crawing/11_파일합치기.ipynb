{
 "cells": [
  {
   "cell_type": "markdown",
   "source": [
    "# 4가지 파일을 중복을 제거한 후 통합저장"
   ],
   "metadata": {}
  },
  {
   "cell_type": "code",
   "execution_count": 1,
   "source": [
    "import pandas as pd"
   ],
   "outputs": [],
   "metadata": {}
  },
  {
   "cell_type": "code",
   "execution_count": 16,
   "source": [
    "df = pd.read_excel('data/data_/1_crawling_jejudoGwanGwang.xlsx')\r\n",
    "filenames = ['data/data_/1_crawling_jejudoGwanGwang.xlsx',\r\n",
    "            'data/data_/1_crawling_jejudoMatJip.xlsx',\r\n",
    "            'data/data_/1_crawling_jejuMatJip.xlsx',\r\n",
    "            'data/data_/1_crawling_jejuYeoHang.xlsx']"
   ],
   "outputs": [],
   "metadata": {}
  },
  {
   "cell_type": "code",
   "execution_count": 17,
   "source": [
    "jeju_df = pd.DataFrame([])\r\n",
    "for fname in filenames:\r\n",
    "    df = pd.read_excel(fname)\r\n",
    "    jeju_df = jeju_df.append(df)\r\n",
    "\r\n",
    "jeju_df.shape"
   ],
   "outputs": [
    {
     "output_type": "execute_result",
     "data": {
      "text/plain": [
       "(12780, 5)"
      ]
     },
     "metadata": {},
     "execution_count": 17
    }
   ],
   "metadata": {}
  },
  {
   "cell_type": "code",
   "execution_count": 20,
   "source": [
    "# 중복제거\r\n",
    "jeju_df.drop_duplicates(subset=['content'], inplace=True)\r\n",
    "jeju_df.to_csv('data/제주핫플레이스.csv', index=False)"
   ],
   "outputs": [],
   "metadata": {}
  },
  {
   "cell_type": "code",
   "execution_count": 21,
   "source": [
    "jeju_df.shape"
   ],
   "outputs": [
    {
     "output_type": "execute_result",
     "data": {
      "text/plain": [
       "(8369, 5)"
      ]
     },
     "metadata": {},
     "execution_count": 21
    }
   ],
   "metadata": {}
  },
  {
   "cell_type": "code",
   "execution_count": 23,
   "source": [
    "df = pd.read_csv('data/제주핫플레이스.csv')\r\n",
    "df.tail()"
   ],
   "outputs": [
    {
     "output_type": "execute_result",
     "data": {
      "text/plain": [
       "                                                content        date like  \\\n",
       "8364  Now it's purple😆💜수색 넘 이쀼리 🤭 올해는 아퓨지말구 즐거운 일만 가...  2019-01-01   42   \n",
       "8365  .간다간다간다#제주 #친정여행 #겨울방학 #제주여행앞머리는 괜히 전날 잘라서 또순이...  2019-01-01   50   \n",
       "8366  2019년 모두 복 많이많이 받고 풍요로운 한해 보내길 ♥️#사진좀찍으시는님덕에건져...  2019-01-01   68   \n",
       "8367  2018.12.25 ⠀룸에 의자가 두개 밖에 없어서 ⠀이현이는 유모차에 앉아서 식사...  2019-01-01   70   \n",
       "8368  .2019년 첫날디스이즈핫에서 새해를 맞이하시는 손님들께 떡국을 준비했습니다.한 해...  2019-01-01   48   \n",
       "\n",
       "      place                                               tags  \n",
       "8364    NaN  ['#일상', '#구기자', '#티타임', '#2019', '#새해', '#차스타그...  \n",
       "8365    NaN  ['#제주', '#친정여행', '#겨울방학', '#제주여행앞머리는', '#친정찬스'...  \n",
       "8366   Jeju                         ['#사진좀찍으시는님덕에건져또', '#이순간']  \n",
       "8367    NaN                                                 []  \n",
       "8368  디스이즈핫                          ['#HappyNewYearEveryone']  "
      ],
      "text/html": [
       "<div>\n",
       "<style scoped>\n",
       "    .dataframe tbody tr th:only-of-type {\n",
       "        vertical-align: middle;\n",
       "    }\n",
       "\n",
       "    .dataframe tbody tr th {\n",
       "        vertical-align: top;\n",
       "    }\n",
       "\n",
       "    .dataframe thead th {\n",
       "        text-align: right;\n",
       "    }\n",
       "</style>\n",
       "<table border=\"1\" class=\"dataframe\">\n",
       "  <thead>\n",
       "    <tr style=\"text-align: right;\">\n",
       "      <th></th>\n",
       "      <th>content</th>\n",
       "      <th>date</th>\n",
       "      <th>like</th>\n",
       "      <th>place</th>\n",
       "      <th>tags</th>\n",
       "    </tr>\n",
       "  </thead>\n",
       "  <tbody>\n",
       "    <tr>\n",
       "      <th>8364</th>\n",
       "      <td>Now it's purple😆💜수색 넘 이쀼리 🤭 올해는 아퓨지말구 즐거운 일만 가...</td>\n",
       "      <td>2019-01-01</td>\n",
       "      <td>42</td>\n",
       "      <td>NaN</td>\n",
       "      <td>['#일상', '#구기자', '#티타임', '#2019', '#새해', '#차스타그...</td>\n",
       "    </tr>\n",
       "    <tr>\n",
       "      <th>8365</th>\n",
       "      <td>.간다간다간다#제주 #친정여행 #겨울방학 #제주여행앞머리는 괜히 전날 잘라서 또순이...</td>\n",
       "      <td>2019-01-01</td>\n",
       "      <td>50</td>\n",
       "      <td>NaN</td>\n",
       "      <td>['#제주', '#친정여행', '#겨울방학', '#제주여행앞머리는', '#친정찬스'...</td>\n",
       "    </tr>\n",
       "    <tr>\n",
       "      <th>8366</th>\n",
       "      <td>2019년 모두 복 많이많이 받고 풍요로운 한해 보내길 ♥️#사진좀찍으시는님덕에건져...</td>\n",
       "      <td>2019-01-01</td>\n",
       "      <td>68</td>\n",
       "      <td>Jeju</td>\n",
       "      <td>['#사진좀찍으시는님덕에건져또', '#이순간']</td>\n",
       "    </tr>\n",
       "    <tr>\n",
       "      <th>8367</th>\n",
       "      <td>2018.12.25 ⠀룸에 의자가 두개 밖에 없어서 ⠀이현이는 유모차에 앉아서 식사...</td>\n",
       "      <td>2019-01-01</td>\n",
       "      <td>70</td>\n",
       "      <td>NaN</td>\n",
       "      <td>[]</td>\n",
       "    </tr>\n",
       "    <tr>\n",
       "      <th>8368</th>\n",
       "      <td>.2019년 첫날디스이즈핫에서 새해를 맞이하시는 손님들께 떡국을 준비했습니다.한 해...</td>\n",
       "      <td>2019-01-01</td>\n",
       "      <td>48</td>\n",
       "      <td>디스이즈핫</td>\n",
       "      <td>['#HappyNewYearEveryone']</td>\n",
       "    </tr>\n",
       "  </tbody>\n",
       "</table>\n",
       "</div>"
      ]
     },
     "metadata": {},
     "execution_count": 23
    }
   ],
   "metadata": {}
  },
  {
   "cell_type": "code",
   "execution_count": null,
   "source": [],
   "outputs": [],
   "metadata": {}
  }
 ],
 "metadata": {
  "orig_nbformat": 4,
  "language_info": {
   "name": "python",
   "version": "3.8.10",
   "mimetype": "text/x-python",
   "codemirror_mode": {
    "name": "ipython",
    "version": 3
   },
   "pygments_lexer": "ipython3",
   "nbconvert_exporter": "python",
   "file_extension": ".py"
  },
  "kernelspec": {
   "name": "python3",
   "display_name": "Python 3.8.10 64-bit ('base': conda)"
  },
  "interpreter": {
   "hash": "345fc451c7e0336b9390ad1fad588039702f89ec6d37597eff879e480e25ffdb"
  }
 },
 "nbformat": 4,
 "nbformat_minor": 2
}
{
 "cells": [
  {
   "cell_type": "markdown",
   "source": [
    "# 카카오 로컬 API: 도로명 주소 --> 위도, 경도"
   ],
   "metadata": {}
  },
  {
   "cell_type": "code",
   "execution_count": 2,
   "source": [
    "import requests\r\n",
    "from urllib.parse import quote\r\n",
    "import pandas as pd\r\n",
    "\r\n",
    "with open('kakaoapikey.txt') as f:\r\n",
    "    api_key = f.read()\r\n",
    "len(api_key)"
   ],
   "outputs": [
    {
     "output_type": "execute_result",
     "data": {
      "text/plain": [
       "32"
      ]
     },
     "metadata": {},
     "execution_count": 2
    }
   ],
   "metadata": {}
  },
  {
   "cell_type": "code",
   "execution_count": 3,
   "source": [
    "addr ='서울특별시 중구 세종대로 110(태평로1가)'\r\n",
    "search_url = 'https://dapi.kakao.com/v2/local/search/address.json'\r\n",
    "url = f'{search_url}?query={quote(addr)}' # & 붙인다\r\n",
    "url"
   ],
   "outputs": [
    {
     "output_type": "execute_result",
     "data": {
      "text/plain": [
       "'https://dapi.kakao.com/v2/local/search/address.json?query=%EC%84%9C%EC%9A%B8%ED%8A%B9%EB%B3%84%EC%8B%9C%20%EC%A4%91%EA%B5%AC%20%EC%84%B8%EC%A2%85%EB%8C%80%EB%A1%9C%20110%28%ED%83%9C%ED%8F%89%EB%A1%9C1%EA%B0%80%29'"
      ]
     },
     "metadata": {},
     "execution_count": 3
    }
   ],
   "metadata": {}
  },
  {
   "cell_type": "code",
   "execution_count": 4,
   "source": [
    "#\"Authorization: KakaoAK {REST_API_KEY}\"\r\n",
    "result = requests.get(url,\r\n",
    "            headers={\"Authorization\": f'KakaoAK {api_key}'}).json()\r\n",
    "result"
   ],
   "outputs": [
    {
     "output_type": "execute_result",
     "data": {
      "text/plain": [
       "{'documents': [{'address': {'address_name': '서울 중구 태평로1가 31',\n",
       "    'b_code': '1114010300',\n",
       "    'h_code': '1114055000',\n",
       "    'main_address_no': '31',\n",
       "    'mountain_yn': 'N',\n",
       "    'region_1depth_name': '서울',\n",
       "    'region_2depth_name': '중구',\n",
       "    'region_3depth_h_name': '명동',\n",
       "    'region_3depth_name': '태평로1가',\n",
       "    'sub_address_no': '',\n",
       "    'x': '126.977829174031',\n",
       "    'y': '37.5663174209601'},\n",
       "   'address_name': '서울 중구 세종대로 110',\n",
       "   'address_type': 'ROAD_ADDR',\n",
       "   'road_address': {'address_name': '서울 중구 세종대로 110',\n",
       "    'building_name': '서울특별시청',\n",
       "    'main_building_no': '110',\n",
       "    'region_1depth_name': '서울',\n",
       "    'region_2depth_name': '중구',\n",
       "    'region_3depth_name': '태평로1가',\n",
       "    'road_name': '세종대로',\n",
       "    'sub_building_no': '',\n",
       "    'underground_yn': 'N',\n",
       "    'x': '126.977829174031',\n",
       "    'y': '37.5663174209601',\n",
       "    'zone_no': '04524'},\n",
       "   'x': '126.977829174031',\n",
       "   'y': '37.5663174209601'}],\n",
       " 'meta': {'is_end': True, 'pageable_count': 1, 'total_count': 1}}"
      ]
     },
     "metadata": {},
     "execution_count": 4
    }
   ],
   "metadata": {}
  },
  {
   "cell_type": "code",
   "execution_count": 5,
   "source": [
    "lng ,lat = float(result['documents'][0]['x']), float(result['documents'][0]['y'])\r\n",
    "lng, lat"
   ],
   "outputs": [
    {
     "output_type": "execute_result",
     "data": {
      "text/plain": [
       "(126.977829174031, 37.5663174209601)"
      ]
     },
     "metadata": {},
     "execution_count": 5
    }
   ],
   "metadata": {}
  },
  {
   "cell_type": "markdown",
   "source": [
    "## 공공기관.csv 파일에 위도 경도 추가하기"
   ],
   "metadata": {}
  },
  {
   "cell_type": "code",
   "execution_count": 6,
   "source": [
    "df = pd.read_csv('공공기관.csv')\r\n",
    "df"
   ],
   "outputs": [
    {
     "output_type": "execute_result",
     "data": {
      "text/plain": [
       "     공공기관                     도로명 주소\n",
       "0  서울특별시청   서울특별시 중구 세종대로 110(태평로1가)\n",
       "1    노원구청     서울특별시 노원구 노해로 437(상계동)\n",
       "2    송파구청    서울특별시 송파구 올림픽로 326(신천동)\n",
       "3    마포구청  서울특별시 마포구 월드컵로 지하190(성산동)\n",
       "4    강서구청  서울특별시 강서구 남부순환로 208(외발산동)"
      ],
      "text/html": [
       "<div>\n",
       "<style scoped>\n",
       "    .dataframe tbody tr th:only-of-type {\n",
       "        vertical-align: middle;\n",
       "    }\n",
       "\n",
       "    .dataframe tbody tr th {\n",
       "        vertical-align: top;\n",
       "    }\n",
       "\n",
       "    .dataframe thead th {\n",
       "        text-align: right;\n",
       "    }\n",
       "</style>\n",
       "<table border=\"1\" class=\"dataframe\">\n",
       "  <thead>\n",
       "    <tr style=\"text-align: right;\">\n",
       "      <th></th>\n",
       "      <th>공공기관</th>\n",
       "      <th>도로명 주소</th>\n",
       "    </tr>\n",
       "  </thead>\n",
       "  <tbody>\n",
       "    <tr>\n",
       "      <th>0</th>\n",
       "      <td>서울특별시청</td>\n",
       "      <td>서울특별시 중구 세종대로 110(태평로1가)</td>\n",
       "    </tr>\n",
       "    <tr>\n",
       "      <th>1</th>\n",
       "      <td>노원구청</td>\n",
       "      <td>서울특별시 노원구 노해로 437(상계동)</td>\n",
       "    </tr>\n",
       "    <tr>\n",
       "      <th>2</th>\n",
       "      <td>송파구청</td>\n",
       "      <td>서울특별시 송파구 올림픽로 326(신천동)</td>\n",
       "    </tr>\n",
       "    <tr>\n",
       "      <th>3</th>\n",
       "      <td>마포구청</td>\n",
       "      <td>서울특별시 마포구 월드컵로 지하190(성산동)</td>\n",
       "    </tr>\n",
       "    <tr>\n",
       "      <th>4</th>\n",
       "      <td>강서구청</td>\n",
       "      <td>서울특별시 강서구 남부순환로 208(외발산동)</td>\n",
       "    </tr>\n",
       "  </tbody>\n",
       "</table>\n",
       "</div>"
      ]
     },
     "metadata": {},
     "execution_count": 6
    }
   ],
   "metadata": {}
  },
  {
   "cell_type": "code",
   "execution_count": 7,
   "source": [
    "lat_list = []\r\n",
    "lng_list = []\r\n",
    "for juso in df['도로명 주소']:\r\n",
    "    url = f'{search_url}?query={quote(juso)}' # & 붙인다\r\n",
    "    result = requests.get(url,\r\n",
    "            headers={\"Authorization\": f'KakaoAK {api_key}'}).json()\r\n",
    "    lng = float(result['documents'][0]['x'])\r\n",
    "    lat = float(result['documents'][0]['y'])\r\n",
    "    lat_list.append(lat)\r\n",
    "    lng_list.append(lng)\r\n",
    "\r\n",
    "lat_list, lng_list"
   ],
   "outputs": [
    {
     "output_type": "execute_result",
     "data": {
      "text/plain": [
       "([37.5663174209601,\n",
       "  37.6545190418039,\n",
       "  37.514477182474,\n",
       "  37.5634263131969,\n",
       "  37.5468670862325],\n",
       " [126.977829174031,\n",
       "  127.056297212439,\n",
       "  127.105859984389,\n",
       "  126.903356973848,\n",
       "  126.820414204647])"
      ]
     },
     "metadata": {},
     "execution_count": 7
    }
   ],
   "metadata": {}
  },
  {
   "cell_type": "code",
   "execution_count": 8,
   "source": [
    "df['위도'] = lat_list\r\n",
    "df['경도'] = lng_list\r\n",
    "\r\n",
    "df.to_csv('공공기관2.csv')"
   ],
   "outputs": [],
   "metadata": {}
  },
  {
   "cell_type": "markdown",
   "source": [
    "## 지도위에 공공기관 표시하기"
   ],
   "metadata": {}
  },
  {
   "cell_type": "code",
   "execution_count": 9,
   "source": [
    "import folium\r\n",
    "import pandas as pd\r\n",
    "folium.__version__"
   ],
   "outputs": [
    {
     "output_type": "execute_result",
     "data": {
      "text/plain": [
       "'unknown'"
      ]
     },
     "metadata": {},
     "execution_count": 9
    }
   ],
   "metadata": {}
  },
  {
   "cell_type": "code",
   "execution_count": 10,
   "source": [
    "map = folium.Map(location=[df.위도.mean(), df.경도.mean()], zoom_start=10)\r\n",
    "\r\n",
    "for i in df.index:\r\n",
    "        folium.Circle(\r\n",
    "                radius=200,\r\n",
    "                location = [df.위도[i], df.경도[i]],\r\n",
    "                popup = folium.Popup(f'{ df[\"도로명 주소\"][i] }', max_width=200),\r\n",
    "                tooltip = df.공공기관[i],\r\n",
    "                color= '#3186cc',\r\n",
    "                fill=True,\r\n",
    "                fillcolor = '#3186cc'\r\n",
    "        ).add_to(map)\r\n",
    "title = '<h3 align=\"center\" style=\"font-size:20px\">서울시 구청 안내</h3>'\r\n",
    "map.get_root().html.add_child(folium.Element(title))        \r\n",
    "\r\n",
    "map"
   ],
   "outputs": [
    {
     "output_type": "execute_result",
     "data": {
      "text/plain": [
       "<folium.folium.Map at 0x1ecd31e88b0>"
      ],
      "text/html": [
       "<div style=\"width:100%;\"><div style=\"position:relative;width:100%;height:0;padding-bottom:60%;\"><span style=\"color:#565656\">Make this Notebook Trusted to load map: File -> Trust Notebook</span><iframe src=\"about:blank\" style=\"position:absolute;width:100%;height:100%;left:0;top:0;border:none !important;\" data-html=%3C%21DOCTYPE%20html%3E%0A%3Chead%3E%20%20%20%20%0A%20%20%20%20%3Cmeta%20http-equiv%3D%22content-type%22%20content%3D%22text/html%3B%20charset%3DUTF-8%22%20/%3E%0A%20%20%20%20%0A%20%20%20%20%20%20%20%20%3Cscript%3E%0A%20%20%20%20%20%20%20%20%20%20%20%20L_NO_TOUCH%20%3D%20false%3B%0A%20%20%20%20%20%20%20%20%20%20%20%20L_DISABLE_3D%20%3D%20false%3B%0A%20%20%20%20%20%20%20%20%3C/script%3E%0A%20%20%20%20%0A%20%20%20%20%3Cstyle%3Ehtml%2C%20body%20%7Bwidth%3A%20100%25%3Bheight%3A%20100%25%3Bmargin%3A%200%3Bpadding%3A%200%3B%7D%3C/style%3E%0A%20%20%20%20%3Cstyle%3E%23map%20%7Bposition%3Aabsolute%3Btop%3A0%3Bbottom%3A0%3Bright%3A0%3Bleft%3A0%3B%7D%3C/style%3E%0A%20%20%20%20%3Cscript%20src%3D%22https%3A//cdn.jsdelivr.net/npm/leaflet%401.6.0/dist/leaflet.js%22%3E%3C/script%3E%0A%20%20%20%20%3Cscript%20src%3D%22https%3A//code.jquery.com/jquery-1.12.4.min.js%22%3E%3C/script%3E%0A%20%20%20%20%3Cscript%20src%3D%22https%3A//maxcdn.bootstrapcdn.com/bootstrap/3.2.0/js/bootstrap.min.js%22%3E%3C/script%3E%0A%20%20%20%20%3Cscript%20src%3D%22https%3A//cdnjs.cloudflare.com/ajax/libs/Leaflet.awesome-markers/2.0.2/leaflet.awesome-markers.js%22%3E%3C/script%3E%0A%20%20%20%20%3Clink%20rel%3D%22stylesheet%22%20href%3D%22https%3A//cdn.jsdelivr.net/npm/leaflet%401.6.0/dist/leaflet.css%22/%3E%0A%20%20%20%20%3Clink%20rel%3D%22stylesheet%22%20href%3D%22https%3A//maxcdn.bootstrapcdn.com/bootstrap/3.2.0/css/bootstrap.min.css%22/%3E%0A%20%20%20%20%3Clink%20rel%3D%22stylesheet%22%20href%3D%22https%3A//maxcdn.bootstrapcdn.com/bootstrap/3.2.0/css/bootstrap-theme.min.css%22/%3E%0A%20%20%20%20%3Clink%20rel%3D%22stylesheet%22%20href%3D%22https%3A//maxcdn.bootstrapcdn.com/font-awesome/4.6.3/css/font-awesome.min.css%22/%3E%0A%20%20%20%20%3Clink%20rel%3D%22stylesheet%22%20href%3D%22https%3A//cdnjs.cloudflare.com/ajax/libs/Leaflet.awesome-markers/2.0.2/leaflet.awesome-markers.css%22/%3E%0A%20%20%20%20%3Clink%20rel%3D%22stylesheet%22%20href%3D%22https%3A//cdn.jsdelivr.net/gh/python-visualization/folium/folium/templates/leaflet.awesome.rotate.min.css%22/%3E%0A%20%20%20%20%0A%20%20%20%20%20%20%20%20%20%20%20%20%3Cmeta%20name%3D%22viewport%22%20content%3D%22width%3Ddevice-width%2C%0A%20%20%20%20%20%20%20%20%20%20%20%20%20%20%20%20initial-scale%3D1.0%2C%20maximum-scale%3D1.0%2C%20user-scalable%3Dno%22%20/%3E%0A%20%20%20%20%20%20%20%20%20%20%20%20%3Cstyle%3E%0A%20%20%20%20%20%20%20%20%20%20%20%20%20%20%20%20%23map_251273c0c59b4529bfdece23bf910974%20%7B%0A%20%20%20%20%20%20%20%20%20%20%20%20%20%20%20%20%20%20%20%20position%3A%20relative%3B%0A%20%20%20%20%20%20%20%20%20%20%20%20%20%20%20%20%20%20%20%20width%3A%20100.0%25%3B%0A%20%20%20%20%20%20%20%20%20%20%20%20%20%20%20%20%20%20%20%20height%3A%20100.0%25%3B%0A%20%20%20%20%20%20%20%20%20%20%20%20%20%20%20%20%20%20%20%20left%3A%200.0%25%3B%0A%20%20%20%20%20%20%20%20%20%20%20%20%20%20%20%20%20%20%20%20top%3A%200.0%25%3B%0A%20%20%20%20%20%20%20%20%20%20%20%20%20%20%20%20%7D%0A%20%20%20%20%20%20%20%20%20%20%20%20%3C/style%3E%0A%20%20%20%20%20%20%20%20%0A%3C/head%3E%0A%3Cbody%3E%20%20%20%20%0A%20%20%20%20%3Ch3%20align%3D%22center%22%20style%3D%22font-size%3A20px%22%3E%EC%84%9C%EC%9A%B8%EC%8B%9C%20%EA%B5%AC%EC%B2%AD%20%EC%95%88%EB%82%B4%3C/h3%3E%0A%20%20%20%20%0A%20%20%20%20%20%20%20%20%20%20%20%20%3Cdiv%20class%3D%22folium-map%22%20id%3D%22map_251273c0c59b4529bfdece23bf910974%22%20%3E%3C/div%3E%0A%20%20%20%20%20%20%20%20%0A%3C/body%3E%0A%3Cscript%3E%20%20%20%20%0A%20%20%20%20%0A%20%20%20%20%20%20%20%20%20%20%20%20var%20map_251273c0c59b4529bfdece23bf910974%20%3D%20L.map%28%0A%20%20%20%20%20%20%20%20%20%20%20%20%20%20%20%20%22map_251273c0c59b4529bfdece23bf910974%22%2C%0A%20%20%20%20%20%20%20%20%20%20%20%20%20%20%20%20%7B%0A%20%20%20%20%20%20%20%20%20%20%20%20%20%20%20%20%20%20%20%20center%3A%20%5B37.56912140893348%2C%20126.97275150987079%5D%2C%0A%20%20%20%20%20%20%20%20%20%20%20%20%20%20%20%20%20%20%20%20crs%3A%20L.CRS.EPSG3857%2C%0A%20%20%20%20%20%20%20%20%20%20%20%20%20%20%20%20%20%20%20%20zoom%3A%2010%2C%0A%20%20%20%20%20%20%20%20%20%20%20%20%20%20%20%20%20%20%20%20zoomControl%3A%20true%2C%0A%20%20%20%20%20%20%20%20%20%20%20%20%20%20%20%20%20%20%20%20preferCanvas%3A%20false%2C%0A%20%20%20%20%20%20%20%20%20%20%20%20%20%20%20%20%7D%0A%20%20%20%20%20%20%20%20%20%20%20%20%29%3B%0A%0A%20%20%20%20%20%20%20%20%20%20%20%20%0A%0A%20%20%20%20%20%20%20%20%0A%20%20%20%20%0A%20%20%20%20%20%20%20%20%20%20%20%20var%20tile_layer_d2c4be7d63e1429088e63b647e239054%20%3D%20L.tileLayer%28%0A%20%20%20%20%20%20%20%20%20%20%20%20%20%20%20%20%22https%3A//%7Bs%7D.tile.openstreetmap.org/%7Bz%7D/%7Bx%7D/%7By%7D.png%22%2C%0A%20%20%20%20%20%20%20%20%20%20%20%20%20%20%20%20%7B%22attribution%22%3A%20%22Data%20by%20%5Cu0026copy%3B%20%5Cu003ca%20href%3D%5C%22http%3A//openstreetmap.org%5C%22%5Cu003eOpenStreetMap%5Cu003c/a%5Cu003e%2C%20under%20%5Cu003ca%20href%3D%5C%22http%3A//www.openstreetmap.org/copyright%5C%22%5Cu003eODbL%5Cu003c/a%5Cu003e.%22%2C%20%22detectRetina%22%3A%20false%2C%20%22maxNativeZoom%22%3A%2018%2C%20%22maxZoom%22%3A%2018%2C%20%22minZoom%22%3A%200%2C%20%22noWrap%22%3A%20false%2C%20%22opacity%22%3A%201%2C%20%22subdomains%22%3A%20%22abc%22%2C%20%22tms%22%3A%20false%7D%0A%20%20%20%20%20%20%20%20%20%20%20%20%29.addTo%28map_251273c0c59b4529bfdece23bf910974%29%3B%0A%20%20%20%20%20%20%20%20%0A%20%20%20%20%0A%20%20%20%20%20%20%20%20%20%20%20%20var%20circle_9295805a4e4f42ca83b0a9bd145ee44f%20%3D%20L.circle%28%0A%20%20%20%20%20%20%20%20%20%20%20%20%20%20%20%20%5B37.5663174209601%2C%20126.977829174031%5D%2C%0A%20%20%20%20%20%20%20%20%20%20%20%20%20%20%20%20%7B%22bubblingMouseEvents%22%3A%20true%2C%20%22color%22%3A%20%22%233186cc%22%2C%20%22dashArray%22%3A%20null%2C%20%22dashOffset%22%3A%20null%2C%20%22fill%22%3A%20true%2C%20%22fillColor%22%3A%20%22%233186cc%22%2C%20%22fillOpacity%22%3A%200.2%2C%20%22fillRule%22%3A%20%22evenodd%22%2C%20%22lineCap%22%3A%20%22round%22%2C%20%22lineJoin%22%3A%20%22round%22%2C%20%22opacity%22%3A%201.0%2C%20%22radius%22%3A%20200%2C%20%22stroke%22%3A%20true%2C%20%22weight%22%3A%203%7D%0A%20%20%20%20%20%20%20%20%20%20%20%20%29.addTo%28map_251273c0c59b4529bfdece23bf910974%29%3B%0A%20%20%20%20%20%20%20%20%0A%20%20%20%20%0A%20%20%20%20%20%20%20%20var%20popup_a2a12cea3daf4d6e82d55271b553af9a%20%3D%20L.popup%28%7B%22maxWidth%22%3A%20200%7D%29%3B%0A%0A%20%20%20%20%20%20%20%20%0A%20%20%20%20%20%20%20%20%20%20%20%20var%20html_0f65b9aa212e43c99f8f082552b52d17%20%3D%20%24%28%60%3Cdiv%20id%3D%22html_0f65b9aa212e43c99f8f082552b52d17%22%20style%3D%22width%3A%20100.0%25%3B%20height%3A%20100.0%25%3B%22%3E%EC%84%9C%EC%9A%B8%ED%8A%B9%EB%B3%84%EC%8B%9C%20%EC%A4%91%EA%B5%AC%20%EC%84%B8%EC%A2%85%EB%8C%80%EB%A1%9C%20110%28%ED%83%9C%ED%8F%89%EB%A1%9C1%EA%B0%80%29%3C/div%3E%60%29%5B0%5D%3B%0A%20%20%20%20%20%20%20%20%20%20%20%20popup_a2a12cea3daf4d6e82d55271b553af9a.setContent%28html_0f65b9aa212e43c99f8f082552b52d17%29%3B%0A%20%20%20%20%20%20%20%20%0A%0A%20%20%20%20%20%20%20%20circle_9295805a4e4f42ca83b0a9bd145ee44f.bindPopup%28popup_a2a12cea3daf4d6e82d55271b553af9a%29%0A%20%20%20%20%20%20%20%20%3B%0A%0A%20%20%20%20%20%20%20%20%0A%20%20%20%20%0A%20%20%20%20%0A%20%20%20%20%20%20%20%20%20%20%20%20circle_9295805a4e4f42ca83b0a9bd145ee44f.bindTooltip%28%0A%20%20%20%20%20%20%20%20%20%20%20%20%20%20%20%20%60%3Cdiv%3E%0A%20%20%20%20%20%20%20%20%20%20%20%20%20%20%20%20%20%20%20%20%20%EC%84%9C%EC%9A%B8%ED%8A%B9%EB%B3%84%EC%8B%9C%EC%B2%AD%0A%20%20%20%20%20%20%20%20%20%20%20%20%20%20%20%20%20%3C/div%3E%60%2C%0A%20%20%20%20%20%20%20%20%20%20%20%20%20%20%20%20%7B%22sticky%22%3A%20true%7D%0A%20%20%20%20%20%20%20%20%20%20%20%20%29%3B%0A%20%20%20%20%20%20%20%20%0A%20%20%20%20%0A%20%20%20%20%20%20%20%20%20%20%20%20var%20circle_6ad126b9e1f249b7833006a732ec4371%20%3D%20L.circle%28%0A%20%20%20%20%20%20%20%20%20%20%20%20%20%20%20%20%5B37.6545190418039%2C%20127.056297212439%5D%2C%0A%20%20%20%20%20%20%20%20%20%20%20%20%20%20%20%20%7B%22bubblingMouseEvents%22%3A%20true%2C%20%22color%22%3A%20%22%233186cc%22%2C%20%22dashArray%22%3A%20null%2C%20%22dashOffset%22%3A%20null%2C%20%22fill%22%3A%20true%2C%20%22fillColor%22%3A%20%22%233186cc%22%2C%20%22fillOpacity%22%3A%200.2%2C%20%22fillRule%22%3A%20%22evenodd%22%2C%20%22lineCap%22%3A%20%22round%22%2C%20%22lineJoin%22%3A%20%22round%22%2C%20%22opacity%22%3A%201.0%2C%20%22radius%22%3A%20200%2C%20%22stroke%22%3A%20true%2C%20%22weight%22%3A%203%7D%0A%20%20%20%20%20%20%20%20%20%20%20%20%29.addTo%28map_251273c0c59b4529bfdece23bf910974%29%3B%0A%20%20%20%20%20%20%20%20%0A%20%20%20%20%0A%20%20%20%20%20%20%20%20var%20popup_12db1874e3d248baa4e839363d5a7a37%20%3D%20L.popup%28%7B%22maxWidth%22%3A%20200%7D%29%3B%0A%0A%20%20%20%20%20%20%20%20%0A%20%20%20%20%20%20%20%20%20%20%20%20var%20html_eca2c0e3140a4e2491e5129f9a49bb96%20%3D%20%24%28%60%3Cdiv%20id%3D%22html_eca2c0e3140a4e2491e5129f9a49bb96%22%20style%3D%22width%3A%20100.0%25%3B%20height%3A%20100.0%25%3B%22%3E%EC%84%9C%EC%9A%B8%ED%8A%B9%EB%B3%84%EC%8B%9C%20%EB%85%B8%EC%9B%90%EA%B5%AC%20%EB%85%B8%ED%95%B4%EB%A1%9C%20437%28%EC%83%81%EA%B3%84%EB%8F%99%29%3C/div%3E%60%29%5B0%5D%3B%0A%20%20%20%20%20%20%20%20%20%20%20%20popup_12db1874e3d248baa4e839363d5a7a37.setContent%28html_eca2c0e3140a4e2491e5129f9a49bb96%29%3B%0A%20%20%20%20%20%20%20%20%0A%0A%20%20%20%20%20%20%20%20circle_6ad126b9e1f249b7833006a732ec4371.bindPopup%28popup_12db1874e3d248baa4e839363d5a7a37%29%0A%20%20%20%20%20%20%20%20%3B%0A%0A%20%20%20%20%20%20%20%20%0A%20%20%20%20%0A%20%20%20%20%0A%20%20%20%20%20%20%20%20%20%20%20%20circle_6ad126b9e1f249b7833006a732ec4371.bindTooltip%28%0A%20%20%20%20%20%20%20%20%20%20%20%20%20%20%20%20%60%3Cdiv%3E%0A%20%20%20%20%20%20%20%20%20%20%20%20%20%20%20%20%20%20%20%20%20%EB%85%B8%EC%9B%90%EA%B5%AC%EC%B2%AD%0A%20%20%20%20%20%20%20%20%20%20%20%20%20%20%20%20%20%3C/div%3E%60%2C%0A%20%20%20%20%20%20%20%20%20%20%20%20%20%20%20%20%7B%22sticky%22%3A%20true%7D%0A%20%20%20%20%20%20%20%20%20%20%20%20%29%3B%0A%20%20%20%20%20%20%20%20%0A%20%20%20%20%0A%20%20%20%20%20%20%20%20%20%20%20%20var%20circle_d3b11b70fcc5401aab34488e1ab12702%20%3D%20L.circle%28%0A%20%20%20%20%20%20%20%20%20%20%20%20%20%20%20%20%5B37.514477182474%2C%20127.105859984389%5D%2C%0A%20%20%20%20%20%20%20%20%20%20%20%20%20%20%20%20%7B%22bubblingMouseEvents%22%3A%20true%2C%20%22color%22%3A%20%22%233186cc%22%2C%20%22dashArray%22%3A%20null%2C%20%22dashOffset%22%3A%20null%2C%20%22fill%22%3A%20true%2C%20%22fillColor%22%3A%20%22%233186cc%22%2C%20%22fillOpacity%22%3A%200.2%2C%20%22fillRule%22%3A%20%22evenodd%22%2C%20%22lineCap%22%3A%20%22round%22%2C%20%22lineJoin%22%3A%20%22round%22%2C%20%22opacity%22%3A%201.0%2C%20%22radius%22%3A%20200%2C%20%22stroke%22%3A%20true%2C%20%22weight%22%3A%203%7D%0A%20%20%20%20%20%20%20%20%20%20%20%20%29.addTo%28map_251273c0c59b4529bfdece23bf910974%29%3B%0A%20%20%20%20%20%20%20%20%0A%20%20%20%20%0A%20%20%20%20%20%20%20%20var%20popup_6fee87ea02e64201a5bf511252c85201%20%3D%20L.popup%28%7B%22maxWidth%22%3A%20200%7D%29%3B%0A%0A%20%20%20%20%20%20%20%20%0A%20%20%20%20%20%20%20%20%20%20%20%20var%20html_6488839f15ed4715a07e22f328ae8124%20%3D%20%24%28%60%3Cdiv%20id%3D%22html_6488839f15ed4715a07e22f328ae8124%22%20style%3D%22width%3A%20100.0%25%3B%20height%3A%20100.0%25%3B%22%3E%EC%84%9C%EC%9A%B8%ED%8A%B9%EB%B3%84%EC%8B%9C%20%EC%86%A1%ED%8C%8C%EA%B5%AC%20%EC%98%AC%EB%A6%BC%ED%94%BD%EB%A1%9C%20326%28%EC%8B%A0%EC%B2%9C%EB%8F%99%29%3C/div%3E%60%29%5B0%5D%3B%0A%20%20%20%20%20%20%20%20%20%20%20%20popup_6fee87ea02e64201a5bf511252c85201.setContent%28html_6488839f15ed4715a07e22f328ae8124%29%3B%0A%20%20%20%20%20%20%20%20%0A%0A%20%20%20%20%20%20%20%20circle_d3b11b70fcc5401aab34488e1ab12702.bindPopup%28popup_6fee87ea02e64201a5bf511252c85201%29%0A%20%20%20%20%20%20%20%20%3B%0A%0A%20%20%20%20%20%20%20%20%0A%20%20%20%20%0A%20%20%20%20%0A%20%20%20%20%20%20%20%20%20%20%20%20circle_d3b11b70fcc5401aab34488e1ab12702.bindTooltip%28%0A%20%20%20%20%20%20%20%20%20%20%20%20%20%20%20%20%60%3Cdiv%3E%0A%20%20%20%20%20%20%20%20%20%20%20%20%20%20%20%20%20%20%20%20%20%EC%86%A1%ED%8C%8C%EA%B5%AC%EC%B2%AD%0A%20%20%20%20%20%20%20%20%20%20%20%20%20%20%20%20%20%3C/div%3E%60%2C%0A%20%20%20%20%20%20%20%20%20%20%20%20%20%20%20%20%7B%22sticky%22%3A%20true%7D%0A%20%20%20%20%20%20%20%20%20%20%20%20%29%3B%0A%20%20%20%20%20%20%20%20%0A%20%20%20%20%0A%20%20%20%20%20%20%20%20%20%20%20%20var%20circle_6a9084c35fd5481e9e56275a88e689de%20%3D%20L.circle%28%0A%20%20%20%20%20%20%20%20%20%20%20%20%20%20%20%20%5B37.5634263131969%2C%20126.903356973848%5D%2C%0A%20%20%20%20%20%20%20%20%20%20%20%20%20%20%20%20%7B%22bubblingMouseEvents%22%3A%20true%2C%20%22color%22%3A%20%22%233186cc%22%2C%20%22dashArray%22%3A%20null%2C%20%22dashOffset%22%3A%20null%2C%20%22fill%22%3A%20true%2C%20%22fillColor%22%3A%20%22%233186cc%22%2C%20%22fillOpacity%22%3A%200.2%2C%20%22fillRule%22%3A%20%22evenodd%22%2C%20%22lineCap%22%3A%20%22round%22%2C%20%22lineJoin%22%3A%20%22round%22%2C%20%22opacity%22%3A%201.0%2C%20%22radius%22%3A%20200%2C%20%22stroke%22%3A%20true%2C%20%22weight%22%3A%203%7D%0A%20%20%20%20%20%20%20%20%20%20%20%20%29.addTo%28map_251273c0c59b4529bfdece23bf910974%29%3B%0A%20%20%20%20%20%20%20%20%0A%20%20%20%20%0A%20%20%20%20%20%20%20%20var%20popup_11ed1d61916c48ca8752dc106119b224%20%3D%20L.popup%28%7B%22maxWidth%22%3A%20200%7D%29%3B%0A%0A%20%20%20%20%20%20%20%20%0A%20%20%20%20%20%20%20%20%20%20%20%20var%20html_c6eca012ba5f4e389e59498474a80b20%20%3D%20%24%28%60%3Cdiv%20id%3D%22html_c6eca012ba5f4e389e59498474a80b20%22%20style%3D%22width%3A%20100.0%25%3B%20height%3A%20100.0%25%3B%22%3E%EC%84%9C%EC%9A%B8%ED%8A%B9%EB%B3%84%EC%8B%9C%20%EB%A7%88%ED%8F%AC%EA%B5%AC%20%EC%9B%94%EB%93%9C%EC%BB%B5%EB%A1%9C%20%EC%A7%80%ED%95%98190%28%EC%84%B1%EC%82%B0%EB%8F%99%29%3C/div%3E%60%29%5B0%5D%3B%0A%20%20%20%20%20%20%20%20%20%20%20%20popup_11ed1d61916c48ca8752dc106119b224.setContent%28html_c6eca012ba5f4e389e59498474a80b20%29%3B%0A%20%20%20%20%20%20%20%20%0A%0A%20%20%20%20%20%20%20%20circle_6a9084c35fd5481e9e56275a88e689de.bindPopup%28popup_11ed1d61916c48ca8752dc106119b224%29%0A%20%20%20%20%20%20%20%20%3B%0A%0A%20%20%20%20%20%20%20%20%0A%20%20%20%20%0A%20%20%20%20%0A%20%20%20%20%20%20%20%20%20%20%20%20circle_6a9084c35fd5481e9e56275a88e689de.bindTooltip%28%0A%20%20%20%20%20%20%20%20%20%20%20%20%20%20%20%20%60%3Cdiv%3E%0A%20%20%20%20%20%20%20%20%20%20%20%20%20%20%20%20%20%20%20%20%20%EB%A7%88%ED%8F%AC%EA%B5%AC%EC%B2%AD%0A%20%20%20%20%20%20%20%20%20%20%20%20%20%20%20%20%20%3C/div%3E%60%2C%0A%20%20%20%20%20%20%20%20%20%20%20%20%20%20%20%20%7B%22sticky%22%3A%20true%7D%0A%20%20%20%20%20%20%20%20%20%20%20%20%29%3B%0A%20%20%20%20%20%20%20%20%0A%20%20%20%20%0A%20%20%20%20%20%20%20%20%20%20%20%20var%20circle_30e1919d65cd4e87a4b9897fc9a275d3%20%3D%20L.circle%28%0A%20%20%20%20%20%20%20%20%20%20%20%20%20%20%20%20%5B37.5468670862325%2C%20126.820414204647%5D%2C%0A%20%20%20%20%20%20%20%20%20%20%20%20%20%20%20%20%7B%22bubblingMouseEvents%22%3A%20true%2C%20%22color%22%3A%20%22%233186cc%22%2C%20%22dashArray%22%3A%20null%2C%20%22dashOffset%22%3A%20null%2C%20%22fill%22%3A%20true%2C%20%22fillColor%22%3A%20%22%233186cc%22%2C%20%22fillOpacity%22%3A%200.2%2C%20%22fillRule%22%3A%20%22evenodd%22%2C%20%22lineCap%22%3A%20%22round%22%2C%20%22lineJoin%22%3A%20%22round%22%2C%20%22opacity%22%3A%201.0%2C%20%22radius%22%3A%20200%2C%20%22stroke%22%3A%20true%2C%20%22weight%22%3A%203%7D%0A%20%20%20%20%20%20%20%20%20%20%20%20%29.addTo%28map_251273c0c59b4529bfdece23bf910974%29%3B%0A%20%20%20%20%20%20%20%20%0A%20%20%20%20%0A%20%20%20%20%20%20%20%20var%20popup_da6f0b4ad5eb4beca514d876496a0e83%20%3D%20L.popup%28%7B%22maxWidth%22%3A%20200%7D%29%3B%0A%0A%20%20%20%20%20%20%20%20%0A%20%20%20%20%20%20%20%20%20%20%20%20var%20html_ff837b440fe9422ea9fbfc8fb0580d3f%20%3D%20%24%28%60%3Cdiv%20id%3D%22html_ff837b440fe9422ea9fbfc8fb0580d3f%22%20style%3D%22width%3A%20100.0%25%3B%20height%3A%20100.0%25%3B%22%3E%EC%84%9C%EC%9A%B8%ED%8A%B9%EB%B3%84%EC%8B%9C%20%EA%B0%95%EC%84%9C%EA%B5%AC%20%EB%82%A8%EB%B6%80%EC%88%9C%ED%99%98%EB%A1%9C%20208%28%EC%99%B8%EB%B0%9C%EC%82%B0%EB%8F%99%29%3C/div%3E%60%29%5B0%5D%3B%0A%20%20%20%20%20%20%20%20%20%20%20%20popup_da6f0b4ad5eb4beca514d876496a0e83.setContent%28html_ff837b440fe9422ea9fbfc8fb0580d3f%29%3B%0A%20%20%20%20%20%20%20%20%0A%0A%20%20%20%20%20%20%20%20circle_30e1919d65cd4e87a4b9897fc9a275d3.bindPopup%28popup_da6f0b4ad5eb4beca514d876496a0e83%29%0A%20%20%20%20%20%20%20%20%3B%0A%0A%20%20%20%20%20%20%20%20%0A%20%20%20%20%0A%20%20%20%20%0A%20%20%20%20%20%20%20%20%20%20%20%20circle_30e1919d65cd4e87a4b9897fc9a275d3.bindTooltip%28%0A%20%20%20%20%20%20%20%20%20%20%20%20%20%20%20%20%60%3Cdiv%3E%0A%20%20%20%20%20%20%20%20%20%20%20%20%20%20%20%20%20%20%20%20%20%EA%B0%95%EC%84%9C%EA%B5%AC%EC%B2%AD%0A%20%20%20%20%20%20%20%20%20%20%20%20%20%20%20%20%20%3C/div%3E%60%2C%0A%20%20%20%20%20%20%20%20%20%20%20%20%20%20%20%20%7B%22sticky%22%3A%20true%7D%0A%20%20%20%20%20%20%20%20%20%20%20%20%29%3B%0A%20%20%20%20%20%20%20%20%0A%3C/script%3E onload=\"this.contentDocument.open();this.contentDocument.write(    decodeURIComponent(this.getAttribute('data-html')));this.contentDocument.close();\" allowfullscreen webkitallowfullscreen mozallowfullscreen></iframe></div></div>"
      ]
     },
     "metadata": {},
     "execution_count": 10
    }
   ],
   "metadata": {}
  },
  {
   "cell_type": "code",
   "execution_count": 13,
   "source": [
    "df2 = pd.read_csv('data/서울공원.csv', encoding='euc-kr')\r\n",
    "\r\n",
    "df2.head()"
   ],
   "outputs": [
    {
     "output_type": "execute_result",
     "data": {
      "text/plain": [
       "   연번       공원명                                               공원개요  \\\n",
       "0   1  남산도시자연공원  남산공원은 도심에 위치하여 서울시민에게 맑은 공기를 제공하는 자연휴식처이며 산책 꽃...   \n",
       "1   2    길동생태공원  길동생태공원은 생물의 서식처를 제공하고 종다양성을 증진시키며 자연생태계의 생물들을 ...   \n",
       "2   3     서울대공원  서울대공원은 세계 각국의 야생동물들이 살아 숨 쉬는 서울동물원과 다양한 재미와 즐거...   \n",
       "3   4       서울숲  당초 골프장 승마장 등이 있던 뚝섬일대를 주거업무 지역으로 개발할 경우 약 4조원에...   \n",
       "4   5     월드컵공원  월드컵공원은 서울의 서쪽에 위치하여 1978년부터 1993년까지 15년간 서울시민이...   \n",
       "\n",
       "                                             면적        개원일  \\\n",
       "0  2896887㎡ 임 야 : 2454140㎡ 녹지대 및 기타시설 : 442747㎡  1968.9.10   \n",
       "1                                        80683㎡  1999.5.20   \n",
       "2                                     9132690m²   1984.5.1   \n",
       "3                                       480994㎡  2005.6.18   \n",
       "4                                      2284085㎡   2002.5.1   \n",
       "\n",
       "                                                주요시설  \\\n",
       "0  기반시설 : 광장 45950㎡ 도로 108530㎡ 산책로 6.7㎞ (북측:3.7㎞/...   \n",
       "1               탐방객안내소 야외전시대 관찰대 목재데크 조류관찰대 길동생태문화센터   \n",
       "2  동물원 식물원 테마가든(장미원 어린이동물원 피크닉장) 치유숲 산림욕장 캠핑장 국립현...   \n",
       "3  4개 테마공원: 문화예술공원 자연생태숲 자연체험학습원 습지생태원 주요시설: 가족마당...   \n",
       "4  평화의 공원 월드컵공원전시관(879㎡) 유니세프광장(2400㎡) 평화광장(5217㎡...   \n",
       "\n",
       "                                                주요식물  \\\n",
       "0                  소나무 단풍 아카시아 상수리나무 등 191종 2881870주   \n",
       "1          소나무 보리수 등 64종 31800주 산국 부들 등 138종 192800본   \n",
       "2                                                NaN   \n",
       "3  수 목 : 소나무 섬잣나무 계수나무 외 95종 415795주 식물원 : 선인장 등 ...   \n",
       "4                                                NaN   \n",
       "\n",
       "                                                 안내도  \\\n",
       "0  http://parks.seoul.go.kr/upload/seditorMulti/2...   \n",
       "1  http://parks.seoul.go.kr/template/common/img/p...   \n",
       "2                                                NaN   \n",
       "3  http://parks.seoul.go.kr/template/common/img/p...   \n",
       "4  http://parks.seoul.go.kr/template/common/img/p...   \n",
       "\n",
       "                                                오시는길  \\\n",
       "0  명동역(남산케이블카 와룡묘 서울애니메이션센터 방면) 도보 명동역 3번출구 → 퍼시픽...   \n",
       "1                                                NaN   \n",
       "2  지하철 4호선 대공원역 하차(2번 출구) 도보 15분 정도 문의처 02)500-73...   \n",
       "3                                                NaN   \n",
       "4  지하철 6호선 월드컵경기장역 하차 → 1번 출구로 나온 후 직진 → 큰길(도로)이 ...   \n",
       "\n",
       "                                             이용시참고사항  \\\n",
       "0  남산공원 차량통행 금지안내 2005년 5월 1일부터 남산공원에 일반승용차 택시 통행...   \n",
       "1  매주 월요일은 휴관입니다 사전예약 후 입장하실 수 있습니다. ▶ 인터넷 예약 바로가...   \n",
       "2  일반사항 공원을 깨끗하게 이용합니다. 대중교통을 이용해 주세요. 기념물 시설물 풀과...   \n",
       "3  지하철 분당선 서울숲역 3번출구 도보로 약5분 2호선 뚝섬역 8번출구 도보로 약 1...   \n",
       "4  일반사항 공원을 깨끗하게 이용합니다. 대중교통을 이용해 주세요. 기념물 시설물 풀과...   \n",
       "\n",
       "                                                 이미지   지역  \\\n",
       "0  http://parks.seoul.go.kr/file/info/view.do?fId...   중구   \n",
       "1  http://parks.seoul.go.kr/file/info/view.do?fId...  강동구   \n",
       "2  http://parks.seoul.go.kr/file/info/view.do?fId...  과천시   \n",
       "3  http://parks.seoul.go.kr/file/info/view.do?fId...  성동구   \n",
       "4  http://parks.seoul.go.kr/file/info/view.do?fId...  마포구   \n",
       "\n",
       "                           공원주소              관리부서          전화번호  X좌표(GRS80TM)  \\\n",
       "0        서울특별시 중구 삼일대로 231(예장동)    서울특별시중부푸른도시사업소  02-3783-5900    198364.107   \n",
       "1  서울특별시 강동구 천호대로 1291(길동생태공원)   동부공원녹지사업소 길동생태공원   02-489-2770    213554.120   \n",
       "2            경기도 과천시 대공원광장로 102             전략기획실   02-500-7032    200994.267   \n",
       "3    서울특별시 성동구 뚝섬로 273 (성수동1가)          서울숲 관리사무소  02-460-2905     203695.432   \n",
       "4     서울특별시 마포구 하늘공원로 84(월드컵공원)             월드컵공원   02-300-5500    190658.070   \n",
       "\n",
       "   Y좌표(GRS80TM)  X좌표(WGS84)  Y좌표(WGS84)  \\\n",
       "0    450395.554  126.990377   37.550140   \n",
       "1    448852.675  127.154779   37.540394   \n",
       "2    437163.981  127.019846   37.426449   \n",
       "3    449290.726  127.041798   37.543072   \n",
       "4    451598.831  126.878907   37.571805   \n",
       "\n",
       "                                                바로가기  \n",
       "0    http://parks.seoul.go.kr/template/sub/namsan.do  \n",
       "1   http://parks.seoul.go.kr/template/sub/gildong.do  \n",
       "2                      http://grandpark.seoul.go.kr/  \n",
       "3  http://parks.seoul.go.kr/template/sub/seoulfor...  \n",
       "4  http://parks.seoul.go.kr/template/sub/worldcup...  "
      ],
      "text/html": [
       "<div>\n",
       "<style scoped>\n",
       "    .dataframe tbody tr th:only-of-type {\n",
       "        vertical-align: middle;\n",
       "    }\n",
       "\n",
       "    .dataframe tbody tr th {\n",
       "        vertical-align: top;\n",
       "    }\n",
       "\n",
       "    .dataframe thead th {\n",
       "        text-align: right;\n",
       "    }\n",
       "</style>\n",
       "<table border=\"1\" class=\"dataframe\">\n",
       "  <thead>\n",
       "    <tr style=\"text-align: right;\">\n",
       "      <th></th>\n",
       "      <th>연번</th>\n",
       "      <th>공원명</th>\n",
       "      <th>공원개요</th>\n",
       "      <th>면적</th>\n",
       "      <th>개원일</th>\n",
       "      <th>주요시설</th>\n",
       "      <th>주요식물</th>\n",
       "      <th>안내도</th>\n",
       "      <th>오시는길</th>\n",
       "      <th>이용시참고사항</th>\n",
       "      <th>이미지</th>\n",
       "      <th>지역</th>\n",
       "      <th>공원주소</th>\n",
       "      <th>관리부서</th>\n",
       "      <th>전화번호</th>\n",
       "      <th>X좌표(GRS80TM)</th>\n",
       "      <th>Y좌표(GRS80TM)</th>\n",
       "      <th>X좌표(WGS84)</th>\n",
       "      <th>Y좌표(WGS84)</th>\n",
       "      <th>바로가기</th>\n",
       "    </tr>\n",
       "  </thead>\n",
       "  <tbody>\n",
       "    <tr>\n",
       "      <th>0</th>\n",
       "      <td>1</td>\n",
       "      <td>남산도시자연공원</td>\n",
       "      <td>남산공원은 도심에 위치하여 서울시민에게 맑은 공기를 제공하는 자연휴식처이며 산책 꽃...</td>\n",
       "      <td>2896887㎡ 임 야 : 2454140㎡ 녹지대 및 기타시설 : 442747㎡</td>\n",
       "      <td>1968.9.10</td>\n",
       "      <td>기반시설 : 광장 45950㎡ 도로 108530㎡ 산책로 6.7㎞ (북측:3.7㎞/...</td>\n",
       "      <td>소나무 단풍 아카시아 상수리나무 등 191종 2881870주</td>\n",
       "      <td>http://parks.seoul.go.kr/upload/seditorMulti/2...</td>\n",
       "      <td>명동역(남산케이블카 와룡묘 서울애니메이션센터 방면) 도보 명동역 3번출구 → 퍼시픽...</td>\n",
       "      <td>남산공원 차량통행 금지안내 2005년 5월 1일부터 남산공원에 일반승용차 택시 통행...</td>\n",
       "      <td>http://parks.seoul.go.kr/file/info/view.do?fId...</td>\n",
       "      <td>중구</td>\n",
       "      <td>서울특별시 중구 삼일대로 231(예장동)</td>\n",
       "      <td>서울특별시중부푸른도시사업소</td>\n",
       "      <td>02-3783-5900</td>\n",
       "      <td>198364.107</td>\n",
       "      <td>450395.554</td>\n",
       "      <td>126.990377</td>\n",
       "      <td>37.550140</td>\n",
       "      <td>http://parks.seoul.go.kr/template/sub/namsan.do</td>\n",
       "    </tr>\n",
       "    <tr>\n",
       "      <th>1</th>\n",
       "      <td>2</td>\n",
       "      <td>길동생태공원</td>\n",
       "      <td>길동생태공원은 생물의 서식처를 제공하고 종다양성을 증진시키며 자연생태계의 생물들을 ...</td>\n",
       "      <td>80683㎡</td>\n",
       "      <td>1999.5.20</td>\n",
       "      <td>탐방객안내소 야외전시대 관찰대 목재데크 조류관찰대 길동생태문화센터</td>\n",
       "      <td>소나무 보리수 등 64종 31800주 산국 부들 등 138종 192800본</td>\n",
       "      <td>http://parks.seoul.go.kr/template/common/img/p...</td>\n",
       "      <td>NaN</td>\n",
       "      <td>매주 월요일은 휴관입니다 사전예약 후 입장하실 수 있습니다. ▶ 인터넷 예약 바로가...</td>\n",
       "      <td>http://parks.seoul.go.kr/file/info/view.do?fId...</td>\n",
       "      <td>강동구</td>\n",
       "      <td>서울특별시 강동구 천호대로 1291(길동생태공원)</td>\n",
       "      <td>동부공원녹지사업소 길동생태공원</td>\n",
       "      <td>02-489-2770</td>\n",
       "      <td>213554.120</td>\n",
       "      <td>448852.675</td>\n",
       "      <td>127.154779</td>\n",
       "      <td>37.540394</td>\n",
       "      <td>http://parks.seoul.go.kr/template/sub/gildong.do</td>\n",
       "    </tr>\n",
       "    <tr>\n",
       "      <th>2</th>\n",
       "      <td>3</td>\n",
       "      <td>서울대공원</td>\n",
       "      <td>서울대공원은 세계 각국의 야생동물들이 살아 숨 쉬는 서울동물원과 다양한 재미와 즐거...</td>\n",
       "      <td>9132690m²</td>\n",
       "      <td>1984.5.1</td>\n",
       "      <td>동물원 식물원 테마가든(장미원 어린이동물원 피크닉장) 치유숲 산림욕장 캠핑장 국립현...</td>\n",
       "      <td>NaN</td>\n",
       "      <td>NaN</td>\n",
       "      <td>지하철 4호선 대공원역 하차(2번 출구) 도보 15분 정도 문의처 02)500-73...</td>\n",
       "      <td>일반사항 공원을 깨끗하게 이용합니다. 대중교통을 이용해 주세요. 기념물 시설물 풀과...</td>\n",
       "      <td>http://parks.seoul.go.kr/file/info/view.do?fId...</td>\n",
       "      <td>과천시</td>\n",
       "      <td>경기도 과천시 대공원광장로 102</td>\n",
       "      <td>전략기획실</td>\n",
       "      <td>02-500-7032</td>\n",
       "      <td>200994.267</td>\n",
       "      <td>437163.981</td>\n",
       "      <td>127.019846</td>\n",
       "      <td>37.426449</td>\n",
       "      <td>http://grandpark.seoul.go.kr/</td>\n",
       "    </tr>\n",
       "    <tr>\n",
       "      <th>3</th>\n",
       "      <td>4</td>\n",
       "      <td>서울숲</td>\n",
       "      <td>당초 골프장 승마장 등이 있던 뚝섬일대를 주거업무 지역으로 개발할 경우 약 4조원에...</td>\n",
       "      <td>480994㎡</td>\n",
       "      <td>2005.6.18</td>\n",
       "      <td>4개 테마공원: 문화예술공원 자연생태숲 자연체험학습원 습지생태원 주요시설: 가족마당...</td>\n",
       "      <td>수 목 : 소나무 섬잣나무 계수나무 외 95종 415795주 식물원 : 선인장 등 ...</td>\n",
       "      <td>http://parks.seoul.go.kr/template/common/img/p...</td>\n",
       "      <td>NaN</td>\n",
       "      <td>지하철 분당선 서울숲역 3번출구 도보로 약5분 2호선 뚝섬역 8번출구 도보로 약 1...</td>\n",
       "      <td>http://parks.seoul.go.kr/file/info/view.do?fId...</td>\n",
       "      <td>성동구</td>\n",
       "      <td>서울특별시 성동구 뚝섬로 273 (성수동1가)</td>\n",
       "      <td>서울숲 관리사무소</td>\n",
       "      <td>02-460-2905</td>\n",
       "      <td>203695.432</td>\n",
       "      <td>449290.726</td>\n",
       "      <td>127.041798</td>\n",
       "      <td>37.543072</td>\n",
       "      <td>http://parks.seoul.go.kr/template/sub/seoulfor...</td>\n",
       "    </tr>\n",
       "    <tr>\n",
       "      <th>4</th>\n",
       "      <td>5</td>\n",
       "      <td>월드컵공원</td>\n",
       "      <td>월드컵공원은 서울의 서쪽에 위치하여 1978년부터 1993년까지 15년간 서울시민이...</td>\n",
       "      <td>2284085㎡</td>\n",
       "      <td>2002.5.1</td>\n",
       "      <td>평화의 공원 월드컵공원전시관(879㎡) 유니세프광장(2400㎡) 평화광장(5217㎡...</td>\n",
       "      <td>NaN</td>\n",
       "      <td>http://parks.seoul.go.kr/template/common/img/p...</td>\n",
       "      <td>지하철 6호선 월드컵경기장역 하차 → 1번 출구로 나온 후 직진 → 큰길(도로)이 ...</td>\n",
       "      <td>일반사항 공원을 깨끗하게 이용합니다. 대중교통을 이용해 주세요. 기념물 시설물 풀과...</td>\n",
       "      <td>http://parks.seoul.go.kr/file/info/view.do?fId...</td>\n",
       "      <td>마포구</td>\n",
       "      <td>서울특별시 마포구 하늘공원로 84(월드컵공원)</td>\n",
       "      <td>월드컵공원</td>\n",
       "      <td>02-300-5500</td>\n",
       "      <td>190658.070</td>\n",
       "      <td>451598.831</td>\n",
       "      <td>126.878907</td>\n",
       "      <td>37.571805</td>\n",
       "      <td>http://parks.seoul.go.kr/template/sub/worldcup...</td>\n",
       "    </tr>\n",
       "  </tbody>\n",
       "</table>\n",
       "</div>"
      ]
     },
     "metadata": {},
     "execution_count": 13
    }
   ],
   "metadata": {}
  }
 ],
 "metadata": {
  "orig_nbformat": 4,
  "language_info": {
   "name": "python",
   "version": "3.8.10",
   "mimetype": "text/x-python",
   "codemirror_mode": {
    "name": "ipython",
    "version": 3
   },
   "pygments_lexer": "ipython3",
   "nbconvert_exporter": "python",
   "file_extension": ".py"
  },
  "kernelspec": {
   "name": "python3",
   "display_name": "Python 3.8.10 64-bit ('base': conda)"
  },
  "interpreter": {
   "hash": "345fc451c7e0336b9390ad1fad588039702f89ec6d37597eff879e480e25ffdb"
  }
 },
 "nbformat": 4,
 "nbformat_minor": 2
}
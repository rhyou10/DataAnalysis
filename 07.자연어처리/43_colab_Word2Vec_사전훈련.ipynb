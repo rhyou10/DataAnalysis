{
  "nbformat": 4,
  "nbformat_minor": 2,
  "metadata": {
    "colab": {
      "name": "43_word2vec_사전훈련.ipynb",
      "provenance": []
    },
    "kernelspec": {
      "name": "python3",
      "display_name": "Python 3.8.10 64-bit ('base': conda)"
    },
    "language_info": {
      "name": "python",
      "version": "3.8.10"
    },
    "interpreter": {
      "hash": "345fc451c7e0336b9390ad1fad588039702f89ec6d37597eff879e480e25ffdb"
    }
  },
  "cells": [
    {
      "cell_type": "markdown",
      "source": [
        "# 사전훈련되 Word2vec"
      ],
      "metadata": {
        "id": "dDQyXz5eSOgW"
      }
    },
    {
      "cell_type": "markdown",
      "source": [
        "## 1. 영어\n",
        "- 구글은 사전 훈련된 3백만 개의 Word2Vec 단어 벡터를 제공\n",
        "- 모바일 다운로드 경로 \"https://dumps.wikimedia.org/kowiki/latest/\""
      ],
      "metadata": {
        "id": "uQNu26grSTCg"
      }
    },
    {
      "cell_type": "code",
      "execution_count": 2,
      "source": [
        "!wget -c \"https://s3.amazonaws.com/dl4j-distribution/GoogleNews-vectors-negative300.bin.gz\""
      ],
      "outputs": [
        {
          "output_type": "stream",
          "name": "stdout",
          "text": [
            "--2021-09-03 06:23:06--  https://s3.amazonaws.com/dl4j-distribution/GoogleNews-vectors-negative300.bin.gz\n",
            "Resolving s3.amazonaws.com (s3.amazonaws.com)... 52.217.174.184\n",
            "Connecting to s3.amazonaws.com (s3.amazonaws.com)|52.217.174.184|:443... connected.\n",
            "HTTP request sent, awaiting response... 200 OK\n",
            "Length: 1647046227 (1.5G) [application/x-gzip]\n",
            "Saving to: ‘GoogleNews-vectors-negative300.bin.gz’\n",
            "\n",
            "GoogleNews-vectors- 100%[===================>]   1.53G  50.0MB/s    in 27s     \n",
            "\n",
            "2021-09-03 06:23:34 (57.6 MB/s) - ‘GoogleNews-vectors-negative300.bin.gz’ saved [1647046227/1647046227]\n",
            "\n"
          ]
        }
      ],
      "metadata": {
        "colab": {
          "base_uri": "https://localhost:8080/"
        },
        "id": "VyGKE7OaSLEr",
        "outputId": "5ffffd37-8a3e-4e80-d2f9-4ef2021ffc45"
      }
    },
    {
      "cell_type": "code",
      "execution_count": 3,
      "source": [
        "!gzip -d GoogleNews-vectors-negative300.bin.gz"
      ],
      "outputs": [
        {
          "output_type": "stream",
          "name": "stdout",
          "text": [
            "gzip: GoogleNews-vectors-negative300.bin already exists; do you wish to overwrite (y or n)? n\n",
            "\tnot overwritten\n"
          ]
        }
      ],
      "metadata": {
        "colab": {
          "base_uri": "https://localhost:8080/"
        },
        "id": "EP2VSNBESVjn",
        "outputId": "7dc7549d-e7fd-4b7c-ccb2-6924aedb3060"
      }
    },
    {
      "cell_type": "code",
      "execution_count": 4,
      "source": [
        "!ls -l"
      ],
      "outputs": [
        {
          "output_type": "stream",
          "name": "stdout",
          "text": [
            "total 5167304\n",
            "-rw-r--r-- 1 root root 3644258522 Mar  5  2015 GoogleNews-vectors-negative300.bin\n",
            "-rw-r--r-- 1 root root 1647046227 Mar  5  2015 GoogleNews-vectors-negative300.bin.gz\n",
            "drwxr-xr-x 1 root root       4096 Sep  1 19:26 sample_data\n"
          ]
        }
      ],
      "metadata": {
        "colab": {
          "base_uri": "https://localhost:8080/"
        },
        "id": "fRw2C7xLSpc9",
        "outputId": "322bb6ff-783b-4c6e-82f1-ab7e07298e8b"
      }
    },
    {
      "cell_type": "code",
      "execution_count": 1,
      "source": [
        "import gensim\r\n"
      ],
      "outputs": [],
      "metadata": {
        "id": "iQA2w_PxTqVe"
      }
    },
    {
      "cell_type": "code",
      "execution_count": null,
      "source": [
        "model = gensim.models.KeyedVectors.load_word2vec_format('GoogleNews-vectors-negative300.bin', binary=True)  "
      ],
      "outputs": [],
      "metadata": {
        "id": "sw_PznS6T6Nl"
      }
    },
    {
      "cell_type": "code",
      "execution_count": null,
      "source": [
        "model.vectors.shape"
      ],
      "outputs": [],
      "metadata": {
        "id": "f_E_RCNfUCnV"
      }
    },
    {
      "cell_type": "code",
      "execution_count": null,
      "source": [
        "print (model.similarity('this', 'is')) # 두 단어의 유사도 계산하기\r\n",
        "print (model.similarity('post', 'book'))"
      ],
      "outputs": [],
      "metadata": {
        "id": "fbZhwUFuUXHk"
      }
    },
    {
      "cell_type": "code",
      "execution_count": null,
      "source": [
        "model.most_similar('book')"
      ],
      "outputs": [],
      "metadata": {
        "id": "bU2GmwDNUod9"
      }
    },
    {
      "cell_type": "markdown",
      "source": [
        "## 2. 한글\n",
        "- 박규영 깃허부 주소 : https://github.com/Kyubyong/wordvectors\n",
        "- 모델 다운로드 경로 : https://drive.google.com/file/d/0B0ZXk88koS2KbDhXdWg1Q2RydlU/view"
      ],
      "metadata": {
        "id": "T_5Jhd0oVDeN"
      }
    },
    {
      "cell_type": "code",
      "execution_count": null,
      "source": [],
      "outputs": [],
      "metadata": {
        "id": "Zr6aFbqVVKt1"
      }
    },
    {
      "cell_type": "code",
      "execution_count": 2,
      "source": [
        "!unzip ko.zip"
      ],
      "outputs": [
        {
          "output_type": "stream",
          "name": "stdout",
          "text": [
            "Archive:  ko.zip\n",
            "replace ko.bin? [y]es, [n]o, [A]ll, [N]one, [r]ename: n\n",
            "replace ko.tsv? [y]es, [n]o, [A]ll, [N]one, [r]ename: n\n"
          ]
        }
      ],
      "metadata": {
        "colab": {
          "base_uri": "https://localhost:8080/"
        },
        "id": "0Oa0iSV9X4AF",
        "outputId": "75733b46-2c0f-4f05-813f-388b849cd47b"
      }
    },
    {
      "cell_type": "code",
      "execution_count": 8,
      "source": [
        "import gensim\r\n",
        "kmodel = gensim.models.Word2Vec.load('ko.bin')"
      ],
      "outputs": [],
      "metadata": {
        "id": "AjDSQPfYYQ09"
      }
    },
    {
      "cell_type": "code",
      "execution_count": 9,
      "source": [
        "result = kmodel.wv.most_similar(\"강아지\")\r\n",
        "print(result)"
      ],
      "outputs": [
        {
          "output_type": "stream",
          "name": "stdout",
          "text": [
            "[('고양이', 0.7290452718734741), ('거위', 0.7185635566711426), ('토끼', 0.7056223154067993), ('멧돼지', 0.6950401067733765), ('엄마', 0.6934334635734558), ('난쟁이', 0.6806551218032837), ('한마리', 0.6770296096801758), ('아가씨', 0.6750352382659912), ('아빠', 0.6729634404182434), ('목걸이', 0.6512460708618164)]\n"
          ]
        }
      ],
      "metadata": {
        "colab": {
          "base_uri": "https://localhost:8080/"
        },
        "id": "sx-ikNY1YUX1",
        "outputId": "c8d9ec41-9faf-4aa1-a23c-d2212fa78535"
      }
    },
    {
      "cell_type": "code",
      "execution_count": 10,
      "source": [
        "#한국 = 서울 + 도쿄\r\n",
        "kmodel.wv.most_similar(positive=['한국', '도쿄'], negative=['서울'], topn=3)"
      ],
      "outputs": [
        {
          "output_type": "execute_result",
          "data": {
            "text/plain": [
              "[('일본', 0.5835654735565186),\n",
              " ('홋카이', 0.502429723739624),\n",
              " ('오사카', 0.431940495967865)]"
            ]
          },
          "metadata": {},
          "execution_count": 10
        }
      ],
      "metadata": {
        "colab": {
          "base_uri": "https://localhost:8080/"
        },
        "id": "cLIcG2lqYruG",
        "outputId": "4301e134-13c9-4e89-8fa4-36f11b162b70"
      }
    }
  ]
}
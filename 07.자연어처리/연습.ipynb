{
 "cells": [
  {
   "cell_type": "code",
   "execution_count": 1,
   "source": [
    "from nltk.tokenize import word_tokenize  "
   ],
   "outputs": [],
   "metadata": {}
  },
  {
   "cell_type": "code",
   "execution_count": 17,
   "source": [
    "text = \"Don't hihi hello i'm you're !@# $i'asd asd'asdas Don't\"\r\n",
    "word_tokenize(text)"
   ],
   "outputs": [
    {
     "output_type": "execute_result",
     "data": {
      "text/plain": [
       "['Do',\n",
       " \"n't\",\n",
       " 'hihi',\n",
       " 'hello',\n",
       " 'i',\n",
       " \"'m\",\n",
       " 'you',\n",
       " \"'re\",\n",
       " '!',\n",
       " '@',\n",
       " '#',\n",
       " '$',\n",
       " \"i'asd\",\n",
       " \"asd'asdas\",\n",
       " 'Do',\n",
       " \"n't\"]"
      ]
     },
     "metadata": {},
     "execution_count": 17
    }
   ],
   "metadata": {}
  },
  {
   "cell_type": "code",
   "execution_count": 13,
   "source": [
    "from nltk.tokenize import WordPunctTokenizer "
   ],
   "outputs": [],
   "metadata": {}
  },
  {
   "cell_type": "code",
   "execution_count": 18,
   "source": [
    "WordPunctTokenizer().tokenize(text)"
   ],
   "outputs": [
    {
     "output_type": "execute_result",
     "data": {
      "text/plain": [
       "['Don',\n",
       " \"'\",\n",
       " 't',\n",
       " 'hihi',\n",
       " 'hello',\n",
       " 'i',\n",
       " \"'\",\n",
       " 'm',\n",
       " 'you',\n",
       " \"'\",\n",
       " 're',\n",
       " '!@#',\n",
       " '$',\n",
       " 'i',\n",
       " \"'\",\n",
       " 'asd',\n",
       " 'asd',\n",
       " \"'\",\n",
       " 'asdas',\n",
       " 'Don',\n",
       " \"'\",\n",
       " 't']"
      ]
     },
     "metadata": {},
     "execution_count": 18
    }
   ],
   "metadata": {}
  },
  {
   "cell_type": "code",
   "execution_count": 19,
   "source": [
    "from tensorflow.keras.preprocessing.text import text_to_word_sequence\r\n",
    "text_to_word_sequence(text)"
   ],
   "outputs": [
    {
     "output_type": "execute_result",
     "data": {
      "text/plain": [
       "[\"don't\", 'hihi', 'hello', \"i'm\", \"you're\", \"i'asd\", \"asd'asdas\", \"don't\"]"
      ]
     },
     "metadata": {},
     "execution_count": 19
    }
   ],
   "metadata": {}
  }
 ],
 "metadata": {
  "orig_nbformat": 4,
  "language_info": {
   "name": "python",
   "version": "3.8.10",
   "mimetype": "text/x-python",
   "codemirror_mode": {
    "name": "ipython",
    "version": 3
   },
   "pygments_lexer": "ipython3",
   "nbconvert_exporter": "python",
   "file_extension": ".py"
  },
  "kernelspec": {
   "name": "python3",
   "display_name": "Python 3.8.10 64-bit ('base': conda)"
  },
  "interpreter": {
   "hash": "345fc451c7e0336b9390ad1fad588039702f89ec6d37597eff879e480e25ffdb"
  }
 },
 "nbformat": 4,
 "nbformat_minor": 2
}
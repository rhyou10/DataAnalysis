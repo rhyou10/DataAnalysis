{
 "cells": [
  {
   "cell_type": "code",
   "execution_count": 1,
   "source": [
    "import requests\r\n",
    "from selenium import webdriver\r\n",
    "from bs4 import BeautifulSoup\r\n",
    "from selenium.webdriver.common.keys import Keys\r\n",
    "from urllib.parse import quote\r\n",
    "import time"
   ],
   "outputs": [],
   "metadata": {}
  },
  {
   "cell_type": "code",
   "execution_count": 2,
   "source": [
    "driver = webdriver.Chrome('data/chromedriver')\r\n",
    "base_url =f\"https://search.naver.com/search.naver?where=view&sm=tab_viw.blog&query=\"\r\n",
    "url = base_url+ quote('터키시앙고라')\r\n",
    "driver.get(url)\r\n",
    "time.sleep(1)"
   ],
   "outputs": [],
   "metadata": {}
  },
  {
   "cell_type": "code",
   "execution_count": 3,
   "source": [
    "body = driver.find_element_by_tag_name('body')\r\n",
    "for i in range(30):\r\n",
    "    body.send_keys(Keys.PAGE_DOWN)\r\n",
    "    time.sleep(0.5)"
   ],
   "outputs": [],
   "metadata": {}
  },
  {
   "cell_type": "code",
   "execution_count": 4,
   "source": [
    "html = driver.page_source\r\n",
    "soup = BeautifulSoup(html,'html.parser')"
   ],
   "outputs": [],
   "metadata": {}
  },
  {
   "cell_type": "code",
   "execution_count": 5,
   "source": [
    "lis = soup.select('.bx._svp_item')"
   ],
   "outputs": [],
   "metadata": {}
  },
  {
   "cell_type": "code",
   "execution_count": 6,
   "source": [
    "text_list=[]\r\n",
    "title_list=[]\r\n",
    "for li in lis:\r\n",
    "    text = li.select_one('.api_txt_lines.dsc_txt').get_text()\r\n",
    "    title = li.select_one('.total_tit').get_text()\r\n",
    "    text_list.append(text)\r\n",
    "    title_list.append(title)"
   ],
   "outputs": [],
   "metadata": {}
  },
  {
   "cell_type": "code",
   "execution_count": 7,
   "source": [
    "import pandas as pd\r\n",
    "cat = pd.DataFrame({\r\n",
    "    'title' : title_list,\r\n",
    "    'text' : text_list\r\n",
    "})"
   ],
   "outputs": [],
   "metadata": {}
  },
  {
   "cell_type": "code",
   "execution_count": 9,
   "source": [
    "cat.to_csv('data/고양이데이터프레임자료.csv')"
   ],
   "outputs": [],
   "metadata": {}
  },
  {
   "cell_type": "code",
   "execution_count": 10,
   "source": [
    "text_list.extend(title_list)"
   ],
   "outputs": [],
   "metadata": {}
  },
  {
   "cell_type": "code",
   "execution_count": 11,
   "source": [
    "with open('data/cat', 'w',encoding='utf-8') as fp:\r\n",
    "    for text in text_list:\r\n",
    "        fp.write(text+'\\n')\r\n"
   ],
   "outputs": [],
   "metadata": {}
  },
  {
   "cell_type": "code",
   "execution_count": 12,
   "source": [
    "driver.close()"
   ],
   "outputs": [],
   "metadata": {}
  }
 ],
 "metadata": {
  "orig_nbformat": 4,
  "language_info": {
   "name": "python",
   "version": "3.8.10",
   "mimetype": "text/x-python",
   "codemirror_mode": {
    "name": "ipython",
    "version": 3
   },
   "pygments_lexer": "ipython3",
   "nbconvert_exporter": "python",
   "file_extension": ".py"
  },
  "kernelspec": {
   "name": "python3",
   "display_name": "Python 3.8.10 64-bit ('base': conda)"
  },
  "interpreter": {
   "hash": "345fc451c7e0336b9390ad1fad588039702f89ec6d37597eff879e480e25ffdb"
  }
 },
 "nbformat": 4,
 "nbformat_minor": 2
}
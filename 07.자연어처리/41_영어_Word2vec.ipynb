{
 "cells": [
  {
   "cell_type": "markdown",
   "source": [
    "# 영어 Word2Vec 만들기"
   ],
   "metadata": {}
  },
  {
   "cell_type": "code",
   "execution_count": 4,
   "source": [
    "import nltk\r\n",
    "nltk.download('punkt')"
   ],
   "outputs": [
    {
     "output_type": "stream",
     "name": "stderr",
     "text": [
      "[nltk_data] Downloading package punkt to\n",
      "[nltk_data]     C:\\Users\\TH\\AppData\\Roaming\\nltk_data...\n",
      "[nltk_data]   Package punkt is already up-to-date!\n"
     ]
    },
    {
     "output_type": "execute_result",
     "data": {
      "text/plain": [
       "True"
      ]
     },
     "metadata": {},
     "execution_count": 4
    }
   ],
   "metadata": {}
  },
  {
   "cell_type": "code",
   "execution_count": 5,
   "source": [
    "import urllib.request\r\n",
    "import zipfile\r\n",
    "from lxml import etree\r\n",
    "import re\r\n",
    "from nltk.tokenize import word_tokenize, sent_tokenize"
   ],
   "outputs": [],
   "metadata": {}
  },
  {
   "cell_type": "code",
   "execution_count": 6,
   "source": [
    "#urllib.request.urlretrieve(\"https://raw.githubusercontent.com/GaoleMeng/RNN-and-FFNN-textClassification/master/ted_en-20160408.xml\", filename=\"ted_en-20160408.xml\")\r\n"
   ],
   "outputs": [
    {
     "output_type": "execute_result",
     "data": {
      "text/plain": [
       "('ted_en-20160408.xml', <http.client.HTTPMessage at 0x224340d4b80>)"
      ]
     },
     "metadata": {},
     "execution_count": 6
    }
   ],
   "metadata": {}
  },
  {
   "cell_type": "code",
   "execution_count": 11,
   "source": [
    "targetXML=open('F:/Workspace/data/ted_en-20160408.xml', 'r', encoding='UTF8')\r\n",
    "target_text = etree.parse(targetXML)\r\n",
    "\r\n",
    "# xml 파일로부터 <content>와 </content> 사이의 내용만 가져온다.\r\n",
    "parse_text = '\\n'.join(target_text.xpath('//content/text()'))\r\n",
    "\r\n",
    "# 정규 표현식의 sub 모듈을 통해 content 중간에 등장하는 (Audio), (Laughter) 등의 배경음 부분을 제거.\r\n",
    "# 해당 코드는 괄호로 구성된 내용을 제거.\r\n",
    "content_text = re.sub(r'\\([^)]*\\)', '', parse_text)\r\n",
    "\r\n",
    "# 입력 코퍼스에 대해서 NLTK를 이용하여 문장 토큰화를 수행.\r\n",
    "sent_text = sent_tokenize(content_text)\r\n",
    "\r\n",
    "# 각 문장에 대해서 구두점을 제거하고, 대문자를 소문자로 변환.\r\n",
    "normalized_text = []\r\n",
    "for string in sent_text:\r\n",
    "     tokens = re.sub(r\"[^a-z0-9]+\", \" \", string.lower())\r\n",
    "     normalized_text.append(tokens)\r\n",
    "\r\n",
    "# 각 문장에 대해서 NLTK를 이용하여 단어 토큰화를 수행.\r\n",
    "result = [word_tokenize(sentence) for sentence in normalized_text]"
   ],
   "outputs": [],
   "metadata": {}
  },
  {
   "cell_type": "code",
   "execution_count": 12,
   "source": [
    "print('총 샘플의 개수 : {}'.format(len(result)))"
   ],
   "outputs": [
    {
     "output_type": "stream",
     "name": "stdout",
     "text": [
      "총 샘플의 개수 : 273424\n"
     ]
    }
   ],
   "metadata": {}
  },
  {
   "cell_type": "code",
   "execution_count": 13,
   "source": [
    "for line in result[:3]:\r\n",
    "    print(line)"
   ],
   "outputs": [
    {
     "output_type": "stream",
     "name": "stdout",
     "text": [
      "['here', 'are', 'two', 'reasons', 'companies', 'fail', 'they', 'only', 'do', 'more', 'of', 'the', 'same', 'or', 'they', 'only', 'do', 'what', 's', 'new']\n",
      "['to', 'me', 'the', 'real', 'real', 'solution', 'to', 'quality', 'growth', 'is', 'figuring', 'out', 'the', 'balance', 'between', 'two', 'activities', 'exploration', 'and', 'exploitation']\n",
      "['both', 'are', 'necessary', 'but', 'it', 'can', 'be', 'too', 'much', 'of', 'a', 'good', 'thing']\n"
     ]
    }
   ],
   "metadata": {}
  },
  {
   "cell_type": "markdown",
   "source": [
    "## Word2Vec 훈련시키기"
   ],
   "metadata": {}
  },
  {
   "cell_type": "code",
   "execution_count": 25,
   "source": [
    "from gensim.models import Word2Vec\r\n",
    "model = Word2Vec(sentences=result, vector_size=100, window=5, min_count=5, workers=4, sg=0)"
   ],
   "outputs": [],
   "metadata": {}
  },
  {
   "cell_type": "code",
   "execution_count": 26,
   "source": [
    "model_result = model.wv.most_similar(\"man\")\r\n",
    "print(model_result)"
   ],
   "outputs": [
    {
     "output_type": "stream",
     "name": "stdout",
     "text": [
      "[('woman', 0.84520024061203), ('guy', 0.8256785869598389), ('girl', 0.7708662152290344), ('lady', 0.7635362148284912), ('boy', 0.7575492262840271), ('gentleman', 0.7419318556785583), ('soldier', 0.725075364112854), ('kid', 0.7011024355888367), ('poet', 0.6880499720573425), ('son', 0.665919840335846)]\n"
     ]
    }
   ],
   "metadata": {}
  },
  {
   "cell_type": "code",
   "execution_count": 27,
   "source": [
    "model.wv.most_similar(positive=['man','girl'], negative=['boy'], topn=3)"
   ],
   "outputs": [
    {
     "output_type": "execute_result",
     "data": {
      "text/plain": [
       "[('woman', 0.8385322093963623),\n",
       " ('lady', 0.7525697946548462),\n",
       " ('guy', 0.743120551109314)]"
      ]
     },
     "metadata": {},
     "execution_count": 27
    }
   ],
   "metadata": {}
  },
  {
   "cell_type": "code",
   "execution_count": 29,
   "source": [
    "from gensim.models import KeyedVectors\r\n",
    "model.wv.save_word2vec_format('F:/Workspace/data/eng_w2v') # 모델 저장\r\n",
    "loaded_model = KeyedVectors.load_word2vec_format(\"F:/Workspace/data/eng_w2v\") # 모델 로드"
   ],
   "outputs": [],
   "metadata": {}
  },
  {
   "cell_type": "code",
   "execution_count": 30,
   "source": [
    "loaded_model.most_similar(\"man\")"
   ],
   "outputs": [
    {
     "output_type": "execute_result",
     "data": {
      "text/plain": [
       "[('woman', 0.84520024061203),\n",
       " ('guy', 0.8256785869598389),\n",
       " ('girl', 0.7708662152290344),\n",
       " ('lady', 0.7635362148284912),\n",
       " ('boy', 0.7575492262840271),\n",
       " ('gentleman', 0.7419318556785583),\n",
       " ('soldier', 0.725075364112854),\n",
       " ('kid', 0.7011024355888367),\n",
       " ('poet', 0.6880499720573425),\n",
       " ('son', 0.665919840335846)]"
      ]
     },
     "metadata": {},
     "execution_count": 30
    }
   ],
   "metadata": {}
  },
  {
   "cell_type": "code",
   "execution_count": null,
   "source": [],
   "outputs": [],
   "metadata": {}
  }
 ],
 "metadata": {
  "orig_nbformat": 4,
  "language_info": {
   "name": "python",
   "version": "3.8.10",
   "mimetype": "text/x-python",
   "codemirror_mode": {
    "name": "ipython",
    "version": 3
   },
   "pygments_lexer": "ipython3",
   "nbconvert_exporter": "python",
   "file_extension": ".py"
  },
  "kernelspec": {
   "name": "python3",
   "display_name": "Python 3.8.10 64-bit ('base': conda)"
  },
  "interpreter": {
   "hash": "345fc451c7e0336b9390ad1fad588039702f89ec6d37597eff879e480e25ffdb"
  }
 },
 "nbformat": 4,
 "nbformat_minor": 2
}
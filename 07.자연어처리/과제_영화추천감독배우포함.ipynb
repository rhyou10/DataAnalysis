{
 "cells": [
  {
   "cell_type": "code",
   "execution_count": 4,
   "source": [
    "import pandas as pd\r\n",
    "import numpy as np"
   ],
   "outputs": [],
   "metadata": {}
  },
  {
   "cell_type": "code",
   "execution_count": 6,
   "source": [
    "data = pd.read_csv('F:\\Workspace\\data\\자연어처리/credits.csv', low_memory=False)"
   ],
   "outputs": [],
   "metadata": {}
  },
  {
   "cell_type": "code",
   "execution_count": 7,
   "source": [
    "movie = pd.read_csv('data/movies_metadata.csv', low_memory=False)"
   ],
   "outputs": [],
   "metadata": {}
  },
  {
   "cell_type": "code",
   "execution_count": 10,
   "source": [
    "data.head(2)"
   ],
   "outputs": [
    {
     "output_type": "execute_result",
     "data": {
      "text/plain": [
       "                                                cast  \\\n",
       "0  [{'cast_id': 14, 'character': 'Woody (voice)',...   \n",
       "1  [{'cast_id': 1, 'character': 'Alan Parrish', '...   \n",
       "\n",
       "                                                crew    id  \n",
       "0  [{'credit_id': '52fe4284c3a36847f8024f49', 'de...   862  \n",
       "1  [{'credit_id': '52fe44bfc3a36847f80a7cd1', 'de...  8844  "
      ],
      "text/html": [
       "<div>\n",
       "<style scoped>\n",
       "    .dataframe tbody tr th:only-of-type {\n",
       "        vertical-align: middle;\n",
       "    }\n",
       "\n",
       "    .dataframe tbody tr th {\n",
       "        vertical-align: top;\n",
       "    }\n",
       "\n",
       "    .dataframe thead th {\n",
       "        text-align: right;\n",
       "    }\n",
       "</style>\n",
       "<table border=\"1\" class=\"dataframe\">\n",
       "  <thead>\n",
       "    <tr style=\"text-align: right;\">\n",
       "      <th></th>\n",
       "      <th>cast</th>\n",
       "      <th>crew</th>\n",
       "      <th>id</th>\n",
       "    </tr>\n",
       "  </thead>\n",
       "  <tbody>\n",
       "    <tr>\n",
       "      <th>0</th>\n",
       "      <td>[{'cast_id': 14, 'character': 'Woody (voice)',...</td>\n",
       "      <td>[{'credit_id': '52fe4284c3a36847f8024f49', 'de...</td>\n",
       "      <td>862</td>\n",
       "    </tr>\n",
       "    <tr>\n",
       "      <th>1</th>\n",
       "      <td>[{'cast_id': 1, 'character': 'Alan Parrish', '...</td>\n",
       "      <td>[{'credit_id': '52fe44bfc3a36847f80a7cd1', 'de...</td>\n",
       "      <td>8844</td>\n",
       "    </tr>\n",
       "  </tbody>\n",
       "</table>\n",
       "</div>"
      ]
     },
     "metadata": {},
     "execution_count": 10
    }
   ],
   "metadata": {}
  },
  {
   "cell_type": "code",
   "execution_count": 5,
   "source": [
    "data.cast = data.cast.apply(lambda x: eval(x))"
   ],
   "outputs": [],
   "metadata": {}
  },
  {
   "cell_type": "code",
   "execution_count": 6,
   "source": [
    "data.crew = data.crew.apply(lambda x: eval(x))"
   ],
   "outputs": [],
   "metadata": {}
  },
  {
   "cell_type": "code",
   "execution_count": 7,
   "source": [
    "#df['clean_doc'] = df.overview.apply(lambda x: re.sub('[^A-Za-z ]', '', x))#구두점만 제거"
   ],
   "outputs": [],
   "metadata": {}
  },
  {
   "cell_type": "code",
   "execution_count": 8,
   "source": [
    "def find_d(x):\r\n",
    "    try:\r\n",
    "        return x[0]['name']\r\n",
    "    except:\r\n",
    "        pass"
   ],
   "outputs": [],
   "metadata": {}
  },
  {
   "cell_type": "code",
   "execution_count": 9,
   "source": [
    "find_d(data.crew[0])"
   ],
   "outputs": [
    {
     "output_type": "execute_result",
     "data": {
      "text/plain": [
       "'John Lasseter'"
      ]
     },
     "metadata": {},
     "execution_count": 9
    }
   ],
   "metadata": {}
  },
  {
   "cell_type": "code",
   "execution_count": 10,
   "source": [
    "df = movie[['title','overview']]"
   ],
   "outputs": [],
   "metadata": {}
  },
  {
   "cell_type": "code",
   "execution_count": 11,
   "source": [
    "df['감독'] = data.crew.apply(find_d)"
   ],
   "outputs": [
    {
     "output_type": "stream",
     "name": "stderr",
     "text": [
      "C:\\Users\\TH\\anaconda3\\lib\\site-packages\\pandas\\core\\frame.py:3607: SettingWithCopyWarning: \n",
      "A value is trying to be set on a copy of a slice from a DataFrame.\n",
      "Try using .loc[row_indexer,col_indexer] = value instead\n",
      "\n",
      "See the caveats in the documentation: https://pandas.pydata.org/pandas-docs/stable/user_guide/indexing.html#returning-a-view-versus-a-copy\n",
      "  self._set_item(key, value)\n"
     ]
    }
   ],
   "metadata": {}
  },
  {
   "cell_type": "code",
   "execution_count": 12,
   "source": [
    "df['주연'] = data.cast.apply(find_d)"
   ],
   "outputs": [],
   "metadata": {}
  },
  {
   "cell_type": "code",
   "execution_count": 13,
   "source": [
    "df.tail()"
   ],
   "outputs": [
    {
     "output_type": "execute_result",
     "data": {
      "text/plain": [
       "                     title                                           overview  \\\n",
       "45461               Subdue        Rising and falling between a man and woman.   \n",
       "45462  Century of Birthing  An artist struggles to finish his work while a...   \n",
       "45463             Betrayal  When one of her hits goes wrong, a professiona...   \n",
       "45464     Satan Triumphant  In a small town live two brothers, one a minis...   \n",
       "45465             Queerama  50 years after decriminalisation of homosexual...   \n",
       "\n",
       "                   감독              주연  \n",
       "45461  Georges Méliès   Jeanne d'Alcy  \n",
       "45462   Robert Fulton            None  \n",
       "45463    A. R. Rahman  Sridevi Kapoor  \n",
       "45464  Shanra J. Kehl    Markie Adams  \n",
       "45465     Leo Tolstoy    Giulio Brogi  "
      ],
      "text/html": [
       "<div>\n",
       "<style scoped>\n",
       "    .dataframe tbody tr th:only-of-type {\n",
       "        vertical-align: middle;\n",
       "    }\n",
       "\n",
       "    .dataframe tbody tr th {\n",
       "        vertical-align: top;\n",
       "    }\n",
       "\n",
       "    .dataframe thead th {\n",
       "        text-align: right;\n",
       "    }\n",
       "</style>\n",
       "<table border=\"1\" class=\"dataframe\">\n",
       "  <thead>\n",
       "    <tr style=\"text-align: right;\">\n",
       "      <th></th>\n",
       "      <th>title</th>\n",
       "      <th>overview</th>\n",
       "      <th>감독</th>\n",
       "      <th>주연</th>\n",
       "    </tr>\n",
       "  </thead>\n",
       "  <tbody>\n",
       "    <tr>\n",
       "      <th>45461</th>\n",
       "      <td>Subdue</td>\n",
       "      <td>Rising and falling between a man and woman.</td>\n",
       "      <td>Georges Méliès</td>\n",
       "      <td>Jeanne d'Alcy</td>\n",
       "    </tr>\n",
       "    <tr>\n",
       "      <th>45462</th>\n",
       "      <td>Century of Birthing</td>\n",
       "      <td>An artist struggles to finish his work while a...</td>\n",
       "      <td>Robert Fulton</td>\n",
       "      <td>None</td>\n",
       "    </tr>\n",
       "    <tr>\n",
       "      <th>45463</th>\n",
       "      <td>Betrayal</td>\n",
       "      <td>When one of her hits goes wrong, a professiona...</td>\n",
       "      <td>A. R. Rahman</td>\n",
       "      <td>Sridevi Kapoor</td>\n",
       "    </tr>\n",
       "    <tr>\n",
       "      <th>45464</th>\n",
       "      <td>Satan Triumphant</td>\n",
       "      <td>In a small town live two brothers, one a minis...</td>\n",
       "      <td>Shanra J. Kehl</td>\n",
       "      <td>Markie Adams</td>\n",
       "    </tr>\n",
       "    <tr>\n",
       "      <th>45465</th>\n",
       "      <td>Queerama</td>\n",
       "      <td>50 years after decriminalisation of homosexual...</td>\n",
       "      <td>Leo Tolstoy</td>\n",
       "      <td>Giulio Brogi</td>\n",
       "    </tr>\n",
       "  </tbody>\n",
       "</table>\n",
       "</div>"
      ]
     },
     "metadata": {},
     "execution_count": 13
    }
   ],
   "metadata": {}
  },
  {
   "cell_type": "code",
   "execution_count": 14,
   "source": [
    "df.isnull().sum()"
   ],
   "outputs": [
    {
     "output_type": "execute_result",
     "data": {
      "text/plain": [
       "title          6\n",
       "overview     954\n",
       "감독           771\n",
       "주연          2417\n",
       "dtype: int64"
      ]
     },
     "metadata": {},
     "execution_count": 14
    }
   ],
   "metadata": {}
  },
  {
   "cell_type": "code",
   "execution_count": 15,
   "source": [
    "df.dropna(how='any', inplace=True) # how = 'any'가 디폴트"
   ],
   "outputs": [
    {
     "output_type": "stream",
     "name": "stderr",
     "text": [
      "C:\\Users\\TH\\anaconda3\\lib\\site-packages\\pandas\\util\\_decorators.py:311: SettingWithCopyWarning: \n",
      "A value is trying to be set on a copy of a slice from a DataFrame\n",
      "\n",
      "See the caveats in the documentation: https://pandas.pydata.org/pandas-docs/stable/user_guide/indexing.html#returning-a-view-versus-a-copy\n",
      "  return func(*args, **kwargs)\n"
     ]
    }
   ],
   "metadata": {}
  },
  {
   "cell_type": "code",
   "execution_count": 16,
   "source": [
    "df.set_index('title',inplace=True)\r\n",
    "df.reset_index(inplace=True)\r\n",
    "df.tail()"
   ],
   "outputs": [
    {
     "output_type": "execute_result",
     "data": {
      "text/plain": [
       "                  title                                           overview  \\\n",
       "41829        Robin Hood  Yet another version of the classic epic, with ...   \n",
       "41830            Subdue        Rising and falling between a man and woman.   \n",
       "41831          Betrayal  When one of her hits goes wrong, a professiona...   \n",
       "41832  Satan Triumphant  In a small town live two brothers, one a minis...   \n",
       "41833          Queerama  50 years after decriminalisation of homosexual...   \n",
       "\n",
       "                   감독              주연  \n",
       "41829  Georges Méliès  Georges Méliès  \n",
       "41830  Georges Méliès   Jeanne d'Alcy  \n",
       "41831    A. R. Rahman  Sridevi Kapoor  \n",
       "41832  Shanra J. Kehl    Markie Adams  \n",
       "41833     Leo Tolstoy    Giulio Brogi  "
      ],
      "text/html": [
       "<div>\n",
       "<style scoped>\n",
       "    .dataframe tbody tr th:only-of-type {\n",
       "        vertical-align: middle;\n",
       "    }\n",
       "\n",
       "    .dataframe tbody tr th {\n",
       "        vertical-align: top;\n",
       "    }\n",
       "\n",
       "    .dataframe thead th {\n",
       "        text-align: right;\n",
       "    }\n",
       "</style>\n",
       "<table border=\"1\" class=\"dataframe\">\n",
       "  <thead>\n",
       "    <tr style=\"text-align: right;\">\n",
       "      <th></th>\n",
       "      <th>title</th>\n",
       "      <th>overview</th>\n",
       "      <th>감독</th>\n",
       "      <th>주연</th>\n",
       "    </tr>\n",
       "  </thead>\n",
       "  <tbody>\n",
       "    <tr>\n",
       "      <th>41829</th>\n",
       "      <td>Robin Hood</td>\n",
       "      <td>Yet another version of the classic epic, with ...</td>\n",
       "      <td>Georges Méliès</td>\n",
       "      <td>Georges Méliès</td>\n",
       "    </tr>\n",
       "    <tr>\n",
       "      <th>41830</th>\n",
       "      <td>Subdue</td>\n",
       "      <td>Rising and falling between a man and woman.</td>\n",
       "      <td>Georges Méliès</td>\n",
       "      <td>Jeanne d'Alcy</td>\n",
       "    </tr>\n",
       "    <tr>\n",
       "      <th>41831</th>\n",
       "      <td>Betrayal</td>\n",
       "      <td>When one of her hits goes wrong, a professiona...</td>\n",
       "      <td>A. R. Rahman</td>\n",
       "      <td>Sridevi Kapoor</td>\n",
       "    </tr>\n",
       "    <tr>\n",
       "      <th>41832</th>\n",
       "      <td>Satan Triumphant</td>\n",
       "      <td>In a small town live two brothers, one a minis...</td>\n",
       "      <td>Shanra J. Kehl</td>\n",
       "      <td>Markie Adams</td>\n",
       "    </tr>\n",
       "    <tr>\n",
       "      <th>41833</th>\n",
       "      <td>Queerama</td>\n",
       "      <td>50 years after decriminalisation of homosexual...</td>\n",
       "      <td>Leo Tolstoy</td>\n",
       "      <td>Giulio Brogi</td>\n",
       "    </tr>\n",
       "  </tbody>\n",
       "</table>\n",
       "</div>"
      ]
     },
     "metadata": {},
     "execution_count": 16
    }
   ],
   "metadata": {}
  },
  {
   "cell_type": "code",
   "execution_count": 17,
   "source": [
    "df = df.head(20000)"
   ],
   "outputs": [],
   "metadata": {}
  },
  {
   "cell_type": "code",
   "execution_count": 18,
   "source": [
    "df"
   ],
   "outputs": [
    {
     "output_type": "execute_result",
     "data": {
      "text/plain": [
       "                              title  \\\n",
       "0                         Toy Story   \n",
       "1                           Jumanji   \n",
       "2                  Grumpier Old Men   \n",
       "3                 Waiting to Exhale   \n",
       "4       Father of the Bride Part II   \n",
       "...                             ...   \n",
       "19995           A Better Way to Die   \n",
       "19996          Casanova's Big Night   \n",
       "19997                   Tunnel Rats   \n",
       "19998  20,000 Leagues Under the Sea   \n",
       "19999         A Successful Calamity   \n",
       "\n",
       "                                                overview               감독  \\\n",
       "0      Led by Woody, Andy's toys live happily in his ...    John Lasseter   \n",
       "1      When siblings Judy and Peter discover an encha...  Larry J. Franco   \n",
       "2      A family wedding reignites the ancient feud be...    Howard Deutch   \n",
       "3      Cheated on, mistreated and stepped on, the wom...  Forest Whitaker   \n",
       "4      Just when George Banks has recovered from his ...   Alan Silvestri   \n",
       "...                                                  ...              ...   \n",
       "19995  Boomer (Wiper) is a rookie cop based in the ur...       Hal Kanter   \n",
       "19996  Italy 1757, Pippo Popolino, a lowly tailor, di...       Meg Morman   \n",
       "19997  During the Vietnam War [1959-1975] a special U...      Jules Verne   \n",
       "19998  The year is 1886, when New England's fishing h...   John G. Adolfi   \n",
       "19999  Henry Wilton is an elderly millionaire saddled...      Aaron Ryder   \n",
       "\n",
       "                        주연  \n",
       "0                Tom Hanks  \n",
       "1           Robin Williams  \n",
       "2           Walter Matthau  \n",
       "3          Whitney Houston  \n",
       "4             Steve Martin  \n",
       "...                    ...  \n",
       "19995             Bob Hope  \n",
       "19996         Michael Paré  \n",
       "19997        Michael Caine  \n",
       "19998        George Arliss  \n",
       "19999  Matthew McConaughey  \n",
       "\n",
       "[20000 rows x 4 columns]"
      ],
      "text/html": [
       "<div>\n",
       "<style scoped>\n",
       "    .dataframe tbody tr th:only-of-type {\n",
       "        vertical-align: middle;\n",
       "    }\n",
       "\n",
       "    .dataframe tbody tr th {\n",
       "        vertical-align: top;\n",
       "    }\n",
       "\n",
       "    .dataframe thead th {\n",
       "        text-align: right;\n",
       "    }\n",
       "</style>\n",
       "<table border=\"1\" class=\"dataframe\">\n",
       "  <thead>\n",
       "    <tr style=\"text-align: right;\">\n",
       "      <th></th>\n",
       "      <th>title</th>\n",
       "      <th>overview</th>\n",
       "      <th>감독</th>\n",
       "      <th>주연</th>\n",
       "    </tr>\n",
       "  </thead>\n",
       "  <tbody>\n",
       "    <tr>\n",
       "      <th>0</th>\n",
       "      <td>Toy Story</td>\n",
       "      <td>Led by Woody, Andy's toys live happily in his ...</td>\n",
       "      <td>John Lasseter</td>\n",
       "      <td>Tom Hanks</td>\n",
       "    </tr>\n",
       "    <tr>\n",
       "      <th>1</th>\n",
       "      <td>Jumanji</td>\n",
       "      <td>When siblings Judy and Peter discover an encha...</td>\n",
       "      <td>Larry J. Franco</td>\n",
       "      <td>Robin Williams</td>\n",
       "    </tr>\n",
       "    <tr>\n",
       "      <th>2</th>\n",
       "      <td>Grumpier Old Men</td>\n",
       "      <td>A family wedding reignites the ancient feud be...</td>\n",
       "      <td>Howard Deutch</td>\n",
       "      <td>Walter Matthau</td>\n",
       "    </tr>\n",
       "    <tr>\n",
       "      <th>3</th>\n",
       "      <td>Waiting to Exhale</td>\n",
       "      <td>Cheated on, mistreated and stepped on, the wom...</td>\n",
       "      <td>Forest Whitaker</td>\n",
       "      <td>Whitney Houston</td>\n",
       "    </tr>\n",
       "    <tr>\n",
       "      <th>4</th>\n",
       "      <td>Father of the Bride Part II</td>\n",
       "      <td>Just when George Banks has recovered from his ...</td>\n",
       "      <td>Alan Silvestri</td>\n",
       "      <td>Steve Martin</td>\n",
       "    </tr>\n",
       "    <tr>\n",
       "      <th>...</th>\n",
       "      <td>...</td>\n",
       "      <td>...</td>\n",
       "      <td>...</td>\n",
       "      <td>...</td>\n",
       "    </tr>\n",
       "    <tr>\n",
       "      <th>19995</th>\n",
       "      <td>A Better Way to Die</td>\n",
       "      <td>Boomer (Wiper) is a rookie cop based in the ur...</td>\n",
       "      <td>Hal Kanter</td>\n",
       "      <td>Bob Hope</td>\n",
       "    </tr>\n",
       "    <tr>\n",
       "      <th>19996</th>\n",
       "      <td>Casanova's Big Night</td>\n",
       "      <td>Italy 1757, Pippo Popolino, a lowly tailor, di...</td>\n",
       "      <td>Meg Morman</td>\n",
       "      <td>Michael Paré</td>\n",
       "    </tr>\n",
       "    <tr>\n",
       "      <th>19997</th>\n",
       "      <td>Tunnel Rats</td>\n",
       "      <td>During the Vietnam War [1959-1975] a special U...</td>\n",
       "      <td>Jules Verne</td>\n",
       "      <td>Michael Caine</td>\n",
       "    </tr>\n",
       "    <tr>\n",
       "      <th>19998</th>\n",
       "      <td>20,000 Leagues Under the Sea</td>\n",
       "      <td>The year is 1886, when New England's fishing h...</td>\n",
       "      <td>John G. Adolfi</td>\n",
       "      <td>George Arliss</td>\n",
       "    </tr>\n",
       "    <tr>\n",
       "      <th>19999</th>\n",
       "      <td>A Successful Calamity</td>\n",
       "      <td>Henry Wilton is an elderly millionaire saddled...</td>\n",
       "      <td>Aaron Ryder</td>\n",
       "      <td>Matthew McConaughey</td>\n",
       "    </tr>\n",
       "  </tbody>\n",
       "</table>\n",
       "<p>20000 rows × 4 columns</p>\n",
       "</div>"
      ]
     },
     "metadata": {},
     "execution_count": 18
    }
   ],
   "metadata": {}
  },
  {
   "cell_type": "code",
   "execution_count": 27,
   "source": [
    "from sklearn.feature_extraction.text import TfidfVectorizer\r\n",
    "\r\n",
    "tvect = TfidfVectorizer(stop_words='english')\r\n",
    "tfidf_matrix = tvect.fit_transform(df.overview,df)\r\n",
    "tfidf_matrix.shape"
   ],
   "outputs": [
    {
     "output_type": "execute_result",
     "data": {
      "text/plain": [
       "(20000, 47435)"
      ]
     },
     "metadata": {},
     "execution_count": 27
    }
   ],
   "metadata": {}
  },
  {
   "cell_type": "code",
   "execution_count": 20,
   "source": [
    "indices = pd.Series(df.index, index=df.title).drop_duplicates()\r\n",
    "indices.head() #숫자형태로 바꾸었다 일부러"
   ],
   "outputs": [
    {
     "output_type": "execute_result",
     "data": {
      "text/plain": [
       "title\n",
       "Toy Story                      0\n",
       "Jumanji                        1\n",
       "Grumpier Old Men               2\n",
       "Waiting to Exhale              3\n",
       "Father of the Bride Part II    4\n",
       "dtype: int64"
      ]
     },
     "metadata": {},
     "execution_count": 20
    }
   ],
   "metadata": {}
  },
  {
   "cell_type": "code",
   "execution_count": 21,
   "source": [
    "indices.shape"
   ],
   "outputs": [
    {
     "output_type": "execute_result",
     "data": {
      "text/plain": [
       "(20000,)"
      ]
     },
     "metadata": {},
     "execution_count": 21
    }
   ],
   "metadata": {}
  },
  {
   "cell_type": "code",
   "execution_count": 22,
   "source": [
    "from sklearn.metrics.pairwise import linear_kernel"
   ],
   "outputs": [],
   "metadata": {}
  },
  {
   "cell_type": "code",
   "execution_count": 23,
   "source": [
    "cosine_sim = linear_kernel(tfidf_matrix, tfidf_matrix)"
   ],
   "outputs": [],
   "metadata": {}
  },
  {
   "cell_type": "code",
   "execution_count": 24,
   "source": [
    "def get_recommendations(title, cosine_sim=cosine_sim):\r\n",
    "    # 선택한 영화의 타이틀로부터 해당되는 인덱스를 받아옵니다. 이제 선택한 영화를 가지고 연산할 수 있습니다.\r\n",
    "    idx = indices[title]\r\n",
    "\r\n",
    "    # 모든 영화에 대해서 해당 영화와의 유사도를 구합니다.\r\n",
    "    sim_scores = list(enumerate(cosine_sim[idx]))\r\n",
    "\r\n",
    "    # 유사도에 따라 영화들을 정렬합니다.\r\n",
    "    sim_scores = sorted(sim_scores, key=lambda x: x[1], reverse=True)\r\n",
    "\r\n",
    "    # 가장 유사한 10개의 영화를 받아옵니다.\r\n",
    "    sim_scores = sim_scores[1:11]\r\n",
    "\r\n",
    "    # 가장 유사한 10개의 영화의 인덱스를 받아옵니다.\r\n",
    "    movie_indices = [i[0] for i in sim_scores]\r\n",
    "\r\n",
    "    # 가장 유사한 10개의 영화의 제목을 리턴합니다.\r\n",
    "    return df[['title', '감독', '주연']].iloc[movie_indices]"
   ],
   "outputs": [],
   "metadata": {}
  },
  {
   "cell_type": "code",
   "execution_count": 60,
   "source": [
    "def get_recommend_actor(title):\r\n",
    "        idx = indices[title]\r\n",
    "        mainactor = df.iloc[idx].주연\r\n",
    "        return df.set_index('주연').T[df.iloc[idx].주연].iloc[0][:10]"
   ],
   "outputs": [],
   "metadata": {}
  },
  {
   "cell_type": "code",
   "execution_count": 53,
   "source": [
    "def get_recommend_director(title):\r\n",
    "    idx = indices[title]\r\n",
    "    direcotr = df.iloc[idx].감독\r\n",
    "    return df.set_index('감독').T[df.iloc[idx].감독].iloc[0][:10]\r\n"
   ],
   "outputs": [],
   "metadata": {}
  },
  {
   "cell_type": "code",
   "execution_count": 25,
   "source": [
    "get_recommendations('The Dark Knight Rises')\r\n"
   ],
   "outputs": [
    {
     "output_type": "execute_result",
     "data": {
      "text/plain": [
       "                                         title               감독  \\\n",
       "12229                          The Dark Knight    Lucinda Syson   \n",
       "148                             Batman Forever  Joel Schumacher   \n",
       "1289                            Batman Returns       Tim Burton   \n",
       "15107               Batman: Under the Red Hood         Bob Kane   \n",
       "578                                     Batman      Ray Lovejoy   \n",
       "9049        Batman Beyond: Return of the Joker    Michael Uslan   \n",
       "17454                         Batman: Year One     Frank Miller   \n",
       "19058  Batman: The Dark Knight Returns, Part 1     Costa-Gavras   \n",
       "3027              Batman: Mask of the Phantasm    Michael Uslan   \n",
       "19455  Batman: The Dark Knight Returns, Part 2         Amos Poe   \n",
       "\n",
       "                    주연  \n",
       "12229   Christian Bale  \n",
       "148         Val Kilmer  \n",
       "1289    Michael Keaton  \n",
       "15107  Bruce Greenwood  \n",
       "578     Jack Nicholson  \n",
       "9049      Will Friedle  \n",
       "17454     Ben McKenzie  \n",
       "19058      Gad Elmaleh  \n",
       "3027      Kevin Conroy  \n",
       "19455    Vincent Spano  "
      ],
      "text/html": [
       "<div>\n",
       "<style scoped>\n",
       "    .dataframe tbody tr th:only-of-type {\n",
       "        vertical-align: middle;\n",
       "    }\n",
       "\n",
       "    .dataframe tbody tr th {\n",
       "        vertical-align: top;\n",
       "    }\n",
       "\n",
       "    .dataframe thead th {\n",
       "        text-align: right;\n",
       "    }\n",
       "</style>\n",
       "<table border=\"1\" class=\"dataframe\">\n",
       "  <thead>\n",
       "    <tr style=\"text-align: right;\">\n",
       "      <th></th>\n",
       "      <th>title</th>\n",
       "      <th>감독</th>\n",
       "      <th>주연</th>\n",
       "    </tr>\n",
       "  </thead>\n",
       "  <tbody>\n",
       "    <tr>\n",
       "      <th>12229</th>\n",
       "      <td>The Dark Knight</td>\n",
       "      <td>Lucinda Syson</td>\n",
       "      <td>Christian Bale</td>\n",
       "    </tr>\n",
       "    <tr>\n",
       "      <th>148</th>\n",
       "      <td>Batman Forever</td>\n",
       "      <td>Joel Schumacher</td>\n",
       "      <td>Val Kilmer</td>\n",
       "    </tr>\n",
       "    <tr>\n",
       "      <th>1289</th>\n",
       "      <td>Batman Returns</td>\n",
       "      <td>Tim Burton</td>\n",
       "      <td>Michael Keaton</td>\n",
       "    </tr>\n",
       "    <tr>\n",
       "      <th>15107</th>\n",
       "      <td>Batman: Under the Red Hood</td>\n",
       "      <td>Bob Kane</td>\n",
       "      <td>Bruce Greenwood</td>\n",
       "    </tr>\n",
       "    <tr>\n",
       "      <th>578</th>\n",
       "      <td>Batman</td>\n",
       "      <td>Ray Lovejoy</td>\n",
       "      <td>Jack Nicholson</td>\n",
       "    </tr>\n",
       "    <tr>\n",
       "      <th>9049</th>\n",
       "      <td>Batman Beyond: Return of the Joker</td>\n",
       "      <td>Michael Uslan</td>\n",
       "      <td>Will Friedle</td>\n",
       "    </tr>\n",
       "    <tr>\n",
       "      <th>17454</th>\n",
       "      <td>Batman: Year One</td>\n",
       "      <td>Frank Miller</td>\n",
       "      <td>Ben McKenzie</td>\n",
       "    </tr>\n",
       "    <tr>\n",
       "      <th>19058</th>\n",
       "      <td>Batman: The Dark Knight Returns, Part 1</td>\n",
       "      <td>Costa-Gavras</td>\n",
       "      <td>Gad Elmaleh</td>\n",
       "    </tr>\n",
       "    <tr>\n",
       "      <th>3027</th>\n",
       "      <td>Batman: Mask of the Phantasm</td>\n",
       "      <td>Michael Uslan</td>\n",
       "      <td>Kevin Conroy</td>\n",
       "    </tr>\n",
       "    <tr>\n",
       "      <th>19455</th>\n",
       "      <td>Batman: The Dark Knight Returns, Part 2</td>\n",
       "      <td>Amos Poe</td>\n",
       "      <td>Vincent Spano</td>\n",
       "    </tr>\n",
       "  </tbody>\n",
       "</table>\n",
       "</div>"
      ]
     },
     "metadata": {},
     "execution_count": 25
    }
   ],
   "metadata": {}
  },
  {
   "cell_type": "code",
   "execution_count": 61,
   "source": [
    "get_recommend_actor('The Dark Knight Rises')\r\n"
   ],
   "outputs": [
    {
     "output_type": "execute_result",
     "data": {
      "text/plain": [
       "주연\n",
       "Christian Bale              Newsies\n",
       "Christian Bale            Metroland\n",
       "Christian Bale      American Psycho\n",
       "Christian Bale    Empire of the Sun\n",
       "Christian Bale        Reign of Fire\n",
       "Christian Bale          Equilibrium\n",
       "Christian Bale        The Machinist\n",
       "Christian Bale        Batman Begins\n",
       "Christian Bale          Harsh Times\n",
       "Christian Bale          Rescue Dawn\n",
       "Name: title, dtype: object"
      ]
     },
     "metadata": {},
     "execution_count": 61
    }
   ],
   "metadata": {}
  },
  {
   "cell_type": "code",
   "execution_count": 55,
   "source": [
    "get_recommend_director('The Dark Knight Rises')"
   ],
   "outputs": [
    {
     "output_type": "execute_result",
     "data": {
      "text/plain": [
       "감독\n",
       "Hans Zimmer              Drop Zone\n",
       "Hans Zimmer        Renaissance Man\n",
       "Hans Zimmer             Two Deaths\n",
       "Hans Zimmer          Cool Runnings\n",
       "Hans Zimmer    The Preacher's Wife\n",
       "Hans Zimmer               Rain Man\n",
       "Hans Zimmer     Driving Miss Daisy\n",
       "Hans Zimmer      The Thin Red Line\n",
       "Hans Zimmer              Backdraft\n",
       "Hans Zimmer         Bird on a Wire\n",
       "Name: title, dtype: object"
      ]
     },
     "metadata": {},
     "execution_count": 55
    }
   ],
   "metadata": {}
  },
  {
   "cell_type": "code",
   "execution_count": 2,
   "source": [
    "idx = indices['The Dark Knight Rises']\r\n",
    "df.iloc[idx].감독\r\n",
    "df.set_index('감독').T[df.iloc[idx].감독].iloc[0][:10]\r\n"
   ],
   "outputs": [
    {
     "output_type": "error",
     "ename": "NameError",
     "evalue": "name 'indices' is not defined",
     "traceback": [
      "\u001b[1;31m---------------------------------------------------------------------------\u001b[0m",
      "\u001b[1;31mNameError\u001b[0m                                 Traceback (most recent call last)",
      "\u001b[1;32m<ipython-input-2-f340655ca978>\u001b[0m in \u001b[0;36m<module>\u001b[1;34m\u001b[0m\n\u001b[1;32m----> 1\u001b[1;33m \u001b[0midx\u001b[0m \u001b[1;33m=\u001b[0m \u001b[0mindices\u001b[0m\u001b[1;33m[\u001b[0m\u001b[1;34m'The Dark Knight Rises'\u001b[0m\u001b[1;33m]\u001b[0m\u001b[1;33m\u001b[0m\u001b[1;33m\u001b[0m\u001b[0m\n\u001b[0m\u001b[0;32m      2\u001b[0m \u001b[0mdf\u001b[0m\u001b[1;33m.\u001b[0m\u001b[0miloc\u001b[0m\u001b[1;33m[\u001b[0m\u001b[0midx\u001b[0m\u001b[1;33m]\u001b[0m\u001b[1;33m.\u001b[0m\u001b[0m감독\u001b[0m\u001b[1;33m\u001b[0m\u001b[1;33m\u001b[0m\u001b[0m\n\u001b[0;32m      3\u001b[0m \u001b[0mdf\u001b[0m\u001b[1;33m.\u001b[0m\u001b[0mset_index\u001b[0m\u001b[1;33m(\u001b[0m\u001b[1;34m'감독'\u001b[0m\u001b[1;33m)\u001b[0m\u001b[1;33m.\u001b[0m\u001b[0mT\u001b[0m\u001b[1;33m[\u001b[0m\u001b[0mdf\u001b[0m\u001b[1;33m.\u001b[0m\u001b[0miloc\u001b[0m\u001b[1;33m[\u001b[0m\u001b[0midx\u001b[0m\u001b[1;33m]\u001b[0m\u001b[1;33m.\u001b[0m\u001b[0m감독\u001b[0m\u001b[1;33m]\u001b[0m\u001b[1;33m.\u001b[0m\u001b[0miloc\u001b[0m\u001b[1;33m[\u001b[0m\u001b[1;36m0\u001b[0m\u001b[1;33m]\u001b[0m\u001b[1;33m[\u001b[0m\u001b[1;33m:\u001b[0m\u001b[1;36m10\u001b[0m\u001b[1;33m]\u001b[0m\u001b[1;33m\u001b[0m\u001b[1;33m\u001b[0m\u001b[0m\n",
      "\u001b[1;31mNameError\u001b[0m: name 'indices' is not defined"
     ]
    }
   ],
   "metadata": {}
  }
 ],
 "metadata": {
  "orig_nbformat": 4,
  "language_info": {
   "name": "python",
   "version": "3.8.10",
   "mimetype": "text/x-python",
   "codemirror_mode": {
    "name": "ipython",
    "version": 3
   },
   "pygments_lexer": "ipython3",
   "nbconvert_exporter": "python",
   "file_extension": ".py"
  },
  "kernelspec": {
   "name": "python3",
   "display_name": "Python 3.8.10 64-bit ('base': conda)"
  },
  "interpreter": {
   "hash": "345fc451c7e0336b9390ad1fad588039702f89ec6d37597eff879e480e25ffdb"
  }
 },
 "nbformat": 4,
 "nbformat_minor": 2
}
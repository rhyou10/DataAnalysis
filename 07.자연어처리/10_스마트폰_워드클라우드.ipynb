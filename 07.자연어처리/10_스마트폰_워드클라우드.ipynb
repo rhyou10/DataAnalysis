{
 "cells": [
  {
   "cell_type": "code",
   "execution_count": 1,
   "source": [
    "import numpy as np\r\n",
    "import pandas as pd\r\n",
    "import matplotlib as mpl\r\n",
    "import matplotlib.pyplot as plt\r\n",
    "mpl.rcParams['axes.unicode_minus'] = False\r\n",
    "plt.rc('font', family='NanumBarunGothic')"
   ],
   "outputs": [],
   "metadata": {}
  },
  {
   "cell_type": "code",
   "execution_count": 2,
   "source": [
    "df = pd.read_csv('data/smartphone_blog.csv')\r\n",
    "df.head()"
   ],
   "outputs": [
    {
     "output_type": "execute_result",
     "data": {
      "text/plain": [
       "   Unnamed: 0                                   title         date  \\\n",
       "0           0               [스마트폰] 삼성 갤럭시Z 플립3 언박싱 후기  2021.08.16.   \n",
       "1           1  갤럭시 A03s의 출시소식과 상세 정보: 개발도상국용 초저가 스마트폰         7일 전   \n",
       "2           2              에어팟 프로 안드로이드 스마트폰과 연결하는 방법  2021.08.21.   \n",
       "3           3            갤럭시 굿락 루틴+ 스마트폰 배터리 충전 구간 알림  2021.08.08.   \n",
       "4           4         삼성 갤럭시노트10 가격 2021년에도 매력적인 스마트폰  2021.06.23.   \n",
       "\n",
       "                                             content  \n",
       "0  진짜 역대급으로 나온 스마트폰, 삼성 갤럭시Z 플립3 언박싱 후기 함께 공개된 삼성...  \n",
       "1  삼성이 인도시장 등 개발도상국용 초저가 스마트폰인 A0x 시리즈를 지난 2019년부...  \n",
       "2  그러면 이때 스마트폰 블루투스 메뉴로 가줍니다. 찾기를 눌러주면, 이렇게 검색이 되...  \n",
       "3  갤럭시 스마트폰을 사용하고 있다면 굿락 앱은 꼭 써볼 것을 추천드려요. 지속적인 업...  \n",
       "4  일상에서 스마트폰 사용량은 점점 늘어나고 있습니다. 카카오톡, 라인 같은 기본적인 ...  "
      ],
      "text/html": [
       "<div>\n",
       "<style scoped>\n",
       "    .dataframe tbody tr th:only-of-type {\n",
       "        vertical-align: middle;\n",
       "    }\n",
       "\n",
       "    .dataframe tbody tr th {\n",
       "        vertical-align: top;\n",
       "    }\n",
       "\n",
       "    .dataframe thead th {\n",
       "        text-align: right;\n",
       "    }\n",
       "</style>\n",
       "<table border=\"1\" class=\"dataframe\">\n",
       "  <thead>\n",
       "    <tr style=\"text-align: right;\">\n",
       "      <th></th>\n",
       "      <th>Unnamed: 0</th>\n",
       "      <th>title</th>\n",
       "      <th>date</th>\n",
       "      <th>content</th>\n",
       "    </tr>\n",
       "  </thead>\n",
       "  <tbody>\n",
       "    <tr>\n",
       "      <th>0</th>\n",
       "      <td>0</td>\n",
       "      <td>[스마트폰] 삼성 갤럭시Z 플립3 언박싱 후기</td>\n",
       "      <td>2021.08.16.</td>\n",
       "      <td>진짜 역대급으로 나온 스마트폰, 삼성 갤럭시Z 플립3 언박싱 후기 함께 공개된 삼성...</td>\n",
       "    </tr>\n",
       "    <tr>\n",
       "      <th>1</th>\n",
       "      <td>1</td>\n",
       "      <td>갤럭시 A03s의 출시소식과 상세 정보: 개발도상국용 초저가 스마트폰</td>\n",
       "      <td>7일 전</td>\n",
       "      <td>삼성이 인도시장 등 개발도상국용 초저가 스마트폰인 A0x 시리즈를 지난 2019년부...</td>\n",
       "    </tr>\n",
       "    <tr>\n",
       "      <th>2</th>\n",
       "      <td>2</td>\n",
       "      <td>에어팟 프로 안드로이드 스마트폰과 연결하는 방법</td>\n",
       "      <td>2021.08.21.</td>\n",
       "      <td>그러면 이때 스마트폰 블루투스 메뉴로 가줍니다. 찾기를 눌러주면, 이렇게 검색이 되...</td>\n",
       "    </tr>\n",
       "    <tr>\n",
       "      <th>3</th>\n",
       "      <td>3</td>\n",
       "      <td>갤럭시 굿락 루틴+ 스마트폰 배터리 충전 구간 알림</td>\n",
       "      <td>2021.08.08.</td>\n",
       "      <td>갤럭시 스마트폰을 사용하고 있다면 굿락 앱은 꼭 써볼 것을 추천드려요. 지속적인 업...</td>\n",
       "    </tr>\n",
       "    <tr>\n",
       "      <th>4</th>\n",
       "      <td>4</td>\n",
       "      <td>삼성 갤럭시노트10 가격 2021년에도 매력적인 스마트폰</td>\n",
       "      <td>2021.06.23.</td>\n",
       "      <td>일상에서 스마트폰 사용량은 점점 늘어나고 있습니다. 카카오톡, 라인 같은 기본적인 ...</td>\n",
       "    </tr>\n",
       "  </tbody>\n",
       "</table>\n",
       "</div>"
      ]
     },
     "metadata": {},
     "execution_count": 2
    }
   ],
   "metadata": {}
  },
  {
   "cell_type": "code",
   "execution_count": 9,
   "source": [
    "text = ''\r\n",
    "for i in df.index:\r\n",
    "    text += df.title[i] + '\\n' + df.content[i] + '\\n'"
   ],
   "outputs": [],
   "metadata": {}
  },
  {
   "cell_type": "code",
   "execution_count": 10,
   "source": [
    "from konlpy.tag import Okt\r\n",
    "okt = Okt()\r\n",
    "tokens = okt.nouns(text)\r\n",
    "tokens[:10]"
   ],
   "outputs": [
    {
     "output_type": "execute_result",
     "data": {
      "text/plain": [
       "['스마트폰', '삼성', '갤럭시', '플립', '언박싱', '후기', '진짜', '역대', '스마트폰', '삼성']"
      ]
     },
     "metadata": {},
     "execution_count": 10
    }
   ],
   "metadata": {}
  },
  {
   "cell_type": "markdown",
   "source": [
    "## OKT의 한계 극복\r\n",
    "- 단어추가\r\n",
    "- 영어, 숫자 포함단어 변환"
   ],
   "metadata": {}
  },
  {
   "cell_type": "code",
   "execution_count": 11,
   "source": [
    "from ckonlpy.tag import Twitter\r\n",
    "twt = Twitter()\r\n",
    "twt.add_dictionary('갤럭시Z플립3', 'Noun')\r\n",
    "twt.add_dictionary('갤럭시Z폴드3', 'Noun')\r\n",
    "twt.nouns('오늘 갤럭시플립3과 갤럭시Z플립3와 갤럭시Z폴드3을 샀다')"
   ],
   "outputs": [
    {
     "output_type": "execute_result",
     "data": {
      "text/plain": [
       "['오늘', '갤럭시', '플립', '과', '갤럭시Z플립3', '갤럭시Z폴드3']"
      ]
     },
     "metadata": {},
     "execution_count": 11
    }
   ],
   "metadata": {}
  },
  {
   "cell_type": "code",
   "execution_count": 12,
   "source": [
    "\r\n",
    "trans_dict = {'갤럭시폴드3':'갤럭시Z폴드3', '갤럭시 폴드3':'갤럭시Z폴드3', \r\n",
    "              '갤럭시z폴드3':'갤럭시Z폴드3', '갤럭시Z 폴드3':'갤럭시Z폴드3',\r\n",
    "              '갤럭시플립3':'갤럭시Z플립3', '갤럭시 플립3':'갤럭시Z플립3', \r\n",
    "              '갤럭시z플립3':'갤럭시Z플립3', '갤럭시Z 플립3':'갤럭시Z플립3'}\r\n",
    "change_list = list(trans_dict.keys())"
   ],
   "outputs": [],
   "metadata": {}
  },
  {
   "cell_type": "code",
   "execution_count": 13,
   "source": [
    "sentence = '오늘 갤럭시 플립3과 갤럭시z플립3와 갤럭시z폴드3을 샀다'\r\n",
    "def change_word(sentence):\r\n",
    "    for cword in change_list:\r\n",
    "        sentence = sentence.replace(cword, trans_dict[cword])\r\n",
    "    return sentence\r\n",
    "\r\n",
    "change_word(sentence)"
   ],
   "outputs": [
    {
     "output_type": "execute_result",
     "data": {
      "text/plain": [
       "'오늘 갤럭시Z플립3과 갤럭시Z플립3와 갤럭시Z폴드3을 샀다'"
      ]
     },
     "metadata": {},
     "execution_count": 13
    }
   ],
   "metadata": {}
  },
  {
   "cell_type": "code",
   "execution_count": 14,
   "source": [
    "new_text = change_word(text)"
   ],
   "outputs": [],
   "metadata": {}
  },
  {
   "cell_type": "code",
   "execution_count": 15,
   "source": [
    "new_tokens = twt.nouns(new_text)"
   ],
   "outputs": [],
   "metadata": {}
  },
  {
   "cell_type": "markdown",
   "source": [
    "## 불용어(stopword)걸러내기"
   ],
   "metadata": {}
  }
 ],
 "metadata": {
  "orig_nbformat": 4,
  "language_info": {
   "name": "python",
   "version": "3.8.10",
   "mimetype": "text/x-python",
   "codemirror_mode": {
    "name": "ipython",
    "version": 3
   },
   "pygments_lexer": "ipython3",
   "nbconvert_exporter": "python",
   "file_extension": ".py"
  },
  "kernelspec": {
   "name": "python3",
   "display_name": "Python 3.8.10 64-bit ('base': conda)"
  },
  "interpreter": {
   "hash": "345fc451c7e0336b9390ad1fad588039702f89ec6d37597eff879e480e25ffdb"
  }
 },
 "nbformat": 4,
 "nbformat_minor": 2
}
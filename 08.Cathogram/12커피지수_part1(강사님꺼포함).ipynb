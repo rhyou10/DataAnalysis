{
  "nbformat": 4,
  "nbformat_minor": 0,
  "metadata": {
    "colab": {
      "name": "12커피지수_part1.ipynb",
      "provenance": [],
      "collapsed_sections": []
    },
    "kernelspec": {
      "name": "python3",
      "display_name": "Python 3"
    },
    "language_info": {
      "name": "python"
    }
  },
  "cells": [
    {
      "cell_type": "code",
      "metadata": {
        "id": "cXUfZBoWlOU0"
      },
      "source": [
        "import pandas as pd\n",
        "import numpy as np\n",
        "import warnings\n",
        "warnings.filterwarnings('ignore')"
      ],
      "execution_count": 124,
      "outputs": []
    },
    {
      "cell_type": "code",
      "metadata": {
        "colab": {
          "base_uri": "https://localhost:8080/"
        },
        "id": "EIzkFjAwln_x",
        "outputId": "1cc3f788-bbcd-4947-a86b-f88b04b524a7"
      },
      "source": [
        "from google.colab import drive\n",
        "drive.mount('/content/mnt')"
      ],
      "execution_count": 125,
      "outputs": [
        {
          "output_type": "stream",
          "name": "stdout",
          "text": [
            "Drive already mounted at /content/mnt; to attempt to forcibly remount, call drive.mount(\"/content/mnt\", force_remount=True).\n"
          ]
        }
      ]
    },
    {
      "cell_type": "code",
      "metadata": {
        "id": "1nn4ZL6rlptP"
      },
      "source": [
        "result_dir = '/content/mnt/MyDrive/results/CoffeeIndex'\n"
      ],
      "execution_count": 14,
      "outputs": []
    },
    {
      "cell_type": "code",
      "metadata": {
        "id": "PiFp57j6l3kQ"
      },
      "source": [
        "starbucks = pd.read_csv(f'{result_dir}/스타벅스.csv')\n",
        "coffeebean = pd.read_csv(f'{result_dir}/커피빈.csv' )\n",
        "ediya = pd.read_csv(f'{result_dir}/이디야.csv' )\n",
        "paik = pd.read_csv(f'{result_dir}/빽다방.csv' )\n"
      ],
      "execution_count": 126,
      "outputs": []
    },
    {
      "cell_type": "markdown",
      "metadata": {
        "id": "9VnnAinNmjzg"
      },
      "source": [
        "## ID 필드생성(구별, 시별, 도로명주소별)"
      ]
    },
    {
      "cell_type": "code",
      "metadata": {
        "colab": {
          "base_uri": "https://localhost:8080/",
          "height": 110
        },
        "id": "hI8NJ7bcmGoA",
        "outputId": "3039df2b-8316-488f-9c40-6561e0a1aed1"
      },
      "source": [
        "starbucks.head(2)"
      ],
      "execution_count": 127,
      "outputs": [
        {
          "output_type": "execute_result",
          "data": {
            "text/html": [
              "<div>\n",
              "<style scoped>\n",
              "    .dataframe tbody tr th:only-of-type {\n",
              "        vertical-align: middle;\n",
              "    }\n",
              "\n",
              "    .dataframe tbody tr th {\n",
              "        vertical-align: top;\n",
              "    }\n",
              "\n",
              "    .dataframe thead th {\n",
              "        text-align: right;\n",
              "    }\n",
              "</style>\n",
              "<table border=\"1\" class=\"dataframe\">\n",
              "  <thead>\n",
              "    <tr style=\"text-align: right;\">\n",
              "      <th></th>\n",
              "      <th>상호명</th>\n",
              "      <th>지점명</th>\n",
              "      <th>시도명</th>\n",
              "      <th>시군구명</th>\n",
              "      <th>도로명주소</th>\n",
              "      <th>상권업종중분류코드</th>\n",
              "    </tr>\n",
              "  </thead>\n",
              "  <tbody>\n",
              "    <tr>\n",
              "      <th>0</th>\n",
              "      <td>스타벅스</td>\n",
              "      <td>천안이마트점</td>\n",
              "      <td>충청남도</td>\n",
              "      <td>천안시 서북구</td>\n",
              "      <td>충청남도 천안시 서북구 충무로 187</td>\n",
              "      <td>Q12</td>\n",
              "    </tr>\n",
              "    <tr>\n",
              "      <th>1</th>\n",
              "      <td>스타벅스천안ICDT점</td>\n",
              "      <td>천안ICDT점</td>\n",
              "      <td>충청남도</td>\n",
              "      <td>천안시 동남구</td>\n",
              "      <td>충청남도 천안시 동남구 신부15길 3</td>\n",
              "      <td>Q12</td>\n",
              "    </tr>\n",
              "  </tbody>\n",
              "</table>\n",
              "</div>"
            ],
            "text/plain": [
              "           상호명      지점명   시도명     시군구명                 도로명주소 상권업종중분류코드\n",
              "0         스타벅스   천안이마트점  충청남도  천안시 서북구  충청남도 천안시 서북구 충무로 187       Q12\n",
              "1  스타벅스천안ICDT점  천안ICDT점  충청남도  천안시 동남구  충청남도 천안시 동남구 신부15길 3       Q12"
            ]
          },
          "metadata": {},
          "execution_count": 127
        }
      ]
    },
    {
      "cell_type": "code",
      "metadata": {
        "id": "DMVWSkhupvQI"
      },
      "source": [
        "tmp_gu_dict = {\n",
        "    '수원':['장안구', '권선구', '팔달구', '영통구'], \n",
        "    '성남':['수정구', '중원구', '분당구'], \n",
        "    '안양':['만안구', '동안구'], \n",
        "    '안산':['상록구', '단원구'], \n",
        "    '고양':['덕양구', '일산동구', '일산서구'], \n",
        "    '용인':['처인구', '기흥구', '수지구'], \n",
        "    '청주':['상당구', '서원구', '흥덕구', '청원구'], \n",
        "    '천안':['동남구', '서북구'], \n",
        "    '전주':['완산구', '덕진구'], \n",
        "    '포항':['남구', '북구'], \n",
        "    '창원':['의창구', '성산구', '진해구', '마산합포구', '마산회원구']\n",
        "}"
      ],
      "execution_count": 128,
      "outputs": []
    },
    {
      "cell_type": "code",
      "metadata": {
        "id": "gVnoBnCRr7NP"
      },
      "source": [
        "def siname(pop):\n",
        "  metro_list = ['서울특별시','부산광역시','대구광역시','인천광역시','대전광역시','광주광역시','울산광역시']\n",
        "  si_name = [None] * len(pop)\n",
        "\n",
        "  for i in pop.index:\n",
        "      if pop.시도명[i] in metro_list:\n",
        "          if len(pop.시군구명[i]) == 2:\n",
        "              si_name[i] = pop.시도명[i][:2] + ' ' + pop.시군구명[i]\n",
        "          else:\n",
        "              si_name[i] = pop.시도명[i][:2] + ' ' + pop.시군구명[i][:-1]     # 긴 구 이름에서 '구' 제외\n",
        "      else:\n",
        "          si_len = len(pop.시군구명[i].split())\n",
        "          if si_len == 1:\n",
        "            if pop.시군구명[i][:-1] == '고성':\n",
        "                if pop.시도명[i] == '강원도':\n",
        "                    si_name[i] = '고성(강원)'\n",
        "                else:\n",
        "                    si_name[i] = '고성(경남)'\n",
        "            elif pop.시군구명[i][:2] == '세종':\n",
        "              si_name[i] = '세종'\n",
        "            elif pop.시군구명[i] in ['수원시', '안산시', '용인시']:\n",
        "              si_name[i] = pop.시군구명[i][:2] + ' ' + pop.도로명주소[i].split()[2]\n",
        "            elif pop.시군구명[i] in '창원시':\n",
        "              si_name[i] = pop.시군구명[i][:2] + ' ' + '합포'\n",
        "            else:\n",
        "                si_name[i] = pop.시군구명[i][:-1]\n",
        "\n",
        "          else:\n",
        "            _, admingu = pop.시군구명[i].split()\n",
        "            for key, values in tmp_gu_dict.items():\n",
        "                if admingu in values:\n",
        "                  if len(admingu) ==2:\n",
        "                    si_name[i] = key + ' ' +  admingu\n",
        "                  elif admingu in ['마산합포구', '마산회원구']:\n",
        "                    si_name[i] = key + ' ' + admingu[2:-1]\n",
        "                  else:\n",
        "                    si_name[i] = key + ' ' + admingu[:-1]\n",
        "  return si_name"
      ],
      "execution_count": 244,
      "outputs": []
    },
    {
      "cell_type": "code",
      "metadata": {
        "id": "qpjgK9VCsnpn"
      },
      "source": [
        "sb_si_name = siname(starbucks)\n",
        "cb_si_name = siname(coffeebean)\n",
        "ed_si_name = siname(ediya)\n",
        "pk_si_name = siname(paik)"
      ],
      "execution_count": 249,
      "outputs": []
    },
    {
      "cell_type": "code",
      "metadata": {
        "id": "YQsf4l_os2JY"
      },
      "source": [
        "starbucks['id'] = sb_si_name\n",
        "coffeebean['id'] = cb_si_name\n",
        "ediya['id'] = ed_si_name\n",
        "paik['id'] = pk_si_name"
      ],
      "execution_count": 250,
      "outputs": []
    },
    {
      "cell_type": "code",
      "metadata": {
        "colab": {
          "base_uri": "https://localhost:8080/",
          "height": 396
        },
        "id": "-XXN4obfXV1V",
        "outputId": "beb9275f-12cb-4bc6-a8ac-a7b515f3a25e"
      },
      "source": [
        "ediya[ediya.id=='창원 합포']"
      ],
      "execution_count": 251,
      "outputs": [
        {
          "output_type": "execute_result",
          "data": {
            "text/html": [
              "<div>\n",
              "<style scoped>\n",
              "    .dataframe tbody tr th:only-of-type {\n",
              "        vertical-align: middle;\n",
              "    }\n",
              "\n",
              "    .dataframe tbody tr th {\n",
              "        vertical-align: top;\n",
              "    }\n",
              "\n",
              "    .dataframe thead th {\n",
              "        text-align: right;\n",
              "    }\n",
              "</style>\n",
              "<table border=\"1\" class=\"dataframe\">\n",
              "  <thead>\n",
              "    <tr style=\"text-align: right;\">\n",
              "      <th></th>\n",
              "      <th>상호명</th>\n",
              "      <th>지점명</th>\n",
              "      <th>시도명</th>\n",
              "      <th>시군구명</th>\n",
              "      <th>도로명주소</th>\n",
              "      <th>상권업종중분류코드</th>\n",
              "      <th>id</th>\n",
              "    </tr>\n",
              "  </thead>\n",
              "  <tbody>\n",
              "    <tr>\n",
              "      <th>1127</th>\n",
              "      <td>이디야커피</td>\n",
              "      <td>마산경남데파트점</td>\n",
              "      <td>경상남도</td>\n",
              "      <td>창원시 마산합포구</td>\n",
              "      <td>경상남도 창원시 마산합포구 315대로 255</td>\n",
              "      <td>Q12</td>\n",
              "      <td>창원 합포</td>\n",
              "    </tr>\n",
              "    <tr>\n",
              "      <th>1130</th>\n",
              "      <td>이디야커피</td>\n",
              "      <td>마산역광장점</td>\n",
              "      <td>경상남도</td>\n",
              "      <td>창원시</td>\n",
              "      <td>경상남도 창원시 마산회원구 마산역광장로 12-1</td>\n",
              "      <td>Q12</td>\n",
              "      <td>창원 합포</td>\n",
              "    </tr>\n",
              "    <tr>\n",
              "      <th>1153</th>\n",
              "      <td>이디야커피</td>\n",
              "      <td>마산불종거리점</td>\n",
              "      <td>경상남도</td>\n",
              "      <td>창원시 마산합포구</td>\n",
              "      <td>경상남도 창원시 마산합포구 불종거리로 27</td>\n",
              "      <td>Q12</td>\n",
              "      <td>창원 합포</td>\n",
              "    </tr>\n",
              "    <tr>\n",
              "      <th>1156</th>\n",
              "      <td>이디야커피</td>\n",
              "      <td>경남대점</td>\n",
              "      <td>경상남도</td>\n",
              "      <td>창원시 마산합포구</td>\n",
              "      <td>경상남도 창원시 마산합포구 월영동서로 20</td>\n",
              "      <td>Q12</td>\n",
              "      <td>창원 합포</td>\n",
              "    </tr>\n",
              "    <tr>\n",
              "      <th>1181</th>\n",
              "      <td>이디야커피</td>\n",
              "      <td>마산진동점</td>\n",
              "      <td>경상남도</td>\n",
              "      <td>창원시 마산합포구</td>\n",
              "      <td>경상남도 창원시 마산합포구 진동면 삼진의거대로 619</td>\n",
              "      <td>Q12</td>\n",
              "      <td>창원 합포</td>\n",
              "    </tr>\n",
              "    <tr>\n",
              "      <th>1194</th>\n",
              "      <td>이디야커피</td>\n",
              "      <td>NaN</td>\n",
              "      <td>경상남도</td>\n",
              "      <td>창원시 마산합포구</td>\n",
              "      <td>경상남도 창원시 마산합포구 315대로 156</td>\n",
              "      <td>Q12</td>\n",
              "      <td>창원 합포</td>\n",
              "    </tr>\n",
              "    <tr>\n",
              "      <th>1196</th>\n",
              "      <td>이디야커피</td>\n",
              "      <td>마산어시장점</td>\n",
              "      <td>경상남도</td>\n",
              "      <td>창원시 마산합포구</td>\n",
              "      <td>경상남도 창원시 마산합포구 해안대로 331</td>\n",
              "      <td>Q12</td>\n",
              "      <td>창원 합포</td>\n",
              "    </tr>\n",
              "  </tbody>\n",
              "</table>\n",
              "</div>"
            ],
            "text/plain": [
              "        상호명       지점명   시도명  ...                          도로명주소 상권업종중분류코드     id\n",
              "1127  이디야커피  마산경남데파트점  경상남도  ...       경상남도 창원시 마산합포구 315대로 255       Q12  창원 합포\n",
              "1130  이디야커피    마산역광장점  경상남도  ...     경상남도 창원시 마산회원구 마산역광장로 12-1       Q12  창원 합포\n",
              "1153  이디야커피   마산불종거리점  경상남도  ...        경상남도 창원시 마산합포구 불종거리로 27       Q12  창원 합포\n",
              "1156  이디야커피      경남대점  경상남도  ...        경상남도 창원시 마산합포구 월영동서로 20       Q12  창원 합포\n",
              "1181  이디야커피     마산진동점  경상남도  ...  경상남도 창원시 마산합포구 진동면 삼진의거대로 619       Q12  창원 합포\n",
              "1194  이디야커피       NaN  경상남도  ...       경상남도 창원시 마산합포구 315대로 156       Q12  창원 합포\n",
              "1196  이디야커피    마산어시장점  경상남도  ...        경상남도 창원시 마산합포구 해안대로 331       Q12  창원 합포\n",
              "\n",
              "[7 rows x 7 columns]"
            ]
          },
          "metadata": {},
          "execution_count": 251
        }
      ]
    },
    {
      "cell_type": "code",
      "metadata": {
        "colab": {
          "base_uri": "https://localhost:8080/"
        },
        "id": "vuJ3z1MDZ-1e",
        "outputId": "aed1f1b0-c375-47cf-aec6-6fc025d9739b"
      },
      "source": [
        "ediya.시군구명[0].split()"
      ],
      "execution_count": 252,
      "outputs": [
        {
          "output_type": "execute_result",
          "data": {
            "text/plain": [
              "['천안시', '동남구']"
            ]
          },
          "metadata": {},
          "execution_count": 252
        }
      ]
    },
    {
      "cell_type": "code",
      "metadata": {
        "id": "eulCoc-js3PX"
      },
      "source": [
        "sb = starbucks.groupby(['id'])[['도로명주소']].count()\n",
        "sb.columns = ['sb매장수']\n",
        "\n",
        "cb = coffeebean.groupby(['id'])[['도로명주소']].count()\n",
        "cb.columns = ['cb매장수']\n",
        "\n",
        "ed = ediya.groupby(['id'])[['도로명주소']].count()\n",
        "ed.columns = ['ed매장수']\n",
        "\n",
        "pk = paik.groupby(['id'])[['도로명주소']].count()\n",
        "pk.columns = ['pk매장수']"
      ],
      "execution_count": 253,
      "outputs": []
    },
    {
      "cell_type": "code",
      "metadata": {
        "id": "9zCmrzp43xPA"
      },
      "source": [
        "sb.reset_index(inplace=True)\n",
        "cb.reset_index(inplace=True)\n",
        "ed.reset_index(inplace=True)\n",
        "pk.reset_index(inplace=True)"
      ],
      "execution_count": 254,
      "outputs": []
    },
    {
      "cell_type": "code",
      "metadata": {
        "id": "tFdOTuHyyI_n"
      },
      "source": [
        "#all_coffee = pd.concat([sb,cb, ed, pk]).fillna(0)\n",
        "\n",
        "sb_cb = pd.merge(sb,cb, how=\"outer\", on= 'id')"
      ],
      "execution_count": 255,
      "outputs": []
    },
    {
      "cell_type": "code",
      "metadata": {
        "id": "nvsnetHF0TcQ"
      },
      "source": [
        "ed_pk = pd.merge(ed,pk, how=\"left\", on= 'id')"
      ],
      "execution_count": 256,
      "outputs": []
    },
    {
      "cell_type": "code",
      "metadata": {
        "colab": {
          "base_uri": "https://localhost:8080/",
          "height": 202
        },
        "id": "_c19fi9w0rv_",
        "outputId": "17566352-5d72-4ce6-a5da-31e44e9d8cff"
      },
      "source": [
        "sb_cb.head()"
      ],
      "execution_count": 257,
      "outputs": [
        {
          "output_type": "execute_result",
          "data": {
            "text/html": [
              "<div>\n",
              "<style scoped>\n",
              "    .dataframe tbody tr th:only-of-type {\n",
              "        vertical-align: middle;\n",
              "    }\n",
              "\n",
              "    .dataframe tbody tr th {\n",
              "        vertical-align: top;\n",
              "    }\n",
              "\n",
              "    .dataframe thead th {\n",
              "        text-align: right;\n",
              "    }\n",
              "</style>\n",
              "<table border=\"1\" class=\"dataframe\">\n",
              "  <thead>\n",
              "    <tr style=\"text-align: right;\">\n",
              "      <th></th>\n",
              "      <th>id</th>\n",
              "      <th>sb매장수</th>\n",
              "      <th>cb매장수</th>\n",
              "    </tr>\n",
              "  </thead>\n",
              "  <tbody>\n",
              "    <tr>\n",
              "      <th>0</th>\n",
              "      <td>가평</td>\n",
              "      <td>2.0</td>\n",
              "      <td>NaN</td>\n",
              "    </tr>\n",
              "    <tr>\n",
              "      <th>1</th>\n",
              "      <td>강릉</td>\n",
              "      <td>5.0</td>\n",
              "      <td>NaN</td>\n",
              "    </tr>\n",
              "    <tr>\n",
              "      <th>2</th>\n",
              "      <td>거제</td>\n",
              "      <td>6.0</td>\n",
              "      <td>NaN</td>\n",
              "    </tr>\n",
              "    <tr>\n",
              "      <th>3</th>\n",
              "      <td>경산</td>\n",
              "      <td>8.0</td>\n",
              "      <td>NaN</td>\n",
              "    </tr>\n",
              "    <tr>\n",
              "      <th>4</th>\n",
              "      <td>경주</td>\n",
              "      <td>8.0</td>\n",
              "      <td>2.0</td>\n",
              "    </tr>\n",
              "  </tbody>\n",
              "</table>\n",
              "</div>"
            ],
            "text/plain": [
              "   id  sb매장수  cb매장수\n",
              "0  가평    2.0    NaN\n",
              "1  강릉    5.0    NaN\n",
              "2  거제    6.0    NaN\n",
              "3  경산    8.0    NaN\n",
              "4  경주    8.0    2.0"
            ]
          },
          "metadata": {},
          "execution_count": 257
        }
      ]
    },
    {
      "cell_type": "code",
      "metadata": {
        "colab": {
          "base_uri": "https://localhost:8080/",
          "height": 202
        },
        "id": "CCWdu19W4WVG",
        "outputId": "a1aa16cc-c105-4d6d-9f39-e2fd3a76cfab"
      },
      "source": [
        "ed_pk.head()"
      ],
      "execution_count": 258,
      "outputs": [
        {
          "output_type": "execute_result",
          "data": {
            "text/html": [
              "<div>\n",
              "<style scoped>\n",
              "    .dataframe tbody tr th:only-of-type {\n",
              "        vertical-align: middle;\n",
              "    }\n",
              "\n",
              "    .dataframe tbody tr th {\n",
              "        vertical-align: top;\n",
              "    }\n",
              "\n",
              "    .dataframe thead th {\n",
              "        text-align: right;\n",
              "    }\n",
              "</style>\n",
              "<table border=\"1\" class=\"dataframe\">\n",
              "  <thead>\n",
              "    <tr style=\"text-align: right;\">\n",
              "      <th></th>\n",
              "      <th>id</th>\n",
              "      <th>ed매장수</th>\n",
              "      <th>pk매장수</th>\n",
              "    </tr>\n",
              "  </thead>\n",
              "  <tbody>\n",
              "    <tr>\n",
              "      <th>0</th>\n",
              "      <td>가평</td>\n",
              "      <td>9</td>\n",
              "      <td>NaN</td>\n",
              "    </tr>\n",
              "    <tr>\n",
              "      <th>1</th>\n",
              "      <td>강릉</td>\n",
              "      <td>15</td>\n",
              "      <td>2.0</td>\n",
              "    </tr>\n",
              "    <tr>\n",
              "      <th>2</th>\n",
              "      <td>강진</td>\n",
              "      <td>1</td>\n",
              "      <td>NaN</td>\n",
              "    </tr>\n",
              "    <tr>\n",
              "      <th>3</th>\n",
              "      <td>거제</td>\n",
              "      <td>9</td>\n",
              "      <td>NaN</td>\n",
              "    </tr>\n",
              "    <tr>\n",
              "      <th>4</th>\n",
              "      <td>거창</td>\n",
              "      <td>1</td>\n",
              "      <td>1.0</td>\n",
              "    </tr>\n",
              "  </tbody>\n",
              "</table>\n",
              "</div>"
            ],
            "text/plain": [
              "   id  ed매장수  pk매장수\n",
              "0  가평      9    NaN\n",
              "1  강릉     15    2.0\n",
              "2  강진      1    NaN\n",
              "3  거제      9    NaN\n",
              "4  거창      1    1.0"
            ]
          },
          "metadata": {},
          "execution_count": 258
        }
      ]
    },
    {
      "cell_type": "code",
      "metadata": {
        "id": "P4wO6l9u4g33"
      },
      "source": [
        "all_coffee = pd.merge(ed_pk,sb_cb, how=\"left\", on= 'id').fillna(0)"
      ],
      "execution_count": 259,
      "outputs": []
    },
    {
      "cell_type": "code",
      "metadata": {
        "colab": {
          "base_uri": "https://localhost:8080/",
          "height": 414
        },
        "id": "FZoFibnf4rvf",
        "outputId": "133de8b5-364a-46a2-f348-9570fdb30cf7"
      },
      "source": [
        "all_coffee"
      ],
      "execution_count": 260,
      "outputs": [
        {
          "output_type": "execute_result",
          "data": {
            "text/html": [
              "<div>\n",
              "<style scoped>\n",
              "    .dataframe tbody tr th:only-of-type {\n",
              "        vertical-align: middle;\n",
              "    }\n",
              "\n",
              "    .dataframe tbody tr th {\n",
              "        vertical-align: top;\n",
              "    }\n",
              "\n",
              "    .dataframe thead th {\n",
              "        text-align: right;\n",
              "    }\n",
              "</style>\n",
              "<table border=\"1\" class=\"dataframe\">\n",
              "  <thead>\n",
              "    <tr style=\"text-align: right;\">\n",
              "      <th></th>\n",
              "      <th>id</th>\n",
              "      <th>ed매장수</th>\n",
              "      <th>pk매장수</th>\n",
              "      <th>sb매장수</th>\n",
              "      <th>cb매장수</th>\n",
              "    </tr>\n",
              "  </thead>\n",
              "  <tbody>\n",
              "    <tr>\n",
              "      <th>0</th>\n",
              "      <td>가평</td>\n",
              "      <td>9</td>\n",
              "      <td>0.0</td>\n",
              "      <td>2.0</td>\n",
              "      <td>0.0</td>\n",
              "    </tr>\n",
              "    <tr>\n",
              "      <th>1</th>\n",
              "      <td>강릉</td>\n",
              "      <td>15</td>\n",
              "      <td>2.0</td>\n",
              "      <td>5.0</td>\n",
              "      <td>0.0</td>\n",
              "    </tr>\n",
              "    <tr>\n",
              "      <th>2</th>\n",
              "      <td>강진</td>\n",
              "      <td>1</td>\n",
              "      <td>0.0</td>\n",
              "      <td>0.0</td>\n",
              "      <td>0.0</td>\n",
              "    </tr>\n",
              "    <tr>\n",
              "      <th>3</th>\n",
              "      <td>거제</td>\n",
              "      <td>9</td>\n",
              "      <td>0.0</td>\n",
              "      <td>6.0</td>\n",
              "      <td>0.0</td>\n",
              "    </tr>\n",
              "    <tr>\n",
              "      <th>4</th>\n",
              "      <td>거창</td>\n",
              "      <td>1</td>\n",
              "      <td>1.0</td>\n",
              "      <td>0.0</td>\n",
              "      <td>0.0</td>\n",
              "    </tr>\n",
              "    <tr>\n",
              "      <th>...</th>\n",
              "      <td>...</td>\n",
              "      <td>...</td>\n",
              "      <td>...</td>\n",
              "      <td>...</td>\n",
              "      <td>...</td>\n",
              "    </tr>\n",
              "    <tr>\n",
              "      <th>235</th>\n",
              "      <td>홍천</td>\n",
              "      <td>3</td>\n",
              "      <td>1.0</td>\n",
              "      <td>2.0</td>\n",
              "      <td>0.0</td>\n",
              "    </tr>\n",
              "    <tr>\n",
              "      <th>236</th>\n",
              "      <td>화성</td>\n",
              "      <td>28</td>\n",
              "      <td>10.0</td>\n",
              "      <td>16.0</td>\n",
              "      <td>5.0</td>\n",
              "    </tr>\n",
              "    <tr>\n",
              "      <th>237</th>\n",
              "      <td>화순</td>\n",
              "      <td>1</td>\n",
              "      <td>1.0</td>\n",
              "      <td>0.0</td>\n",
              "      <td>0.0</td>\n",
              "    </tr>\n",
              "    <tr>\n",
              "      <th>238</th>\n",
              "      <td>화천</td>\n",
              "      <td>1</td>\n",
              "      <td>1.0</td>\n",
              "      <td>0.0</td>\n",
              "      <td>0.0</td>\n",
              "    </tr>\n",
              "    <tr>\n",
              "      <th>239</th>\n",
              "      <td>횡성</td>\n",
              "      <td>1</td>\n",
              "      <td>0.0</td>\n",
              "      <td>1.0</td>\n",
              "      <td>0.0</td>\n",
              "    </tr>\n",
              "  </tbody>\n",
              "</table>\n",
              "<p>240 rows × 5 columns</p>\n",
              "</div>"
            ],
            "text/plain": [
              "     id  ed매장수  pk매장수  sb매장수  cb매장수\n",
              "0    가평      9    0.0    2.0    0.0\n",
              "1    강릉     15    2.0    5.0    0.0\n",
              "2    강진      1    0.0    0.0    0.0\n",
              "3    거제      9    0.0    6.0    0.0\n",
              "4    거창      1    1.0    0.0    0.0\n",
              "..   ..    ...    ...    ...    ...\n",
              "235  홍천      3    1.0    2.0    0.0\n",
              "236  화성     28   10.0   16.0    5.0\n",
              "237  화순      1    1.0    0.0    0.0\n",
              "238  화천      1    1.0    0.0    0.0\n",
              "239  횡성      1    0.0    1.0    0.0\n",
              "\n",
              "[240 rows x 5 columns]"
            ]
          },
          "metadata": {},
          "execution_count": 260
        }
      ]
    },
    {
      "cell_type": "code",
      "metadata": {
        "id": "z4QMM-494s7n"
      },
      "source": [
        "c_sum = []\n",
        "for idx, cf in all_coffee.iterrows():\n",
        "  if (cf.sb매장수 + cf.cb매장수) ==0 or (cf.ed매장수 + cf.pk매장수) ==0 :\n",
        "    c = 0\n",
        "  else:\n",
        "    c = (cf.sb매장수 + cf.cb매장수) / (cf.ed매장수 + cf.pk매장수)\n",
        "  c_sum.append(c)\n"
      ],
      "execution_count": 261,
      "outputs": []
    },
    {
      "cell_type": "code",
      "metadata": {
        "id": "1lhLw-4D5LUn"
      },
      "source": [
        "all_coffee['커피지수'] = c_sum"
      ],
      "execution_count": 262,
      "outputs": []
    },
    {
      "cell_type": "code",
      "metadata": {
        "colab": {
          "base_uri": "https://localhost:8080/",
          "height": 414
        },
        "id": "0p5JSMpe5Mze",
        "outputId": "bb364adc-9ccd-49c5-e236-83b424366d67"
      },
      "source": [
        "all_coffee"
      ],
      "execution_count": 263,
      "outputs": [
        {
          "output_type": "execute_result",
          "data": {
            "text/html": [
              "<div>\n",
              "<style scoped>\n",
              "    .dataframe tbody tr th:only-of-type {\n",
              "        vertical-align: middle;\n",
              "    }\n",
              "\n",
              "    .dataframe tbody tr th {\n",
              "        vertical-align: top;\n",
              "    }\n",
              "\n",
              "    .dataframe thead th {\n",
              "        text-align: right;\n",
              "    }\n",
              "</style>\n",
              "<table border=\"1\" class=\"dataframe\">\n",
              "  <thead>\n",
              "    <tr style=\"text-align: right;\">\n",
              "      <th></th>\n",
              "      <th>id</th>\n",
              "      <th>ed매장수</th>\n",
              "      <th>pk매장수</th>\n",
              "      <th>sb매장수</th>\n",
              "      <th>cb매장수</th>\n",
              "      <th>커피지수</th>\n",
              "    </tr>\n",
              "  </thead>\n",
              "  <tbody>\n",
              "    <tr>\n",
              "      <th>0</th>\n",
              "      <td>가평</td>\n",
              "      <td>9</td>\n",
              "      <td>0.0</td>\n",
              "      <td>2.0</td>\n",
              "      <td>0.0</td>\n",
              "      <td>0.222222</td>\n",
              "    </tr>\n",
              "    <tr>\n",
              "      <th>1</th>\n",
              "      <td>강릉</td>\n",
              "      <td>15</td>\n",
              "      <td>2.0</td>\n",
              "      <td>5.0</td>\n",
              "      <td>0.0</td>\n",
              "      <td>0.294118</td>\n",
              "    </tr>\n",
              "    <tr>\n",
              "      <th>2</th>\n",
              "      <td>강진</td>\n",
              "      <td>1</td>\n",
              "      <td>0.0</td>\n",
              "      <td>0.0</td>\n",
              "      <td>0.0</td>\n",
              "      <td>0.000000</td>\n",
              "    </tr>\n",
              "    <tr>\n",
              "      <th>3</th>\n",
              "      <td>거제</td>\n",
              "      <td>9</td>\n",
              "      <td>0.0</td>\n",
              "      <td>6.0</td>\n",
              "      <td>0.0</td>\n",
              "      <td>0.666667</td>\n",
              "    </tr>\n",
              "    <tr>\n",
              "      <th>4</th>\n",
              "      <td>거창</td>\n",
              "      <td>1</td>\n",
              "      <td>1.0</td>\n",
              "      <td>0.0</td>\n",
              "      <td>0.0</td>\n",
              "      <td>0.000000</td>\n",
              "    </tr>\n",
              "    <tr>\n",
              "      <th>...</th>\n",
              "      <td>...</td>\n",
              "      <td>...</td>\n",
              "      <td>...</td>\n",
              "      <td>...</td>\n",
              "      <td>...</td>\n",
              "      <td>...</td>\n",
              "    </tr>\n",
              "    <tr>\n",
              "      <th>235</th>\n",
              "      <td>홍천</td>\n",
              "      <td>3</td>\n",
              "      <td>1.0</td>\n",
              "      <td>2.0</td>\n",
              "      <td>0.0</td>\n",
              "      <td>0.500000</td>\n",
              "    </tr>\n",
              "    <tr>\n",
              "      <th>236</th>\n",
              "      <td>화성</td>\n",
              "      <td>28</td>\n",
              "      <td>10.0</td>\n",
              "      <td>16.0</td>\n",
              "      <td>5.0</td>\n",
              "      <td>0.552632</td>\n",
              "    </tr>\n",
              "    <tr>\n",
              "      <th>237</th>\n",
              "      <td>화순</td>\n",
              "      <td>1</td>\n",
              "      <td>1.0</td>\n",
              "      <td>0.0</td>\n",
              "      <td>0.0</td>\n",
              "      <td>0.000000</td>\n",
              "    </tr>\n",
              "    <tr>\n",
              "      <th>238</th>\n",
              "      <td>화천</td>\n",
              "      <td>1</td>\n",
              "      <td>1.0</td>\n",
              "      <td>0.0</td>\n",
              "      <td>0.0</td>\n",
              "      <td>0.000000</td>\n",
              "    </tr>\n",
              "    <tr>\n",
              "      <th>239</th>\n",
              "      <td>횡성</td>\n",
              "      <td>1</td>\n",
              "      <td>0.0</td>\n",
              "      <td>1.0</td>\n",
              "      <td>0.0</td>\n",
              "      <td>1.000000</td>\n",
              "    </tr>\n",
              "  </tbody>\n",
              "</table>\n",
              "<p>240 rows × 6 columns</p>\n",
              "</div>"
            ],
            "text/plain": [
              "     id  ed매장수  pk매장수  sb매장수  cb매장수      커피지수\n",
              "0    가평      9    0.0    2.0    0.0  0.222222\n",
              "1    강릉     15    2.0    5.0    0.0  0.294118\n",
              "2    강진      1    0.0    0.0    0.0  0.000000\n",
              "3    거제      9    0.0    6.0    0.0  0.666667\n",
              "4    거창      1    1.0    0.0    0.0  0.000000\n",
              "..   ..    ...    ...    ...    ...       ...\n",
              "235  홍천      3    1.0    2.0    0.0  0.500000\n",
              "236  화성     28   10.0   16.0    5.0  0.552632\n",
              "237  화순      1    1.0    0.0    0.0  0.000000\n",
              "238  화천      1    1.0    0.0    0.0  0.000000\n",
              "239  횡성      1    0.0    1.0    0.0  1.000000\n",
              "\n",
              "[240 rows x 6 columns]"
            ]
          },
          "metadata": {},
          "execution_count": 263
        }
      ]
    },
    {
      "cell_type": "code",
      "metadata": {
        "id": "mXPdEcfv76rH"
      },
      "source": [
        "all_coffee.to_csv(f'{result_dir}/전국커피지수.csv', index=False)"
      ],
      "execution_count": 264,
      "outputs": []
    },
    {
      "cell_type": "code",
      "metadata": {
        "id": "jerezgFv8NGe"
      },
      "source": [
        ""
      ],
      "execution_count": null,
      "outputs": []
    }
  ]
}
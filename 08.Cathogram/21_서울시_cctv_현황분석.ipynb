{
  "nbformat": 4,
  "nbformat_minor": 0,
  "metadata": {
    "colab": {
      "name": "21_서울시_cctv_현황분석.ipynb",
      "provenance": [],
      "collapsed_sections": []
    },
    "kernelspec": {
      "name": "python3",
      "display_name": "Python 3"
    },
    "language_info": {
      "name": "python"
    }
  },
  "cells": [
    {
      "cell_type": "code",
      "metadata": {
        "id": "PewdPmFF47js"
      },
      "source": [
        "import matplotlib.pyplot as plt\n",
        "!apt-get install -y fonts-nanum > /dev/null\n",
        "!fc-cache -fv > /dev/null\n",
        "!rm -rf ~/.cache/matplotlib > /dev/null"
      ],
      "execution_count": null,
      "outputs": []
    },
    {
      "cell_type": "code",
      "metadata": {
        "id": "mxB-dfPdvSEY"
      },
      "source": [
        "import pandas as pd\n",
        "import numpy as np\n",
        "import warnings\n",
        "warnings.filterwarnings('ignore')"
      ],
      "execution_count": null,
      "outputs": []
    },
    {
      "cell_type": "code",
      "metadata": {
        "id": "7-kbqo6U46-z"
      },
      "source": [
        "import matplotlib as mpl\n",
        "import matplotlib.pyplot as plt\n",
        "mpl.rcParams['axes.unicode_minus'] = False\n",
        "plt.rc('font', family='NanumBarunGothic')"
      ],
      "execution_count": null,
      "outputs": []
    },
    {
      "cell_type": "code",
      "metadata": {
        "colab": {
          "base_uri": "https://localhost:8080/"
        },
        "id": "3n-zyFQSvUkc",
        "outputId": "6c03166e-b2eb-41a6-f40b-5bbfe4acc5ec"
      },
      "source": [
        "from google.colab import drive\n",
        "drive.mount('/content/mnt')"
      ],
      "execution_count": null,
      "outputs": [
        {
          "output_type": "stream",
          "name": "stdout",
          "text": [
            "Drive already mounted at /content/mnt; to attempt to forcibly remount, call drive.mount(\"/content/mnt\", force_remount=True).\n"
          ]
        }
      ]
    },
    {
      "cell_type": "code",
      "metadata": {
        "id": "TMrU5krzvUzc"
      },
      "source": [
        "data_dir = '/content/mnt/MyDrive/data/cctv'\n"
      ],
      "execution_count": null,
      "outputs": []
    },
    {
      "cell_type": "code",
      "metadata": {
        "id": "QZ4mYPL_veCk"
      },
      "source": [
        "cctv = pd.read_csv(f'{data_dir}/서울시CCTV설치운영현황(자치구)_년도별_210731기준.csv', encoding='euc-kr',skiprows=1)"
      ],
      "execution_count": null,
      "outputs": []
    },
    {
      "cell_type": "code",
      "metadata": {
        "id": "-CZdvFWMvsp0"
      },
      "source": [
        "pop = pd.read_csv(f'{data_dir}/서울시_주민등록인구_구별(통계).tsv',sep='\\t')"
      ],
      "execution_count": null,
      "outputs": []
    },
    {
      "cell_type": "code",
      "metadata": {
        "id": "9Wh3u2Egw8aU"
      },
      "source": [
        "pop.columns = ['기간', '구분', '세대', '인구합계', '남자인구합계', '여자인구합계', '한국인인구합계',\n",
        "               '한국인남자인구합계', '한국인여자인구합계', '등록외국인인구합계', '등록외국인남자인구합계',\n",
        "               '등록외국인여자합계', '세대당인구', '65세이상고령인구']"
      ],
      "execution_count": null,
      "outputs": []
    },
    {
      "cell_type": "code",
      "metadata": {
        "id": "vN1IjySVy7sj"
      },
      "source": [
        "pop.drop(index=[0,1,2], inplace=True)\n",
        "pop.reset_index(inplace=True)\n",
        "pop.drop(columns='index', inplace=True)"
      ],
      "execution_count": null,
      "outputs": []
    },
    {
      "cell_type": "code",
      "metadata": {
        "id": "fekivz6azXRE"
      },
      "source": [
        "cctv.drop(columns='2021년', inplace=True)\n",
        "cctv.구분[2] = '중구'\n",
        "cctv.drop(index=0, inplace=True)\n",
        "cctv.reset_index(inplace=True)\n",
        "cctv.drop(columns='index', inplace=True)\n"
      ],
      "execution_count": null,
      "outputs": []
    },
    {
      "cell_type": "code",
      "metadata": {
        "colab": {
          "base_uri": "https://localhost:8080/",
          "height": 202
        },
        "id": "QbrZcvsg2P3k",
        "outputId": "576a53fd-9f85-4f69-edeb-895827712e44"
      },
      "source": [
        "cctv.head()"
      ],
      "execution_count": null,
      "outputs": [
        {
          "output_type": "execute_result",
          "data": {
            "text/html": [
              "<div>\n",
              "<style scoped>\n",
              "    .dataframe tbody tr th:only-of-type {\n",
              "        vertical-align: middle;\n",
              "    }\n",
              "\n",
              "    .dataframe tbody tr th {\n",
              "        vertical-align: top;\n",
              "    }\n",
              "\n",
              "    .dataframe thead th {\n",
              "        text-align: right;\n",
              "    }\n",
              "</style>\n",
              "<table border=\"1\" class=\"dataframe\">\n",
              "  <thead>\n",
              "    <tr style=\"text-align: right;\">\n",
              "      <th></th>\n",
              "      <th>구분</th>\n",
              "      <th>총계</th>\n",
              "      <th>2012년 이전</th>\n",
              "      <th>2012년</th>\n",
              "      <th>2013년</th>\n",
              "      <th>2014년</th>\n",
              "      <th>2015년</th>\n",
              "      <th>2016년</th>\n",
              "      <th>2017년</th>\n",
              "      <th>2018년</th>\n",
              "      <th>2019년</th>\n",
              "      <th>2020년</th>\n",
              "    </tr>\n",
              "  </thead>\n",
              "  <tbody>\n",
              "    <tr>\n",
              "      <th>0</th>\n",
              "      <td>종로구</td>\n",
              "      <td>1,772</td>\n",
              "      <td>813</td>\n",
              "      <td>0</td>\n",
              "      <td>0</td>\n",
              "      <td>210</td>\n",
              "      <td>150</td>\n",
              "      <td>1</td>\n",
              "      <td>261</td>\n",
              "      <td>85</td>\n",
              "      <td>9</td>\n",
              "      <td>200</td>\n",
              "    </tr>\n",
              "    <tr>\n",
              "      <th>1</th>\n",
              "      <td>중구</td>\n",
              "      <td>2,333</td>\n",
              "      <td>16</td>\n",
              "      <td>114</td>\n",
              "      <td>87</td>\n",
              "      <td>77</td>\n",
              "      <td>236</td>\n",
              "      <td>240</td>\n",
              "      <td>372</td>\n",
              "      <td>386</td>\n",
              "      <td>155</td>\n",
              "      <td>361</td>\n",
              "    </tr>\n",
              "    <tr>\n",
              "      <th>2</th>\n",
              "      <td>용산구</td>\n",
              "      <td>2,383</td>\n",
              "      <td>34</td>\n",
              "      <td>71</td>\n",
              "      <td>234</td>\n",
              "      <td>125</td>\n",
              "      <td>221</td>\n",
              "      <td>298</td>\n",
              "      <td>351</td>\n",
              "      <td>125</td>\n",
              "      <td>307</td>\n",
              "      <td>617</td>\n",
              "    </tr>\n",
              "    <tr>\n",
              "      <th>3</th>\n",
              "      <td>성동구</td>\n",
              "      <td>3,602</td>\n",
              "      <td>448</td>\n",
              "      <td>125</td>\n",
              "      <td>212</td>\n",
              "      <td>105</td>\n",
              "      <td>339</td>\n",
              "      <td>310</td>\n",
              "      <td>874</td>\n",
              "      <td>390</td>\n",
              "      <td>262</td>\n",
              "      <td>461</td>\n",
              "    </tr>\n",
              "    <tr>\n",
              "      <th>4</th>\n",
              "      <td>광진구</td>\n",
              "      <td>2,588</td>\n",
              "      <td>35</td>\n",
              "      <td>57</td>\n",
              "      <td>100</td>\n",
              "      <td>187</td>\n",
              "      <td>98</td>\n",
              "      <td>52</td>\n",
              "      <td>675</td>\n",
              "      <td>465</td>\n",
              "      <td>712</td>\n",
              "      <td>175</td>\n",
              "    </tr>\n",
              "  </tbody>\n",
              "</table>\n",
              "</div>"
            ],
            "text/plain": [
              "    구분     총계 2012년 이전 2012년 2013년 2014년 2015년 2016년 2017년 2018년 2019년 2020년\n",
              "0  종로구  1,772      813     0     0   210   150     1   261    85     9   200\n",
              "1   중구  2,333       16   114    87    77   236   240   372   386   155   361\n",
              "2  용산구  2,383       34    71   234   125   221   298   351   125   307   617\n",
              "3  성동구  3,602      448   125   212   105   339   310   874   390   262   461\n",
              "4  광진구  2,588       35    57   100   187    98    52   675   465   712   175"
            ]
          },
          "metadata": {},
          "execution_count": 11
        }
      ]
    },
    {
      "cell_type": "code",
      "metadata": {
        "colab": {
          "base_uri": "https://localhost:8080/",
          "height": 385
        },
        "id": "8X11P8gL2Sdk",
        "outputId": "131914ed-4c21-4084-f4ba-c788f597bcd0"
      },
      "source": [
        "pop.head()"
      ],
      "execution_count": null,
      "outputs": [
        {
          "output_type": "execute_result",
          "data": {
            "text/html": [
              "<div>\n",
              "<style scoped>\n",
              "    .dataframe tbody tr th:only-of-type {\n",
              "        vertical-align: middle;\n",
              "    }\n",
              "\n",
              "    .dataframe tbody tr th {\n",
              "        vertical-align: top;\n",
              "    }\n",
              "\n",
              "    .dataframe thead th {\n",
              "        text-align: right;\n",
              "    }\n",
              "</style>\n",
              "<table border=\"1\" class=\"dataframe\">\n",
              "  <thead>\n",
              "    <tr style=\"text-align: right;\">\n",
              "      <th></th>\n",
              "      <th>기간</th>\n",
              "      <th>구분</th>\n",
              "      <th>세대</th>\n",
              "      <th>인구합계</th>\n",
              "      <th>남자인구합계</th>\n",
              "      <th>여자인구합계</th>\n",
              "      <th>한국인인구합계</th>\n",
              "      <th>한국인남자인구합계</th>\n",
              "      <th>한국인여자인구합계</th>\n",
              "      <th>등록외국인인구합계</th>\n",
              "      <th>등록외국인남자인구합계</th>\n",
              "      <th>등록외국인여자합계</th>\n",
              "      <th>세대당인구</th>\n",
              "      <th>65세이상고령인구</th>\n",
              "    </tr>\n",
              "  </thead>\n",
              "  <tbody>\n",
              "    <tr>\n",
              "      <th>0</th>\n",
              "      <td>2021.2/4</td>\n",
              "      <td>종로구</td>\n",
              "      <td>73,525</td>\n",
              "      <td>155,106</td>\n",
              "      <td>75,009</td>\n",
              "      <td>80,097</td>\n",
              "      <td>146,029</td>\n",
              "      <td>70,985</td>\n",
              "      <td>75,044</td>\n",
              "      <td>9,077</td>\n",
              "      <td>4,024</td>\n",
              "      <td>5,053</td>\n",
              "      <td>1.99</td>\n",
              "      <td>27,605</td>\n",
              "    </tr>\n",
              "    <tr>\n",
              "      <th>1</th>\n",
              "      <td>2021.2/4</td>\n",
              "      <td>중구</td>\n",
              "      <td>62,897</td>\n",
              "      <td>132,259</td>\n",
              "      <td>64,526</td>\n",
              "      <td>67,733</td>\n",
              "      <td>123,016</td>\n",
              "      <td>60,019</td>\n",
              "      <td>62,997</td>\n",
              "      <td>9,243</td>\n",
              "      <td>4,507</td>\n",
              "      <td>4,736</td>\n",
              "      <td>1.96</td>\n",
              "      <td>23,980</td>\n",
              "    </tr>\n",
              "    <tr>\n",
              "      <th>2</th>\n",
              "      <td>2021.2/4</td>\n",
              "      <td>용산구</td>\n",
              "      <td>111,650</td>\n",
              "      <td>240,665</td>\n",
              "      <td>116,858</td>\n",
              "      <td>123,807</td>\n",
              "      <td>226,378</td>\n",
              "      <td>108,948</td>\n",
              "      <td>117,430</td>\n",
              "      <td>14,287</td>\n",
              "      <td>7,910</td>\n",
              "      <td>6,377</td>\n",
              "      <td>2.03</td>\n",
              "      <td>38,884</td>\n",
              "    </tr>\n",
              "    <tr>\n",
              "      <th>3</th>\n",
              "      <td>2021.2/4</td>\n",
              "      <td>성동구</td>\n",
              "      <td>134,542</td>\n",
              "      <td>295,767</td>\n",
              "      <td>143,927</td>\n",
              "      <td>151,840</td>\n",
              "      <td>289,162</td>\n",
              "      <td>141,042</td>\n",
              "      <td>148,120</td>\n",
              "      <td>6,605</td>\n",
              "      <td>2,885</td>\n",
              "      <td>3,720</td>\n",
              "      <td>2.15</td>\n",
              "      <td>45,591</td>\n",
              "    </tr>\n",
              "    <tr>\n",
              "      <th>4</th>\n",
              "      <td>2021.2/4</td>\n",
              "      <td>광진구</td>\n",
              "      <td>166,957</td>\n",
              "      <td>355,306</td>\n",
              "      <td>170,624</td>\n",
              "      <td>184,682</td>\n",
              "      <td>342,481</td>\n",
              "      <td>165,233</td>\n",
              "      <td>177,248</td>\n",
              "      <td>12,825</td>\n",
              "      <td>5,391</td>\n",
              "      <td>7,434</td>\n",
              "      <td>2.05</td>\n",
              "      <td>50,815</td>\n",
              "    </tr>\n",
              "  </tbody>\n",
              "</table>\n",
              "</div>"
            ],
            "text/plain": [
              "         기간   구분       세대     인구합계  ... 등록외국인남자인구합계 등록외국인여자합계 세대당인구 65세이상고령인구\n",
              "0  2021.2/4  종로구   73,525  155,106  ...       4,024     5,053  1.99    27,605\n",
              "1  2021.2/4   중구   62,897  132,259  ...       4,507     4,736  1.96    23,980\n",
              "2  2021.2/4  용산구  111,650  240,665  ...       7,910     6,377  2.03    38,884\n",
              "3  2021.2/4  성동구  134,542  295,767  ...       2,885     3,720  2.15    45,591\n",
              "4  2021.2/4  광진구  166,957  355,306  ...       5,391     7,434  2.05    50,815\n",
              "\n",
              "[5 rows x 14 columns]"
            ]
          },
          "metadata": {},
          "execution_count": 12
        }
      ]
    },
    {
      "cell_type": "code",
      "metadata": {
        "colab": {
          "base_uri": "https://localhost:8080/"
        },
        "id": "zHOp4JQr8U-r",
        "outputId": "59499913-789e-45d7-c440-6de210280e1b"
      },
      "source": [
        "len(pop)"
      ],
      "execution_count": null,
      "outputs": [
        {
          "output_type": "execute_result",
          "data": {
            "text/plain": [
              "25"
            ]
          },
          "metadata": {},
          "execution_count": 13
        }
      ]
    },
    {
      "cell_type": "code",
      "metadata": {
        "id": "mOIAbbTn6ElL"
      },
      "source": [
        "for i in range(len(pop)):\n",
        "  pop.loc[i][2:] = pop.loc[i][2:].str.replace(',','')\n",
        "cctv['총계'] = cctv.총계.str.replace(',','')"
      ],
      "execution_count": null,
      "outputs": []
    },
    {
      "cell_type": "code",
      "metadata": {
        "colab": {
          "base_uri": "https://localhost:8080/",
          "height": 193
        },
        "id": "4LpI4Z2gHdgj",
        "outputId": "373d6873-dee5-4056-8724-66f920e5361d"
      },
      "source": [
        "pop.head(2)"
      ],
      "execution_count": null,
      "outputs": [
        {
          "output_type": "execute_result",
          "data": {
            "text/html": [
              "<div>\n",
              "<style scoped>\n",
              "    .dataframe tbody tr th:only-of-type {\n",
              "        vertical-align: middle;\n",
              "    }\n",
              "\n",
              "    .dataframe tbody tr th {\n",
              "        vertical-align: top;\n",
              "    }\n",
              "\n",
              "    .dataframe thead th {\n",
              "        text-align: right;\n",
              "    }\n",
              "</style>\n",
              "<table border=\"1\" class=\"dataframe\">\n",
              "  <thead>\n",
              "    <tr style=\"text-align: right;\">\n",
              "      <th></th>\n",
              "      <th>기간</th>\n",
              "      <th>구분</th>\n",
              "      <th>세대</th>\n",
              "      <th>인구합계</th>\n",
              "      <th>남자인구합계</th>\n",
              "      <th>여자인구합계</th>\n",
              "      <th>한국인인구합계</th>\n",
              "      <th>한국인남자인구합계</th>\n",
              "      <th>한국인여자인구합계</th>\n",
              "      <th>등록외국인인구합계</th>\n",
              "      <th>등록외국인남자인구합계</th>\n",
              "      <th>등록외국인여자합계</th>\n",
              "      <th>세대당인구</th>\n",
              "      <th>65세이상고령인구</th>\n",
              "    </tr>\n",
              "  </thead>\n",
              "  <tbody>\n",
              "    <tr>\n",
              "      <th>0</th>\n",
              "      <td>2021.2/4</td>\n",
              "      <td>종로구</td>\n",
              "      <td>73525</td>\n",
              "      <td>155106</td>\n",
              "      <td>75009</td>\n",
              "      <td>80097</td>\n",
              "      <td>146029</td>\n",
              "      <td>70985</td>\n",
              "      <td>75044</td>\n",
              "      <td>9077</td>\n",
              "      <td>4024</td>\n",
              "      <td>5053</td>\n",
              "      <td>1.99</td>\n",
              "      <td>27605</td>\n",
              "    </tr>\n",
              "    <tr>\n",
              "      <th>1</th>\n",
              "      <td>2021.2/4</td>\n",
              "      <td>중구</td>\n",
              "      <td>62897</td>\n",
              "      <td>132259</td>\n",
              "      <td>64526</td>\n",
              "      <td>67733</td>\n",
              "      <td>123016</td>\n",
              "      <td>60019</td>\n",
              "      <td>62997</td>\n",
              "      <td>9243</td>\n",
              "      <td>4507</td>\n",
              "      <td>4736</td>\n",
              "      <td>1.96</td>\n",
              "      <td>23980</td>\n",
              "    </tr>\n",
              "  </tbody>\n",
              "</table>\n",
              "</div>"
            ],
            "text/plain": [
              "         기간   구분     세대    인구합계  ... 등록외국인남자인구합계 등록외국인여자합계 세대당인구 65세이상고령인구\n",
              "0  2021.2/4  종로구  73525  155106  ...        4024      5053  1.99     27605\n",
              "1  2021.2/4   중구  62897  132259  ...        4507      4736  1.96     23980\n",
              "\n",
              "[2 rows x 14 columns]"
            ]
          },
          "metadata": {},
          "execution_count": 27
        }
      ]
    },
    {
      "cell_type": "code",
      "metadata": {
        "colab": {
          "base_uri": "https://localhost:8080/",
          "height": 110
        },
        "id": "-OBP7yU-Hf_6",
        "outputId": "ec47c934-d16e-48a8-f6a4-167f93d4ac74"
      },
      "source": [
        "cctv.head(2)"
      ],
      "execution_count": null,
      "outputs": [
        {
          "output_type": "execute_result",
          "data": {
            "text/html": [
              "<div>\n",
              "<style scoped>\n",
              "    .dataframe tbody tr th:only-of-type {\n",
              "        vertical-align: middle;\n",
              "    }\n",
              "\n",
              "    .dataframe tbody tr th {\n",
              "        vertical-align: top;\n",
              "    }\n",
              "\n",
              "    .dataframe thead th {\n",
              "        text-align: right;\n",
              "    }\n",
              "</style>\n",
              "<table border=\"1\" class=\"dataframe\">\n",
              "  <thead>\n",
              "    <tr style=\"text-align: right;\">\n",
              "      <th></th>\n",
              "      <th>구분</th>\n",
              "      <th>총계</th>\n",
              "      <th>2012년 이전</th>\n",
              "      <th>2012년</th>\n",
              "      <th>2013년</th>\n",
              "      <th>2014년</th>\n",
              "      <th>2015년</th>\n",
              "      <th>2016년</th>\n",
              "      <th>2017년</th>\n",
              "      <th>2018년</th>\n",
              "      <th>2019년</th>\n",
              "      <th>2020년</th>\n",
              "    </tr>\n",
              "  </thead>\n",
              "  <tbody>\n",
              "    <tr>\n",
              "      <th>0</th>\n",
              "      <td>종로구</td>\n",
              "      <td>1772</td>\n",
              "      <td>813</td>\n",
              "      <td>0</td>\n",
              "      <td>0</td>\n",
              "      <td>210</td>\n",
              "      <td>150</td>\n",
              "      <td>1</td>\n",
              "      <td>261</td>\n",
              "      <td>85</td>\n",
              "      <td>9</td>\n",
              "      <td>200</td>\n",
              "    </tr>\n",
              "    <tr>\n",
              "      <th>1</th>\n",
              "      <td>중구</td>\n",
              "      <td>2333</td>\n",
              "      <td>16</td>\n",
              "      <td>114</td>\n",
              "      <td>87</td>\n",
              "      <td>77</td>\n",
              "      <td>236</td>\n",
              "      <td>240</td>\n",
              "      <td>372</td>\n",
              "      <td>386</td>\n",
              "      <td>155</td>\n",
              "      <td>361</td>\n",
              "    </tr>\n",
              "  </tbody>\n",
              "</table>\n",
              "</div>"
            ],
            "text/plain": [
              "    구분    총계 2012년 이전 2012년 2013년 2014년 2015년 2016년 2017년 2018년 2019년 2020년\n",
              "0  종로구  1772      813     0     0   210   150     1   261    85     9   200\n",
              "1   중구  2333       16   114    87    77   236   240   372   386   155   361"
            ]
          },
          "metadata": {},
          "execution_count": 28
        }
      ]
    },
    {
      "cell_type": "markdown",
      "metadata": {
        "id": "07JvDzr_3pJM"
      },
      "source": [
        "# 구별 외국인 인구수대비 cctv 설치수"
      ]
    },
    {
      "cell_type": "code",
      "metadata": {
        "colab": {
          "base_uri": "https://localhost:8080/",
          "height": 202
        },
        "id": "2-PdEvmRzi87",
        "outputId": "74e6ad4e-bd0d-4b59-969f-479997a240d6"
      },
      "source": [
        "f_pop = pop[['구분', '등록외국인인구합계']]\n",
        "f_pop.head()"
      ],
      "execution_count": null,
      "outputs": [
        {
          "output_type": "execute_result",
          "data": {
            "text/html": [
              "<div>\n",
              "<style scoped>\n",
              "    .dataframe tbody tr th:only-of-type {\n",
              "        vertical-align: middle;\n",
              "    }\n",
              "\n",
              "    .dataframe tbody tr th {\n",
              "        vertical-align: top;\n",
              "    }\n",
              "\n",
              "    .dataframe thead th {\n",
              "        text-align: right;\n",
              "    }\n",
              "</style>\n",
              "<table border=\"1\" class=\"dataframe\">\n",
              "  <thead>\n",
              "    <tr style=\"text-align: right;\">\n",
              "      <th></th>\n",
              "      <th>구분</th>\n",
              "      <th>등록외국인인구합계</th>\n",
              "    </tr>\n",
              "  </thead>\n",
              "  <tbody>\n",
              "    <tr>\n",
              "      <th>0</th>\n",
              "      <td>종로구</td>\n",
              "      <td>9077</td>\n",
              "    </tr>\n",
              "    <tr>\n",
              "      <th>1</th>\n",
              "      <td>중구</td>\n",
              "      <td>9243</td>\n",
              "    </tr>\n",
              "    <tr>\n",
              "      <th>2</th>\n",
              "      <td>용산구</td>\n",
              "      <td>14287</td>\n",
              "    </tr>\n",
              "    <tr>\n",
              "      <th>3</th>\n",
              "      <td>성동구</td>\n",
              "      <td>6605</td>\n",
              "    </tr>\n",
              "    <tr>\n",
              "      <th>4</th>\n",
              "      <td>광진구</td>\n",
              "      <td>12825</td>\n",
              "    </tr>\n",
              "  </tbody>\n",
              "</table>\n",
              "</div>"
            ],
            "text/plain": [
              "    구분 등록외국인인구합계\n",
              "0  종로구      9077\n",
              "1   중구      9243\n",
              "2  용산구     14287\n",
              "3  성동구      6605\n",
              "4  광진구     12825"
            ]
          },
          "metadata": {},
          "execution_count": 15
        }
      ]
    },
    {
      "cell_type": "code",
      "metadata": {
        "id": "ihmEglKQ4DJL"
      },
      "source": [
        "gu_cctvf = pd.merge(f_pop, cctv[['구분', '총계']] ,on='구분')"
      ],
      "execution_count": null,
      "outputs": []
    },
    {
      "cell_type": "code",
      "metadata": {
        "colab": {
          "base_uri": "https://localhost:8080/",
          "height": 202
        },
        "id": "fsOP0Z8v4t0r",
        "outputId": "7ef943bc-5cde-4d2e-9ddf-f728f5332407"
      },
      "source": [
        "gu_cctvf['외국인대비cctv비율'] = gu_cctvf.등록외국인인구합계.astype(int) / gu_cctvf.총계.astype(int)\n",
        "gu_cctvf.head()"
      ],
      "execution_count": null,
      "outputs": [
        {
          "output_type": "execute_result",
          "data": {
            "text/html": [
              "<div>\n",
              "<style scoped>\n",
              "    .dataframe tbody tr th:only-of-type {\n",
              "        vertical-align: middle;\n",
              "    }\n",
              "\n",
              "    .dataframe tbody tr th {\n",
              "        vertical-align: top;\n",
              "    }\n",
              "\n",
              "    .dataframe thead th {\n",
              "        text-align: right;\n",
              "    }\n",
              "</style>\n",
              "<table border=\"1\" class=\"dataframe\">\n",
              "  <thead>\n",
              "    <tr style=\"text-align: right;\">\n",
              "      <th></th>\n",
              "      <th>구분</th>\n",
              "      <th>등록외국인인구합계</th>\n",
              "      <th>총계</th>\n",
              "      <th>외국인대비cctv비율</th>\n",
              "    </tr>\n",
              "  </thead>\n",
              "  <tbody>\n",
              "    <tr>\n",
              "      <th>0</th>\n",
              "      <td>종로구</td>\n",
              "      <td>9077</td>\n",
              "      <td>1772</td>\n",
              "      <td>5.122460</td>\n",
              "    </tr>\n",
              "    <tr>\n",
              "      <th>1</th>\n",
              "      <td>중구</td>\n",
              "      <td>9243</td>\n",
              "      <td>2333</td>\n",
              "      <td>3.961852</td>\n",
              "    </tr>\n",
              "    <tr>\n",
              "      <th>2</th>\n",
              "      <td>용산구</td>\n",
              "      <td>14287</td>\n",
              "      <td>2383</td>\n",
              "      <td>5.995384</td>\n",
              "    </tr>\n",
              "    <tr>\n",
              "      <th>3</th>\n",
              "      <td>성동구</td>\n",
              "      <td>6605</td>\n",
              "      <td>3602</td>\n",
              "      <td>1.833703</td>\n",
              "    </tr>\n",
              "    <tr>\n",
              "      <th>4</th>\n",
              "      <td>광진구</td>\n",
              "      <td>12825</td>\n",
              "      <td>2588</td>\n",
              "      <td>4.955564</td>\n",
              "    </tr>\n",
              "  </tbody>\n",
              "</table>\n",
              "</div>"
            ],
            "text/plain": [
              "    구분 등록외국인인구합계    총계  외국인대비cctv비율\n",
              "0  종로구      9077  1772     5.122460\n",
              "1   중구      9243  2333     3.961852\n",
              "2  용산구     14287  2383     5.995384\n",
              "3  성동구      6605  3602     1.833703\n",
              "4  광진구     12825  2588     4.955564"
            ]
          },
          "metadata": {},
          "execution_count": 17
        }
      ]
    },
    {
      "cell_type": "code",
      "metadata": {
        "id": "RsP9KfQw_9vr"
      },
      "source": [
        "import json\n",
        "import folium"
      ],
      "execution_count": null,
      "outputs": []
    },
    {
      "cell_type": "code",
      "metadata": {
        "colab": {
          "base_uri": "https://localhost:8080/"
        },
        "id": "Z6SzGuTBDigD",
        "outputId": "1af6e7f4-72fc-48f9-ea83-1c4670ec9471"
      },
      "source": [
        "gu_cctvf.index"
      ],
      "execution_count": null,
      "outputs": [
        {
          "output_type": "execute_result",
          "data": {
            "text/plain": [
              "Int64Index([ 0,  1,  2,  3,  4,  5,  6,  7,  8,  9, 10, 11, 12, 13, 14, 15, 16,\n",
              "            17, 18, 19, 20, 21, 22, 23, 24],\n",
              "           dtype='int64')"
            ]
          },
          "metadata": {},
          "execution_count": 19
        }
      ]
    },
    {
      "cell_type": "code",
      "metadata": {
        "id": "RDAwLzQBAGhM"
      },
      "source": [
        "gu_cctvf.set_index('구분', inplace=True)"
      ],
      "execution_count": null,
      "outputs": []
    },
    {
      "cell_type": "code",
      "metadata": {
        "colab": {
          "base_uri": "https://localhost:8080/",
          "height": 582
        },
        "id": "LTQe_Gjw4xRr",
        "outputId": "ae65ad86-2225-4d5c-8ed6-fee0bfbcf38a"
      },
      "source": [
        "geo_data = json.load(open(f'{data_dir}/seoul-gu-simple.json'))\n",
        "\n",
        "center = [37.541, 126.986]\n",
        "\n",
        "map = folium.Map(location=center, zoom_start=10)\n",
        "\n",
        "folium.Choropleth(\n",
        "    geo_data=geo_data,\n",
        "    data=gu_cctvf.외국인대비cctv비율,\n",
        "    columns=(gu_cctvf.index, gu_cctvf.외국인대비cctv비율),\n",
        "    key_on='feature.id',\n",
        "    fill_color='Reds',\n",
        "    legend_name='외국인대비cctv비율'\n",
        ").add_to(map)\n",
        "title = '<h3 align=\"center\" style=\"font-size:20px\">서울 구별 외국인대비cctv비율</h3>'\n",
        "map.get_root().html.add_child(folium.Element(title))     \n",
        "map"
      ],
      "execution_count": null,
      "outputs": [
        {
          "output_type": "execute_result",
          "data": {
            "text/html": [
              "<div style=\"width:100%;\"><div style=\"position:relative;width:100%;height:0;padding-bottom:60%;\"><span style=\"color:#565656\">Make this Notebook Trusted to load map: File -> Trust Notebook</span><iframe src=\"about:blank\" style=\"position:absolute;width:100%;height:100%;left:0;top:0;border:none !important;\" data-html=%3C%21DOCTYPE%20html%3E%0A%3Chead%3E%20%20%20%20%0A%20%20%20%20%3Cmeta%20http-equiv%3D%22content-type%22%20content%3D%22text/html%3B%20charset%3DUTF-8%22%20/%3E%0A%20%20%20%20%3Cscript%3EL_PREFER_CANVAS%3Dfalse%3B%20L_NO_TOUCH%3Dfalse%3B%20L_DISABLE_3D%3Dfalse%3B%3C/script%3E%0A%20%20%20%20%3Cscript%20src%3D%22https%3A//cdn.jsdelivr.net/npm/leaflet%401.4.0/dist/leaflet.js%22%3E%3C/script%3E%0A%20%20%20%20%3Cscript%20src%3D%22https%3A//code.jquery.com/jquery-1.12.4.min.js%22%3E%3C/script%3E%0A%20%20%20%20%3Cscript%20src%3D%22https%3A//maxcdn.bootstrapcdn.com/bootstrap/3.2.0/js/bootstrap.min.js%22%3E%3C/script%3E%0A%20%20%20%20%3Cscript%20src%3D%22https%3A//cdnjs.cloudflare.com/ajax/libs/Leaflet.awesome-markers/2.0.2/leaflet.awesome-markers.js%22%3E%3C/script%3E%0A%20%20%20%20%3Clink%20rel%3D%22stylesheet%22%20href%3D%22https%3A//cdn.jsdelivr.net/npm/leaflet%401.4.0/dist/leaflet.css%22/%3E%0A%20%20%20%20%3Clink%20rel%3D%22stylesheet%22%20href%3D%22https%3A//maxcdn.bootstrapcdn.com/bootstrap/3.2.0/css/bootstrap.min.css%22/%3E%0A%20%20%20%20%3Clink%20rel%3D%22stylesheet%22%20href%3D%22https%3A//maxcdn.bootstrapcdn.com/bootstrap/3.2.0/css/bootstrap-theme.min.css%22/%3E%0A%20%20%20%20%3Clink%20rel%3D%22stylesheet%22%20href%3D%22https%3A//maxcdn.bootstrapcdn.com/font-awesome/4.6.3/css/font-awesome.min.css%22/%3E%0A%20%20%20%20%3Clink%20rel%3D%22stylesheet%22%20href%3D%22https%3A//cdnjs.cloudflare.com/ajax/libs/Leaflet.awesome-markers/2.0.2/leaflet.awesome-markers.css%22/%3E%0A%20%20%20%20%3Clink%20rel%3D%22stylesheet%22%20href%3D%22https%3A//rawcdn.githack.com/python-visualization/folium/master/folium/templates/leaflet.awesome.rotate.css%22/%3E%0A%20%20%20%20%3Cstyle%3Ehtml%2C%20body%20%7Bwidth%3A%20100%25%3Bheight%3A%20100%25%3Bmargin%3A%200%3Bpadding%3A%200%3B%7D%3C/style%3E%0A%20%20%20%20%3Cstyle%3E%23map%20%7Bposition%3Aabsolute%3Btop%3A0%3Bbottom%3A0%3Bright%3A0%3Bleft%3A0%3B%7D%3C/style%3E%0A%20%20%20%20%0A%20%20%20%20%3Cmeta%20name%3D%22viewport%22%20content%3D%22width%3Ddevice-width%2C%0A%20%20%20%20%20%20%20%20initial-scale%3D1.0%2C%20maximum-scale%3D1.0%2C%20user-scalable%3Dno%22%20/%3E%0A%20%20%20%20%3Cstyle%3E%23map_a36a7d0b6f9647ccb649fbad9dfd6451%20%7B%0A%20%20%20%20%20%20%20%20position%3A%20relative%3B%0A%20%20%20%20%20%20%20%20width%3A%20100.0%25%3B%0A%20%20%20%20%20%20%20%20height%3A%20100.0%25%3B%0A%20%20%20%20%20%20%20%20left%3A%200.0%25%3B%0A%20%20%20%20%20%20%20%20top%3A%200.0%25%3B%0A%20%20%20%20%20%20%20%20%7D%0A%20%20%20%20%3C/style%3E%0A%20%20%20%20%3Cscript%20src%3D%22https%3A//cdnjs.cloudflare.com/ajax/libs/d3/3.5.5/d3.min.js%22%3E%3C/script%3E%0A%3C/head%3E%0A%3Cbody%3E%20%20%20%20%0A%20%20%20%20%3Ch3%20align%3D%22center%22%20style%3D%22font-size%3A20px%22%3E%EC%84%9C%EC%9A%B8%20%EA%B5%AC%EB%B3%84%20%EC%99%B8%EA%B5%AD%EC%9D%B8%EB%8C%80%EB%B9%84cctv%EB%B9%84%EC%9C%A8%3C/h3%3E%0A%20%20%20%20%0A%20%20%20%20%3Cdiv%20class%3D%22folium-map%22%20id%3D%22map_a36a7d0b6f9647ccb649fbad9dfd6451%22%20%3E%3C/div%3E%0A%3C/body%3E%0A%3Cscript%3E%20%20%20%20%0A%20%20%20%20%0A%20%20%20%20%0A%20%20%20%20%20%20%20%20var%20bounds%20%3D%20null%3B%0A%20%20%20%20%0A%0A%20%20%20%20var%20map_a36a7d0b6f9647ccb649fbad9dfd6451%20%3D%20L.map%28%0A%20%20%20%20%20%20%20%20%27map_a36a7d0b6f9647ccb649fbad9dfd6451%27%2C%20%7B%0A%20%20%20%20%20%20%20%20center%3A%20%5B37.541%2C%20126.986%5D%2C%0A%20%20%20%20%20%20%20%20zoom%3A%2010%2C%0A%20%20%20%20%20%20%20%20maxBounds%3A%20bounds%2C%0A%20%20%20%20%20%20%20%20layers%3A%20%5B%5D%2C%0A%20%20%20%20%20%20%20%20worldCopyJump%3A%20false%2C%0A%20%20%20%20%20%20%20%20crs%3A%20L.CRS.EPSG3857%2C%0A%20%20%20%20%20%20%20%20zoomControl%3A%20true%2C%0A%20%20%20%20%20%20%20%20%7D%29%3B%0A%0A%0A%20%20%20%20%0A%20%20%20%20var%20tile_layer_785c34c9823349319d0098140fb88998%20%3D%20L.tileLayer%28%0A%20%20%20%20%20%20%20%20%27https%3A//%7Bs%7D.tile.openstreetmap.org/%7Bz%7D/%7Bx%7D/%7By%7D.png%27%2C%0A%20%20%20%20%20%20%20%20%7B%0A%20%20%20%20%20%20%20%20%22attribution%22%3A%20null%2C%0A%20%20%20%20%20%20%20%20%22detectRetina%22%3A%20false%2C%0A%20%20%20%20%20%20%20%20%22maxNativeZoom%22%3A%2018%2C%0A%20%20%20%20%20%20%20%20%22maxZoom%22%3A%2018%2C%0A%20%20%20%20%20%20%20%20%22minZoom%22%3A%200%2C%0A%20%20%20%20%20%20%20%20%22noWrap%22%3A%20false%2C%0A%20%20%20%20%20%20%20%20%22opacity%22%3A%201%2C%0A%20%20%20%20%20%20%20%20%22subdomains%22%3A%20%22abc%22%2C%0A%20%20%20%20%20%20%20%20%22tms%22%3A%20false%0A%7D%29.addTo%28map_a36a7d0b6f9647ccb649fbad9dfd6451%29%3B%0A%20%20%20%20%0A%20%20%20%20%20%20%20%20%20%20%20%20var%20choropleth_a4c38afa9734492ab5c4dc96df7678b3%20%3D%20L.featureGroup%28%0A%20%20%20%20%20%20%20%20%20%20%20%20%20%20%20%20%29.addTo%28map_a36a7d0b6f9647ccb649fbad9dfd6451%29%3B%0A%20%20%20%20%20%20%20%20%0A%20%20%20%20%0A%20%20%20%20%20%20%20%20var%20geo_json_c538678e6d5349568252a4a702cd9d5f%20%3D%20L.geoJson%28%0A%20%20%20%20%20%20%20%20%20%20%20%20%7B%22features%22%3A%20%5B%7B%22geometry%22%3A%20%7B%22coordinates%22%3A%20%5B%5B%5B127.11519584981606%2C%2037.557533180704915%5D%2C%20%5B127.16683184366129%2C%2037.57672487388627%5D%2C%20%5B127.18408792330152%2C%2037.55814280369575%5D%2C%20%5B127.16530984307447%2C%2037.54221851258693%5D%2C%20%5B127.14672806823502%2C%2037.51415680680291%5D%2C%20%5B127.12123165719615%2C%2037.52528270089%5D%2C%20%5B127.1116764203608%2C%2037.540669955324965%5D%2C%20%5B127.11519584981606%2C%2037.557533180704915%5D%5D%5D%2C%20%22type%22%3A%20%22Polygon%22%7D%2C%20%22id%22%3A%20%22%5Cuac15%5Cub3d9%5Cuad6c%22%2C%20%22properties%22%3A%20%7B%22base_year%22%3A%20%222013%22%2C%20%22code%22%3A%20%2211250%22%2C%20%22highlight%22%3A%20%7B%7D%2C%20%22name%22%3A%20%22%5Cuac15%5Cub3d9%5Cuad6c%22%2C%20%22name_eng%22%3A%20%22Gangdong-gu%22%2C%20%22style%22%3A%20%7B%22color%22%3A%20%22black%22%2C%20%22fillColor%22%3A%20%22%23fee5d9%22%2C%20%22fillOpacity%22%3A%200.6%2C%20%22opacity%22%3A%201%2C%20%22weight%22%3A%201%7D%7D%2C%20%22type%22%3A%20%22Feature%22%7D%2C%20%7B%22geometry%22%3A%20%7B%22coordinates%22%3A%20%5B%5B%5B127.0690698130372%2C%2037.522279423505026%5D%2C%20%5B127.10087519791962%2C%2037.524841220167055%5D%2C%20%5B127.1116764203608%2C%2037.540669955324965%5D%2C%20%5B127.12123165719615%2C%2037.52528270089%5D%2C%20%5B127.14672806823502%2C%2037.51415680680291%5D%2C%20%5B127.1634944215765%2C%2037.497445406097484%5D%2C%20%5B127.14206058413274%2C%2037.47089819098501%5D%2C%20%5B127.12440571080893%2C%2037.46240445587048%5D%2C%20%5B127.11117085201238%2C%2037.485708381512445%5D%2C%20%5B127.0719146000724%2C%2037.50224013587669%5D%2C%20%5B127.0690698130372%2C%2037.522279423505026%5D%5D%5D%2C%20%22type%22%3A%20%22Polygon%22%7D%2C%20%22id%22%3A%20%22%5Cuc1a1%5Cud30c%5Cuad6c%22%2C%20%22properties%22%3A%20%7B%22base_year%22%3A%20%222013%22%2C%20%22code%22%3A%20%2211240%22%2C%20%22highlight%22%3A%20%7B%7D%2C%20%22name%22%3A%20%22%5Cuc1a1%5Cud30c%5Cuad6c%22%2C%20%22name_eng%22%3A%20%22Songpa-gu%22%2C%20%22style%22%3A%20%7B%22color%22%3A%20%22black%22%2C%20%22fillColor%22%3A%20%22%23fcbba1%22%2C%20%22fillOpacity%22%3A%200.6%2C%20%22opacity%22%3A%201%2C%20%22weight%22%3A%201%7D%7D%2C%20%22type%22%3A%20%22Feature%22%7D%2C%20%7B%22geometry%22%3A%20%7B%22coordinates%22%3A%20%5B%5B%5B127.05867359288398%2C%2037.52629974922568%5D%2C%20%5B127.0690698130372%2C%2037.522279423505026%5D%2C%20%5B127.0719146000724%2C%2037.50224013587669%5D%2C%20%5B127.11117085201238%2C%2037.485708381512445%5D%2C%20%5B127.12440571080893%2C%2037.46240445587048%5D%2C%20%5B127.09842759318751%2C%2037.45862253857461%5D%2C%20%5B127.08640440578156%2C%2037.472697935184655%5D%2C%20%5B127.0559170481904%2C%2037.4659228914077%5D%2C%20%5B127.03621915098798%2C%2037.48175802427603%5D%2C%20%5B127.01397119667513%2C%2037.52503988289669%5D%2C%20%5B127.02302831890559%2C%2037.53231899582663%5D%2C%20%5B127.05867359288398%2C%2037.52629974922568%5D%5D%5D%2C%20%22type%22%3A%20%22Polygon%22%7D%2C%20%22id%22%3A%20%22%5Cuac15%5Cub0a8%5Cuad6c%22%2C%20%22properties%22%3A%20%7B%22base_year%22%3A%20%222013%22%2C%20%22code%22%3A%20%2211230%22%2C%20%22highlight%22%3A%20%7B%7D%2C%20%22name%22%3A%20%22%5Cuac15%5Cub0a8%5Cuad6c%22%2C%20%22name_eng%22%3A%20%22Gangnam-gu%22%2C%20%22style%22%3A%20%7B%22color%22%3A%20%22black%22%2C%20%22fillColor%22%3A%20%22%23fee5d9%22%2C%20%22fillOpacity%22%3A%200.6%2C%20%22opacity%22%3A%201%2C%20%22weight%22%3A%201%7D%7D%2C%20%22type%22%3A%20%22Feature%22%7D%2C%20%7B%22geometry%22%3A%20%7B%22coordinates%22%3A%20%5B%5B%5B127.01397119667513%2C%2037.52503988289669%5D%2C%20%5B127.03621915098798%2C%2037.48175802427603%5D%2C%20%5B127.0559170481904%2C%2037.4659228914077%5D%2C%20%5B127.08640440578156%2C%2037.472697935184655%5D%2C%20%5B127.09842759318751%2C%2037.45862253857461%5D%2C%20%5B127.09046928565951%2C%2037.44296826114185%5D%2C%20%5B127.06778107605433%2C%2037.426197424057314%5D%2C%20%5B127.04957232987142%2C%2037.42805836845694%5D%2C%20%5B127.03881782597922%2C%2037.45382039851715%5D%2C%20%5B126.99072073195462%2C%2037.455326143310025%5D%2C%20%5B126.98367668291802%2C%2037.473856492692086%5D%2C%20%5B126.98223807916081%2C%2037.509314966770326%5D%2C%20%5B127.01397119667513%2C%2037.52503988289669%5D%5D%5D%2C%20%22type%22%3A%20%22Polygon%22%7D%2C%20%22id%22%3A%20%22%5Cuc11c%5Cucd08%5Cuad6c%22%2C%20%22properties%22%3A%20%7B%22base_year%22%3A%20%222013%22%2C%20%22code%22%3A%20%2211220%22%2C%20%22highlight%22%3A%20%7B%7D%2C%20%22name%22%3A%20%22%5Cuc11c%5Cucd08%5Cuad6c%22%2C%20%22name_eng%22%3A%20%22Seocho-gu%22%2C%20%22style%22%3A%20%7B%22color%22%3A%20%22black%22%2C%20%22fillColor%22%3A%20%22%23fee5d9%22%2C%20%22fillOpacity%22%3A%200.6%2C%20%22opacity%22%3A%201%2C%20%22weight%22%3A%201%7D%7D%2C%20%22type%22%3A%20%22Feature%22%7D%2C%20%7B%22geometry%22%3A%20%7B%22coordinates%22%3A%20%5B%5B%5B126.98367668291802%2C%2037.473856492692086%5D%2C%20%5B126.99072073195462%2C%2037.455326143310025%5D%2C%20%5B126.96520439085143%2C%2037.438249784006246%5D%2C%20%5B126.95000001010182%2C%2037.43613451165719%5D%2C%20%5B126.93084408056525%2C%2037.447382928333994%5D%2C%20%5B126.9167728146601%2C%2037.45490566423789%5D%2C%20%5B126.90156094129895%2C%2037.47753842789901%5D%2C%20%5B126.90531975801812%2C%2037.48218087575429%5D%2C%20%5B126.94922661389508%2C%2037.49125437495649%5D%2C%20%5B126.9725891850662%2C%2037.472561363278125%5D%2C%20%5B126.98367668291802%2C%2037.473856492692086%5D%5D%5D%2C%20%22type%22%3A%20%22Polygon%22%7D%2C%20%22id%22%3A%20%22%5Cuad00%5Cuc545%5Cuad6c%22%2C%20%22properties%22%3A%20%7B%22base_year%22%3A%20%222013%22%2C%20%22code%22%3A%20%2211210%22%2C%20%22highlight%22%3A%20%7B%7D%2C%20%22name%22%3A%20%22%5Cuad00%5Cuc545%5Cuad6c%22%2C%20%22name_eng%22%3A%20%22Gwanak-gu%22%2C%20%22style%22%3A%20%7B%22color%22%3A%20%22black%22%2C%20%22fillColor%22%3A%20%22%23fc9272%22%2C%20%22fillOpacity%22%3A%200.6%2C%20%22opacity%22%3A%201%2C%20%22weight%22%3A%201%7D%7D%2C%20%22type%22%3A%20%22Feature%22%7D%2C%20%7B%22geometry%22%3A%20%7B%22coordinates%22%3A%20%5B%5B%5B126.98223807916081%2C%2037.509314966770326%5D%2C%20%5B126.98367668291802%2C%2037.473856492692086%5D%2C%20%5B126.9725891850662%2C%2037.472561363278125%5D%2C%20%5B126.94922661389508%2C%2037.49125437495649%5D%2C%20%5B126.90531975801812%2C%2037.48218087575429%5D%2C%20%5B126.92177893174825%2C%2037.494889877415176%5D%2C%20%5B126.92810628828279%2C%2037.51329595732015%5D%2C%20%5B126.95249990298159%2C%2037.51722500741813%5D%2C%20%5B126.98223807916081%2C%2037.509314966770326%5D%5D%5D%2C%20%22type%22%3A%20%22Polygon%22%7D%2C%20%22id%22%3A%20%22%5Cub3d9%5Cuc791%5Cuad6c%22%2C%20%22properties%22%3A%20%7B%22base_year%22%3A%20%222013%22%2C%20%22code%22%3A%20%2211200%22%2C%20%22highlight%22%3A%20%7B%7D%2C%20%22name%22%3A%20%22%5Cub3d9%5Cuc791%5Cuad6c%22%2C%20%22name_eng%22%3A%20%22Dongjak-gu%22%2C%20%22style%22%3A%20%7B%22color%22%3A%20%22black%22%2C%20%22fillColor%22%3A%20%22%23fb6a4a%22%2C%20%22fillOpacity%22%3A%200.6%2C%20%22opacity%22%3A%201%2C%20%22weight%22%3A%201%7D%7D%2C%20%22type%22%3A%20%22Feature%22%7D%2C%20%7B%22geometry%22%3A%20%7B%22coordinates%22%3A%20%5B%5B%5B126.89184663862764%2C%2037.547373974997114%5D%2C%20%5B126.94566733083212%2C%2037.526617542453366%5D%2C%20%5B126.95249990298159%2C%2037.51722500741813%5D%2C%20%5B126.92810628828279%2C%2037.51329595732015%5D%2C%20%5B126.92177893174825%2C%2037.494889877415176%5D%2C%20%5B126.90531975801812%2C%2037.48218087575429%5D%2C%20%5B126.89594776782485%2C%2037.504675281309176%5D%2C%20%5B126.88156402353862%2C%2037.513970034765684%5D%2C%20%5B126.88825757860099%2C%2037.54079733630232%5D%2C%20%5B126.89184663862764%2C%2037.547373974997114%5D%5D%5D%2C%20%22type%22%3A%20%22Polygon%22%7D%2C%20%22id%22%3A%20%22%5Cuc601%5Cub4f1%5Cud3ec%5Cuad6c%22%2C%20%22properties%22%3A%20%7B%22base_year%22%3A%20%222013%22%2C%20%22code%22%3A%20%2211190%22%2C%20%22highlight%22%3A%20%7B%7D%2C%20%22name%22%3A%20%22%5Cuc601%5Cub4f1%5Cud3ec%5Cuad6c%22%2C%20%22name_eng%22%3A%20%22Yeongdeungpo-gu%22%2C%20%22style%22%3A%20%7B%22color%22%3A%20%22black%22%2C%20%22fillColor%22%3A%20%22%23a50f15%22%2C%20%22fillOpacity%22%3A%200.6%2C%20%22opacity%22%3A%201%2C%20%22weight%22%3A%201%7D%7D%2C%20%22type%22%3A%20%22Feature%22%7D%2C%20%7B%22geometry%22%3A%20%7B%22coordinates%22%3A%20%5B%5B%5B126.90156094129895%2C%2037.47753842789901%5D%2C%20%5B126.9167728146601%2C%2037.45490566423789%5D%2C%20%5B126.93084408056525%2C%2037.447382928333994%5D%2C%20%5B126.9025831711697%2C%2037.434549366349124%5D%2C%20%5B126.87683271502428%2C%2037.482576591607305%5D%2C%20%5B126.90156094129895%2C%2037.47753842789901%5D%5D%5D%2C%20%22type%22%3A%20%22Polygon%22%7D%2C%20%22id%22%3A%20%22%5Cuae08%5Cucc9c%5Cuad6c%22%2C%20%22properties%22%3A%20%7B%22base_year%22%3A%20%222013%22%2C%20%22code%22%3A%20%2211180%22%2C%20%22highlight%22%3A%20%7B%7D%2C%20%22name%22%3A%20%22%5Cuae08%5Cucc9c%5Cuad6c%22%2C%20%22name_eng%22%3A%20%22Geumcheon-gu%22%2C%20%22style%22%3A%20%7B%22color%22%3A%20%22black%22%2C%20%22fillColor%22%3A%20%22%23a50f15%22%2C%20%22fillOpacity%22%3A%200.6%2C%20%22opacity%22%3A%201%2C%20%22weight%22%3A%201%7D%7D%2C%20%22type%22%3A%20%22Feature%22%7D%2C%20%7B%22geometry%22%3A%20%7B%22coordinates%22%3A%20%5B%5B%5B126.82688081517314%2C%2037.50548972232896%5D%2C%20%5B126.88156402353862%2C%2037.513970034765684%5D%2C%20%5B126.89594776782485%2C%2037.504675281309176%5D%2C%20%5B126.90531975801812%2C%2037.48218087575429%5D%2C%20%5B126.90156094129895%2C%2037.47753842789901%5D%2C%20%5B126.87683271502428%2C%2037.482576591607305%5D%2C%20%5B126.84762676054953%2C%2037.47146723936323%5D%2C%20%5B126.83549485076196%2C%2037.474098236975095%5D%2C%20%5B126.82264796791348%2C%2037.4878476492147%5D%2C%20%5B126.82504736331406%2C%2037.50302612640443%5D%2C%20%5B126.82688081517314%2C%2037.50548972232896%5D%5D%5D%2C%20%22type%22%3A%20%22Polygon%22%7D%2C%20%22id%22%3A%20%22%5Cuad6c%5Cub85c%5Cuad6c%22%2C%20%22properties%22%3A%20%7B%22base_year%22%3A%20%222013%22%2C%20%22code%22%3A%20%2211170%22%2C%20%22highlight%22%3A%20%7B%7D%2C%20%22name%22%3A%20%22%5Cuad6c%5Cub85c%5Cuad6c%22%2C%20%22name_eng%22%3A%20%22Guro-gu%22%2C%20%22style%22%3A%20%7B%22color%22%3A%20%22black%22%2C%20%22fillColor%22%3A%20%22%23a50f15%22%2C%20%22fillOpacity%22%3A%200.6%2C%20%22opacity%22%3A%201%2C%20%22weight%22%3A%201%7D%7D%2C%20%22type%22%3A%20%22Feature%22%7D%2C%20%7B%22geometry%22%3A%20%7B%22coordinates%22%3A%20%5B%5B%5B126.79575768552907%2C%2037.57881087633202%5D%2C%20%5B126.80702115023597%2C%2037.60123001013228%5D%2C%20%5B126.82251438477105%2C%2037.5880430810082%5D%2C%20%5B126.85984199399667%2C%2037.571847855292745%5D%2C%20%5B126.89184663862764%2C%2037.547373974997114%5D%2C%20%5B126.88825757860099%2C%2037.54079733630232%5D%2C%20%5B126.86637464321238%2C%2037.54859191094823%5D%2C%20%5B126.86610073476395%2C%2037.52699964144669%5D%2C%20%5B126.84257291943153%2C%2037.52373707805596%5D%2C%20%5B126.8242331426722%2C%2037.53788078753248%5D%2C%20%5B126.77324417717703%2C%2037.5459123450554%5D%2C%20%5B126.76979180579352%2C%2037.55139183008809%5D%2C%20%5B126.79575768552907%2C%2037.57881087633202%5D%5D%5D%2C%20%22type%22%3A%20%22Polygon%22%7D%2C%20%22id%22%3A%20%22%5Cuac15%5Cuc11c%5Cuad6c%22%2C%20%22properties%22%3A%20%7B%22base_year%22%3A%20%222013%22%2C%20%22code%22%3A%20%2211160%22%2C%20%22highlight%22%3A%20%7B%7D%2C%20%22name%22%3A%20%22%5Cuac15%5Cuc11c%5Cuad6c%22%2C%20%22name_eng%22%3A%20%22Gangseo-gu%22%2C%20%22style%22%3A%20%7B%22color%22%3A%20%22black%22%2C%20%22fillColor%22%3A%20%22%23fcbba1%22%2C%20%22fillOpacity%22%3A%200.6%2C%20%22opacity%22%3A%201%2C%20%22weight%22%3A%201%7D%7D%2C%20%22type%22%3A%20%22Feature%22%7D%2C%20%7B%22geometry%22%3A%20%7B%22coordinates%22%3A%20%5B%5B%5B126.8242331426722%2C%2037.53788078753248%5D%2C%20%5B126.84257291943153%2C%2037.52373707805596%5D%2C%20%5B126.86610073476395%2C%2037.52699964144669%5D%2C%20%5B126.86637464321238%2C%2037.54859191094823%5D%2C%20%5B126.88825757860099%2C%2037.54079733630232%5D%2C%20%5B126.88156402353862%2C%2037.513970034765684%5D%2C%20%5B126.82688081517314%2C%2037.50548972232896%5D%2C%20%5B126.8242331426722%2C%2037.53788078753248%5D%5D%5D%2C%20%22type%22%3A%20%22Polygon%22%7D%2C%20%22id%22%3A%20%22%5Cuc591%5Cucc9c%5Cuad6c%22%2C%20%22properties%22%3A%20%7B%22base_year%22%3A%20%222013%22%2C%20%22code%22%3A%20%2211150%22%2C%20%22highlight%22%3A%20%7B%7D%2C%20%22name%22%3A%20%22%5Cuc591%5Cucc9c%5Cuad6c%22%2C%20%22name_eng%22%3A%20%22Yangcheon-gu%22%2C%20%22style%22%3A%20%7B%22color%22%3A%20%22black%22%2C%20%22fillColor%22%3A%20%22%23fee5d9%22%2C%20%22fillOpacity%22%3A%200.6%2C%20%22opacity%22%3A%201%2C%20%22weight%22%3A%201%7D%7D%2C%20%22type%22%3A%20%22Feature%22%7D%2C%20%7B%22geometry%22%3A%20%7B%22coordinates%22%3A%20%5B%5B%5B126.90522065831053%2C%2037.57409700522574%5D%2C%20%5B126.93898161798973%2C%2037.552310003728124%5D%2C%20%5B126.96358226710812%2C%2037.55605635475154%5D%2C%20%5B126.96448570553055%2C%2037.548705692021635%5D%2C%20%5B126.94566733083212%2C%2037.526617542453366%5D%2C%20%5B126.89184663862764%2C%2037.547373974997114%5D%2C%20%5B126.85984199399667%2C%2037.571847855292745%5D%2C%20%5B126.88433284773288%2C%2037.588143322880526%5D%2C%20%5B126.90522065831053%2C%2037.57409700522574%5D%5D%5D%2C%20%22type%22%3A%20%22Polygon%22%7D%2C%20%22id%22%3A%20%22%5Cub9c8%5Cud3ec%5Cuad6c%22%2C%20%22properties%22%3A%20%7B%22base_year%22%3A%20%222013%22%2C%20%22code%22%3A%20%2211140%22%2C%20%22highlight%22%3A%20%7B%7D%2C%20%22name%22%3A%20%22%5Cub9c8%5Cud3ec%5Cuad6c%22%2C%20%22name_eng%22%3A%20%22Mapo-gu%22%2C%20%22style%22%3A%20%7B%22color%22%3A%20%22black%22%2C%20%22fillColor%22%3A%20%22%23fb6a4a%22%2C%20%22fillOpacity%22%3A%200.6%2C%20%22opacity%22%3A%201%2C%20%22weight%22%3A%201%7D%7D%2C%20%22type%22%3A%20%22Feature%22%7D%2C%20%7B%22geometry%22%3A%20%7B%22coordinates%22%3A%20%5B%5B%5B126.9524752030572%2C%2037.60508692737045%5D%2C%20%5B126.95565425846463%2C%2037.576080790881456%5D%2C%20%5B126.96873633279075%2C%2037.56313604690827%5D%2C%20%5B126.96358226710812%2C%2037.55605635475154%5D%2C%20%5B126.93898161798973%2C%2037.552310003728124%5D%2C%20%5B126.90522065831053%2C%2037.57409700522574%5D%2C%20%5B126.9524752030572%2C%2037.60508692737045%5D%5D%5D%2C%20%22type%22%3A%20%22Polygon%22%7D%2C%20%22id%22%3A%20%22%5Cuc11c%5Cub300%5Cubb38%5Cuad6c%22%2C%20%22properties%22%3A%20%7B%22base_year%22%3A%20%222013%22%2C%20%22code%22%3A%20%2211130%22%2C%20%22highlight%22%3A%20%7B%7D%2C%20%22name%22%3A%20%22%5Cuc11c%5Cub300%5Cubb38%5Cuad6c%22%2C%20%22name_eng%22%3A%20%22Seodaemun-gu%22%2C%20%22style%22%3A%20%7B%22color%22%3A%20%22black%22%2C%20%22fillColor%22%3A%20%22%23fc9272%22%2C%20%22fillOpacity%22%3A%200.6%2C%20%22opacity%22%3A%201%2C%20%22weight%22%3A%201%7D%7D%2C%20%22type%22%3A%20%22Feature%22%7D%2C%20%7B%22geometry%22%3A%20%7B%22coordinates%22%3A%20%5B%5B%5B126.9738864128702%2C%2037.62949634786888%5D%2C%20%5B126.95427017006129%2C%2037.622033431339425%5D%2C%20%5B126.9524752030572%2C%2037.60508692737045%5D%2C%20%5B126.90522065831053%2C%2037.57409700522574%5D%2C%20%5B126.88433284773288%2C%2037.588143322880526%5D%2C%20%5B126.90396681003595%2C%2037.59227403419942%5D%2C%20%5B126.90303066177668%2C%2037.609977911401344%5D%2C%20%5B126.91455481429648%2C%2037.64150050996935%5D%2C%20%5B126.956473797387%2C%2037.652480737339445%5D%2C%20%5B126.9738864128702%2C%2037.62949634786888%5D%5D%5D%2C%20%22type%22%3A%20%22Polygon%22%7D%2C%20%22id%22%3A%20%22%5Cuc740%5Cud3c9%5Cuad6c%22%2C%20%22properties%22%3A%20%7B%22base_year%22%3A%20%222013%22%2C%20%22code%22%3A%20%2211120%22%2C%20%22highlight%22%3A%20%7B%7D%2C%20%22name%22%3A%20%22%5Cuc740%5Cud3c9%5Cuad6c%22%2C%20%22name_eng%22%3A%20%22Eunpyeong-gu%22%2C%20%22style%22%3A%20%7B%22color%22%3A%20%22black%22%2C%20%22fillColor%22%3A%20%22%23fee5d9%22%2C%20%22fillOpacity%22%3A%200.6%2C%20%22opacity%22%3A%201%2C%20%22weight%22%3A%201%7D%7D%2C%20%22type%22%3A%20%22Feature%22%7D%2C%20%7B%22geometry%22%3A%20%7B%22coordinates%22%3A%20%5B%5B%5B127.0838752703195%2C%2037.69359534202034%5D%2C%20%5B127.09706391309695%2C%2037.686383719372294%5D%2C%20%5B127.09440766298717%2C%2037.64713490473045%5D%2C%20%5B127.11326795855199%2C%2037.639622905315925%5D%2C%20%5B127.10782277688129%2C%2037.61804244241069%5D%2C%20%5B127.07351243825278%2C%2037.61283660342313%5D%2C%20%5B127.05209373568619%2C%2037.62164065487782%5D%2C%20%5B127.04358800895609%2C%2037.62848931298715%5D%2C%20%5B127.05800075220091%2C%2037.64318263878276%5D%2C%20%5B127.05288479710485%2C%2037.68423857084347%5D%2C%20%5B127.0838752703195%2C%2037.69359534202034%5D%5D%5D%2C%20%22type%22%3A%20%22Polygon%22%7D%2C%20%22id%22%3A%20%22%5Cub178%5Cuc6d0%5Cuad6c%22%2C%20%22properties%22%3A%20%7B%22base_year%22%3A%20%222013%22%2C%20%22code%22%3A%20%2211110%22%2C%20%22highlight%22%3A%20%7B%7D%2C%20%22name%22%3A%20%22%5Cub178%5Cuc6d0%5Cuad6c%22%2C%20%22name_eng%22%3A%20%22Nowon-gu%22%2C%20%22style%22%3A%20%7B%22color%22%3A%20%22black%22%2C%20%22fillColor%22%3A%20%22%23fee5d9%22%2C%20%22fillOpacity%22%3A%200.6%2C%20%22opacity%22%3A%201%2C%20%22weight%22%3A%201%7D%7D%2C%20%22type%22%3A%20%22Feature%22%7D%2C%20%7B%22geometry%22%3A%20%7B%22coordinates%22%3A%20%5B%5B%5B127.05288479710485%2C%2037.68423857084347%5D%2C%20%5B127.05800075220091%2C%2037.64318263878276%5D%2C%20%5B127.04358800895609%2C%2037.62848931298715%5D%2C%20%5B127.01465935892466%2C%2037.64943687496812%5D%2C%20%5B127.02062116141389%2C%2037.667173575971205%5D%2C%20%5B127.01039666042071%2C%2037.681894589603594%5D%2C%20%5B127.01795099203432%2C%2037.69824412775662%5D%2C%20%5B127.05288479710485%2C%2037.68423857084347%5D%5D%5D%2C%20%22type%22%3A%20%22Polygon%22%7D%2C%20%22id%22%3A%20%22%5Cub3c4%5Cubd09%5Cuad6c%22%2C%20%22properties%22%3A%20%7B%22base_year%22%3A%20%222013%22%2C%20%22code%22%3A%20%2211100%22%2C%20%22highlight%22%3A%20%7B%7D%2C%20%22name%22%3A%20%22%5Cub3c4%5Cubd09%5Cuad6c%22%2C%20%22name_eng%22%3A%20%22Dobong-gu%22%2C%20%22style%22%3A%20%7B%22color%22%3A%20%22black%22%2C%20%22fillColor%22%3A%20%22%23fee5d9%22%2C%20%22fillOpacity%22%3A%200.6%2C%20%22opacity%22%3A%201%2C%20%22weight%22%3A%201%7D%7D%2C%20%22type%22%3A%20%22Feature%22%7D%2C%20%7B%22geometry%22%3A%20%7B%22coordinates%22%3A%20%5B%5B%5B126.99383903424%2C%2037.676681761199085%5D%2C%20%5B127.01039666042071%2C%2037.681894589603594%5D%2C%20%5B127.02062116141389%2C%2037.667173575971205%5D%2C%20%5B127.01465935892466%2C%2037.64943687496812%5D%2C%20%5B127.04358800895609%2C%2037.62848931298715%5D%2C%20%5B127.05209373568619%2C%2037.62164065487782%5D%2C%20%5B127.03892400992301%2C%2037.609715611023816%5D%2C%20%5B127.0128154749523%2C%2037.613652243470256%5D%2C%20%5B126.98672705513869%2C%2037.63377641288196%5D%2C%20%5B126.9817452676551%2C%2037.65209769387776%5D%2C%20%5B126.99383903424%2C%2037.676681761199085%5D%5D%5D%2C%20%22type%22%3A%20%22Polygon%22%7D%2C%20%22id%22%3A%20%22%5Cuac15%5Cubd81%5Cuad6c%22%2C%20%22properties%22%3A%20%7B%22base_year%22%3A%20%222013%22%2C%20%22code%22%3A%20%2211090%22%2C%20%22highlight%22%3A%20%7B%7D%2C%20%22name%22%3A%20%22%5Cuac15%5Cubd81%5Cuad6c%22%2C%20%22name_eng%22%3A%20%22Gangbuk-gu%22%2C%20%22style%22%3A%20%7B%22color%22%3A%20%22black%22%2C%20%22fillColor%22%3A%20%22%23fee5d9%22%2C%20%22fillOpacity%22%3A%200.6%2C%20%22opacity%22%3A%201%2C%20%22weight%22%3A%201%7D%7D%2C%20%22type%22%3A%20%22Feature%22%7D%2C%20%7B%22geometry%22%3A%20%7B%22coordinates%22%3A%20%5B%5B%5B126.977175406416%2C%2037.62859715400388%5D%2C%20%5B126.98672705513869%2C%2037.63377641288196%5D%2C%20%5B127.0128154749523%2C%2037.613652243470256%5D%2C%20%5B127.03892400992301%2C%2037.609715611023816%5D%2C%20%5B127.05209373568619%2C%2037.62164065487782%5D%2C%20%5B127.07351243825278%2C%2037.61283660342313%5D%2C%20%5B127.07382707099227%2C%2037.60401928986419%5D%2C%20%5B127.042705222094%2C%2037.59239437593391%5D%2C%20%5B127.02527254528003%2C%2037.57524616245249%5D%2C%20%5B126.99348293358314%2C%2037.588565457216156%5D%2C%20%5B126.98879865992384%2C%2037.6118927319756%5D%2C%20%5B126.977175406416%2C%2037.62859715400388%5D%5D%5D%2C%20%22type%22%3A%20%22Polygon%22%7D%2C%20%22id%22%3A%20%22%5Cuc131%5Cubd81%5Cuad6c%22%2C%20%22properties%22%3A%20%7B%22base_year%22%3A%20%222013%22%2C%20%22code%22%3A%20%2211080%22%2C%20%22highlight%22%3A%20%7B%7D%2C%20%22name%22%3A%20%22%5Cuc131%5Cubd81%5Cuad6c%22%2C%20%22name_eng%22%3A%20%22Seongbuk-gu%22%2C%20%22style%22%3A%20%7B%22color%22%3A%20%22black%22%2C%20%22fillColor%22%3A%20%22%23fcbba1%22%2C%20%22fillOpacity%22%3A%200.6%2C%20%22opacity%22%3A%201%2C%20%22weight%22%3A%201%7D%7D%2C%20%22type%22%3A%20%22Feature%22%7D%2C%20%7B%22geometry%22%3A%20%7B%22coordinates%22%3A%20%5B%5B%5B127.07351243825278%2C%2037.61283660342313%5D%2C%20%5B127.10782277688129%2C%2037.61804244241069%5D%2C%20%5B127.1201246020114%2C%2037.60178457598188%5D%2C%20%5B127.10304174249214%2C%2037.57076342290955%5D%2C%20%5B127.08068541280403%2C%2037.56906425519017%5D%2C%20%5B127.07382707099227%2C%2037.60401928986419%5D%2C%20%5B127.07351243825278%2C%2037.61283660342313%5D%5D%5D%2C%20%22type%22%3A%20%22Polygon%22%7D%2C%20%22id%22%3A%20%22%5Cuc911%5Cub791%5Cuad6c%22%2C%20%22properties%22%3A%20%7B%22base_year%22%3A%20%222013%22%2C%20%22code%22%3A%20%2211070%22%2C%20%22highlight%22%3A%20%7B%7D%2C%20%22name%22%3A%20%22%5Cuc911%5Cub791%5Cuad6c%22%2C%20%22name_eng%22%3A%20%22Jungnang-gu%22%2C%20%22style%22%3A%20%7B%22color%22%3A%20%22black%22%2C%20%22fillColor%22%3A%20%22%23fee5d9%22%2C%20%22fillOpacity%22%3A%200.6%2C%20%22opacity%22%3A%201%2C%20%22weight%22%3A%201%7D%7D%2C%20%22type%22%3A%20%22Feature%22%7D%2C%20%7B%22geometry%22%3A%20%7B%22coordinates%22%3A%20%5B%5B%5B127.02527254528003%2C%2037.57524616245249%5D%2C%20%5B127.042705222094%2C%2037.59239437593391%5D%2C%20%5B127.07382707099227%2C%2037.60401928986419%5D%2C%20%5B127.08068541280403%2C%2037.56906425519017%5D%2C%20%5B127.07421053024362%2C%2037.55724769712085%5D%2C%20%5B127.05005601081567%2C%2037.567577612590846%5D%2C%20%5B127.02547266349976%2C%2037.568943552237734%5D%2C%20%5B127.02527254528003%2C%2037.57524616245249%5D%5D%5D%2C%20%22type%22%3A%20%22Polygon%22%7D%2C%20%22id%22%3A%20%22%5Cub3d9%5Cub300%5Cubb38%5Cuad6c%22%2C%20%22properties%22%3A%20%7B%22base_year%22%3A%20%222013%22%2C%20%22code%22%3A%20%2211060%22%2C%20%22highlight%22%3A%20%7B%7D%2C%20%22name%22%3A%20%22%5Cub3d9%5Cub300%5Cubb38%5Cuad6c%22%2C%20%22name_eng%22%3A%20%22Dongdaemun-gu%22%2C%20%22style%22%3A%20%7B%22color%22%3A%20%22black%22%2C%20%22fillColor%22%3A%20%22%23a50f15%22%2C%20%22fillOpacity%22%3A%200.6%2C%20%22opacity%22%3A%201%2C%20%22weight%22%3A%201%7D%7D%2C%20%22type%22%3A%20%22Feature%22%7D%2C%20%7B%22geometry%22%3A%20%7B%22coordinates%22%3A%20%5B%5B%5B127.08068541280403%2C%2037.56906425519017%5D%2C%20%5B127.10304174249214%2C%2037.57076342290955%5D%2C%20%5B127.11519584981606%2C%2037.557533180704915%5D%2C%20%5B127.1116764203608%2C%2037.540669955324965%5D%2C%20%5B127.10087519791962%2C%2037.524841220167055%5D%2C%20%5B127.0690698130372%2C%2037.522279423505026%5D%2C%20%5B127.05867359288398%2C%2037.52629974922568%5D%2C%20%5B127.07421053024362%2C%2037.55724769712085%5D%2C%20%5B127.08068541280403%2C%2037.56906425519017%5D%5D%5D%2C%20%22type%22%3A%20%22Polygon%22%7D%2C%20%22id%22%3A%20%22%5Cuad11%5Cuc9c4%5Cuad6c%22%2C%20%22properties%22%3A%20%7B%22base_year%22%3A%20%222013%22%2C%20%22code%22%3A%20%2211050%22%2C%20%22highlight%22%3A%20%7B%7D%2C%20%22name%22%3A%20%22%5Cuad11%5Cuc9c4%5Cuad6c%22%2C%20%22name_eng%22%3A%20%22Gwangjin-gu%22%2C%20%22style%22%3A%20%7B%22color%22%3A%20%22black%22%2C%20%22fillColor%22%3A%20%22%23de2d26%22%2C%20%22fillOpacity%22%3A%200.6%2C%20%22opacity%22%3A%201%2C%20%22weight%22%3A%201%7D%7D%2C%20%22type%22%3A%20%22Feature%22%7D%2C%20%7B%22geometry%22%3A%20%7B%22coordinates%22%3A%20%5B%5B%5B127.02547266349976%2C%2037.568943552237734%5D%2C%20%5B127.05005601081567%2C%2037.567577612590846%5D%2C%20%5B127.07421053024362%2C%2037.55724769712085%5D%2C%20%5B127.05867359288398%2C%2037.52629974922568%5D%2C%20%5B127.02302831890559%2C%2037.53231899582663%5D%2C%20%5B127.01070894177482%2C%2037.54118048964762%5D%2C%20%5B127.02547266349976%2C%2037.568943552237734%5D%5D%5D%2C%20%22type%22%3A%20%22Polygon%22%7D%2C%20%22id%22%3A%20%22%5Cuc131%5Cub3d9%5Cuad6c%22%2C%20%22properties%22%3A%20%7B%22base_year%22%3A%20%222013%22%2C%20%22code%22%3A%20%2211040%22%2C%20%22highlight%22%3A%20%7B%7D%2C%20%22name%22%3A%20%22%5Cuc131%5Cub3d9%5Cuad6c%22%2C%20%22name_eng%22%3A%20%22Seongdong-gu%22%2C%20%22style%22%3A%20%7B%22color%22%3A%20%22black%22%2C%20%22fillColor%22%3A%20%22%23fcbba1%22%2C%20%22fillOpacity%22%3A%200.6%2C%20%22opacity%22%3A%201%2C%20%22weight%22%3A%201%7D%7D%2C%20%22type%22%3A%20%22Feature%22%7D%2C%20%7B%22geometry%22%3A%20%7B%22coordinates%22%3A%20%5B%5B%5B127.01070894177482%2C%2037.54118048964762%5D%2C%20%5B127.02302831890559%2C%2037.53231899582663%5D%2C%20%5B127.01397119667513%2C%2037.52503988289669%5D%2C%20%5B126.98223807916081%2C%2037.509314966770326%5D%2C%20%5B126.95249990298159%2C%2037.51722500741813%5D%2C%20%5B126.94566733083212%2C%2037.526617542453366%5D%2C%20%5B126.96448570553055%2C%2037.548705692021635%5D%2C%20%5B126.98752996903328%2C%2037.55094818807139%5D%2C%20%5B127.01070894177482%2C%2037.54118048964762%5D%5D%5D%2C%20%22type%22%3A%20%22Polygon%22%7D%2C%20%22id%22%3A%20%22%5Cuc6a9%5Cuc0b0%5Cuad6c%22%2C%20%22properties%22%3A%20%7B%22base_year%22%3A%20%222013%22%2C%20%22code%22%3A%20%2211030%22%2C%20%22highlight%22%3A%20%7B%7D%2C%20%22name%22%3A%20%22%5Cuc6a9%5Cuc0b0%5Cuad6c%22%2C%20%22name_eng%22%3A%20%22Yongsan-gu%22%2C%20%22style%22%3A%20%7B%22color%22%3A%20%22black%22%2C%20%22fillColor%22%3A%20%22%23a50f15%22%2C%20%22fillOpacity%22%3A%200.6%2C%20%22opacity%22%3A%201%2C%20%22weight%22%3A%201%7D%7D%2C%20%22type%22%3A%20%22Feature%22%7D%2C%20%7B%22geometry%22%3A%20%7B%22coordinates%22%3A%20%5B%5B%5B127.02547266349976%2C%2037.568943552237734%5D%2C%20%5B127.01070894177482%2C%2037.54118048964762%5D%2C%20%5B126.98752996903328%2C%2037.55094818807139%5D%2C%20%5B126.96448570553055%2C%2037.548705692021635%5D%2C%20%5B126.96358226710812%2C%2037.55605635475154%5D%2C%20%5B126.96873633279075%2C%2037.56313604690827%5D%2C%20%5B127.02547266349976%2C%2037.568943552237734%5D%5D%5D%2C%20%22type%22%3A%20%22Polygon%22%7D%2C%20%22id%22%3A%20%22%5Cuc911%5Cuad6c%22%2C%20%22properties%22%3A%20%7B%22base_year%22%3A%20%222013%22%2C%20%22code%22%3A%20%2211020%22%2C%20%22highlight%22%3A%20%7B%7D%2C%20%22name%22%3A%20%22%5Cuc911%5Cuad6c%22%2C%20%22name_eng%22%3A%20%22Jung-gu%22%2C%20%22style%22%3A%20%7B%22color%22%3A%20%22black%22%2C%20%22fillColor%22%3A%20%22%23fb6a4a%22%2C%20%22fillOpacity%22%3A%200.6%2C%20%22opacity%22%3A%201%2C%20%22weight%22%3A%201%7D%7D%2C%20%22type%22%3A%20%22Feature%22%7D%2C%20%7B%22geometry%22%3A%20%7B%22coordinates%22%3A%20%5B%5B%5B126.9738864128702%2C%2037.62949634786888%5D%2C%20%5B126.977175406416%2C%2037.62859715400388%5D%2C%20%5B126.98879865992384%2C%2037.6118927319756%5D%2C%20%5B126.99348293358314%2C%2037.588565457216156%5D%2C%20%5B127.02527254528003%2C%2037.57524616245249%5D%2C%20%5B127.02547266349976%2C%2037.568943552237734%5D%2C%20%5B126.96873633279075%2C%2037.56313604690827%5D%2C%20%5B126.95565425846463%2C%2037.576080790881456%5D%2C%20%5B126.9524752030572%2C%2037.60508692737045%5D%2C%20%5B126.95427017006129%2C%2037.622033431339425%5D%2C%20%5B126.9738864128702%2C%2037.62949634786888%5D%5D%5D%2C%20%22type%22%3A%20%22Polygon%22%7D%2C%20%22id%22%3A%20%22%5Cuc885%5Cub85c%5Cuad6c%22%2C%20%22properties%22%3A%20%7B%22base_year%22%3A%20%222013%22%2C%20%22code%22%3A%20%2211010%22%2C%20%22highlight%22%3A%20%7B%7D%2C%20%22name%22%3A%20%22%5Cuc885%5Cub85c%5Cuad6c%22%2C%20%22name_eng%22%3A%20%22Jongno-gu%22%2C%20%22style%22%3A%20%7B%22color%22%3A%20%22black%22%2C%20%22fillColor%22%3A%20%22%23de2d26%22%2C%20%22fillOpacity%22%3A%200.6%2C%20%22opacity%22%3A%201%2C%20%22weight%22%3A%201%7D%7D%2C%20%22type%22%3A%20%22Feature%22%7D%5D%2C%20%22type%22%3A%20%22FeatureCollection%22%7D%2C%0A%20%20%20%20%20%20%20%20%20%20%20%20%7B%0A%20%20%20%20%20%20%20%20%20%20%20%20%7D%0A%20%20%20%20%20%20%20%20%29.addTo%28choropleth_a4c38afa9734492ab5c4dc96df7678b3%20%29%3B%0A%20%20%20%20%20%20%20%20geo_json_c538678e6d5349568252a4a702cd9d5f.setStyle%28function%28feature%29%20%7Breturn%20feature.properties.style%3B%7D%29%3B%0A%20%20%20%20%20%20%20%20%0A%20%20%20%20%0A%20%20%20%20var%20color_map_f0a1c7cd4260443289bb350824790afc%20%3D%20%7B%7D%3B%0A%0A%20%20%20%20%0A%20%20%20%20color_map_f0a1c7cd4260443289bb350824790afc.color%20%3D%20d3.scale.threshold%28%29%0A%20%20%20%20%20%20%20%20%20%20%20%20%20%20.domain%28%5B0.7277760689018763%2C%200.7395542372086797%2C%200.7513324055154833%2C%200.7631105738222868%2C%200.7748887421290903%2C%200.7866669104358938%2C%200.7984450787426973%2C%200.8102232470495008%2C%200.8220014153563043%2C%200.8337795836631078%2C%200.8455577519699113%2C%200.8573359202767148%2C%200.8691140885835182%2C%200.8808922568903218%2C%200.8926704251971253%2C%200.9044485935039288%2C%200.9162267618107323%2C%200.9280049301175358%2C%200.9397830984243394%2C%200.9515612667311428%2C%200.9633394350379463%2C%200.9751176033447498%2C%200.9868957716515533%2C%200.9986739399583568%2C%201.0104521082651603%2C%201.0222302765719637%2C%201.0340084448787672%2C%201.0457866131855709%2C%201.0575647814923743%2C%201.0693429497991778%2C%201.0811211181059812%2C%201.0928992864127847%2C%201.1046774547195883%2C%201.1164556230263918%2C%201.1282337913331952%2C%201.140011959639999%2C%201.1517901279468024%2C%201.1635682962536058%2C%201.1753464645604093%2C%201.1871246328672127%2C%201.1989028011740164%2C%201.2106809694808198%2C%201.2224591377876233%2C%201.234237306094427%2C%201.2460154744012302%2C%201.2577936427080338%2C%201.2695718110148373%2C%201.2813499793216407%2C%201.2931281476284444%2C%201.3049063159352479%2C%201.3166844842420513%2C%201.328462652548855%2C%201.3402408208556582%2C%201.3520189891624619%2C%201.363797157469265%2C%201.3755753257760688%2C%201.3873534940828722%2C%201.3991316623896757%2C%201.4109098306964794%2C%201.4226879990032828%2C%201.4344661673100862%2C%201.44624433561689%2C%201.4580225039236931%2C%201.4698006722304968%2C%201.4815788405373003%2C%201.4933570088441037%2C%201.5051351771509074%2C%201.5169133454577108%2C%201.5286915137645143%2C%201.540469682071318%2C%201.5522478503781214%2C%201.5640260186849249%2C%201.5758041869917285%2C%201.5875823552985318%2C%201.5993605236053354%2C%201.6111386919121387%2C%201.6229168602189423%2C%201.6346950285257458%2C%201.6464731968325492%2C%201.658251365139353%2C%201.6700295334461563%2C%201.6818077017529598%2C%201.6935858700597635%2C%201.7053640383665667%2C%201.7171422066733704%2C%201.728920374980174%2C%201.7406985432869773%2C%201.752476711593781%2C%201.7642548799005842%2C%201.7760330482073878%2C%201.7878112165141915%2C%201.7995893848209947%2C%201.8113675531277984%2C%201.823145721434602%2C%201.8349238897414053%2C%201.846702058048209%2C%201.8584802263550122%2C%201.8702583946618159%2C%201.8820365629686195%2C%201.8938147312754228%2C%201.9055928995822264%2C%201.9173710678890301%2C%201.9291492361958333%2C%201.940927404502637%2C%201.9527055728094402%2C%201.964483741116244%2C%201.9762619094230476%2C%201.9880400777298508%2C%201.999818246036654%2C%202.0115964143434577%2C%202.0233745826502614%2C%202.0351527509570646%2C%202.0469309192638683%2C%202.058709087570672%2C%202.070487255877475%2C%202.082265424184279%2C%202.094043592491082%2C%202.1058217607978857%2C%202.1175999291046894%2C%202.1293780974114926%2C%202.1411562657182963%2C%202.1529344340251%2C%202.164712602331903%2C%202.176490770638707%2C%202.18826893894551%2C%202.200047107252314%2C%202.2118252755591175%2C%202.2236034438659207%2C%202.2353816121727244%2C%202.247159780479528%2C%202.2589379487863313%2C%202.270716117093135%2C%202.2824942853999386%2C%202.294272453706742%2C%202.3060506220135455%2C%202.3178287903203487%2C%202.3296069586271524%2C%202.341385126933956%2C%202.3531632952407593%2C%202.364941463547563%2C%202.3767196318543666%2C%202.38849780016117%2C%202.4002759684679735%2C%202.4120541367747768%2C%202.4238323050815804%2C%202.435610473388384%2C%202.4473886416951873%2C%202.459166810001991%2C%202.4709449783087947%2C%202.482723146615598%2C%202.494501314922401%2C%202.506279483229205%2C%202.5180576515360085%2C%202.5298358198428117%2C%202.5416139881496154%2C%202.5533921564564186%2C%202.5651703247632223%2C%202.576948493070026%2C%202.588726661376829%2C%202.600504829683633%2C%202.6122829979904365%2C%202.6240611662972397%2C%202.6358393346040434%2C%202.6476175029108466%2C%202.6593956712176503%2C%202.671173839524454%2C%202.682952007831257%2C%202.694730176138061%2C%202.7065083444448645%2C%202.7182865127516678%2C%202.7300646810584714%2C%202.7418428493652747%2C%202.7536210176720783%2C%202.7653991859788816%2C%202.7771773542856852%2C%202.7889555225924885%2C%202.800733690899292%2C%202.8125118592060954%2C%202.8242900275128995%2C%202.8360681958197027%2C%202.8478463641265064%2C%202.8596245324333096%2C%202.8714027007401133%2C%202.8831808690469165%2C%202.89495903735372%2C%202.9067372056605234%2C%202.9185153739673275%2C%202.9302935422741307%2C%202.9420717105809344%2C%202.9538498788877376%2C%202.9656280471945413%2C%202.9774062155013445%2C%202.989184383808148%2C%203.0009625521149514%2C%203.0127407204217556%2C%203.024518888728559%2C%203.0362970570353625%2C%203.0480752253421657%2C%203.0598533936489694%2C%203.0716315619557726%2C%203.0834097302625763%2C%203.09518789856938%2C%203.1069660668761836%2C%203.118744235182987%2C%203.1305224034897905%2C%203.1423005717965937%2C%203.1540787401033974%2C%203.1658569084102006%2C%203.1776350767170043%2C%203.189413245023808%2C%203.2011914133306116%2C%203.212969581637415%2C%203.2247477499442185%2C%203.2365259182510218%2C%203.248304086557825%2C%203.2600822548646287%2C%203.271860423171432%2C%203.283638591478236%2C%203.2954167597850392%2C%203.307194928091843%2C%203.318973096398646%2C%203.33075126470545%2C%203.342529433012253%2C%203.3543076013190567%2C%203.36608576962586%2C%203.377863937932664%2C%203.3896421062394673%2C%203.401420274546271%2C%203.413198442853074%2C%203.424976611159878%2C%203.436754779466681%2C%203.4485329477734847%2C%203.460311116080288%2C%203.472089284387092%2C%203.4838674526938953%2C%203.495645621000699%2C%203.507423789307502%2C%203.519201957614306%2C%203.530980125921109%2C%203.5427582942279128%2C%203.554536462534716%2C%203.56631463084152%2C%203.5780927991483233%2C%203.589870967455127%2C%203.6016491357619302%2C%203.613427304068734%2C%203.625205472375537%2C%203.636983640682341%2C%203.648761808989144%2C%203.660539977295948%2C%203.6723181456027514%2C%203.684096313909555%2C%203.6958744822163583%2C%203.707652650523162%2C%203.719430818829965%2C%203.731208987136769%2C%203.742987155443572%2C%203.7547653237503757%2C%203.7665434920571794%2C%203.7783216603639826%2C%203.7900998286707863%2C%203.8018779969775895%2C%203.813656165284393%2C%203.8254343335911964%2C%203.8372125018980006%2C%203.848990670204804%2C%203.8607688385116075%2C%203.8725470068184107%2C%203.8843251751252144%2C%203.8961033434320176%2C%203.9078815117388213%2C%203.9196596800456245%2C%203.9314378483524286%2C%203.943216016659232%2C%203.9549941849660355%2C%203.9667723532728387%2C%203.9785505215796424%2C%203.9903286898864456%2C%204.002106858193249%2C%204.013885026500053%2C%204.025663194806857%2C%204.03744136311366%2C%204.049219531420464%2C%204.060997699727267%2C%204.07277586803407%2C%204.084554036340874%2C%204.096332204647678%2C%204.108110372954481%2C%204.119888541261285%2C%204.131666709568088%2C%204.143444877874892%2C%204.155223046181695%2C%204.167001214488499%2C%204.178779382795302%2C%204.190557551102105%2C%204.202335719408909%2C%204.214113887715713%2C%204.225892056022516%2C%204.23767022432932%2C%204.249448392636123%2C%204.2612265609429265%2C%204.27300472924973%2C%204.284782897556533%2C%204.296561065863337%2C%204.30833923417014%2C%204.320117402476944%2C%204.331895570783748%2C%204.343673739090551%2C%204.355451907397354%2C%204.367230075704158%2C%204.3790082440109614%2C%204.390786412317765%2C%204.402564580624569%2C%204.4143427489313725%2C%204.426120917238175%2C%204.437899085544979%2C%204.449677253851783%2C%204.461455422158586%2C%204.473233590465389%2C%204.485011758772194%2C%204.496789927078996%2C%204.5085680953858%2C%204.520346263692604%2C%204.532124431999407%2C%204.54390260030621%2C%204.555680768613014%2C%204.5674589369198175%2C%204.579237105226621%2C%204.591015273533425%2C%204.6027934418402285%2C%204.614571610147031%2C%204.626349778453835%2C%204.638127946760639%2C%204.649906115067442%2C%204.661684283374245%2C%204.67346245168105%2C%204.6852406199878525%2C%204.697018788294656%2C%204.70879695660146%2C%204.7205751249082635%2C%204.732353293215067%2C%204.744131461521871%2C%204.755909629828674%2C%204.767687798135477%2C%204.779465966442281%2C%204.791244134749084%2C%204.803022303055887%2C%204.814800471362691%2C%204.826578639669495%2C%204.838356807976298%2C%204.850134976283101%2C%204.861913144589905%2C%204.8736913128967085%2C%204.885469481203512%2C%204.897247649510315%2C%204.9090258178171196%2C%204.920803986123923%2C%204.932582154430727%2C%204.94436032273753%2C%204.956138491044333%2C%204.967916659351137%2C%204.979694827657941%2C%204.9914729959647435%2C%205.003251164271547%2C%205.015029332578351%2C%205.0268075008851545%2C%205.038585669191957%2C%205.050363837498761%2C%205.062142005805565%2C%205.073920174112368%2C%205.085698342419171%2C%205.097476510725976%2C%205.109254679032779%2C%205.121032847339583%2C%205.132811015646386%2C%205.144589183953189%2C%205.156367352259993%2C%205.168145520566797%2C%205.1799236888735996%2C%205.191701857180403%2C%205.203480025487207%2C%205.215258193794011%2C%205.227036362100813%2C%205.238814530407617%2C%205.250592698714421%2C%205.2623708670212235%2C%205.274149035328027%2C%205.285927203634832%2C%205.297705371941635%2C%205.309483540248438%2C%205.321261708555242%2C%205.3330398768620455%2C%205.344818045168849%2C%205.356596213475652%2C%205.368374381782456%2C%205.380152550089259%2C%205.391930718396063%2C%205.403708886702866%2C%205.415487055009669%2C%205.427265223316473%2C%205.439043391623277%2C%205.4508215599300796%2C%205.462599728236884%2C%205.474377896543688%2C%205.4861560648504915%2C%205.497934233157294%2C%205.509712401464098%2C%205.521490569770902%2C%205.533268738077705%2C%205.545046906384508%2C%205.556825074691312%2C%205.568603242998115%2C%205.580381411304919%2C%205.592159579611722%2C%205.6039377479185255%2C%205.615715916225329%2C%205.627494084532133%2C%205.639272252838936%2C%205.65105042114574%2C%205.662828589452544%2C%205.6746067577593475%2C%205.68638492606615%2C%205.698163094372954%2C%205.709941262679758%2C%205.721719430986561%2C%205.733497599293364%2C%205.745275767600168%2C%205.7570539359069715%2C%205.768832104213774%2C%205.780610272520578%2C%205.792388440827382%2C%205.804166609134185%2C%205.815944777440988%2C%205.827722945747792%2C%205.839501114054596%2C%205.8512792823614%2C%205.863057450668203%2C%205.874835618975006%2C%205.88661378728181%2C%205.898391955588614%2C%205.9101701238954165%2C%205.92194829220222%2C%205.933726460509024%2C%205.9455046288158275%2C%205.95728279712263%2C%205.969060965429434%2C%205.980839133736238%2C%205.992617302043041%2C%206.004395470349844%2C%206.016173638656648%2C%206.027951806963452%2C%206.039729975270256%2C%206.051508143577059%2C%206.0632863118838625%2C%206.075064480190666%2C%206.08684264849747%2C%206.098620816804273%2C%206.110398985111076%2C%206.12217715341788%2C%206.133955321724684%2C%206.145733490031486%2C%206.15751165833829%2C%206.169289826645094%2C%206.181067994951897%2C%206.1928461632587%2C%206.204624331565505%2C%206.216402499872308%2C%206.228180668179112%2C%206.239958836485915%2C%206.2517370047927185%2C%206.263515173099522%2C%206.275293341406325%2C%206.287071509713129%2C%206.298849678019932%2C%206.310627846326736%2C%206.322406014633539%2C%206.3341841829403425%2C%206.345962351247146%2C%206.35774051955395%2C%206.369518687860753%2C%206.381296856167556%2C%206.393075024474361%2C%206.4048531927811645%2C%206.416631361087967%2C%206.428409529394771%2C%206.440187697701575%2C%206.451965866008378%2C%206.463744034315181%2C%206.475522202621985%2C%206.487300370928788%2C%206.499078539235592%2C%206.510856707542395%2C%206.5226348758491985%2C%206.534413044156002%2C%206.546191212462806%2C%206.557969380769609%2C%206.569747549076412%2C%206.581525717383217%2C%206.593303885690021%2C%206.605082053996823%5D%29%0A%20%20%20%20%20%20%20%20%20%20%20%20%20%20.range%28%5B%27%23fee5d9ff%27%2C%20%27%23fee5d9ff%27%2C%20%27%23fee5d9ff%27%2C%20%27%23fee5d9ff%27%2C%20%27%23fee5d9ff%27%2C%20%27%23fee5d9ff%27%2C%20%27%23fee5d9ff%27%2C%20%27%23fee5d9ff%27%2C%20%27%23fee5d9ff%27%2C%20%27%23fee5d9ff%27%2C%20%27%23fee5d9ff%27%2C%20%27%23fee5d9ff%27%2C%20%27%23fee5d9ff%27%2C%20%27%23fee5d9ff%27%2C%20%27%23fee5d9ff%27%2C%20%27%23fee5d9ff%27%2C%20%27%23fee5d9ff%27%2C%20%27%23fee5d9ff%27%2C%20%27%23fee5d9ff%27%2C%20%27%23fee5d9ff%27%2C%20%27%23fee5d9ff%27%2C%20%27%23fee5d9ff%27%2C%20%27%23fee5d9ff%27%2C%20%27%23fee5d9ff%27%2C%20%27%23fee5d9ff%27%2C%20%27%23fee5d9ff%27%2C%20%27%23fee5d9ff%27%2C%20%27%23fee5d9ff%27%2C%20%27%23fee5d9ff%27%2C%20%27%23fee5d9ff%27%2C%20%27%23fee5d9ff%27%2C%20%27%23fee5d9ff%27%2C%20%27%23fee5d9ff%27%2C%20%27%23fee5d9ff%27%2C%20%27%23fee5d9ff%27%2C%20%27%23fee5d9ff%27%2C%20%27%23fee5d9ff%27%2C%20%27%23fee5d9ff%27%2C%20%27%23fee5d9ff%27%2C%20%27%23fee5d9ff%27%2C%20%27%23fee5d9ff%27%2C%20%27%23fee5d9ff%27%2C%20%27%23fee5d9ff%27%2C%20%27%23fee5d9ff%27%2C%20%27%23fee5d9ff%27%2C%20%27%23fee5d9ff%27%2C%20%27%23fee5d9ff%27%2C%20%27%23fee5d9ff%27%2C%20%27%23fee5d9ff%27%2C%20%27%23fee5d9ff%27%2C%20%27%23fee5d9ff%27%2C%20%27%23fee5d9ff%27%2C%20%27%23fee5d9ff%27%2C%20%27%23fee5d9ff%27%2C%20%27%23fee5d9ff%27%2C%20%27%23fee5d9ff%27%2C%20%27%23fee5d9ff%27%2C%20%27%23fee5d9ff%27%2C%20%27%23fee5d9ff%27%2C%20%27%23fee5d9ff%27%2C%20%27%23fee5d9ff%27%2C%20%27%23fee5d9ff%27%2C%20%27%23fee5d9ff%27%2C%20%27%23fee5d9ff%27%2C%20%27%23fee5d9ff%27%2C%20%27%23fee5d9ff%27%2C%20%27%23fee5d9ff%27%2C%20%27%23fee5d9ff%27%2C%20%27%23fee5d9ff%27%2C%20%27%23fee5d9ff%27%2C%20%27%23fee5d9ff%27%2C%20%27%23fee5d9ff%27%2C%20%27%23fee5d9ff%27%2C%20%27%23fee5d9ff%27%2C%20%27%23fee5d9ff%27%2C%20%27%23fee5d9ff%27%2C%20%27%23fee5d9ff%27%2C%20%27%23fee5d9ff%27%2C%20%27%23fee5d9ff%27%2C%20%27%23fee5d9ff%27%2C%20%27%23fee5d9ff%27%2C%20%27%23fee5d9ff%27%2C%20%27%23fee5d9ff%27%2C%20%27%23fee5d9ff%27%2C%20%27%23fcbba1ff%27%2C%20%27%23fcbba1ff%27%2C%20%27%23fcbba1ff%27%2C%20%27%23fcbba1ff%27%2C%20%27%23fcbba1ff%27%2C%20%27%23fcbba1ff%27%2C%20%27%23fcbba1ff%27%2C%20%27%23fcbba1ff%27%2C%20%27%23fcbba1ff%27%2C%20%27%23fcbba1ff%27%2C%20%27%23fcbba1ff%27%2C%20%27%23fcbba1ff%27%2C%20%27%23fcbba1ff%27%2C%20%27%23fcbba1ff%27%2C%20%27%23fcbba1ff%27%2C%20%27%23fcbba1ff%27%2C%20%27%23fcbba1ff%27%2C%20%27%23fcbba1ff%27%2C%20%27%23fcbba1ff%27%2C%20%27%23fcbba1ff%27%2C%20%27%23fcbba1ff%27%2C%20%27%23fcbba1ff%27%2C%20%27%23fcbba1ff%27%2C%20%27%23fcbba1ff%27%2C%20%27%23fcbba1ff%27%2C%20%27%23fcbba1ff%27%2C%20%27%23fcbba1ff%27%2C%20%27%23fcbba1ff%27%2C%20%27%23fcbba1ff%27%2C%20%27%23fcbba1ff%27%2C%20%27%23fcbba1ff%27%2C%20%27%23fcbba1ff%27%2C%20%27%23fcbba1ff%27%2C%20%27%23fcbba1ff%27%2C%20%27%23fcbba1ff%27%2C%20%27%23fcbba1ff%27%2C%20%27%23fcbba1ff%27%2C%20%27%23fcbba1ff%27%2C%20%27%23fcbba1ff%27%2C%20%27%23fcbba1ff%27%2C%20%27%23fcbba1ff%27%2C%20%27%23fcbba1ff%27%2C%20%27%23fcbba1ff%27%2C%20%27%23fcbba1ff%27%2C%20%27%23fcbba1ff%27%2C%20%27%23fcbba1ff%27%2C%20%27%23fcbba1ff%27%2C%20%27%23fcbba1ff%27%2C%20%27%23fcbba1ff%27%2C%20%27%23fcbba1ff%27%2C%20%27%23fcbba1ff%27%2C%20%27%23fcbba1ff%27%2C%20%27%23fcbba1ff%27%2C%20%27%23fcbba1ff%27%2C%20%27%23fcbba1ff%27%2C%20%27%23fcbba1ff%27%2C%20%27%23fcbba1ff%27%2C%20%27%23fcbba1ff%27%2C%20%27%23fcbba1ff%27%2C%20%27%23fcbba1ff%27%2C%20%27%23fcbba1ff%27%2C%20%27%23fcbba1ff%27%2C%20%27%23fcbba1ff%27%2C%20%27%23fcbba1ff%27%2C%20%27%23fcbba1ff%27%2C%20%27%23fcbba1ff%27%2C%20%27%23fcbba1ff%27%2C%20%27%23fcbba1ff%27%2C%20%27%23fcbba1ff%27%2C%20%27%23fcbba1ff%27%2C%20%27%23fcbba1ff%27%2C%20%27%23fcbba1ff%27%2C%20%27%23fcbba1ff%27%2C%20%27%23fcbba1ff%27%2C%20%27%23fcbba1ff%27%2C%20%27%23fcbba1ff%27%2C%20%27%23fcbba1ff%27%2C%20%27%23fcbba1ff%27%2C%20%27%23fcbba1ff%27%2C%20%27%23fcbba1ff%27%2C%20%27%23fcbba1ff%27%2C%20%27%23fcbba1ff%27%2C%20%27%23fcbba1ff%27%2C%20%27%23fc9272ff%27%2C%20%27%23fc9272ff%27%2C%20%27%23fc9272ff%27%2C%20%27%23fc9272ff%27%2C%20%27%23fc9272ff%27%2C%20%27%23fc9272ff%27%2C%20%27%23fc9272ff%27%2C%20%27%23fc9272ff%27%2C%20%27%23fc9272ff%27%2C%20%27%23fc9272ff%27%2C%20%27%23fc9272ff%27%2C%20%27%23fc9272ff%27%2C%20%27%23fc9272ff%27%2C%20%27%23fc9272ff%27%2C%20%27%23fc9272ff%27%2C%20%27%23fc9272ff%27%2C%20%27%23fc9272ff%27%2C%20%27%23fc9272ff%27%2C%20%27%23fc9272ff%27%2C%20%27%23fc9272ff%27%2C%20%27%23fc9272ff%27%2C%20%27%23fc9272ff%27%2C%20%27%23fc9272ff%27%2C%20%27%23fc9272ff%27%2C%20%27%23fc9272ff%27%2C%20%27%23fc9272ff%27%2C%20%27%23fc9272ff%27%2C%20%27%23fc9272ff%27%2C%20%27%23fc9272ff%27%2C%20%27%23fc9272ff%27%2C%20%27%23fc9272ff%27%2C%20%27%23fc9272ff%27%2C%20%27%23fc9272ff%27%2C%20%27%23fc9272ff%27%2C%20%27%23fc9272ff%27%2C%20%27%23fc9272ff%27%2C%20%27%23fc9272ff%27%2C%20%27%23fc9272ff%27%2C%20%27%23fc9272ff%27%2C%20%27%23fc9272ff%27%2C%20%27%23fc9272ff%27%2C%20%27%23fc9272ff%27%2C%20%27%23fc9272ff%27%2C%20%27%23fc9272ff%27%2C%20%27%23fc9272ff%27%2C%20%27%23fc9272ff%27%2C%20%27%23fc9272ff%27%2C%20%27%23fc9272ff%27%2C%20%27%23fc9272ff%27%2C%20%27%23fc9272ff%27%2C%20%27%23fc9272ff%27%2C%20%27%23fc9272ff%27%2C%20%27%23fc9272ff%27%2C%20%27%23fc9272ff%27%2C%20%27%23fc9272ff%27%2C%20%27%23fc9272ff%27%2C%20%27%23fc9272ff%27%2C%20%27%23fc9272ff%27%2C%20%27%23fc9272ff%27%2C%20%27%23fc9272ff%27%2C%20%27%23fc9272ff%27%2C%20%27%23fc9272ff%27%2C%20%27%23fc9272ff%27%2C%20%27%23fc9272ff%27%2C%20%27%23fc9272ff%27%2C%20%27%23fc9272ff%27%2C%20%27%23fc9272ff%27%2C%20%27%23fc9272ff%27%2C%20%27%23fc9272ff%27%2C%20%27%23fc9272ff%27%2C%20%27%23fc9272ff%27%2C%20%27%23fc9272ff%27%2C%20%27%23fc9272ff%27%2C%20%27%23fc9272ff%27%2C%20%27%23fc9272ff%27%2C%20%27%23fc9272ff%27%2C%20%27%23fc9272ff%27%2C%20%27%23fc9272ff%27%2C%20%27%23fc9272ff%27%2C%20%27%23fc9272ff%27%2C%20%27%23fc9272ff%27%2C%20%27%23fc9272ff%27%2C%20%27%23fc9272ff%27%2C%20%27%23fb6a4aff%27%2C%20%27%23fb6a4aff%27%2C%20%27%23fb6a4aff%27%2C%20%27%23fb6a4aff%27%2C%20%27%23fb6a4aff%27%2C%20%27%23fb6a4aff%27%2C%20%27%23fb6a4aff%27%2C%20%27%23fb6a4aff%27%2C%20%27%23fb6a4aff%27%2C%20%27%23fb6a4aff%27%2C%20%27%23fb6a4aff%27%2C%20%27%23fb6a4aff%27%2C%20%27%23fb6a4aff%27%2C%20%27%23fb6a4aff%27%2C%20%27%23fb6a4aff%27%2C%20%27%23fb6a4aff%27%2C%20%27%23fb6a4aff%27%2C%20%27%23fb6a4aff%27%2C%20%27%23fb6a4aff%27%2C%20%27%23fb6a4aff%27%2C%20%27%23fb6a4aff%27%2C%20%27%23fb6a4aff%27%2C%20%27%23fb6a4aff%27%2C%20%27%23fb6a4aff%27%2C%20%27%23fb6a4aff%27%2C%20%27%23fb6a4aff%27%2C%20%27%23fb6a4aff%27%2C%20%27%23fb6a4aff%27%2C%20%27%23fb6a4aff%27%2C%20%27%23fb6a4aff%27%2C%20%27%23fb6a4aff%27%2C%20%27%23fb6a4aff%27%2C%20%27%23fb6a4aff%27%2C%20%27%23fb6a4aff%27%2C%20%27%23fb6a4aff%27%2C%20%27%23fb6a4aff%27%2C%20%27%23fb6a4aff%27%2C%20%27%23fb6a4aff%27%2C%20%27%23fb6a4aff%27%2C%20%27%23fb6a4aff%27%2C%20%27%23fb6a4aff%27%2C%20%27%23fb6a4aff%27%2C%20%27%23fb6a4aff%27%2C%20%27%23fb6a4aff%27%2C%20%27%23fb6a4aff%27%2C%20%27%23fb6a4aff%27%2C%20%27%23fb6a4aff%27%2C%20%27%23fb6a4aff%27%2C%20%27%23fb6a4aff%27%2C%20%27%23fb6a4aff%27%2C%20%27%23fb6a4aff%27%2C%20%27%23fb6a4aff%27%2C%20%27%23fb6a4aff%27%2C%20%27%23fb6a4aff%27%2C%20%27%23fb6a4aff%27%2C%20%27%23fb6a4aff%27%2C%20%27%23fb6a4aff%27%2C%20%27%23fb6a4aff%27%2C%20%27%23fb6a4aff%27%2C%20%27%23fb6a4aff%27%2C%20%27%23fb6a4aff%27%2C%20%27%23fb6a4aff%27%2C%20%27%23fb6a4aff%27%2C%20%27%23fb6a4aff%27%2C%20%27%23fb6a4aff%27%2C%20%27%23fb6a4aff%27%2C%20%27%23fb6a4aff%27%2C%20%27%23fb6a4aff%27%2C%20%27%23fb6a4aff%27%2C%20%27%23fb6a4aff%27%2C%20%27%23fb6a4aff%27%2C%20%27%23fb6a4aff%27%2C%20%27%23fb6a4aff%27%2C%20%27%23fb6a4aff%27%2C%20%27%23fb6a4aff%27%2C%20%27%23fb6a4aff%27%2C%20%27%23fb6a4aff%27%2C%20%27%23fb6a4aff%27%2C%20%27%23fb6a4aff%27%2C%20%27%23fb6a4aff%27%2C%20%27%23fb6a4aff%27%2C%20%27%23fb6a4aff%27%2C%20%27%23fb6a4aff%27%2C%20%27%23de2d26ff%27%2C%20%27%23de2d26ff%27%2C%20%27%23de2d26ff%27%2C%20%27%23de2d26ff%27%2C%20%27%23de2d26ff%27%2C%20%27%23de2d26ff%27%2C%20%27%23de2d26ff%27%2C%20%27%23de2d26ff%27%2C%20%27%23de2d26ff%27%2C%20%27%23de2d26ff%27%2C%20%27%23de2d26ff%27%2C%20%27%23de2d26ff%27%2C%20%27%23de2d26ff%27%2C%20%27%23de2d26ff%27%2C%20%27%23de2d26ff%27%2C%20%27%23de2d26ff%27%2C%20%27%23de2d26ff%27%2C%20%27%23de2d26ff%27%2C%20%27%23de2d26ff%27%2C%20%27%23de2d26ff%27%2C%20%27%23de2d26ff%27%2C%20%27%23de2d26ff%27%2C%20%27%23de2d26ff%27%2C%20%27%23de2d26ff%27%2C%20%27%23de2d26ff%27%2C%20%27%23de2d26ff%27%2C%20%27%23de2d26ff%27%2C%20%27%23de2d26ff%27%2C%20%27%23de2d26ff%27%2C%20%27%23de2d26ff%27%2C%20%27%23de2d26ff%27%2C%20%27%23de2d26ff%27%2C%20%27%23de2d26ff%27%2C%20%27%23de2d26ff%27%2C%20%27%23de2d26ff%27%2C%20%27%23de2d26ff%27%2C%20%27%23de2d26ff%27%2C%20%27%23de2d26ff%27%2C%20%27%23de2d26ff%27%2C%20%27%23de2d26ff%27%2C%20%27%23de2d26ff%27%2C%20%27%23de2d26ff%27%2C%20%27%23de2d26ff%27%2C%20%27%23de2d26ff%27%2C%20%27%23de2d26ff%27%2C%20%27%23de2d26ff%27%2C%20%27%23de2d26ff%27%2C%20%27%23de2d26ff%27%2C%20%27%23de2d26ff%27%2C%20%27%23de2d26ff%27%2C%20%27%23de2d26ff%27%2C%20%27%23de2d26ff%27%2C%20%27%23de2d26ff%27%2C%20%27%23de2d26ff%27%2C%20%27%23de2d26ff%27%2C%20%27%23de2d26ff%27%2C%20%27%23de2d26ff%27%2C%20%27%23de2d26ff%27%2C%20%27%23de2d26ff%27%2C%20%27%23de2d26ff%27%2C%20%27%23de2d26ff%27%2C%20%27%23de2d26ff%27%2C%20%27%23de2d26ff%27%2C%20%27%23de2d26ff%27%2C%20%27%23de2d26ff%27%2C%20%27%23de2d26ff%27%2C%20%27%23de2d26ff%27%2C%20%27%23de2d26ff%27%2C%20%27%23de2d26ff%27%2C%20%27%23de2d26ff%27%2C%20%27%23de2d26ff%27%2C%20%27%23de2d26ff%27%2C%20%27%23de2d26ff%27%2C%20%27%23de2d26ff%27%2C%20%27%23de2d26ff%27%2C%20%27%23de2d26ff%27%2C%20%27%23de2d26ff%27%2C%20%27%23de2d26ff%27%2C%20%27%23de2d26ff%27%2C%20%27%23de2d26ff%27%2C%20%27%23de2d26ff%27%2C%20%27%23de2d26ff%27%2C%20%27%23de2d26ff%27%2C%20%27%23a50f15ff%27%2C%20%27%23a50f15ff%27%2C%20%27%23a50f15ff%27%2C%20%27%23a50f15ff%27%2C%20%27%23a50f15ff%27%2C%20%27%23a50f15ff%27%2C%20%27%23a50f15ff%27%2C%20%27%23a50f15ff%27%2C%20%27%23a50f15ff%27%2C%20%27%23a50f15ff%27%2C%20%27%23a50f15ff%27%2C%20%27%23a50f15ff%27%2C%20%27%23a50f15ff%27%2C%20%27%23a50f15ff%27%2C%20%27%23a50f15ff%27%2C%20%27%23a50f15ff%27%2C%20%27%23a50f15ff%27%2C%20%27%23a50f15ff%27%2C%20%27%23a50f15ff%27%2C%20%27%23a50f15ff%27%2C%20%27%23a50f15ff%27%2C%20%27%23a50f15ff%27%2C%20%27%23a50f15ff%27%2C%20%27%23a50f15ff%27%2C%20%27%23a50f15ff%27%2C%20%27%23a50f15ff%27%2C%20%27%23a50f15ff%27%2C%20%27%23a50f15ff%27%2C%20%27%23a50f15ff%27%2C%20%27%23a50f15ff%27%2C%20%27%23a50f15ff%27%2C%20%27%23a50f15ff%27%2C%20%27%23a50f15ff%27%2C%20%27%23a50f15ff%27%2C%20%27%23a50f15ff%27%2C%20%27%23a50f15ff%27%2C%20%27%23a50f15ff%27%2C%20%27%23a50f15ff%27%2C%20%27%23a50f15ff%27%2C%20%27%23a50f15ff%27%2C%20%27%23a50f15ff%27%2C%20%27%23a50f15ff%27%2C%20%27%23a50f15ff%27%2C%20%27%23a50f15ff%27%2C%20%27%23a50f15ff%27%2C%20%27%23a50f15ff%27%2C%20%27%23a50f15ff%27%2C%20%27%23a50f15ff%27%2C%20%27%23a50f15ff%27%2C%20%27%23a50f15ff%27%2C%20%27%23a50f15ff%27%2C%20%27%23a50f15ff%27%2C%20%27%23a50f15ff%27%2C%20%27%23a50f15ff%27%2C%20%27%23a50f15ff%27%2C%20%27%23a50f15ff%27%2C%20%27%23a50f15ff%27%2C%20%27%23a50f15ff%27%2C%20%27%23a50f15ff%27%2C%20%27%23a50f15ff%27%2C%20%27%23a50f15ff%27%2C%20%27%23a50f15ff%27%2C%20%27%23a50f15ff%27%2C%20%27%23a50f15ff%27%2C%20%27%23a50f15ff%27%2C%20%27%23a50f15ff%27%2C%20%27%23a50f15ff%27%2C%20%27%23a50f15ff%27%2C%20%27%23a50f15ff%27%2C%20%27%23a50f15ff%27%2C%20%27%23a50f15ff%27%2C%20%27%23a50f15ff%27%2C%20%27%23a50f15ff%27%2C%20%27%23a50f15ff%27%2C%20%27%23a50f15ff%27%2C%20%27%23a50f15ff%27%2C%20%27%23a50f15ff%27%2C%20%27%23a50f15ff%27%2C%20%27%23a50f15ff%27%2C%20%27%23a50f15ff%27%2C%20%27%23a50f15ff%27%2C%20%27%23a50f15ff%27%2C%20%27%23a50f15ff%27%2C%20%27%23a50f15ff%27%5D%29%3B%0A%20%20%20%20%0A%0A%20%20%20%20color_map_f0a1c7cd4260443289bb350824790afc.x%20%3D%20d3.scale.linear%28%29%0A%20%20%20%20%20%20%20%20%20%20%20%20%20%20.domain%28%5B0.7277760689018763%2C%206.605082053996823%5D%29%0A%20%20%20%20%20%20%20%20%20%20%20%20%20%20.range%28%5B0%2C%20400%5D%29%3B%0A%0A%20%20%20%20color_map_f0a1c7cd4260443289bb350824790afc.legend%20%3D%20L.control%28%7Bposition%3A%20%27topright%27%7D%29%3B%0A%20%20%20%20color_map_f0a1c7cd4260443289bb350824790afc.legend.onAdd%20%3D%20function%20%28map%29%20%7Bvar%20div%20%3D%20L.DomUtil.create%28%27div%27%2C%20%27legend%27%29%3B%20return%20div%7D%3B%0A%20%20%20%20color_map_f0a1c7cd4260443289bb350824790afc.legend.addTo%28map_a36a7d0b6f9647ccb649fbad9dfd6451%29%3B%0A%0A%20%20%20%20color_map_f0a1c7cd4260443289bb350824790afc.xAxis%20%3D%20d3.svg.axis%28%29%0A%20%20%20%20%20%20%20%20.scale%28color_map_f0a1c7cd4260443289bb350824790afc.x%29%0A%20%20%20%20%20%20%20%20.orient%28%22top%22%29%0A%20%20%20%20%20%20%20%20.tickSize%281%29%0A%20%20%20%20%20%20%20%20.tickValues%28%5B0.7277760689018763%2C%201.7073270664177007%2C%202.6868780639335252%2C%203.6664290614493495%2C%204.645980058965174%2C%205.625531056480999%2C%206.605082053996823%5D%29%3B%0A%0A%20%20%20%20color_map_f0a1c7cd4260443289bb350824790afc.svg%20%3D%20d3.select%28%22.legend.leaflet-control%22%29.append%28%22svg%22%29%0A%20%20%20%20%20%20%20%20.attr%28%22id%22%2C%20%27legend%27%29%0A%20%20%20%20%20%20%20%20.attr%28%22width%22%2C%20450%29%0A%20%20%20%20%20%20%20%20.attr%28%22height%22%2C%2040%29%3B%0A%0A%20%20%20%20color_map_f0a1c7cd4260443289bb350824790afc.g%20%3D%20color_map_f0a1c7cd4260443289bb350824790afc.svg.append%28%22g%22%29%0A%20%20%20%20%20%20%20%20.attr%28%22class%22%2C%20%22key%22%29%0A%20%20%20%20%20%20%20%20.attr%28%22transform%22%2C%20%22translate%2825%2C16%29%22%29%3B%0A%0A%20%20%20%20color_map_f0a1c7cd4260443289bb350824790afc.g.selectAll%28%22rect%22%29%0A%20%20%20%20%20%20%20%20.data%28color_map_f0a1c7cd4260443289bb350824790afc.color.range%28%29.map%28function%28d%2C%20i%29%20%7B%0A%20%20%20%20%20%20%20%20%20%20return%20%7B%0A%20%20%20%20%20%20%20%20%20%20%20%20x0%3A%20i%20%3F%20color_map_f0a1c7cd4260443289bb350824790afc.x%28color_map_f0a1c7cd4260443289bb350824790afc.color.domain%28%29%5Bi%20-%201%5D%29%20%3A%20color_map_f0a1c7cd4260443289bb350824790afc.x.range%28%29%5B0%5D%2C%0A%20%20%20%20%20%20%20%20%20%20%20%20x1%3A%20i%20%3C%20color_map_f0a1c7cd4260443289bb350824790afc.color.domain%28%29.length%20%3F%20color_map_f0a1c7cd4260443289bb350824790afc.x%28color_map_f0a1c7cd4260443289bb350824790afc.color.domain%28%29%5Bi%5D%29%20%3A%20color_map_f0a1c7cd4260443289bb350824790afc.x.range%28%29%5B1%5D%2C%0A%20%20%20%20%20%20%20%20%20%20%20%20z%3A%20d%0A%20%20%20%20%20%20%20%20%20%20%7D%3B%0A%20%20%20%20%20%20%20%20%7D%29%29%0A%20%20%20%20%20%20.enter%28%29.append%28%22rect%22%29%0A%20%20%20%20%20%20%20%20.attr%28%22height%22%2C%2010%29%0A%20%20%20%20%20%20%20%20.attr%28%22x%22%2C%20function%28d%29%20%7B%20return%20d.x0%3B%20%7D%29%0A%20%20%20%20%20%20%20%20.attr%28%22width%22%2C%20function%28d%29%20%7B%20return%20d.x1%20-%20d.x0%3B%20%7D%29%0A%20%20%20%20%20%20%20%20.style%28%22fill%22%2C%20function%28d%29%20%7B%20return%20d.z%3B%20%7D%29%3B%0A%0A%20%20%20%20color_map_f0a1c7cd4260443289bb350824790afc.g.call%28color_map_f0a1c7cd4260443289bb350824790afc.xAxis%29.append%28%22text%22%29%0A%20%20%20%20%20%20%20%20.attr%28%22class%22%2C%20%22caption%22%29%0A%20%20%20%20%20%20%20%20.attr%28%22y%22%2C%2021%29%0A%20%20%20%20%20%20%20%20.text%28%27%EC%99%B8%EA%B5%AD%EC%9D%B8%EB%8C%80%EB%B9%84cctv%EB%B9%84%EC%9C%A8%27%29%3B%0A%3C/script%3E onload=\"this.contentDocument.open();this.contentDocument.write(    decodeURIComponent(this.getAttribute('data-html')));this.contentDocument.close();\" allowfullscreen webkitallowfullscreen mozallowfullscreen></iframe></div></div>"
            ],
            "text/plain": [
              "<folium.folium.Map at 0x7fb2da41ee50>"
            ]
          },
          "metadata": {},
          "execution_count": 26
        }
      ]
    },
    {
      "cell_type": "code",
      "metadata": {
        "id": "ZMXiQlno_wsL"
      },
      "source": [
        ""
      ],
      "execution_count": null,
      "outputs": []
    }
  ]
}
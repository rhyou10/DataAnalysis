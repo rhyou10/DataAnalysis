{
  "nbformat": 4,
  "nbformat_minor": 0,
  "metadata": {
    "colab": {
      "name": "11_커피샵_매장_추출.ipynb",
      "provenance": [],
      "collapsed_sections": []
    },
    "kernelspec": {
      "name": "python3",
      "display_name": "Python 3"
    },
    "language_info": {
      "name": "python"
    }
  },
  "cells": [
    {
      "cell_type": "markdown",
      "metadata": {
        "id": "KHpNbExvpQXv"
      },
      "source": [
        "# 커피지수\n",
        "## 1. 데이로부터 4개 커피샾에대한 정보 추출해서 저장하기"
      ]
    },
    {
      "cell_type": "code",
      "metadata": {
        "id": "BypqTKTqp9RX"
      },
      "source": [
        "import pandas as pd\n",
        "import numpy as np\n",
        "import warnings\n",
        "warnings.filterwarnings('ignore')"
      ],
      "execution_count": 396,
      "outputs": []
    },
    {
      "cell_type": "code",
      "metadata": {
        "colab": {
          "base_uri": "https://localhost:8080/"
        },
        "id": "ieDcFkLxnl5Q",
        "outputId": "89c90951-58ad-4f6f-9b22-0410b9516585"
      },
      "source": [
        "from google.colab import drive\n",
        "drive.mount('/content/mnt')"
      ],
      "execution_count": 397,
      "outputs": [
        {
          "output_type": "stream",
          "name": "stdout",
          "text": [
            "Drive already mounted at /content/mnt; to attempt to forcibly remount, call drive.mount(\"/content/mnt\", force_remount=True).\n"
          ]
        }
      ]
    },
    {
      "cell_type": "code",
      "metadata": {
        "id": "jnM6sk0HntvR"
      },
      "source": [
        "data_folder = '/content/mnt/MyDrive/data/소상공인시장진흥공단_상가(상권)정보_20210630'"
      ],
      "execution_count": 398,
      "outputs": []
    },
    {
      "cell_type": "code",
      "metadata": {
        "id": "6nbug3JUoajH"
      },
      "source": [
        "from glob import glob\n",
        "file_list = []\n",
        "for file in glob(f'{data_folder}/*.csv'):\n",
        "  file_list.append(file)"
      ],
      "execution_count": 399,
      "outputs": []
    },
    {
      "cell_type": "code",
      "metadata": {
        "colab": {
          "base_uri": "https://localhost:8080/",
          "height": 52
        },
        "id": "KrCjFvUcoy-m",
        "outputId": "a8153e46-a842-4b71-f676-21431d460fb7"
      },
      "source": [
        "file_list[10]"
      ],
      "execution_count": 400,
      "outputs": [
        {
          "output_type": "execute_result",
          "data": {
            "application/vnd.google.colaboratory.intrinsic+json": {
              "type": "string"
            },
            "text/plain": [
              "'/content/mnt/MyDrive/data/소상공인시장진흥공단_상가(상권)정보_20210630/소상공인시장진흥공단_상가(상권)정보_서울_202106.csv'"
            ]
          },
          "metadata": {},
          "execution_count": 400
        }
      ]
    },
    {
      "cell_type": "code",
      "metadata": {
        "colab": {
          "base_uri": "https://localhost:8080/"
        },
        "id": "CG00HWxjpoov",
        "outputId": "8cd4b6c6-82c8-40e4-c042-66334ad5b207"
      },
      "source": [
        "df = pd.read_csv(file_list[10], encoding = 'utf-8')\n",
        "print(df.shape)\n",
        "#상호명, 지점명, 시도명, 시군구명, 도로명주소, 상권업종중분류코드"
      ],
      "execution_count": 401,
      "outputs": [
        {
          "output_type": "stream",
          "name": "stdout",
          "text": [
            "(316078, 39)\n"
          ]
        }
      ]
    },
    {
      "cell_type": "code",
      "metadata": {
        "colab": {
          "base_uri": "https://localhost:8080/",
          "height": 204
        },
        "id": "Mjq3pJf9p7ue",
        "outputId": "faace157-a648-43f3-b3a9-f7df7b5889e6"
      },
      "source": [
        "df = df[['상호명', '지점명', '시도명', '시군구명', '도로명주소', '상권업종중분류코드']]\n",
        "df.head()"
      ],
      "execution_count": 402,
      "outputs": [
        {
          "output_type": "execute_result",
          "data": {
            "text/html": [
              "<div>\n",
              "<style scoped>\n",
              "    .dataframe tbody tr th:only-of-type {\n",
              "        vertical-align: middle;\n",
              "    }\n",
              "\n",
              "    .dataframe tbody tr th {\n",
              "        vertical-align: top;\n",
              "    }\n",
              "\n",
              "    .dataframe thead th {\n",
              "        text-align: right;\n",
              "    }\n",
              "</style>\n",
              "<table border=\"1\" class=\"dataframe\">\n",
              "  <thead>\n",
              "    <tr style=\"text-align: right;\">\n",
              "      <th></th>\n",
              "      <th>상호명</th>\n",
              "      <th>지점명</th>\n",
              "      <th>시도명</th>\n",
              "      <th>시군구명</th>\n",
              "      <th>도로명주소</th>\n",
              "      <th>상권업종중분류코드</th>\n",
              "    </tr>\n",
              "  </thead>\n",
              "  <tbody>\n",
              "    <tr>\n",
              "      <th>0</th>\n",
              "      <td>비지트</td>\n",
              "      <td>NaN</td>\n",
              "      <td>서울특별시</td>\n",
              "      <td>서초구</td>\n",
              "      <td>서울특별시 서초구 동광로18길 82</td>\n",
              "      <td>Q01</td>\n",
              "    </tr>\n",
              "    <tr>\n",
              "      <th>1</th>\n",
              "      <td>쓰리에프</td>\n",
              "      <td>NaN</td>\n",
              "      <td>서울특별시</td>\n",
              "      <td>동작구</td>\n",
              "      <td>서울특별시 동작구 동작대로27가길 12</td>\n",
              "      <td>Q01</td>\n",
              "    </tr>\n",
              "    <tr>\n",
              "      <th>2</th>\n",
              "      <td>채움</td>\n",
              "      <td>NaN</td>\n",
              "      <td>서울특별시</td>\n",
              "      <td>종로구</td>\n",
              "      <td>서울특별시 종로구 삼봉로 81</td>\n",
              "      <td>Q01</td>\n",
              "    </tr>\n",
              "    <tr>\n",
              "      <th>3</th>\n",
              "      <td>호구의주방</td>\n",
              "      <td>NaN</td>\n",
              "      <td>서울특별시</td>\n",
              "      <td>영등포구</td>\n",
              "      <td>서울특별시 영등포구 선유로 269</td>\n",
              "      <td>D07</td>\n",
              "    </tr>\n",
              "    <tr>\n",
              "      <th>4</th>\n",
              "      <td>다향</td>\n",
              "      <td>NaN</td>\n",
              "      <td>서울특별시</td>\n",
              "      <td>서초구</td>\n",
              "      <td>서울특별시 서초구 효령로 230</td>\n",
              "      <td>Q01</td>\n",
              "    </tr>\n",
              "  </tbody>\n",
              "</table>\n",
              "</div>"
            ],
            "text/plain": [
              "     상호명  지점명    시도명  시군구명                  도로명주소 상권업종중분류코드\n",
              "0    비지트  NaN  서울특별시   서초구    서울특별시 서초구 동광로18길 82       Q01\n",
              "1   쓰리에프  NaN  서울특별시   동작구  서울특별시 동작구 동작대로27가길 12       Q01\n",
              "2     채움  NaN  서울특별시   종로구       서울특별시 종로구 삼봉로 81       Q01\n",
              "3  호구의주방  NaN  서울특별시  영등포구     서울특별시 영등포구 선유로 269       D07\n",
              "4     다향  NaN  서울특별시   서초구      서울특별시 서초구 효령로 230       Q01"
            ]
          },
          "metadata": {},
          "execution_count": 402
        }
      ]
    },
    {
      "cell_type": "code",
      "metadata": {
        "colab": {
          "base_uri": "https://localhost:8080/",
          "height": 204
        },
        "id": "MKs1j6P8s8qf",
        "outputId": "0f4192b7-4d78-4f22-c6fa-e5f8f25b9018"
      },
      "source": [
        "df = df[df.상권업종중분류코드=='Q12']\n",
        "df.head()"
      ],
      "execution_count": 403,
      "outputs": [
        {
          "output_type": "execute_result",
          "data": {
            "text/html": [
              "<div>\n",
              "<style scoped>\n",
              "    .dataframe tbody tr th:only-of-type {\n",
              "        vertical-align: middle;\n",
              "    }\n",
              "\n",
              "    .dataframe tbody tr th {\n",
              "        vertical-align: top;\n",
              "    }\n",
              "\n",
              "    .dataframe thead th {\n",
              "        text-align: right;\n",
              "    }\n",
              "</style>\n",
              "<table border=\"1\" class=\"dataframe\">\n",
              "  <thead>\n",
              "    <tr style=\"text-align: right;\">\n",
              "      <th></th>\n",
              "      <th>상호명</th>\n",
              "      <th>지점명</th>\n",
              "      <th>시도명</th>\n",
              "      <th>시군구명</th>\n",
              "      <th>도로명주소</th>\n",
              "      <th>상권업종중분류코드</th>\n",
              "    </tr>\n",
              "  </thead>\n",
              "  <tbody>\n",
              "    <tr>\n",
              "      <th>28</th>\n",
              "      <td>커피빈</td>\n",
              "      <td>코리아대학로대명거리점</td>\n",
              "      <td>서울특별시</td>\n",
              "      <td>종로구</td>\n",
              "      <td>서울특별시 종로구 대명길 25</td>\n",
              "      <td>Q12</td>\n",
              "    </tr>\n",
              "    <tr>\n",
              "      <th>111</th>\n",
              "      <td>요거프레소</td>\n",
              "      <td>쌍문점</td>\n",
              "      <td>서울특별시</td>\n",
              "      <td>도봉구</td>\n",
              "      <td>서울특별시 도봉구 도당로 7</td>\n",
              "      <td>Q12</td>\n",
              "    </tr>\n",
              "    <tr>\n",
              "      <th>190</th>\n",
              "      <td>메머드커피</td>\n",
              "      <td>NaN</td>\n",
              "      <td>서울특별시</td>\n",
              "      <td>마포구</td>\n",
              "      <td>서울특별시 마포구 와우산로 149</td>\n",
              "      <td>Q12</td>\n",
              "    </tr>\n",
              "    <tr>\n",
              "      <th>197</th>\n",
              "      <td>우성커피숍</td>\n",
              "      <td>NaN</td>\n",
              "      <td>서울특별시</td>\n",
              "      <td>양천구</td>\n",
              "      <td>서울특별시 양천구 오목로 48</td>\n",
              "      <td>Q12</td>\n",
              "    </tr>\n",
              "    <tr>\n",
              "      <th>225</th>\n",
              "      <td>카페클럽</td>\n",
              "      <td>NaN</td>\n",
              "      <td>서울특별시</td>\n",
              "      <td>송파구</td>\n",
              "      <td>서울특별시 송파구 동남로2길 3-6</td>\n",
              "      <td>Q12</td>\n",
              "    </tr>\n",
              "  </tbody>\n",
              "</table>\n",
              "</div>"
            ],
            "text/plain": [
              "       상호명          지점명    시도명 시군구명                도로명주소 상권업종중분류코드\n",
              "28     커피빈  코리아대학로대명거리점  서울특별시  종로구     서울특별시 종로구 대명길 25       Q12\n",
              "111  요거프레소          쌍문점  서울특별시  도봉구      서울특별시 도봉구 도당로 7       Q12\n",
              "190  메머드커피          NaN  서울특별시  마포구   서울특별시 마포구 와우산로 149       Q12\n",
              "197  우성커피숍          NaN  서울특별시  양천구     서울특별시 양천구 오목로 48       Q12\n",
              "225   카페클럽          NaN  서울특별시  송파구  서울특별시 송파구 동남로2길 3-6       Q12"
            ]
          },
          "metadata": {},
          "execution_count": 403
        }
      ]
    },
    {
      "cell_type": "code",
      "metadata": {
        "id": "96y0mNNHJhMd"
      },
      "source": [
        "sb = df[df.상호명.str.contains('스타벅스|STARBUCKS',case=False, na=False)]#nun값이 있어도 읽는다\n",
        "cb = df[df.상호명.str.contains('커피빈|COFFEBEAN',case=False, na=False)]#nun값이 있어도 읽는다\n",
        "ed = df[df.상호명.str.contains('이디야|EDIYA',case=False, na=False)]#nun값이 있어도 읽는다\n",
        "bk = df[df.상호명.str.contains('빽다방|PAIKSCOFFEE',case=False, na=False)]#nun값이 있어도 읽는다"
      ],
      "execution_count": 433,
      "outputs": []
    },
    {
      "cell_type": "code",
      "metadata": {
        "colab": {
          "base_uri": "https://localhost:8080/"
        },
        "id": "Bipfn8kZLnSW",
        "outputId": "04c9df6c-ab67-45ce-c49e-66474abe6b5c"
      },
      "source": [
        "len(sb), len(cb), len(ed), len(bk)"
      ],
      "execution_count": 434,
      "outputs": [
        {
          "output_type": "execute_result",
          "data": {
            "text/plain": [
              "(489, 168, 440, 127)"
            ]
          },
          "metadata": {},
          "execution_count": 434
        }
      ]
    },
    {
      "cell_type": "code",
      "metadata": {
        "colab": {
          "base_uri": "https://localhost:8080/"
        },
        "id": "GX5Be6vjxWG5",
        "outputId": "2812c4c3-9506-4fd8-f9ec-b2dd2a8ea863"
      },
      "source": [
        "print(df.상호명.value_counts())"
      ],
      "execution_count": 364,
      "outputs": [
        {
          "output_type": "stream",
          "name": "stdout",
          "text": [
            "카페         414\n",
            "이디야커피      367\n",
            "스타벅스       331\n",
            "투썸플레이스     165\n",
            "커피빈        115\n",
            "          ... \n",
            "테이블스         1\n",
            "나이스투밋츄       1\n",
            "소정공방         1\n",
            "리틀마라캐쉬       1\n",
            "베러씽스아커밍      1\n",
            "Name: 상호명, Length: 15019, dtype: int64\n"
          ]
        }
      ]
    },
    {
      "cell_type": "code",
      "metadata": {
        "id": "pZLlrnsstErm"
      },
      "source": [
        "shop_name = [['스타벅스','STARBUCKS'], ['이디야', 'EDIYA'] , ['커피빈', 'COFFEBEAN'], ['빽다방', 'PAIK']]\n",
        "df2 = pd.DataFrame()\n",
        "for name_l in shop_name:\n",
        "  for name in name_l:\n",
        "    df_n = df[df.상호명.str.contains(name, case=False)] # case는 다 대문자로해서 찾는다\n",
        "    df_n['상호명'] = df_n.상호명.apply(lambda x : name_l[0])\n",
        "    df2 = pd.concat([df2,df_n])\n",
        "df2 = df2.loc[~df2.index.duplicated(keep='first')]"
      ],
      "execution_count": 437,
      "outputs": []
    },
    {
      "cell_type": "code",
      "metadata": {
        "colab": {
          "base_uri": "https://localhost:8080/"
        },
        "id": "kM1t8ED-F5al",
        "outputId": "1ef6a93a-db22-4ac7-e6e7-fa8d249336ea"
      },
      "source": [
        "df2.상호명.value_counts()"
      ],
      "execution_count": 438,
      "outputs": [
        {
          "output_type": "execute_result",
          "data": {
            "text/plain": [
              "스타벅스    489\n",
              "이디야     440\n",
              "커피빈     168\n",
              "빽다방     127\n",
              "Name: 상호명, dtype: int64"
            ]
          },
          "metadata": {},
          "execution_count": 438
        }
      ]
    },
    {
      "cell_type": "code",
      "metadata": {
        "id": "Sw1h907jF3Wd"
      },
      "source": [
        "df2 = df2.loc[~df2.index.duplicated(keep='first')]"
      ],
      "execution_count": 409,
      "outputs": []
    },
    {
      "cell_type": "code",
      "metadata": {
        "colab": {
          "base_uri": "https://localhost:8080/"
        },
        "id": "x75DOfKuAXz_",
        "outputId": "ec3fc32b-69f8-4707-9172-320e43af2303"
      },
      "source": [
        "print(df2.index.nunique(),len(df2))"
      ],
      "execution_count": 392,
      "outputs": [
        {
          "output_type": "stream",
          "name": "stdout",
          "text": [
            "1214 1214\n"
          ]
        }
      ]
    },
    {
      "cell_type": "code",
      "metadata": {
        "id": "hYXIhBdluEZB"
      },
      "source": [
        "all_coffe_shop = pd.DataFrame()\n",
        "shop_name = [['스타벅스','STARBUCKS'], ['이디야', 'EDIYA'] , ['커피빈', 'COFFEBEAN'], ['빽다방', 'PAIK']]\n",
        "file_list = []\n",
        "for file in glob(f'{data_folder}/*.csv'):\n",
        "  df = pd.read_csv(file, encoding = 'utf-8')\n",
        "  df = df[['상호명', '지점명', '시도명', '시군구명', '도로명주소', '상권업종중분류코드']]\n",
        "  df = df[df.상권업종중분류코드=='Q12']\n",
        "  df2 = pd.DataFrame()\n",
        "  for name_l in shop_name:\n",
        "    for name in name_l:\n",
        "      df_n = df[df.상호명.str.contains(name, case=False)]\n",
        "      df_n['상호명'] = df_n.상호명.apply(lambda x : name_l[0])\n",
        "      df2 = pd.concat([df2,df_n])\n",
        "  df2 = df2.loc[~df2.index.duplicated(keep='first')] #인덱스 중복제거\n",
        "  all_coffe_shop = pd.concat([df2,all_coffe_shop])"
      ],
      "execution_count": 462,
      "outputs": []
    },
    {
      "cell_type": "code",
      "metadata": {
        "colab": {
          "base_uri": "https://localhost:8080/"
        },
        "id": "uQEgZn0hwFc-",
        "outputId": "0670fae9-3801-4ecc-9ea6-a3f88cadb622"
      },
      "source": [
        "all_coffe_shop.shape"
      ],
      "execution_count": 463,
      "outputs": [
        {
          "output_type": "execute_result",
          "data": {
            "text/plain": [
              "(4566, 6)"
            ]
          },
          "metadata": {},
          "execution_count": 463
        }
      ]
    },
    {
      "cell_type": "code",
      "metadata": {
        "id": "z-L4pLJIM88E"
      },
      "source": [
        "all_coffe_shop.reset_index(inplace=True)"
      ],
      "execution_count": 445,
      "outputs": []
    },
    {
      "cell_type": "code",
      "metadata": {
        "id": "p69tQfKSNWWV"
      },
      "source": [
        "del all_coffe_shop['index']\n",
        "del all_coffe_shop['level_0']"
      ],
      "execution_count": 447,
      "outputs": []
    },
    {
      "cell_type": "code",
      "metadata": {
        "colab": {
          "base_uri": "https://localhost:8080/",
          "height": 606
        },
        "id": "DtbiAzsUM-Pd",
        "outputId": "2ee838d9-3291-43bb-d0d2-0eb4bf33ff4a"
      },
      "source": [
        "all_coffe_shop"
      ],
      "execution_count": 448,
      "outputs": [
        {
          "output_type": "execute_result",
          "data": {
            "text/html": [
              "<div>\n",
              "<style scoped>\n",
              "    .dataframe tbody tr th:only-of-type {\n",
              "        vertical-align: middle;\n",
              "    }\n",
              "\n",
              "    .dataframe tbody tr th {\n",
              "        vertical-align: top;\n",
              "    }\n",
              "\n",
              "    .dataframe thead th {\n",
              "        text-align: right;\n",
              "    }\n",
              "</style>\n",
              "<table border=\"1\" class=\"dataframe\">\n",
              "  <thead>\n",
              "    <tr style=\"text-align: right;\">\n",
              "      <th></th>\n",
              "      <th>상호명</th>\n",
              "      <th>지점명</th>\n",
              "      <th>시도명</th>\n",
              "      <th>시군구명</th>\n",
              "      <th>도로명주소</th>\n",
              "      <th>상권업종중분류코드</th>\n",
              "    </tr>\n",
              "  </thead>\n",
              "  <tbody>\n",
              "    <tr>\n",
              "      <th>0</th>\n",
              "      <td>스타벅스</td>\n",
              "      <td>천안이마트점</td>\n",
              "      <td>충청남도</td>\n",
              "      <td>천안시 서북구</td>\n",
              "      <td>충청남도 천안시 서북구 충무로 187</td>\n",
              "      <td>Q12</td>\n",
              "    </tr>\n",
              "    <tr>\n",
              "      <th>1</th>\n",
              "      <td>스타벅스</td>\n",
              "      <td>천안ICDT점</td>\n",
              "      <td>충청남도</td>\n",
              "      <td>천안시 동남구</td>\n",
              "      <td>충청남도 천안시 동남구 신부15길 3</td>\n",
              "      <td>Q12</td>\n",
              "    </tr>\n",
              "    <tr>\n",
              "      <th>2</th>\n",
              "      <td>스타벅스</td>\n",
              "      <td>공주신관점</td>\n",
              "      <td>충청남도</td>\n",
              "      <td>공주시</td>\n",
              "      <td>충청남도 공주시 번영1로 113</td>\n",
              "      <td>Q12</td>\n",
              "    </tr>\n",
              "    <tr>\n",
              "      <th>3</th>\n",
              "      <td>스타벅스</td>\n",
              "      <td>천안신부동더샵점</td>\n",
              "      <td>충청남도</td>\n",
              "      <td>천안시 동남구</td>\n",
              "      <td>충청남도 천안시 동남구 만남로 9</td>\n",
              "      <td>Q12</td>\n",
              "    </tr>\n",
              "    <tr>\n",
              "      <th>4</th>\n",
              "      <td>스타벅스</td>\n",
              "      <td>천안성정DT</td>\n",
              "      <td>충청남도</td>\n",
              "      <td>천안시 서북구</td>\n",
              "      <td>충청남도 천안시 서북구 동서대로 154</td>\n",
              "      <td>Q12</td>\n",
              "    </tr>\n",
              "    <tr>\n",
              "      <th>...</th>\n",
              "      <td>...</td>\n",
              "      <td>...</td>\n",
              "      <td>...</td>\n",
              "      <td>...</td>\n",
              "      <td>...</td>\n",
              "      <td>...</td>\n",
              "    </tr>\n",
              "    <tr>\n",
              "      <th>5032</th>\n",
              "      <td>빽다방</td>\n",
              "      <td>원주혁신도시점</td>\n",
              "      <td>강원도</td>\n",
              "      <td>원주시</td>\n",
              "      <td>강원도 원주시 혁신로 61</td>\n",
              "      <td>Q12</td>\n",
              "    </tr>\n",
              "    <tr>\n",
              "      <th>5033</th>\n",
              "      <td>빽다방</td>\n",
              "      <td>강원대점</td>\n",
              "      <td>강원도</td>\n",
              "      <td>춘천시</td>\n",
              "      <td>강원도 춘천시 서부대성로239번길 4</td>\n",
              "      <td>Q12</td>\n",
              "    </tr>\n",
              "    <tr>\n",
              "      <th>5034</th>\n",
              "      <td>빽다방</td>\n",
              "      <td>강릉교동중앙점</td>\n",
              "      <td>강원도</td>\n",
              "      <td>강릉시</td>\n",
              "      <td>강원도 강릉시 솔올로 51</td>\n",
              "      <td>Q12</td>\n",
              "    </tr>\n",
              "    <tr>\n",
              "      <th>5035</th>\n",
              "      <td>빽다방</td>\n",
              "      <td>강릉금학점</td>\n",
              "      <td>강원도</td>\n",
              "      <td>강릉시</td>\n",
              "      <td>강원도 강릉시 신대학길 14</td>\n",
              "      <td>Q12</td>\n",
              "    </tr>\n",
              "    <tr>\n",
              "      <th>5036</th>\n",
              "      <td>빽다방</td>\n",
              "      <td>화천사내면점</td>\n",
              "      <td>강원도</td>\n",
              "      <td>화천군</td>\n",
              "      <td>강원도 화천군 사내면 사내로 40-3</td>\n",
              "      <td>Q12</td>\n",
              "    </tr>\n",
              "  </tbody>\n",
              "</table>\n",
              "<p>5037 rows × 6 columns</p>\n",
              "</div>"
            ],
            "text/plain": [
              "       상호명       지점명   시도명     시군구명                  도로명주소 상권업종중분류코드\n",
              "0     스타벅스    천안이마트점  충청남도  천안시 서북구   충청남도 천안시 서북구 충무로 187       Q12\n",
              "1     스타벅스   천안ICDT점  충청남도  천안시 동남구   충청남도 천안시 동남구 신부15길 3       Q12\n",
              "2     스타벅스     공주신관점  충청남도      공주시      충청남도 공주시 번영1로 113       Q12\n",
              "3     스타벅스  천안신부동더샵점  충청남도  천안시 동남구     충청남도 천안시 동남구 만남로 9       Q12\n",
              "4     스타벅스    천안성정DT  충청남도  천안시 서북구  충청남도 천안시 서북구 동서대로 154       Q12\n",
              "...    ...       ...   ...      ...                    ...       ...\n",
              "5032   빽다방   원주혁신도시점   강원도      원주시         강원도 원주시 혁신로 61       Q12\n",
              "5033   빽다방      강원대점   강원도      춘천시   강원도 춘천시 서부대성로239번길 4       Q12\n",
              "5034   빽다방   강릉교동중앙점   강원도      강릉시         강원도 강릉시 솔올로 51       Q12\n",
              "5035   빽다방     강릉금학점   강원도      강릉시        강원도 강릉시 신대학길 14       Q12\n",
              "5036   빽다방    화천사내면점   강원도      화천군   강원도 화천군 사내면 사내로 40-3       Q12\n",
              "\n",
              "[5037 rows x 6 columns]"
            ]
          },
          "metadata": {},
          "execution_count": 448
        }
      ]
    },
    {
      "cell_type": "code",
      "metadata": {
        "id": "bmmKnl6sNMSE"
      },
      "source": [
        "starbucks = pd.DataFrame(columns=['상호명', '지점명', '시도명', '시군구명', '도로명주소', '상권업종중분류코드'])\n",
        "coffeebean = pd.DataFrame(columns=['상호명', '지점명', '시도명', '시군구명', '도로명주소', '상권업종중분류코드'])\n",
        "ediya = pd.DataFrame(columns=['상호명', '지점명', '시도명', '시군구명', '도로명주소', '상권업종중분류코드'])\n",
        "paik = pd.DataFrame(columns=['상호명', '지점명', '시도명', '시군구명', '도로명주소', '상권업종중분류코드'])"
      ],
      "execution_count": 450,
      "outputs": []
    },
    {
      "cell_type": "code",
      "metadata": {
        "id": "vu9iVLReOCh8"
      },
      "source": [
        "for file in glob(f'{data_folder}/*.csv'):\n",
        "  df = pd.read_csv(file, encoding = 'utf-8')\n",
        "  df = df[['상호명', '지점명', '시도명', '시군구명', '도로명주소', '상권업종중분류코드']]\n",
        "  df = df[df.상권업종중분류코드=='Q12']\n",
        "\n",
        "  sb = df[df.상호명.str.contains('스타벅스|STARBUCKS',case=False, na=False)]#nun값이 있어도 읽는다\n",
        "  cb = df[df.상호명.str.contains('커피빈|COFFEBEAN',case=False, na=False)]#nun값이 있어도 읽는다\n",
        "  ed = df[df.상호명.str.contains('이디야|EDIYA',case=False, na=False)]#nun값이 있어도 읽는다\n",
        "  bk = df[df.상호명.str.contains('빽다방|PAIKSCOFFEE',case=False, na=False)]#nun값이 있어도 읽는다\n",
        "\n",
        "  starbucks = pd.concat([sb,starbucks])\n",
        "  coffeebean = pd.concat([cb,coffeebean])\n",
        "  ediya = pd.concat([ed,ediya])\n",
        "  paik = pd.concat([bk,paik])"
      ],
      "execution_count": 451,
      "outputs": []
    },
    {
      "cell_type": "code",
      "metadata": {
        "colab": {
          "base_uri": "https://localhost:8080/"
        },
        "id": "QXqjLLGlO5GM",
        "outputId": "d50e2fc2-5774-46ad-8803-379370caaa2f"
      },
      "source": [
        "len(starbucks), len(coffeebean), len(ediya), len(paik)"
      ],
      "execution_count": 452,
      "outputs": [
        {
          "output_type": "execute_result",
          "data": {
            "text/plain": [
              "(1547, 290, 2120, 609)"
            ]
          },
          "metadata": {},
          "execution_count": 452
        }
      ]
    },
    {
      "cell_type": "code",
      "metadata": {
        "id": "bk46pvD7O-wk"
      },
      "source": [
        "!mkdir -p /content/mnt/MyDrive/results/CoffeeIndex"
      ],
      "execution_count": 453,
      "outputs": []
    },
    {
      "cell_type": "code",
      "metadata": {
        "id": "2n7Da4IgPkul"
      },
      "source": [
        "result_dir = '/content/mnt/MyDrive/results/CoffeeIndex'"
      ],
      "execution_count": 455,
      "outputs": []
    },
    {
      "cell_type": "code",
      "metadata": {
        "id": "87xEchBDPYyt"
      },
      "source": [
        "starbucks.to_csv(f'{result_dir}/스타벅스.csv', index=False)\n",
        "coffeebean.to_csv(f'{result_dir}/커피빈.csv', index=False)\n",
        "ediya.to_csv(f'{result_dir}/이디야.csv', index=False)\n",
        "paik.to_csv(f'{result_dir}/빽다방.csv', index=False)\n",
        "all_coffe_shop.to_csv(f'{result_dir}/종합_내가한거.csv', index=False)"
      ],
      "execution_count": 464,
      "outputs": []
    }
  ]
}